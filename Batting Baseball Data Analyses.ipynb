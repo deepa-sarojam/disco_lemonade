{
 "cells": [
  {
   "cell_type": "markdown",
   "metadata": {},
   "source": [
    "# Introduction"
   ]
  },
  {
   "cell_type": "markdown",
   "metadata": {},
   "source": [
    "This is a small subset of an analysis I have recently completed. The goal was to look at several different Machine Learning methods to predict statistics or awards for MLB baseball players. \n",
    "\n",
    "As you'll see, I chose to focus on predicting wOBA (weighted On Base Average) and a player's All-Star status. I take a pragmattic approach to the modeling by changing parameters, comparing different models, and using Feature Selection. \n",
    "\n",
    "The ultimate goal is to offer insight into my ability to explore a dataset and find \"learnings\". While this isn't incredibly valuable information (Who cares how accurately you can predict wOBA or if a player is an All-Star?), it showcases my thought processes and knowledge of how to apply Machine Learning to a problem. \n",
    "\n",
    "The data is from Sean Lahman's piblicly available baseball data. \n",
    "\n",
    "Source: http://www.seanlahman.com/baseball-archive/statistics/\n",
    "\n",
    "\n",
    "**NOTE**\n",
    "Please check back on my site () or GitHub page for future updates, as I will likely showcase additional exercises on this dataset. "
   ]
  },
  {
   "cell_type": "markdown",
   "metadata": {},
   "source": [
    "<br>\n",
    "<br>\n",
    "<br>"
   ]
  },
  {
   "cell_type": "markdown",
   "metadata": {},
   "source": [
    "**Load Libraries and Set CWD**"
   ]
  },
  {
   "cell_type": "code",
   "execution_count": 2,
   "metadata": {},
   "outputs": [],
   "source": [
    "import pandas as pd\n",
    "import numpy as np\n",
    "import matplotlib.pyplot as plt\n",
    "import numpy.linalg as la\n",
    "import os\n",
    "from sklearn.model_selection import train_test_split\n",
    "from sklearn.linear_model import LinearRegression, Lasso, Ridge, ElasticNet, SGDRegressor\n",
    "from sklearn.metrics import mean_absolute_error, mean_squared_error\n",
    "from sklearn.model_selection import cross_val_score\n",
    "from sklearn import feature_selection\n",
    "from sklearn.model_selection import KFold\n",
    "from sklearn.preprocessing import StandardScaler\n",
    "from sklearn.model_selection import GridSearchCV\n",
    "from sklearn import preprocessing\n",
    "from sklearn import neighbors\n",
    "from sklearn.metrics import classification_report, confusion_matrix\n",
    "from sklearn.utils import resample\n",
    "from sklearn import naive_bayes, tree\n",
    "from sklearn.model_selection import cross_val_score\n",
    "from sklearn.cluster import KMeans \n",
    "from sklearn import metrics\n",
    "from sklearn.metrics import completeness_score, homogeneity_score\n",
    "from sklearn import decomposition\n",
    "from sklearn import decomposition\n",
    "\n",
    "\n",
    "import warnings\n",
    "warnings.filterwarnings('ignore')\n",
    "\n",
    "\n",
    "os.chdir(\"E:\\\\DePaul Classes\\\\2019 - 2020\\\\2. Winter 2020\\\\DSC 540\\\\baseballdatabank-master\\\\baseballdatabank-master\\\\core\") "
   ]
  },
  {
   "cell_type": "markdown",
   "metadata": {},
   "source": [
    "<br>\n",
    "<br>"
   ]
  },
  {
   "cell_type": "markdown",
   "metadata": {},
   "source": [
    "**Load Datasets and Create Dataframe for Use**"
   ]
  },
  {
   "cell_type": "code",
   "execution_count": 3,
   "metadata": {},
   "outputs": [
    {
     "data": {
      "text/html": [
       "<div>\n",
       "<style scoped>\n",
       "    .dataframe tbody tr th:only-of-type {\n",
       "        vertical-align: middle;\n",
       "    }\n",
       "\n",
       "    .dataframe tbody tr th {\n",
       "        vertical-align: top;\n",
       "    }\n",
       "\n",
       "    .dataframe thead th {\n",
       "        text-align: right;\n",
       "    }\n",
       "</style>\n",
       "<table border=\"1\" class=\"dataframe\">\n",
       "  <thead>\n",
       "    <tr style=\"text-align: right;\">\n",
       "      <th></th>\n",
       "      <th>playerID</th>\n",
       "      <th>yearID</th>\n",
       "      <th>G</th>\n",
       "      <th>AB</th>\n",
       "      <th>R</th>\n",
       "      <th>H</th>\n",
       "      <th>2B</th>\n",
       "      <th>3B</th>\n",
       "      <th>HR</th>\n",
       "      <th>RBI</th>\n",
       "      <th>...</th>\n",
       "      <th>CS</th>\n",
       "      <th>BB</th>\n",
       "      <th>SO</th>\n",
       "      <th>IBB</th>\n",
       "      <th>HBP</th>\n",
       "      <th>SH</th>\n",
       "      <th>SF</th>\n",
       "      <th>GIDP</th>\n",
       "      <th>allStar</th>\n",
       "      <th>mvp</th>\n",
       "    </tr>\n",
       "  </thead>\n",
       "  <tbody>\n",
       "    <tr>\n",
       "      <th>0</th>\n",
       "      <td>abbotje01</td>\n",
       "      <td>2000</td>\n",
       "      <td>80.0</td>\n",
       "      <td>215.0</td>\n",
       "      <td>31.0</td>\n",
       "      <td>59.0</td>\n",
       "      <td>15.0</td>\n",
       "      <td>1.0</td>\n",
       "      <td>3.0</td>\n",
       "      <td>29.0</td>\n",
       "      <td>...</td>\n",
       "      <td>1.0</td>\n",
       "      <td>21.0</td>\n",
       "      <td>38.0</td>\n",
       "      <td>1.0</td>\n",
       "      <td>2.0</td>\n",
       "      <td>2.0</td>\n",
       "      <td>1.0</td>\n",
       "      <td>2.0</td>\n",
       "      <td>No</td>\n",
       "      <td>No</td>\n",
       "    </tr>\n",
       "    <tr>\n",
       "      <th>1</th>\n",
       "      <td>abbotku01</td>\n",
       "      <td>2000</td>\n",
       "      <td>79.0</td>\n",
       "      <td>157.0</td>\n",
       "      <td>22.0</td>\n",
       "      <td>34.0</td>\n",
       "      <td>7.0</td>\n",
       "      <td>1.0</td>\n",
       "      <td>6.0</td>\n",
       "      <td>12.0</td>\n",
       "      <td>...</td>\n",
       "      <td>1.0</td>\n",
       "      <td>14.0</td>\n",
       "      <td>51.0</td>\n",
       "      <td>2.0</td>\n",
       "      <td>1.0</td>\n",
       "      <td>0.0</td>\n",
       "      <td>1.0</td>\n",
       "      <td>2.0</td>\n",
       "      <td>No</td>\n",
       "      <td>No</td>\n",
       "    </tr>\n",
       "    <tr>\n",
       "      <th>2</th>\n",
       "      <td>abbotpa01</td>\n",
       "      <td>2000</td>\n",
       "      <td>35.0</td>\n",
       "      <td>5.0</td>\n",
       "      <td>1.0</td>\n",
       "      <td>2.0</td>\n",
       "      <td>1.0</td>\n",
       "      <td>0.0</td>\n",
       "      <td>0.0</td>\n",
       "      <td>0.0</td>\n",
       "      <td>...</td>\n",
       "      <td>0.0</td>\n",
       "      <td>0.0</td>\n",
       "      <td>1.0</td>\n",
       "      <td>0.0</td>\n",
       "      <td>0.0</td>\n",
       "      <td>1.0</td>\n",
       "      <td>0.0</td>\n",
       "      <td>0.0</td>\n",
       "      <td>No</td>\n",
       "      <td>No</td>\n",
       "    </tr>\n",
       "    <tr>\n",
       "      <th>3</th>\n",
       "      <td>abreubo01</td>\n",
       "      <td>2000</td>\n",
       "      <td>154.0</td>\n",
       "      <td>576.0</td>\n",
       "      <td>103.0</td>\n",
       "      <td>182.0</td>\n",
       "      <td>42.0</td>\n",
       "      <td>10.0</td>\n",
       "      <td>25.0</td>\n",
       "      <td>79.0</td>\n",
       "      <td>...</td>\n",
       "      <td>8.0</td>\n",
       "      <td>100.0</td>\n",
       "      <td>116.0</td>\n",
       "      <td>9.0</td>\n",
       "      <td>1.0</td>\n",
       "      <td>0.0</td>\n",
       "      <td>3.0</td>\n",
       "      <td>12.0</td>\n",
       "      <td>No</td>\n",
       "      <td>No</td>\n",
       "    </tr>\n",
       "    <tr>\n",
       "      <th>4</th>\n",
       "      <td>aceveju01</td>\n",
       "      <td>2000</td>\n",
       "      <td>62.0</td>\n",
       "      <td>1.0</td>\n",
       "      <td>1.0</td>\n",
       "      <td>0.0</td>\n",
       "      <td>0.0</td>\n",
       "      <td>0.0</td>\n",
       "      <td>0.0</td>\n",
       "      <td>0.0</td>\n",
       "      <td>...</td>\n",
       "      <td>0.0</td>\n",
       "      <td>1.0</td>\n",
       "      <td>1.0</td>\n",
       "      <td>0.0</td>\n",
       "      <td>0.0</td>\n",
       "      <td>0.0</td>\n",
       "      <td>0.0</td>\n",
       "      <td>0.0</td>\n",
       "      <td>No</td>\n",
       "      <td>No</td>\n",
       "    </tr>\n",
       "  </tbody>\n",
       "</table>\n",
       "<p>5 rows × 21 columns</p>\n",
       "</div>"
      ],
      "text/plain": [
       "    playerID  yearID      G     AB      R      H    2B    3B    HR   RBI  ...  \\\n",
       "0  abbotje01    2000   80.0  215.0   31.0   59.0  15.0   1.0   3.0  29.0  ...   \n",
       "1  abbotku01    2000   79.0  157.0   22.0   34.0   7.0   1.0   6.0  12.0  ...   \n",
       "2  abbotpa01    2000   35.0    5.0    1.0    2.0   1.0   0.0   0.0   0.0  ...   \n",
       "3  abreubo01    2000  154.0  576.0  103.0  182.0  42.0  10.0  25.0  79.0  ...   \n",
       "4  aceveju01    2000   62.0    1.0    1.0    0.0   0.0   0.0   0.0   0.0  ...   \n",
       "\n",
       "    CS     BB     SO  IBB  HBP   SH   SF  GIDP  allStar mvp  \n",
       "0  1.0   21.0   38.0  1.0  2.0  2.0  1.0   2.0       No  No  \n",
       "1  1.0   14.0   51.0  2.0  1.0  0.0  1.0   2.0       No  No  \n",
       "2  0.0    0.0    1.0  0.0  0.0  1.0  0.0   0.0       No  No  \n",
       "3  8.0  100.0  116.0  9.0  1.0  0.0  3.0  12.0       No  No  \n",
       "4  0.0    1.0    1.0  0.0  0.0  0.0  0.0   0.0       No  No  \n",
       "\n",
       "[5 rows x 21 columns]"
      ]
     },
     "execution_count": 3,
     "metadata": {},
     "output_type": "execute_result"
    }
   ],
   "source": [
    "#Load batting csv into df\n",
    "batting = pd.read_csv('Batting.csv')\n",
    "\n",
    "#Filter for only years 2000-2019\n",
    "batting = batting.loc[(batting['yearID'] >= 2000) & (batting['yearID'] <= 2019)]\n",
    "\n",
    "\n",
    "#Load player awards df\n",
    "awards = pd.read_csv('AwardsPlayers.csv')\n",
    "\n",
    "#Filter for only years 2000-2019\n",
    "awards = awards.loc[(awards['yearID'] >= 2000) & (awards['yearID'] <= 2019)]\n",
    "\n",
    "\n",
    "\n",
    "#Merge two DFs into one DF\n",
    "df = pd.merge(batting, awards, on=['playerID', 'yearID'], how='outer')\n",
    "\n",
    "\n",
    "#Drop stint, teamID, lgID_x, lgID_y, tie, and notes\n",
    "df = df.drop(['stint', 'teamID', 'lgID_x', 'lgID_y', 'tie', 'notes'], axis=1)\n",
    "\n",
    "\n",
    "\n",
    "##Create New Columns for All Star and MVP Awards (Yes or No)\n",
    "df['allStar'] = ['Yes' if x == 'TSN All-Star' else 'No' for x in df['awardID']]\n",
    "df['allStar'].value_counts()\n",
    "\n",
    "df['mvp'] = ['Yes' if x == 'Most Valuable Player' else 'No' for x in df['awardID']]\n",
    "df['mvp'].value_counts()\n",
    "\n",
    "df = df.drop(['awardID'], axis = 1)\n",
    "df.head()"
   ]
  },
  {
   "cell_type": "code",
   "execution_count": 5,
   "metadata": {},
   "outputs": [
    {
     "data": {
      "text/plain": [
       "(28621, 21)"
      ]
     },
     "execution_count": 5,
     "metadata": {},
     "output_type": "execute_result"
    }
   ],
   "source": [
    "df.shape"
   ]
  },
  {
   "cell_type": "markdown",
   "metadata": {},
   "source": [
    "**DF now contains 28,621 players' batting data from the years 2000-2019. It is also paired with All-Star and MVP awards.**\n",
    "\n",
    "**As you can see, this data set mainly covers boxscore stats. Let's exercise Feature Engineering and see if the presence of advanced stats will help with our predictions**"
   ]
  },
  {
   "cell_type": "code",
   "execution_count": 6,
   "metadata": {},
   "outputs": [],
   "source": [
    "#BABIP\n",
    "#I check for NaN and change to 0 (Division Error)\n",
    "\n",
    "df['BABIP'] = (df['H'] - df['HR'])/(df['AB'] - df['SO'] - df['HR'] + df['SF'])\n",
    "\n",
    "df['BABIP'].value_counts()\n",
    "df['BABIP'].isna().sum()\n",
    "\n",
    "df.BABIP.fillna(0, axis=0, inplace=True)"
   ]
  },
  {
   "cell_type": "code",
   "execution_count": 7,
   "metadata": {},
   "outputs": [],
   "source": [
    "#OBP\n",
    "#I check for NaN and change to 0 (Division Error)\n",
    "\n",
    "df['OBP'] = (df['H'] + df['BB'] + df['HBP']) / (df['AB'] + df['BB'] + df['HBP'] + df['SF'])\n",
    "\n",
    "df['OBP'].isna().sum()\n",
    "df.OBP.fillna(0, axis=0, inplace=True)"
   ]
  },
  {
   "cell_type": "code",
   "execution_count": 8,
   "metadata": {},
   "outputs": [],
   "source": [
    "#Need to create a field for Singles\n",
    "\n",
    "df['1B'] = df['H'] - df['2B'] - df['3B'] - df['HR']\n",
    "df['1B'].isna().sum()\n",
    "df['1B'].fillna(0, axis=0, inplace=True)"
   ]
  },
  {
   "cell_type": "code",
   "execution_count": 9,
   "metadata": {},
   "outputs": [],
   "source": [
    "#SLugging %\n",
    "#I check for NaN and change to 0 (Division Error)\n",
    "\n",
    "df['SLG'] = (df['1B'] + (2*df['2B']) + (3*df['3B']) + (4*df['HR'])) / df['AB']\n",
    "df['SLG'].isna().sum()\n",
    "df.SLG.fillna(0, axis=0, inplace=True)"
   ]
  },
  {
   "cell_type": "code",
   "execution_count": 10,
   "metadata": {},
   "outputs": [],
   "source": [
    "#Batting Average\n",
    "#I check for NaN and change to 0 (Division Error)\n",
    "\n",
    "df['BA'] = df['H']/df['AB']\n",
    "df['BA'].isna().sum()\n",
    "df.BA.fillna(0, axis=0, inplace=True)"
   ]
  },
  {
   "cell_type": "code",
   "execution_count": 12,
   "metadata": {},
   "outputs": [],
   "source": [
    "#On Base Plus Slugging (OPS)\n",
    "\n",
    "df['OPS'] = df['OBP'] + df['SLG']"
   ]
  },
  {
   "cell_type": "code",
   "execution_count": 13,
   "metadata": {},
   "outputs": [],
   "source": [
    "#Isolated Power (ISO)\n",
    "#I check for NaN and change to 0 (Division Error)\n",
    "\n",
    "df['ISO'] = (df['2B'] + (2*df['3B']) + (3*df['HR'])) / df['AB']\n",
    "df['ISO'].isna().sum()\n",
    "df.ISO.fillna(0, axis=0, inplace=True)"
   ]
  },
  {
   "cell_type": "code",
   "execution_count": 14,
   "metadata": {},
   "outputs": [],
   "source": [
    "# Weighted On Base Average (wOBA)\n",
    "#wOBA (Using 2019 weights for 2000-2019)\n",
    "#I check for NaN and change to 0 (Division Error)\n",
    "\n",
    "df['wOBA'] = ((.690 * df['BB']) + (.719 * df['HBP']) + (.870 * df['1B']) + (1.217*df['2B']) + (1.529*df['3B']) + (1.940*df['HR'])) / (df['AB'] + df['BB'] - df['IBB'] + df['SF'] + df['HBP'])\n",
    "df['wOBA'].isna().sum()\n",
    "df.wOBA.fillna(0, axis=0, inplace=True)"
   ]
  },
  {
   "cell_type": "markdown",
   "metadata": {},
   "source": [
    "**Now to Check for Missing Values**"
   ]
  },
  {
   "cell_type": "code",
   "execution_count": 15,
   "metadata": {},
   "outputs": [
    {
     "data": {
      "text/html": [
       "<div>\n",
       "<style scoped>\n",
       "    .dataframe tbody tr th:only-of-type {\n",
       "        vertical-align: middle;\n",
       "    }\n",
       "\n",
       "    .dataframe tbody tr th {\n",
       "        vertical-align: top;\n",
       "    }\n",
       "\n",
       "    .dataframe thead th {\n",
       "        text-align: right;\n",
       "    }\n",
       "</style>\n",
       "<table border=\"1\" class=\"dataframe\">\n",
       "  <thead>\n",
       "    <tr style=\"text-align: right;\">\n",
       "      <th></th>\n",
       "      <th>playerID</th>\n",
       "      <th>yearID</th>\n",
       "      <th>G</th>\n",
       "      <th>AB</th>\n",
       "      <th>R</th>\n",
       "      <th>H</th>\n",
       "      <th>2B</th>\n",
       "      <th>3B</th>\n",
       "      <th>HR</th>\n",
       "      <th>RBI</th>\n",
       "      <th>...</th>\n",
       "      <th>allStar</th>\n",
       "      <th>mvp</th>\n",
       "      <th>BABIP</th>\n",
       "      <th>OBP</th>\n",
       "      <th>1B</th>\n",
       "      <th>SLG</th>\n",
       "      <th>BA</th>\n",
       "      <th>OPS</th>\n",
       "      <th>ISO</th>\n",
       "      <th>wOBA</th>\n",
       "    </tr>\n",
       "  </thead>\n",
       "  <tbody>\n",
       "    <tr>\n",
       "      <th>28616</th>\n",
       "      <td>valenbo02</td>\n",
       "      <td>2002</td>\n",
       "      <td>NaN</td>\n",
       "      <td>NaN</td>\n",
       "      <td>NaN</td>\n",
       "      <td>NaN</td>\n",
       "      <td>NaN</td>\n",
       "      <td>NaN</td>\n",
       "      <td>NaN</td>\n",
       "      <td>NaN</td>\n",
       "      <td>...</td>\n",
       "      <td>No</td>\n",
       "      <td>No</td>\n",
       "      <td>0.0</td>\n",
       "      <td>0.0</td>\n",
       "      <td>0.0</td>\n",
       "      <td>0.0</td>\n",
       "      <td>0.0</td>\n",
       "      <td>0.0</td>\n",
       "      <td>0.0</td>\n",
       "      <td>0.0</td>\n",
       "    </tr>\n",
       "    <tr>\n",
       "      <th>28617</th>\n",
       "      <td>hemonro99</td>\n",
       "      <td>2003</td>\n",
       "      <td>NaN</td>\n",
       "      <td>NaN</td>\n",
       "      <td>NaN</td>\n",
       "      <td>NaN</td>\n",
       "      <td>NaN</td>\n",
       "      <td>NaN</td>\n",
       "      <td>NaN</td>\n",
       "      <td>NaN</td>\n",
       "      <td>...</td>\n",
       "      <td>No</td>\n",
       "      <td>No</td>\n",
       "      <td>0.0</td>\n",
       "      <td>0.0</td>\n",
       "      <td>0.0</td>\n",
       "      <td>0.0</td>\n",
       "      <td>0.0</td>\n",
       "      <td>0.0</td>\n",
       "      <td>0.0</td>\n",
       "      <td>0.0</td>\n",
       "    </tr>\n",
       "    <tr>\n",
       "      <th>28618</th>\n",
       "      <td>lasorto01</td>\n",
       "      <td>2006</td>\n",
       "      <td>NaN</td>\n",
       "      <td>NaN</td>\n",
       "      <td>NaN</td>\n",
       "      <td>NaN</td>\n",
       "      <td>NaN</td>\n",
       "      <td>NaN</td>\n",
       "      <td>NaN</td>\n",
       "      <td>NaN</td>\n",
       "      <td>...</td>\n",
       "      <td>No</td>\n",
       "      <td>No</td>\n",
       "      <td>0.0</td>\n",
       "      <td>0.0</td>\n",
       "      <td>0.0</td>\n",
       "      <td>0.0</td>\n",
       "      <td>0.0</td>\n",
       "      <td>0.0</td>\n",
       "      <td>0.0</td>\n",
       "      <td>0.0</td>\n",
       "    </tr>\n",
       "    <tr>\n",
       "      <th>28619</th>\n",
       "      <td>carpech02</td>\n",
       "      <td>2009</td>\n",
       "      <td>NaN</td>\n",
       "      <td>NaN</td>\n",
       "      <td>NaN</td>\n",
       "      <td>NaN</td>\n",
       "      <td>NaN</td>\n",
       "      <td>NaN</td>\n",
       "      <td>NaN</td>\n",
       "      <td>NaN</td>\n",
       "      <td>...</td>\n",
       "      <td>No</td>\n",
       "      <td>No</td>\n",
       "      <td>0.0</td>\n",
       "      <td>0.0</td>\n",
       "      <td>0.0</td>\n",
       "      <td>0.0</td>\n",
       "      <td>0.0</td>\n",
       "      <td>0.0</td>\n",
       "      <td>0.0</td>\n",
       "      <td>0.0</td>\n",
       "    </tr>\n",
       "    <tr>\n",
       "      <th>28620</th>\n",
       "      <td>braunry01</td>\n",
       "      <td>2012</td>\n",
       "      <td>NaN</td>\n",
       "      <td>NaN</td>\n",
       "      <td>NaN</td>\n",
       "      <td>NaN</td>\n",
       "      <td>NaN</td>\n",
       "      <td>NaN</td>\n",
       "      <td>NaN</td>\n",
       "      <td>NaN</td>\n",
       "      <td>...</td>\n",
       "      <td>No</td>\n",
       "      <td>No</td>\n",
       "      <td>0.0</td>\n",
       "      <td>0.0</td>\n",
       "      <td>0.0</td>\n",
       "      <td>0.0</td>\n",
       "      <td>0.0</td>\n",
       "      <td>0.0</td>\n",
       "      <td>0.0</td>\n",
       "      <td>0.0</td>\n",
       "    </tr>\n",
       "  </tbody>\n",
       "</table>\n",
       "<p>5 rows × 29 columns</p>\n",
       "</div>"
      ],
      "text/plain": [
       "        playerID  yearID   G  AB   R   H  2B  3B  HR  RBI  ...  allStar  mvp  \\\n",
       "28616  valenbo02    2002 NaN NaN NaN NaN NaN NaN NaN  NaN  ...       No   No   \n",
       "28617  hemonro99    2003 NaN NaN NaN NaN NaN NaN NaN  NaN  ...       No   No   \n",
       "28618  lasorto01    2006 NaN NaN NaN NaN NaN NaN NaN  NaN  ...       No   No   \n",
       "28619  carpech02    2009 NaN NaN NaN NaN NaN NaN NaN  NaN  ...       No   No   \n",
       "28620  braunry01    2012 NaN NaN NaN NaN NaN NaN NaN  NaN  ...       No   No   \n",
       "\n",
       "       BABIP  OBP   1B  SLG   BA  OPS  ISO wOBA  \n",
       "28616    0.0  0.0  0.0  0.0  0.0  0.0  0.0  0.0  \n",
       "28617    0.0  0.0  0.0  0.0  0.0  0.0  0.0  0.0  \n",
       "28618    0.0  0.0  0.0  0.0  0.0  0.0  0.0  0.0  \n",
       "28619    0.0  0.0  0.0  0.0  0.0  0.0  0.0  0.0  \n",
       "28620    0.0  0.0  0.0  0.0  0.0  0.0  0.0  0.0  \n",
       "\n",
       "[5 rows x 29 columns]"
      ]
     },
     "execution_count": 15,
     "metadata": {},
     "output_type": "execute_result"
    }
   ],
   "source": [
    "df[df.isnull().any(axis=1)]"
   ]
  },
  {
   "cell_type": "code",
   "execution_count": 17,
   "metadata": {},
   "outputs": [],
   "source": [
    "#Drop the 5 players who have missing information\n",
    "\n",
    "df.dropna(axis=0, inplace=True)"
   ]
  },
  {
   "cell_type": "code",
   "execution_count": 18,
   "metadata": {
    "scrolled": true
   },
   "outputs": [
    {
     "data": {
      "text/html": [
       "<div>\n",
       "<style scoped>\n",
       "    .dataframe tbody tr th:only-of-type {\n",
       "        vertical-align: middle;\n",
       "    }\n",
       "\n",
       "    .dataframe tbody tr th {\n",
       "        vertical-align: top;\n",
       "    }\n",
       "\n",
       "    .dataframe thead th {\n",
       "        text-align: right;\n",
       "    }\n",
       "</style>\n",
       "<table border=\"1\" class=\"dataframe\">\n",
       "  <thead>\n",
       "    <tr style=\"text-align: right;\">\n",
       "      <th></th>\n",
       "      <th>playerID</th>\n",
       "      <th>yearID</th>\n",
       "      <th>G</th>\n",
       "      <th>AB</th>\n",
       "      <th>R</th>\n",
       "      <th>H</th>\n",
       "      <th>2B</th>\n",
       "      <th>3B</th>\n",
       "      <th>HR</th>\n",
       "      <th>RBI</th>\n",
       "      <th>...</th>\n",
       "      <th>allStar</th>\n",
       "      <th>mvp</th>\n",
       "      <th>BABIP</th>\n",
       "      <th>OBP</th>\n",
       "      <th>1B</th>\n",
       "      <th>SLG</th>\n",
       "      <th>BA</th>\n",
       "      <th>OPS</th>\n",
       "      <th>ISO</th>\n",
       "      <th>wOBA</th>\n",
       "    </tr>\n",
       "  </thead>\n",
       "  <tbody>\n",
       "  </tbody>\n",
       "</table>\n",
       "<p>0 rows × 29 columns</p>\n",
       "</div>"
      ],
      "text/plain": [
       "Empty DataFrame\n",
       "Columns: [playerID, yearID, G, AB, R, H, 2B, 3B, HR, RBI, SB, CS, BB, SO, IBB, HBP, SH, SF, GIDP, allStar, mvp, BABIP, OBP, 1B, SLG, BA, OPS, ISO, wOBA]\n",
       "Index: []\n",
       "\n",
       "[0 rows x 29 columns]"
      ]
     },
     "execution_count": 18,
     "metadata": {},
     "output_type": "execute_result"
    }
   ],
   "source": [
    "df[df.isnull().any(axis=1)]"
   ]
  },
  {
   "cell_type": "markdown",
   "metadata": {},
   "source": [
    "**Double checking that data matched correctly. Miguel Cabrera and Buster Posey won MVPs in 2012**"
   ]
  },
  {
   "cell_type": "code",
   "execution_count": 20,
   "metadata": {
    "scrolled": true
   },
   "outputs": [
    {
     "data": {
      "text/html": [
       "<div>\n",
       "<style scoped>\n",
       "    .dataframe tbody tr th:only-of-type {\n",
       "        vertical-align: middle;\n",
       "    }\n",
       "\n",
       "    .dataframe tbody tr th {\n",
       "        vertical-align: top;\n",
       "    }\n",
       "\n",
       "    .dataframe thead th {\n",
       "        text-align: right;\n",
       "    }\n",
       "</style>\n",
       "<table border=\"1\" class=\"dataframe\">\n",
       "  <thead>\n",
       "    <tr style=\"text-align: right;\">\n",
       "      <th></th>\n",
       "      <th>playerID</th>\n",
       "      <th>yearID</th>\n",
       "      <th>G</th>\n",
       "      <th>AB</th>\n",
       "      <th>R</th>\n",
       "      <th>H</th>\n",
       "      <th>2B</th>\n",
       "      <th>3B</th>\n",
       "      <th>HR</th>\n",
       "      <th>RBI</th>\n",
       "      <th>...</th>\n",
       "      <th>allStar</th>\n",
       "      <th>mvp</th>\n",
       "      <th>BABIP</th>\n",
       "      <th>OBP</th>\n",
       "      <th>1B</th>\n",
       "      <th>SLG</th>\n",
       "      <th>BA</th>\n",
       "      <th>OPS</th>\n",
       "      <th>ISO</th>\n",
       "      <th>wOBA</th>\n",
       "    </tr>\n",
       "  </thead>\n",
       "  <tbody>\n",
       "    <tr>\n",
       "      <th>16859</th>\n",
       "      <td>cabremi01</td>\n",
       "      <td>2012</td>\n",
       "      <td>161.0</td>\n",
       "      <td>622.0</td>\n",
       "      <td>109.0</td>\n",
       "      <td>205.0</td>\n",
       "      <td>40.0</td>\n",
       "      <td>0.0</td>\n",
       "      <td>44.0</td>\n",
       "      <td>139.0</td>\n",
       "      <td>...</td>\n",
       "      <td>No</td>\n",
       "      <td>Yes</td>\n",
       "      <td>0.331276</td>\n",
       "      <td>0.393113</td>\n",
       "      <td>121.0</td>\n",
       "      <td>0.606109</td>\n",
       "      <td>0.329582</td>\n",
       "      <td>0.999223</td>\n",
       "      <td>0.276527</td>\n",
       "      <td>0.422069</td>\n",
       "    </tr>\n",
       "    <tr>\n",
       "      <th>17723</th>\n",
       "      <td>poseybu01</td>\n",
       "      <td>2012</td>\n",
       "      <td>148.0</td>\n",
       "      <td>530.0</td>\n",
       "      <td>78.0</td>\n",
       "      <td>178.0</td>\n",
       "      <td>39.0</td>\n",
       "      <td>1.0</td>\n",
       "      <td>24.0</td>\n",
       "      <td>103.0</td>\n",
       "      <td>...</td>\n",
       "      <td>No</td>\n",
       "      <td>Yes</td>\n",
       "      <td>0.367542</td>\n",
       "      <td>0.408197</td>\n",
       "      <td>114.0</td>\n",
       "      <td>0.549057</td>\n",
       "      <td>0.335849</td>\n",
       "      <td>0.957253</td>\n",
       "      <td>0.213208</td>\n",
       "      <td>0.404279</td>\n",
       "    </tr>\n",
       "  </tbody>\n",
       "</table>\n",
       "<p>2 rows × 29 columns</p>\n",
       "</div>"
      ],
      "text/plain": [
       "        playerID  yearID      G     AB      R      H    2B   3B    HR    RBI  \\\n",
       "16859  cabremi01    2012  161.0  622.0  109.0  205.0  40.0  0.0  44.0  139.0   \n",
       "17723  poseybu01    2012  148.0  530.0   78.0  178.0  39.0  1.0  24.0  103.0   \n",
       "\n",
       "       ...  allStar  mvp     BABIP       OBP     1B       SLG        BA  \\\n",
       "16859  ...       No  Yes  0.331276  0.393113  121.0  0.606109  0.329582   \n",
       "17723  ...       No  Yes  0.367542  0.408197  114.0  0.549057  0.335849   \n",
       "\n",
       "            OPS       ISO      wOBA  \n",
       "16859  0.999223  0.276527  0.422069  \n",
       "17723  0.957253  0.213208  0.404279  \n",
       "\n",
       "[2 rows x 29 columns]"
      ]
     },
     "execution_count": 20,
     "metadata": {},
     "output_type": "execute_result"
    }
   ],
   "source": [
    "df[(df['yearID'] == 2012) & (df['mvp'] == 'Yes')]"
   ]
  },
  {
   "cell_type": "markdown",
   "metadata": {},
   "source": [
    "<br>\n",
    "<br>"
   ]
  },
  {
   "cell_type": "markdown",
   "metadata": {},
   "source": [
    "# Exploratory Data Analysis"
   ]
  },
  {
   "cell_type": "code",
   "execution_count": 21,
   "metadata": {},
   "outputs": [
    {
     "data": {
      "text/html": [
       "<div>\n",
       "<style scoped>\n",
       "    .dataframe tbody tr th:only-of-type {\n",
       "        vertical-align: middle;\n",
       "    }\n",
       "\n",
       "    .dataframe tbody tr th {\n",
       "        vertical-align: top;\n",
       "    }\n",
       "\n",
       "    .dataframe thead th {\n",
       "        text-align: right;\n",
       "    }\n",
       "</style>\n",
       "<table border=\"1\" class=\"dataframe\">\n",
       "  <thead>\n",
       "    <tr style=\"text-align: right;\">\n",
       "      <th></th>\n",
       "      <th>count</th>\n",
       "      <th>unique</th>\n",
       "      <th>top</th>\n",
       "      <th>freq</th>\n",
       "      <th>mean</th>\n",
       "      <th>std</th>\n",
       "      <th>min</th>\n",
       "      <th>25%</th>\n",
       "      <th>50%</th>\n",
       "      <th>75%</th>\n",
       "      <th>max</th>\n",
       "    </tr>\n",
       "  </thead>\n",
       "  <tbody>\n",
       "    <tr>\n",
       "      <th>playerID</th>\n",
       "      <td>28616</td>\n",
       "      <td>5625</td>\n",
       "      <td>pujolal01</td>\n",
       "      <td>34</td>\n",
       "      <td>NaN</td>\n",
       "      <td>NaN</td>\n",
       "      <td>NaN</td>\n",
       "      <td>NaN</td>\n",
       "      <td>NaN</td>\n",
       "      <td>NaN</td>\n",
       "      <td>NaN</td>\n",
       "    </tr>\n",
       "    <tr>\n",
       "      <th>yearID</th>\n",
       "      <td>28616</td>\n",
       "      <td>NaN</td>\n",
       "      <td>NaN</td>\n",
       "      <td>NaN</td>\n",
       "      <td>2009.71</td>\n",
       "      <td>5.8095</td>\n",
       "      <td>2000</td>\n",
       "      <td>2005</td>\n",
       "      <td>2010</td>\n",
       "      <td>2015</td>\n",
       "      <td>2019</td>\n",
       "    </tr>\n",
       "    <tr>\n",
       "      <th>G</th>\n",
       "      <td>28616</td>\n",
       "      <td>NaN</td>\n",
       "      <td>NaN</td>\n",
       "      <td>NaN</td>\n",
       "      <td>50.5902</td>\n",
       "      <td>46.5435</td>\n",
       "      <td>1</td>\n",
       "      <td>13</td>\n",
       "      <td>33</td>\n",
       "      <td>74</td>\n",
       "      <td>163</td>\n",
       "    </tr>\n",
       "    <tr>\n",
       "      <th>AB</th>\n",
       "      <td>28616</td>\n",
       "      <td>NaN</td>\n",
       "      <td>NaN</td>\n",
       "      <td>NaN</td>\n",
       "      <td>123.149</td>\n",
       "      <td>184.847</td>\n",
       "      <td>0</td>\n",
       "      <td>0</td>\n",
       "      <td>17</td>\n",
       "      <td>185</td>\n",
       "      <td>716</td>\n",
       "    </tr>\n",
       "    <tr>\n",
       "      <th>R</th>\n",
       "      <td>28616</td>\n",
       "      <td>NaN</td>\n",
       "      <td>NaN</td>\n",
       "      <td>NaN</td>\n",
       "      <td>16.7943</td>\n",
       "      <td>28.2413</td>\n",
       "      <td>0</td>\n",
       "      <td>0</td>\n",
       "      <td>1</td>\n",
       "      <td>22</td>\n",
       "      <td>152</td>\n",
       "    </tr>\n",
       "    <tr>\n",
       "      <th>H</th>\n",
       "      <td>28616</td>\n",
       "      <td>NaN</td>\n",
       "      <td>NaN</td>\n",
       "      <td>NaN</td>\n",
       "      <td>32.3222</td>\n",
       "      <td>52.0944</td>\n",
       "      <td>0</td>\n",
       "      <td>0</td>\n",
       "      <td>3</td>\n",
       "      <td>45</td>\n",
       "      <td>262</td>\n",
       "    </tr>\n",
       "    <tr>\n",
       "      <th>2B</th>\n",
       "      <td>28616</td>\n",
       "      <td>NaN</td>\n",
       "      <td>NaN</td>\n",
       "      <td>NaN</td>\n",
       "      <td>6.45663</td>\n",
       "      <td>10.8329</td>\n",
       "      <td>0</td>\n",
       "      <td>0</td>\n",
       "      <td>0</td>\n",
       "      <td>9</td>\n",
       "      <td>59</td>\n",
       "    </tr>\n",
       "    <tr>\n",
       "      <th>3B</th>\n",
       "      <td>28616</td>\n",
       "      <td>NaN</td>\n",
       "      <td>NaN</td>\n",
       "      <td>NaN</td>\n",
       "      <td>0.655927</td>\n",
       "      <td>1.57277</td>\n",
       "      <td>0</td>\n",
       "      <td>0</td>\n",
       "      <td>0</td>\n",
       "      <td>1</td>\n",
       "      <td>23</td>\n",
       "    </tr>\n",
       "    <tr>\n",
       "      <th>HR</th>\n",
       "      <td>28616</td>\n",
       "      <td>NaN</td>\n",
       "      <td>NaN</td>\n",
       "      <td>NaN</td>\n",
       "      <td>4.04085</td>\n",
       "      <td>8.32608</td>\n",
       "      <td>0</td>\n",
       "      <td>0</td>\n",
       "      <td>0</td>\n",
       "      <td>4</td>\n",
       "      <td>73</td>\n",
       "    </tr>\n",
       "    <tr>\n",
       "      <th>RBI</th>\n",
       "      <td>28616</td>\n",
       "      <td>NaN</td>\n",
       "      <td>NaN</td>\n",
       "      <td>NaN</td>\n",
       "      <td>16.099</td>\n",
       "      <td>28.0243</td>\n",
       "      <td>0</td>\n",
       "      <td>0</td>\n",
       "      <td>1</td>\n",
       "      <td>20</td>\n",
       "      <td>160</td>\n",
       "    </tr>\n",
       "    <tr>\n",
       "      <th>SB</th>\n",
       "      <td>28616</td>\n",
       "      <td>NaN</td>\n",
       "      <td>NaN</td>\n",
       "      <td>NaN</td>\n",
       "      <td>2.07695</td>\n",
       "      <td>5.81586</td>\n",
       "      <td>0</td>\n",
       "      <td>0</td>\n",
       "      <td>0</td>\n",
       "      <td>1</td>\n",
       "      <td>78</td>\n",
       "    </tr>\n",
       "    <tr>\n",
       "      <th>CS</th>\n",
       "      <td>28616</td>\n",
       "      <td>NaN</td>\n",
       "      <td>NaN</td>\n",
       "      <td>NaN</td>\n",
       "      <td>0.811574</td>\n",
       "      <td>1.94783</td>\n",
       "      <td>0</td>\n",
       "      <td>0</td>\n",
       "      <td>0</td>\n",
       "      <td>1</td>\n",
       "      <td>24</td>\n",
       "    </tr>\n",
       "    <tr>\n",
       "      <th>BB</th>\n",
       "      <td>28616</td>\n",
       "      <td>NaN</td>\n",
       "      <td>NaN</td>\n",
       "      <td>NaN</td>\n",
       "      <td>11.863</td>\n",
       "      <td>21.2556</td>\n",
       "      <td>0</td>\n",
       "      <td>0</td>\n",
       "      <td>1</td>\n",
       "      <td>15</td>\n",
       "      <td>232</td>\n",
       "    </tr>\n",
       "    <tr>\n",
       "      <th>SO</th>\n",
       "      <td>28616</td>\n",
       "      <td>NaN</td>\n",
       "      <td>NaN</td>\n",
       "      <td>NaN</td>\n",
       "      <td>25.6831</td>\n",
       "      <td>37.8269</td>\n",
       "      <td>0</td>\n",
       "      <td>0</td>\n",
       "      <td>5</td>\n",
       "      <td>38</td>\n",
       "      <td>223</td>\n",
       "    </tr>\n",
       "    <tr>\n",
       "      <th>IBB</th>\n",
       "      <td>28616</td>\n",
       "      <td>NaN</td>\n",
       "      <td>NaN</td>\n",
       "      <td>NaN</td>\n",
       "      <td>0.965579</td>\n",
       "      <td>3.33208</td>\n",
       "      <td>0</td>\n",
       "      <td>0</td>\n",
       "      <td>0</td>\n",
       "      <td>0</td>\n",
       "      <td>120</td>\n",
       "    </tr>\n",
       "    <tr>\n",
       "      <th>HBP</th>\n",
       "      <td>28616</td>\n",
       "      <td>NaN</td>\n",
       "      <td>NaN</td>\n",
       "      <td>NaN</td>\n",
       "      <td>1.28208</td>\n",
       "      <td>2.75205</td>\n",
       "      <td>0</td>\n",
       "      <td>0</td>\n",
       "      <td>0</td>\n",
       "      <td>1</td>\n",
       "      <td>30</td>\n",
       "    </tr>\n",
       "    <tr>\n",
       "      <th>SH</th>\n",
       "      <td>28616</td>\n",
       "      <td>NaN</td>\n",
       "      <td>NaN</td>\n",
       "      <td>NaN</td>\n",
       "      <td>1.01492</td>\n",
       "      <td>2.20035</td>\n",
       "      <td>0</td>\n",
       "      <td>0</td>\n",
       "      <td>0</td>\n",
       "      <td>1</td>\n",
       "      <td>24</td>\n",
       "    </tr>\n",
       "    <tr>\n",
       "      <th>SF</th>\n",
       "      <td>28616</td>\n",
       "      <td>NaN</td>\n",
       "      <td>NaN</td>\n",
       "      <td>NaN</td>\n",
       "      <td>0.983156</td>\n",
       "      <td>1.92021</td>\n",
       "      <td>0</td>\n",
       "      <td>0</td>\n",
       "      <td>0</td>\n",
       "      <td>1</td>\n",
       "      <td>16</td>\n",
       "    </tr>\n",
       "    <tr>\n",
       "      <th>GIDP</th>\n",
       "      <td>28616</td>\n",
       "      <td>NaN</td>\n",
       "      <td>NaN</td>\n",
       "      <td>NaN</td>\n",
       "      <td>2.78854</td>\n",
       "      <td>4.84014</td>\n",
       "      <td>0</td>\n",
       "      <td>0</td>\n",
       "      <td>0</td>\n",
       "      <td>4</td>\n",
       "      <td>32</td>\n",
       "    </tr>\n",
       "    <tr>\n",
       "      <th>allStar</th>\n",
       "      <td>28616</td>\n",
       "      <td>2</td>\n",
       "      <td>No</td>\n",
       "      <td>28413</td>\n",
       "      <td>NaN</td>\n",
       "      <td>NaN</td>\n",
       "      <td>NaN</td>\n",
       "      <td>NaN</td>\n",
       "      <td>NaN</td>\n",
       "      <td>NaN</td>\n",
       "      <td>NaN</td>\n",
       "    </tr>\n",
       "    <tr>\n",
       "      <th>mvp</th>\n",
       "      <td>28616</td>\n",
       "      <td>2</td>\n",
       "      <td>No</td>\n",
       "      <td>28580</td>\n",
       "      <td>NaN</td>\n",
       "      <td>NaN</td>\n",
       "      <td>NaN</td>\n",
       "      <td>NaN</td>\n",
       "      <td>NaN</td>\n",
       "      <td>NaN</td>\n",
       "      <td>NaN</td>\n",
       "    </tr>\n",
       "    <tr>\n",
       "      <th>BABIP</th>\n",
       "      <td>28616</td>\n",
       "      <td>NaN</td>\n",
       "      <td>NaN</td>\n",
       "      <td>NaN</td>\n",
       "      <td>0.179219</td>\n",
       "      <td>0.180273</td>\n",
       "      <td>0</td>\n",
       "      <td>0</td>\n",
       "      <td>0.217822</td>\n",
       "      <td>0.302791</td>\n",
       "      <td>1</td>\n",
       "    </tr>\n",
       "    <tr>\n",
       "      <th>OBP</th>\n",
       "      <td>28616</td>\n",
       "      <td>NaN</td>\n",
       "      <td>NaN</td>\n",
       "      <td>NaN</td>\n",
       "      <td>0.185476</td>\n",
       "      <td>0.174932</td>\n",
       "      <td>0</td>\n",
       "      <td>0</td>\n",
       "      <td>0.217129</td>\n",
       "      <td>0.323597</td>\n",
       "      <td>1</td>\n",
       "    </tr>\n",
       "    <tr>\n",
       "      <th>1B</th>\n",
       "      <td>28616</td>\n",
       "      <td>NaN</td>\n",
       "      <td>NaN</td>\n",
       "      <td>NaN</td>\n",
       "      <td>21.1688</td>\n",
       "      <td>33.9869</td>\n",
       "      <td>0</td>\n",
       "      <td>0</td>\n",
       "      <td>2</td>\n",
       "      <td>30</td>\n",
       "      <td>225</td>\n",
       "    </tr>\n",
       "    <tr>\n",
       "      <th>SLG</th>\n",
       "      <td>28616</td>\n",
       "      <td>NaN</td>\n",
       "      <td>NaN</td>\n",
       "      <td>NaN</td>\n",
       "      <td>0.218641</td>\n",
       "      <td>0.227966</td>\n",
       "      <td>0</td>\n",
       "      <td>0</td>\n",
       "      <td>0.204545</td>\n",
       "      <td>0.395842</td>\n",
       "      <td>4</td>\n",
       "    </tr>\n",
       "    <tr>\n",
       "      <th>BA</th>\n",
       "      <td>28616</td>\n",
       "      <td>NaN</td>\n",
       "      <td>NaN</td>\n",
       "      <td>NaN</td>\n",
       "      <td>0.144431</td>\n",
       "      <td>0.144951</td>\n",
       "      <td>0</td>\n",
       "      <td>0</td>\n",
       "      <td>0.1625</td>\n",
       "      <td>0.255854</td>\n",
       "      <td>1</td>\n",
       "    </tr>\n",
       "    <tr>\n",
       "      <th>OPS</th>\n",
       "      <td>28616</td>\n",
       "      <td>NaN</td>\n",
       "      <td>NaN</td>\n",
       "      <td>NaN</td>\n",
       "      <td>0.404117</td>\n",
       "      <td>0.389582</td>\n",
       "      <td>0</td>\n",
       "      <td>0</td>\n",
       "      <td>0.432702</td>\n",
       "      <td>0.718332</td>\n",
       "      <td>5</td>\n",
       "    </tr>\n",
       "    <tr>\n",
       "      <th>ISO</th>\n",
       "      <td>28616</td>\n",
       "      <td>NaN</td>\n",
       "      <td>NaN</td>\n",
       "      <td>NaN</td>\n",
       "      <td>0.0742092</td>\n",
       "      <td>0.107705</td>\n",
       "      <td>0</td>\n",
       "      <td>0</td>\n",
       "      <td>0</td>\n",
       "      <td>0.136842</td>\n",
       "      <td>3</td>\n",
       "    </tr>\n",
       "    <tr>\n",
       "      <th>wOBA</th>\n",
       "      <td>28616</td>\n",
       "      <td>NaN</td>\n",
       "      <td>NaN</td>\n",
       "      <td>NaN</td>\n",
       "      <td>0.176335</td>\n",
       "      <td>0.167204</td>\n",
       "      <td>0</td>\n",
       "      <td>0</td>\n",
       "      <td>0.197143</td>\n",
       "      <td>0.311127</td>\n",
       "      <td>1.94</td>\n",
       "    </tr>\n",
       "  </tbody>\n",
       "</table>\n",
       "</div>"
      ],
      "text/plain": [
       "          count unique        top   freq       mean       std   min   25%  \\\n",
       "playerID  28616   5625  pujolal01     34        NaN       NaN   NaN   NaN   \n",
       "yearID    28616    NaN        NaN    NaN    2009.71    5.8095  2000  2005   \n",
       "G         28616    NaN        NaN    NaN    50.5902   46.5435     1    13   \n",
       "AB        28616    NaN        NaN    NaN    123.149   184.847     0     0   \n",
       "R         28616    NaN        NaN    NaN    16.7943   28.2413     0     0   \n",
       "H         28616    NaN        NaN    NaN    32.3222   52.0944     0     0   \n",
       "2B        28616    NaN        NaN    NaN    6.45663   10.8329     0     0   \n",
       "3B        28616    NaN        NaN    NaN   0.655927   1.57277     0     0   \n",
       "HR        28616    NaN        NaN    NaN    4.04085   8.32608     0     0   \n",
       "RBI       28616    NaN        NaN    NaN     16.099   28.0243     0     0   \n",
       "SB        28616    NaN        NaN    NaN    2.07695   5.81586     0     0   \n",
       "CS        28616    NaN        NaN    NaN   0.811574   1.94783     0     0   \n",
       "BB        28616    NaN        NaN    NaN     11.863   21.2556     0     0   \n",
       "SO        28616    NaN        NaN    NaN    25.6831   37.8269     0     0   \n",
       "IBB       28616    NaN        NaN    NaN   0.965579   3.33208     0     0   \n",
       "HBP       28616    NaN        NaN    NaN    1.28208   2.75205     0     0   \n",
       "SH        28616    NaN        NaN    NaN    1.01492   2.20035     0     0   \n",
       "SF        28616    NaN        NaN    NaN   0.983156   1.92021     0     0   \n",
       "GIDP      28616    NaN        NaN    NaN    2.78854   4.84014     0     0   \n",
       "allStar   28616      2         No  28413        NaN       NaN   NaN   NaN   \n",
       "mvp       28616      2         No  28580        NaN       NaN   NaN   NaN   \n",
       "BABIP     28616    NaN        NaN    NaN   0.179219  0.180273     0     0   \n",
       "OBP       28616    NaN        NaN    NaN   0.185476  0.174932     0     0   \n",
       "1B        28616    NaN        NaN    NaN    21.1688   33.9869     0     0   \n",
       "SLG       28616    NaN        NaN    NaN   0.218641  0.227966     0     0   \n",
       "BA        28616    NaN        NaN    NaN   0.144431  0.144951     0     0   \n",
       "OPS       28616    NaN        NaN    NaN   0.404117  0.389582     0     0   \n",
       "ISO       28616    NaN        NaN    NaN  0.0742092  0.107705     0     0   \n",
       "wOBA      28616    NaN        NaN    NaN   0.176335  0.167204     0     0   \n",
       "\n",
       "               50%       75%   max  \n",
       "playerID       NaN       NaN   NaN  \n",
       "yearID        2010      2015  2019  \n",
       "G               33        74   163  \n",
       "AB              17       185   716  \n",
       "R                1        22   152  \n",
       "H                3        45   262  \n",
       "2B               0         9    59  \n",
       "3B               0         1    23  \n",
       "HR               0         4    73  \n",
       "RBI              1        20   160  \n",
       "SB               0         1    78  \n",
       "CS               0         1    24  \n",
       "BB               1        15   232  \n",
       "SO               5        38   223  \n",
       "IBB              0         0   120  \n",
       "HBP              0         1    30  \n",
       "SH               0         1    24  \n",
       "SF               0         1    16  \n",
       "GIDP             0         4    32  \n",
       "allStar        NaN       NaN   NaN  \n",
       "mvp            NaN       NaN   NaN  \n",
       "BABIP     0.217822  0.302791     1  \n",
       "OBP       0.217129  0.323597     1  \n",
       "1B               2        30   225  \n",
       "SLG       0.204545  0.395842     4  \n",
       "BA          0.1625  0.255854     1  \n",
       "OPS       0.432702  0.718332     5  \n",
       "ISO              0  0.136842     3  \n",
       "wOBA      0.197143  0.311127  1.94  "
      ]
     },
     "execution_count": 21,
     "metadata": {},
     "output_type": "execute_result"
    }
   ],
   "source": [
    "df.describe(include='all').T"
   ]
  },
  {
   "cell_type": "markdown",
   "metadata": {},
   "source": [
    "**Some Visualizations**"
   ]
  },
  {
   "cell_type": "code",
   "execution_count": 28,
   "metadata": {},
   "outputs": [
    {
     "data": {
      "text/plain": [
       "Text(0.5, 1.0, 'Hits Distribution')"
      ]
     },
     "execution_count": 28,
     "metadata": {},
     "output_type": "execute_result"
    },
    {
     "data": {
      "image/png": "[encoded data removed]",
      "text/plain": [
       "<Figure size 432x288 with 1 Axes>"
      ]
     },
     "metadata": {
      "needs_background": "light"
     },
     "output_type": "display_data"
    }
   ],
   "source": [
    "plt.hist(df['H'], bins=10, alpha=0.5)\n",
    "plt.xlabel('Hitss')\n",
    "plt.ylabel('Frequency')\n",
    "plt.title('Hits Distribution')"
   ]
  },
  {
   "cell_type": "code",
   "execution_count": 29,
   "metadata": {},
   "outputs": [
    {
     "data": {
      "text/plain": [
       "Text(0.5, 1.0, 'Homerun Distribution')"
      ]
     },
     "execution_count": 29,
     "metadata": {},
     "output_type": "execute_result"
    },
    {
     "data": {
      "image/png": "[encoded data removed]",
      "text/plain": [
       "<Figure size 432x288 with 1 Axes>"
      ]
     },
     "metadata": {
      "needs_background": "light"
     },
     "output_type": "display_data"
    }
   ],
   "source": [
    "#Homeruns\n",
    "plt.hist(df['HR'], bins=10, alpha=0.5)\n",
    "plt.xlabel('Homeruns')\n",
    "plt.ylabel('Frequency')\n",
    "plt.title('Homerun Distribution')"
   ]
  },
  {
   "cell_type": "code",
   "execution_count": 30,
   "metadata": {},
   "outputs": [
    {
     "data": {
      "text/plain": [
       "Text(0.5, 1.0, 'On Base Plus Slugging % Distribution')"
      ]
     },
     "execution_count": 30,
     "metadata": {},
     "output_type": "execute_result"
    },
    {
     "data": {
      "image/png": "[encoded data removed]",
      "text/plain": [
       "<Figure size 432x288 with 1 Axes>"
      ]
     },
     "metadata": {
      "needs_background": "light"
     },
     "output_type": "display_data"
    }
   ],
   "source": [
    "##OPS\n",
    "plt.hist(df['OPS'], bins=10, alpha=0.5)\n",
    "plt.xlabel('On Base Plus Slugging %')\n",
    "plt.ylabel('Frequency')\n",
    "plt.title('On Base Plus Slugging % Distribution')"
   ]
  },
  {
   "cell_type": "code",
   "execution_count": 25,
   "metadata": {},
   "outputs": [
    {
     "data": {
      "text/plain": [
       "Text(0.5, 1.0, 'Weighted On Base Average Distribution')"
      ]
     },
     "execution_count": 25,
     "metadata": {},
     "output_type": "execute_result"
    },
    {
     "data": {
      "image/png": "[encoded data removed]",
      "text/plain": [
       "<Figure size 432x288 with 1 Axes>"
      ]
     },
     "metadata": {
      "needs_background": "light"
     },
     "output_type": "display_data"
    }
   ],
   "source": [
    "##wOBA\n",
    "plt.hist(df['wOBA'], bins=10, alpha=0.5)\n",
    "plt.xlabel('Weighted On Base Average')\n",
    "plt.ylabel('Frequency')\n",
    "plt.title('Weighted On Base Average Distribution')"
   ]
  },
  {
   "cell_type": "markdown",
   "metadata": {},
   "source": [
    "**It's easy to see that the distribution of the data is skewed - which makes sense. There are many players that do not accumulate boxscore stats due to lack of playing time.**\n",
    "\n",
    "**Let's filter the data to only look at players with at least 100 At-Bats in a season.**"
   ]
  },
  {
   "cell_type": "code",
   "execution_count": 26,
   "metadata": {},
   "outputs": [
    {
     "data": {
      "text/plain": [
       "(9192, 29)"
      ]
     },
     "execution_count": 26,
     "metadata": {},
     "output_type": "execute_result"
    }
   ],
   "source": [
    "df2 = df[df['AB'] >= 100]\n",
    "df2.shape"
   ]
  },
  {
   "cell_type": "code",
   "execution_count": 27,
   "metadata": {},
   "outputs": [
    {
     "data": {
      "text/html": [
       "<div>\n",
       "<style scoped>\n",
       "    .dataframe tbody tr th:only-of-type {\n",
       "        vertical-align: middle;\n",
       "    }\n",
       "\n",
       "    .dataframe tbody tr th {\n",
       "        vertical-align: top;\n",
       "    }\n",
       "\n",
       "    .dataframe thead th {\n",
       "        text-align: right;\n",
       "    }\n",
       "</style>\n",
       "<table border=\"1\" class=\"dataframe\">\n",
       "  <thead>\n",
       "    <tr style=\"text-align: right;\">\n",
       "      <th></th>\n",
       "      <th>count</th>\n",
       "      <th>unique</th>\n",
       "      <th>top</th>\n",
       "      <th>freq</th>\n",
       "      <th>mean</th>\n",
       "      <th>std</th>\n",
       "      <th>min</th>\n",
       "      <th>25%</th>\n",
       "      <th>50%</th>\n",
       "      <th>75%</th>\n",
       "      <th>max</th>\n",
       "    </tr>\n",
       "  </thead>\n",
       "  <tbody>\n",
       "    <tr>\n",
       "      <th>playerID</th>\n",
       "      <td>9192</td>\n",
       "      <td>1769</td>\n",
       "      <td>pujolal01</td>\n",
       "      <td>34</td>\n",
       "      <td>NaN</td>\n",
       "      <td>NaN</td>\n",
       "      <td>NaN</td>\n",
       "      <td>NaN</td>\n",
       "      <td>NaN</td>\n",
       "      <td>NaN</td>\n",
       "      <td>NaN</td>\n",
       "    </tr>\n",
       "    <tr>\n",
       "      <th>yearID</th>\n",
       "      <td>9192</td>\n",
       "      <td>NaN</td>\n",
       "      <td>NaN</td>\n",
       "      <td>NaN</td>\n",
       "      <td>2009.45</td>\n",
       "      <td>5.77142</td>\n",
       "      <td>2000</td>\n",
       "      <td>2004</td>\n",
       "      <td>2009</td>\n",
       "      <td>2014</td>\n",
       "      <td>2019</td>\n",
       "    </tr>\n",
       "    <tr>\n",
       "      <th>G</th>\n",
       "      <td>9192</td>\n",
       "      <td>NaN</td>\n",
       "      <td>NaN</td>\n",
       "      <td>NaN</td>\n",
       "      <td>105.428</td>\n",
       "      <td>38.6437</td>\n",
       "      <td>24</td>\n",
       "      <td>72</td>\n",
       "      <td>108</td>\n",
       "      <td>141</td>\n",
       "      <td>163</td>\n",
       "    </tr>\n",
       "    <tr>\n",
       "      <th>AB</th>\n",
       "      <td>9192</td>\n",
       "      <td>NaN</td>\n",
       "      <td>NaN</td>\n",
       "      <td>NaN</td>\n",
       "      <td>352.192</td>\n",
       "      <td>166.971</td>\n",
       "      <td>100</td>\n",
       "      <td>198</td>\n",
       "      <td>341</td>\n",
       "      <td>505</td>\n",
       "      <td>716</td>\n",
       "    </tr>\n",
       "    <tr>\n",
       "      <th>R</th>\n",
       "      <td>9192</td>\n",
       "      <td>NaN</td>\n",
       "      <td>NaN</td>\n",
       "      <td>NaN</td>\n",
       "      <td>49.396</td>\n",
       "      <td>30.0079</td>\n",
       "      <td>3</td>\n",
       "      <td>24</td>\n",
       "      <td>44</td>\n",
       "      <td>71</td>\n",
       "      <td>152</td>\n",
       "    </tr>\n",
       "    <tr>\n",
       "      <th>H</th>\n",
       "      <td>9192</td>\n",
       "      <td>NaN</td>\n",
       "      <td>NaN</td>\n",
       "      <td>NaN</td>\n",
       "      <td>94.7633</td>\n",
       "      <td>51.4403</td>\n",
       "      <td>13</td>\n",
       "      <td>48</td>\n",
       "      <td>88</td>\n",
       "      <td>137</td>\n",
       "      <td>262</td>\n",
       "    </tr>\n",
       "    <tr>\n",
       "      <th>2B</th>\n",
       "      <td>9192</td>\n",
       "      <td>NaN</td>\n",
       "      <td>NaN</td>\n",
       "      <td>NaN</td>\n",
       "      <td>19.0277</td>\n",
       "      <td>11.3768</td>\n",
       "      <td>0</td>\n",
       "      <td>9</td>\n",
       "      <td>17</td>\n",
       "      <td>27</td>\n",
       "      <td>59</td>\n",
       "    </tr>\n",
       "    <tr>\n",
       "      <th>3B</th>\n",
       "      <td>9192</td>\n",
       "      <td>NaN</td>\n",
       "      <td>NaN</td>\n",
       "      <td>NaN</td>\n",
       "      <td>1.93799</td>\n",
       "      <td>2.26838</td>\n",
       "      <td>0</td>\n",
       "      <td>0</td>\n",
       "      <td>1</td>\n",
       "      <td>3</td>\n",
       "      <td>23</td>\n",
       "    </tr>\n",
       "    <tr>\n",
       "      <th>HR</th>\n",
       "      <td>9192</td>\n",
       "      <td>NaN</td>\n",
       "      <td>NaN</td>\n",
       "      <td>NaN</td>\n",
       "      <td>12.1275</td>\n",
       "      <td>10.8828</td>\n",
       "      <td>0</td>\n",
       "      <td>4</td>\n",
       "      <td>9</td>\n",
       "      <td>17</td>\n",
       "      <td>73</td>\n",
       "    </tr>\n",
       "    <tr>\n",
       "      <th>RBI</th>\n",
       "      <td>9192</td>\n",
       "      <td>NaN</td>\n",
       "      <td>NaN</td>\n",
       "      <td>NaN</td>\n",
       "      <td>47.5648</td>\n",
       "      <td>31.1659</td>\n",
       "      <td>0</td>\n",
       "      <td>22</td>\n",
       "      <td>41</td>\n",
       "      <td>67</td>\n",
       "      <td>160</td>\n",
       "    </tr>\n",
       "    <tr>\n",
       "      <th>SB</th>\n",
       "      <td>9192</td>\n",
       "      <td>NaN</td>\n",
       "      <td>NaN</td>\n",
       "      <td>NaN</td>\n",
       "      <td>6.18451</td>\n",
       "      <td>8.92082</td>\n",
       "      <td>0</td>\n",
       "      <td>1</td>\n",
       "      <td>3</td>\n",
       "      <td>8</td>\n",
       "      <td>78</td>\n",
       "    </tr>\n",
       "    <tr>\n",
       "      <th>CS</th>\n",
       "      <td>9192</td>\n",
       "      <td>NaN</td>\n",
       "      <td>NaN</td>\n",
       "      <td>NaN</td>\n",
       "      <td>2.39164</td>\n",
       "      <td>2.81381</td>\n",
       "      <td>0</td>\n",
       "      <td>0</td>\n",
       "      <td>2</td>\n",
       "      <td>3</td>\n",
       "      <td>24</td>\n",
       "    </tr>\n",
       "    <tr>\n",
       "      <th>BB</th>\n",
       "      <td>9192</td>\n",
       "      <td>NaN</td>\n",
       "      <td>NaN</td>\n",
       "      <td>NaN</td>\n",
       "      <td>34.8355</td>\n",
       "      <td>24.8636</td>\n",
       "      <td>1</td>\n",
       "      <td>16</td>\n",
       "      <td>29</td>\n",
       "      <td>48</td>\n",
       "      <td>232</td>\n",
       "    </tr>\n",
       "    <tr>\n",
       "      <th>SO</th>\n",
       "      <td>9192</td>\n",
       "      <td>NaN</td>\n",
       "      <td>NaN</td>\n",
       "      <td>NaN</td>\n",
       "      <td>70.2872</td>\n",
       "      <td>37.4787</td>\n",
       "      <td>3</td>\n",
       "      <td>40</td>\n",
       "      <td>64</td>\n",
       "      <td>95</td>\n",
       "      <td>223</td>\n",
       "    </tr>\n",
       "    <tr>\n",
       "      <th>IBB</th>\n",
       "      <td>9192</td>\n",
       "      <td>NaN</td>\n",
       "      <td>NaN</td>\n",
       "      <td>NaN</td>\n",
       "      <td>2.92646</td>\n",
       "      <td>5.36461</td>\n",
       "      <td>0</td>\n",
       "      <td>0</td>\n",
       "      <td>1</td>\n",
       "      <td>4</td>\n",
       "      <td>120</td>\n",
       "    </tr>\n",
       "    <tr>\n",
       "      <th>HBP</th>\n",
       "      <td>9192</td>\n",
       "      <td>NaN</td>\n",
       "      <td>NaN</td>\n",
       "      <td>NaN</td>\n",
       "      <td>3.75566</td>\n",
       "      <td>3.76671</td>\n",
       "      <td>0</td>\n",
       "      <td>1</td>\n",
       "      <td>3</td>\n",
       "      <td>5</td>\n",
       "      <td>30</td>\n",
       "    </tr>\n",
       "    <tr>\n",
       "      <th>SH</th>\n",
       "      <td>9192</td>\n",
       "      <td>NaN</td>\n",
       "      <td>NaN</td>\n",
       "      <td>NaN</td>\n",
       "      <td>1.6955</td>\n",
       "      <td>2.60133</td>\n",
       "      <td>0</td>\n",
       "      <td>0</td>\n",
       "      <td>1</td>\n",
       "      <td>2</td>\n",
       "      <td>24</td>\n",
       "    </tr>\n",
       "    <tr>\n",
       "      <th>SF</th>\n",
       "      <td>9192</td>\n",
       "      <td>NaN</td>\n",
       "      <td>NaN</td>\n",
       "      <td>NaN</td>\n",
       "      <td>2.89056</td>\n",
       "      <td>2.42749</td>\n",
       "      <td>0</td>\n",
       "      <td>1</td>\n",
       "      <td>2</td>\n",
       "      <td>4</td>\n",
       "      <td>16</td>\n",
       "    </tr>\n",
       "    <tr>\n",
       "      <th>GIDP</th>\n",
       "      <td>9192</td>\n",
       "      <td>NaN</td>\n",
       "      <td>NaN</td>\n",
       "      <td>NaN</td>\n",
       "      <td>8.078</td>\n",
       "      <td>5.5236</td>\n",
       "      <td>0</td>\n",
       "      <td>4</td>\n",
       "      <td>7</td>\n",
       "      <td>11</td>\n",
       "      <td>32</td>\n",
       "    </tr>\n",
       "    <tr>\n",
       "      <th>allStar</th>\n",
       "      <td>9192</td>\n",
       "      <td>2</td>\n",
       "      <td>No</td>\n",
       "      <td>9022</td>\n",
       "      <td>NaN</td>\n",
       "      <td>NaN</td>\n",
       "      <td>NaN</td>\n",
       "      <td>NaN</td>\n",
       "      <td>NaN</td>\n",
       "      <td>NaN</td>\n",
       "      <td>NaN</td>\n",
       "    </tr>\n",
       "    <tr>\n",
       "      <th>mvp</th>\n",
       "      <td>9192</td>\n",
       "      <td>2</td>\n",
       "      <td>No</td>\n",
       "      <td>9158</td>\n",
       "      <td>NaN</td>\n",
       "      <td>NaN</td>\n",
       "      <td>NaN</td>\n",
       "      <td>NaN</td>\n",
       "      <td>NaN</td>\n",
       "      <td>NaN</td>\n",
       "      <td>NaN</td>\n",
       "    </tr>\n",
       "    <tr>\n",
       "      <th>BABIP</th>\n",
       "      <td>9192</td>\n",
       "      <td>NaN</td>\n",
       "      <td>NaN</td>\n",
       "      <td>NaN</td>\n",
       "      <td>0.298635</td>\n",
       "      <td>0.0386513</td>\n",
       "      <td>0.142857</td>\n",
       "      <td>0.273973</td>\n",
       "      <td>0.299283</td>\n",
       "      <td>0.324531</td>\n",
       "      <td>0.448</td>\n",
       "    </tr>\n",
       "    <tr>\n",
       "      <th>OBP</th>\n",
       "      <td>9192</td>\n",
       "      <td>NaN</td>\n",
       "      <td>NaN</td>\n",
       "      <td>NaN</td>\n",
       "      <td>0.328821</td>\n",
       "      <td>0.0433516</td>\n",
       "      <td>0.162791</td>\n",
       "      <td>0.301282</td>\n",
       "      <td>0.327715</td>\n",
       "      <td>0.355175</td>\n",
       "      <td>0.6094</td>\n",
       "    </tr>\n",
       "    <tr>\n",
       "      <th>1B</th>\n",
       "      <td>9192</td>\n",
       "      <td>NaN</td>\n",
       "      <td>NaN</td>\n",
       "      <td>NaN</td>\n",
       "      <td>61.67</td>\n",
       "      <td>33.895</td>\n",
       "      <td>6</td>\n",
       "      <td>32</td>\n",
       "      <td>57</td>\n",
       "      <td>87</td>\n",
       "      <td>225</td>\n",
       "    </tr>\n",
       "    <tr>\n",
       "      <th>SLG</th>\n",
       "      <td>9192</td>\n",
       "      <td>NaN</td>\n",
       "      <td>NaN</td>\n",
       "      <td>NaN</td>\n",
       "      <td>0.419038</td>\n",
       "      <td>0.0848457</td>\n",
       "      <td>0.158416</td>\n",
       "      <td>0.361702</td>\n",
       "      <td>0.412978</td>\n",
       "      <td>0.469565</td>\n",
       "      <td>0.863445</td>\n",
       "    </tr>\n",
       "    <tr>\n",
       "      <th>BA</th>\n",
       "      <td>9192</td>\n",
       "      <td>NaN</td>\n",
       "      <td>NaN</td>\n",
       "      <td>NaN</td>\n",
       "      <td>0.260966</td>\n",
       "      <td>0.0363513</td>\n",
       "      <td>0.115702</td>\n",
       "      <td>0.237779</td>\n",
       "      <td>0.26178</td>\n",
       "      <td>0.285027</td>\n",
       "      <td>0.395722</td>\n",
       "    </tr>\n",
       "    <tr>\n",
       "      <th>OPS</th>\n",
       "      <td>9192</td>\n",
       "      <td>NaN</td>\n",
       "      <td>NaN</td>\n",
       "      <td>NaN</td>\n",
       "      <td>0.747859</td>\n",
       "      <td>0.120247</td>\n",
       "      <td>0.344095</td>\n",
       "      <td>0.670269</td>\n",
       "      <td>0.741145</td>\n",
       "      <td>0.817693</td>\n",
       "      <td>1.42173</td>\n",
       "    </tr>\n",
       "    <tr>\n",
       "      <th>ISO</th>\n",
       "      <td>9192</td>\n",
       "      <td>NaN</td>\n",
       "      <td>NaN</td>\n",
       "      <td>NaN</td>\n",
       "      <td>0.158072</td>\n",
       "      <td>0.0647052</td>\n",
       "      <td>0</td>\n",
       "      <td>0.111111</td>\n",
       "      <td>0.151754</td>\n",
       "      <td>0.19805</td>\n",
       "      <td>0.535714</td>\n",
       "    </tr>\n",
       "    <tr>\n",
       "      <th>wOBA</th>\n",
       "      <td>9192</td>\n",
       "      <td>NaN</td>\n",
       "      <td>NaN</td>\n",
       "      <td>NaN</td>\n",
       "      <td>0.321221</td>\n",
       "      <td>0.048159</td>\n",
       "      <td>0.157616</td>\n",
       "      <td>0.290685</td>\n",
       "      <td>0.318648</td>\n",
       "      <td>0.348193</td>\n",
       "      <td>0.691141</td>\n",
       "    </tr>\n",
       "  </tbody>\n",
       "</table>\n",
       "</div>"
      ],
      "text/plain": [
       "         count unique        top  freq      mean        std       min  \\\n",
       "playerID  9192   1769  pujolal01    34       NaN        NaN       NaN   \n",
       "yearID    9192    NaN        NaN   NaN   2009.45    5.77142      2000   \n",
       "G         9192    NaN        NaN   NaN   105.428    38.6437        24   \n",
       "AB        9192    NaN        NaN   NaN   352.192    166.971       100   \n",
       "R         9192    NaN        NaN   NaN    49.396    30.0079         3   \n",
       "H         9192    NaN        NaN   NaN   94.7633    51.4403        13   \n",
       "2B        9192    NaN        NaN   NaN   19.0277    11.3768         0   \n",
       "3B        9192    NaN        NaN   NaN   1.93799    2.26838         0   \n",
       "HR        9192    NaN        NaN   NaN   12.1275    10.8828         0   \n",
       "RBI       9192    NaN        NaN   NaN   47.5648    31.1659         0   \n",
       "SB        9192    NaN        NaN   NaN   6.18451    8.92082         0   \n",
       "CS        9192    NaN        NaN   NaN   2.39164    2.81381         0   \n",
       "BB        9192    NaN        NaN   NaN   34.8355    24.8636         1   \n",
       "SO        9192    NaN        NaN   NaN   70.2872    37.4787         3   \n",
       "IBB       9192    NaN        NaN   NaN   2.92646    5.36461         0   \n",
       "HBP       9192    NaN        NaN   NaN   3.75566    3.76671         0   \n",
       "SH        9192    NaN        NaN   NaN    1.6955    2.60133         0   \n",
       "SF        9192    NaN        NaN   NaN   2.89056    2.42749         0   \n",
       "GIDP      9192    NaN        NaN   NaN     8.078     5.5236         0   \n",
       "allStar   9192      2         No  9022       NaN        NaN       NaN   \n",
       "mvp       9192      2         No  9158       NaN        NaN       NaN   \n",
       "BABIP     9192    NaN        NaN   NaN  0.298635  0.0386513  0.142857   \n",
       "OBP       9192    NaN        NaN   NaN  0.328821  0.0433516  0.162791   \n",
       "1B        9192    NaN        NaN   NaN     61.67     33.895         6   \n",
       "SLG       9192    NaN        NaN   NaN  0.419038  0.0848457  0.158416   \n",
       "BA        9192    NaN        NaN   NaN  0.260966  0.0363513  0.115702   \n",
       "OPS       9192    NaN        NaN   NaN  0.747859   0.120247  0.344095   \n",
       "ISO       9192    NaN        NaN   NaN  0.158072  0.0647052         0   \n",
       "wOBA      9192    NaN        NaN   NaN  0.321221   0.048159  0.157616   \n",
       "\n",
       "               25%       50%       75%       max  \n",
       "playerID       NaN       NaN       NaN       NaN  \n",
       "yearID        2004      2009      2014      2019  \n",
       "G               72       108       141       163  \n",
       "AB             198       341       505       716  \n",
       "R               24        44        71       152  \n",
       "H               48        88       137       262  \n",
       "2B               9        17        27        59  \n",
       "3B               0         1         3        23  \n",
       "HR               4         9        17        73  \n",
       "RBI             22        41        67       160  \n",
       "SB               1         3         8        78  \n",
       "CS               0         2         3        24  \n",
       "BB              16        29        48       232  \n",
       "SO              40        64        95       223  \n",
       "IBB              0         1         4       120  \n",
       "HBP              1         3         5        30  \n",
       "SH               0         1         2        24  \n",
       "SF               1         2         4        16  \n",
       "GIDP             4         7        11        32  \n",
       "allStar        NaN       NaN       NaN       NaN  \n",
       "mvp            NaN       NaN       NaN       NaN  \n",
       "BABIP     0.273973  0.299283  0.324531     0.448  \n",
       "OBP       0.301282  0.327715  0.355175    0.6094  \n",
       "1B              32        57        87       225  \n",
       "SLG       0.361702  0.412978  0.469565  0.863445  \n",
       "BA        0.237779   0.26178  0.285027  0.395722  \n",
       "OPS       0.670269  0.741145  0.817693   1.42173  \n",
       "ISO       0.111111  0.151754   0.19805  0.535714  \n",
       "wOBA      0.290685  0.318648  0.348193  0.691141  "
      ]
     },
     "execution_count": 27,
     "metadata": {},
     "output_type": "execute_result"
    }
   ],
   "source": [
    "df2.describe(include='all').T"
   ]
  },
  {
   "cell_type": "code",
   "execution_count": 31,
   "metadata": {},
   "outputs": [
    {
     "data": {
      "text/plain": [
       "Text(0.5, 1.0, 'Hits Distribution')"
      ]
     },
     "execution_count": 31,
     "metadata": {},
     "output_type": "execute_result"
    },
    {
     "data": {
      "image/png": "[encoded data removed]",
      "text/plain": [
       "<Figure size 432x288 with 1 Axes>"
      ]
     },
     "metadata": {
      "needs_background": "light"
     },
     "output_type": "display_data"
    }
   ],
   "source": [
    "##Hits\n",
    "plt.hist(df2['H'], bins=15, alpha=0.5)\n",
    "plt.xlabel('hits')\n",
    "plt.ylabel('Frequency')\n",
    "plt.title('Hits Distribution')"
   ]
  },
  {
   "cell_type": "code",
   "execution_count": 32,
   "metadata": {},
   "outputs": [
    {
     "data": {
      "text/plain": [
       "Text(0.5, 1.0, 'Home Run Distribution')"
      ]
     },
     "execution_count": 32,
     "metadata": {},
     "output_type": "execute_result"
    },
    {
     "data": {
      "image/png": "[encoded data removed]",
      "text/plain": [
       "<Figure size 432x288 with 1 Axes>"
      ]
     },
     "metadata": {
      "needs_background": "light"
     },
     "output_type": "display_data"
    }
   ],
   "source": [
    "##HR\n",
    "plt.hist(df2['HR'], bins=10, alpha=0.5)\n",
    "plt.xlabel('Home Runs')\n",
    "plt.ylabel('Frequency')\n",
    "plt.title('Home Run Distribution')"
   ]
  },
  {
   "cell_type": "code",
   "execution_count": 33,
   "metadata": {},
   "outputs": [
    {
     "data": {
      "text/plain": [
       "Text(0.5, 1.0, 'On Base Plus Slugging % Distribution')"
      ]
     },
     "execution_count": 33,
     "metadata": {},
     "output_type": "execute_result"
    },
    {
     "data": {
      "image/png": "[encoded data removed]",
      "text/plain": [
       "<Figure size 432x288 with 1 Axes>"
      ]
     },
     "metadata": {
      "needs_background": "light"
     },
     "output_type": "display_data"
    }
   ],
   "source": [
    "##OPS\n",
    "plt.hist(df2['OPS'], bins=10, alpha=0.5)\n",
    "plt.xlabel('On Base Plus Slugging %')\n",
    "plt.ylabel('Frequency')\n",
    "plt.title('On Base Plus Slugging % Distribution')"
   ]
  },
  {
   "cell_type": "code",
   "execution_count": 34,
   "metadata": {},
   "outputs": [
    {
     "data": {
      "text/plain": [
       "Text(0.5, 1.0, 'Weighted On Base Average Distribution')"
      ]
     },
     "execution_count": 34,
     "metadata": {},
     "output_type": "execute_result"
    },
    {
     "data": {
      "image/png": "[encoded data removed]",
      "text/plain": [
       "<Figure size 432x288 with 1 Axes>"
      ]
     },
     "metadata": {
      "needs_background": "light"
     },
     "output_type": "display_data"
    }
   ],
   "source": [
    "##wOBA\n",
    "plt.hist(df2['wOBA'], bins=10, alpha=0.5)\n",
    "plt.xlabel('Weighted On Base Average')\n",
    "plt.ylabel('Frequency')\n",
    "plt.title('Weighted On Base Average Distribution')"
   ]
  },
  {
   "cell_type": "markdown",
   "metadata": {},
   "source": [
    "**Doing this led to some distributions becoming normal and in total, is more representative for the analysis that we are completing**"
   ]
  },
  {
   "cell_type": "markdown",
   "metadata": {},
   "source": [
    "**Categorical Data Visualizations**"
   ]
  },
  {
   "cell_type": "code",
   "execution_count": 35,
   "metadata": {},
   "outputs": [
    {
     "data": {
      "text/plain": [
       "Text(0.5, 1.0, 'All Star Appearance Distribution')"
      ]
     },
     "execution_count": 35,
     "metadata": {},
     "output_type": "execute_result"
    },
    {
     "data": {
      "image/png": "[encoded data removed]",
      "text/plain": [
       "<Figure size 432x288 with 1 Axes>"
      ]
     },
     "metadata": {
      "needs_background": "light"
     },
     "output_type": "display_data"
    }
   ],
   "source": [
    "plot = df2['allStar'].value_counts().plot(kind='bar')\n",
    "plot.set_xlabel('All Star')\n",
    "plot.set_ylabel('Frequency')\n",
    "plot.set_title('All Star Appearance Distribution')"
   ]
  },
  {
   "cell_type": "code",
   "execution_count": 36,
   "metadata": {},
   "outputs": [
    {
     "data": {
      "text/plain": [
       "Text(0.5, 1.0, 'Most Valuable Player Distribution')"
      ]
     },
     "execution_count": 36,
     "metadata": {},
     "output_type": "execute_result"
    },
    {
     "data": {
      "image/png": "[encoded data removed]",
      "text/plain": [
       "<Figure size 432x288 with 1 Axes>"
      ]
     },
     "metadata": {
      "needs_background": "light"
     },
     "output_type": "display_data"
    }
   ],
   "source": [
    "plot = df2['mvp'].value_counts().plot(kind='bar')\n",
    "plot.set_xlabel('MVP')\n",
    "plot.set_ylabel('Frequency')\n",
    "plot.set_title('Most Valuable Player Distribution')"
   ]
  },
  {
   "cell_type": "markdown",
   "metadata": {},
   "source": [
    "**Cross Tab ALL Star and MVP with Advanced Metrics wOBA, ISO, OPS**"
   ]
  },
  {
   "cell_type": "code",
   "execution_count": 37,
   "metadata": {},
   "outputs": [
    {
     "data": {
      "text/plain": [
       "Text(0.5, 1.0, 'wOBA: MVP vs No-MVP')"
      ]
     },
     "execution_count": 37,
     "metadata": {},
     "output_type": "execute_result"
    },
    {
     "data": {
      "image/png": "[encoded data removed]",
      "text/plain": [
       "<Figure size 432x288 with 1 Axes>"
      ]
     },
     "metadata": {
      "needs_background": "light"
     },
     "output_type": "display_data"
    }
   ],
   "source": [
    "plot = df2.groupby('mvp')['wOBA'].median().plot.bar()\n",
    "plot.set_xlabel('MVP Status')\n",
    "plot.set_ylabel('Median wOBA')\n",
    "plot.set_title('wOBA: MVP vs No-MVP')"
   ]
  },
  {
   "cell_type": "markdown",
   "metadata": {},
   "source": [
    "On average, MVPs have a higher wOBA than non_MVP players. "
   ]
  },
  {
   "cell_type": "code",
   "execution_count": 38,
   "metadata": {},
   "outputs": [
    {
     "data": {
      "text/plain": [
       "Text(0.5, 1.0, 'Isolated Power: MVP vs No-MVP')"
      ]
     },
     "execution_count": 38,
     "metadata": {},
     "output_type": "execute_result"
    },
    {
     "data": {
      "image/png": "[encoded data removed]",
      "text/plain": [
       "<Figure size 432x288 with 1 Axes>"
      ]
     },
     "metadata": {
      "needs_background": "light"
     },
     "output_type": "display_data"
    }
   ],
   "source": [
    "plot = df2.groupby('mvp')['ISO'].median().plot.bar()\n",
    "plot.set_xlabel('MVP Status')\n",
    "plot.set_ylabel('Median ISO')\n",
    "plot.set_title('Isolated Power: MVP vs No-MVP')"
   ]
  },
  {
   "cell_type": "markdown",
   "metadata": {},
   "source": [
    "On average, MVPs have a higher ISO than non_MVP players. "
   ]
  },
  {
   "cell_type": "code",
   "execution_count": 39,
   "metadata": {},
   "outputs": [
    {
     "data": {
      "text/plain": [
       "Text(0.5, 1.0, 'On Base Plus Slugging: MVP vs No-MVP')"
      ]
     },
     "execution_count": 39,
     "metadata": {},
     "output_type": "execute_result"
    },
    {
     "data": {
      "image/png": "[encoded data removed]",
      "text/plain": [
       "<Figure size 432x288 with 1 Axes>"
      ]
     },
     "metadata": {
      "needs_background": "light"
     },
     "output_type": "display_data"
    }
   ],
   "source": [
    "plot = df2.groupby('mvp')['OPS'].median().plot.bar()\n",
    "plot.set_xlabel('MVP Status')\n",
    "plot.set_ylabel('Median OPS')\n",
    "plot.set_title('On Base Plus Slugging: MVP vs No-MVP')"
   ]
  },
  {
   "cell_type": "markdown",
   "metadata": {},
   "source": [
    "On average, MVPs have a higher OPS than non_MVP players. "
   ]
  },
  {
   "cell_type": "markdown",
   "metadata": {},
   "source": [
    "<br>\n",
    "<br>"
   ]
  },
  {
   "cell_type": "markdown",
   "metadata": {},
   "source": [
    "# Regression Analyses to Predict wOBA"
   ]
  },
  {
   "cell_type": "markdown",
   "metadata": {},
   "source": [
    "**Let's prep the data so it's ready for analysis**"
   ]
  },
  {
   "cell_type": "code",
   "execution_count": 41,
   "metadata": {},
   "outputs": [
    {
     "data": {
      "text/plain": [
       "(9192, 27)"
      ]
     },
     "execution_count": 41,
     "metadata": {},
     "output_type": "execute_result"
    }
   ],
   "source": [
    "#Drop playerID and yearID since they are not informative features\n",
    "\n",
    "df3 = df2.drop(['playerID', 'yearID'], axis = 1)\n",
    "df3.shape"
   ]
  },
  {
   "cell_type": "code",
   "execution_count": 42,
   "metadata": {
    "scrolled": false
   },
   "outputs": [
    {
     "data": {
      "text/plain": [
       "Index(['G', 'AB', 'R', 'H', '2B', '3B', 'HR', 'RBI', 'SB', 'CS', 'BB', 'SO',\n",
       "       'IBB', 'HBP', 'SH', 'SF', 'GIDP', 'BABIP', 'OBP', '1B', 'SLG', 'BA',\n",
       "       'OPS', 'ISO', 'wOBA', 'allStar_No', 'allStar_Yes', 'mvp_No', 'mvp_Yes'],\n",
       "      dtype='object')"
      ]
     },
     "execution_count": 42,
     "metadata": {},
     "output_type": "execute_result"
    }
   ],
   "source": [
    "#Create dummy variables for categorical features\n",
    "\n",
    "batter_df = pd.get_dummies(df3, columns=['allStar', 'mvp'])\n",
    "batter_df.columns"
   ]
  },
  {
   "cell_type": "markdown",
   "metadata": {},
   "source": [
    "<br>"
   ]
  },
  {
   "cell_type": "markdown",
   "metadata": {},
   "source": [
    "**Regression Analyses for wOBA Predictions**"
   ]
  },
  {
   "cell_type": "code",
   "execution_count": 43,
   "metadata": {},
   "outputs": [],
   "source": [
    "#Train/Test Split - NOTE: No Need To Normalize for LinReg\n",
    "x = batter_df.drop(['wOBA'], axis=1)\n",
    "x.shape\n",
    "\n",
    "y = batter_df[['wOBA']]\n",
    "y.shape\n",
    "\n",
    "x_train, x_test, y_train, y_test = train_test_split(x, y, test_size=0.2, random_state=92)"
   ]
  },
  {
   "cell_type": "markdown",
   "metadata": {},
   "source": [
    "<br>"
   ]
  },
  {
   "cell_type": "code",
   "execution_count": 44,
   "metadata": {},
   "outputs": [
    {
     "name": "stdout",
     "output_type": "stream",
     "text": [
      "The MAE on the test data is:  0.0008163578800581037\n"
     ]
    }
   ],
   "source": [
    "#LinReg with full feature set. Nothing done to optimize\n",
    "\n",
    "linreg = LinearRegression()\n",
    "linreg.fit(x_train, y_train)\n",
    "\n",
    "pred = linreg.predict(x_test)\n",
    "MAE = mean_absolute_error(y_test, pred)\n",
    "print('The MAE on the test data is: ', MAE)"
   ]
  },
  {
   "cell_type": "markdown",
   "metadata": {},
   "source": [
    "MAE of ~0.001 wOBA is very good. This indicates that the data provided will do a very good job at predicting wOBA on players not in this dataset. "
   ]
  },
  {
   "cell_type": "code",
   "execution_count": 45,
   "metadata": {},
   "outputs": [
    {
     "data": {
      "image/png": "[encoded data removed]",
      "text/plain": [
       "<Figure size 432x288 with 1 Axes>"
      ]
     },
     "metadata": {
      "needs_background": "light"
     },
     "output_type": "display_data"
    }
   ],
   "source": [
    "#Visualization of Actual vs Predicted\n",
    "\n",
    "plt.plot(pred, y_test, 'ro')\n",
    "plt.xlabel('Predicted')\n",
    "plt.ylabel('Actual')\n",
    "plt.show()"
   ]
  },
  {
   "cell_type": "markdown",
   "metadata": {},
   "source": [
    "<br>"
   ]
  },
  {
   "cell_type": "code",
   "execution_count": 47,
   "metadata": {},
   "outputs": [
    {
     "name": "stdout",
     "output_type": "stream",
     "text": [
      " 1  0.0046\n",
      " 2  0.0046\n",
      " 3  0.0046\n",
      " 4  0.0022\n",
      " 5  0.0022\n",
      " 6  0.0022\n",
      " 7  0.0022\n",
      " 8  0.0022\n",
      " 9  0.0022\n",
      "10  0.0022\n",
      "11  0.0022\n",
      "12  0.0019\n",
      "13  0.0019\n",
      "14  0.0019\n",
      "15  0.0019\n",
      "16  0.0019\n",
      "17  0.0019\n",
      "18  0.0019\n",
      "19  0.0019\n",
      "20  0.0019\n",
      "21  0.0019\n",
      "22  0.0019\n",
      "23  0.0019\n",
      "24  0.0019\n",
      "25  0.0019\n",
      "26  0.0019\n",
      "27  0.0019\n",
      "Optimal Percentile Index:  18\n"
     ]
    }
   ],
   "source": [
    "#Let's try again, but with Feature Selection\n",
    "\n",
    "linreg = LinearRegression()\n",
    "\n",
    "percentiles = range(1, len(x.columns), 1)\n",
    "results = []\n",
    "for i in range(1, len(x.columns), 1):\n",
    "    fs = feature_selection.SelectPercentile(feature_selection.f_regression, percentile=i)\n",
    "    x_train_fs = fs.fit_transform(x_train, y_train)\n",
    "    scores = abs(cross_val_score(linreg, x_train_fs, y_train, cv=5, scoring='neg_mean_absolute_error'))\n",
    "    print(\"%2d  %0.4f\" % (i, scores.mean()))\n",
    "    results = np.append(results, scores.mean())\n",
    "\n",
    "optimal_percentile_ind = np.where(results == results.min())[0][0]\n",
    "print('Optimal Percentile Index: ', optimal_percentile_ind)"
   ]
  },
  {
   "cell_type": "code",
   "execution_count": 48,
   "metadata": {},
   "outputs": [
    {
     "name": "stdout",
     "output_type": "stream",
     "text": [
      "Optimal percentile of features:19 \n",
      "\n"
     ]
    }
   ],
   "source": [
    "optimal_percentile_ind = np.where(results == results.min())[0][0]\n",
    "print(\"Optimal percentile of features:{0}\".format(percentiles[optimal_percentile_ind]), \"\\n\")"
   ]
  },
  {
   "cell_type": "code",
   "execution_count": 49,
   "metadata": {},
   "outputs": [
    {
     "name": "stdout",
     "output_type": "stream",
     "text": [
      "Optimal number of features:5 \n",
      "\n"
     ]
    }
   ],
   "source": [
    "optimal_num_features = int(percentiles[optimal_percentile_ind]*len(x.columns)/100)\n",
    "print(\"Optimal number of features:{0}\".format(optimal_num_features), \"\\n\")"
   ]
  },
  {
   "cell_type": "code",
   "execution_count": 50,
   "metadata": {},
   "outputs": [
    {
     "data": {
      "text/plain": [
       "[<matplotlib.lines.Line2D at 0x23b17345ef0>]"
      ]
     },
     "execution_count": 50,
     "metadata": {},
     "output_type": "execute_result"
    },
    {
     "data": {
      "image/png": "[encoded data removed]",
      "text/plain": [
       "<Figure size 432x288 with 1 Axes>"
      ]
     },
     "metadata": {
      "needs_background": "light"
     },
     "output_type": "display_data"
    }
   ],
   "source": [
    "# Plot percentile of features VS. cross-validation scores\n",
    "plt.figure()\n",
    "plt.xlabel(\"Percentage of features selected\")\n",
    "plt.ylabel(\"Cross validation accuracy\")\n",
    "plt.plot(percentiles,results)"
   ]
  },
  {
   "cell_type": "code",
   "execution_count": 52,
   "metadata": {},
   "outputs": [
    {
     "name": "stdout",
     "output_type": "stream",
     "text": [
      "HR \t 7735.442972466713\n",
      "OBP \t 41328.31409828746\n",
      "SLG \t 50501.44575447944\n",
      "BA \t 11878.17929966891\n",
      "OPS \t 410452.46130476793\n",
      "ISO \t 11922.675231366065\n"
     ]
    }
   ],
   "source": [
    "#Show us the features that are most important for predicting wOBA\n",
    "\n",
    "fs = feature_selection.SelectPercentile(feature_selection.f_regression, percentile = 19)\n",
    "x_train_fs = fs.fit_transform(x_train, y_train)\n",
    "\n",
    "for i in range(len(x.columns.values)):\n",
    "    if fs.get_support()[i]:\n",
    "        print(x.columns.values[i],'\\t', fs.scores_[i])"
   ]
  },
  {
   "cell_type": "markdown",
   "metadata": {},
   "source": [
    "The results are not surprising. wOBA is another metric to valuate a player's ability to get on base. Home Runs, On Base Percentage, Slugging Percentage, Batting Average, On Base Plus Slugging Percentage, and Isolated Power are all metrics that capture much of the information that is the equation for wOBA. "
   ]
  },
  {
   "cell_type": "code",
   "execution_count": 53,
   "metadata": {},
   "outputs": [
    {
     "name": "stdout",
     "output_type": "stream",
     "text": [
      "MAE of testing data is:  0.0018072022706625255\n"
     ]
    }
   ],
   "source": [
    "#Let's run the model now with the optimal number of features\n",
    "\n",
    "fs = feature_selection.SelectKBest(feature_selection.f_regression, optimal_num_features)\n",
    "x_train_fs = fs.fit_transform(x_train, y_train)\n",
    "linreg.fit(x_train_fs, y_train)\n",
    "x_test_fs = fs.transform(x_test)\n",
    "pred = linreg.predict(x_test_fs)\n",
    "MAE = mean_absolute_error(y_test, pred)\n",
    "\n",
    "print('MAE of testing data is: ', MAE)"
   ]
  },
  {
   "cell_type": "markdown",
   "metadata": {},
   "source": [
    "MAE is ~0.002, which is slightly lower than the full model without Feature Selection. However, I prefer this model to the one with all features because if we can use less features to get a better or similar result, this makes the model easierto explain to our team, leadership, or clients. "
   ]
  },
  {
   "cell_type": "code",
   "execution_count": 55,
   "metadata": {},
   "outputs": [
    {
     "data": {
      "image/png": "[encoded data removed]",
      "text/plain": [
       "<Figure size 432x288 with 1 Axes>"
      ]
     },
     "metadata": {
      "needs_background": "light"
     },
     "output_type": "display_data"
    }
   ],
   "source": [
    "#Visualization\n",
    "\n",
    "plt.plot(pred, y_test, 'ro')\n",
    "plt.xlabel('Predicted')\n",
    "plt.ylabel('Actual')\n",
    "plt.show()"
   ]
  },
  {
   "cell_type": "markdown",
   "metadata": {},
   "source": [
    "<br>"
   ]
  },
  {
   "cell_type": "markdown",
   "metadata": {},
   "source": [
    "**Now, I will run Ridge Regression, Lasso Regression, and SGR with Parameter Tuning**"
   ]
  },
  {
   "cell_type": "code",
   "execution_count": 56,
   "metadata": {},
   "outputs": [],
   "source": [
    "#Function for finding best option for parameter of interest\n",
    "\n",
    "def calc_params(X, y, clf, param_values, param_name, K):\n",
    "    \n",
    "    # Convert input to Numpy arrays\n",
    "    X = np.array(X)\n",
    "    y = np.array(y)\n",
    "\n",
    "    # initialize training and testing score arrays with zeros\n",
    "    train_scores = np.zeros(len(param_values))\n",
    "    test_scores = np.zeros(len(param_values))\n",
    "    \n",
    "    # iterate over the different parameter values\n",
    "    for i, param_value in enumerate(param_values):\n",
    "        print(param_name, ' = ', param_value)\n",
    "        \n",
    "        # set classifier parameters\n",
    "        clf.set_params(**{param_name:param_value})\n",
    "        \n",
    "        # initialize the K scores obtained for each fold\n",
    "        k_train_scores = np.zeros(K)\n",
    "        k_test_scores = np.zeros(K)\n",
    "        \n",
    "        # create KFold cross validation\n",
    "        cv = KFold(n_splits=K, shuffle=True, random_state=0)\n",
    "        \n",
    "        # iterate over the K folds\n",
    "        j = 0\n",
    "        for train, test in cv.split(X):\n",
    "            # fit the classifier in the corresponding fold\n",
    "            # and obtain the corresponding accuracy scores on train and test sets\n",
    "            clf.fit(X[train], y[train])\n",
    "            k_train_scores[j] = clf.score(X[train], y[train])\n",
    "            k_test_scores[j] = clf.score(X[test], y[test])\n",
    "            j += 1\n",
    "            \n",
    "        # store the mean of the K fold scores\n",
    "        train_scores[i] = np.mean(k_train_scores)\n",
    "        test_scores[i] = np.mean(k_test_scores)\n",
    "       \n",
    "    # plot the training and testing scores in a log scale\n",
    "    plt.plot(param_values, train_scores, label='Train', alpha=0.4, lw=2, c='b')\n",
    "    plt.plot(param_values, test_scores, label='X-Val', alpha=0.4, lw=2, c='g')\n",
    "    plt.legend(loc=7)\n",
    "    plt.xlabel(param_name + \" values\")\n",
    "    plt.ylabel(\"Mean cross validation accuracy\")\n",
    "\n",
    "    min_err_idx = np.where(test_scores == test_scores.min())\n",
    "    min_err_alpha = param_values[min_err_idx]\n",
    "    print('The minimum MAE using cross validation is:', test_scores[min_err_idx][0],'with', param_name,':', min_err_alpha[0])\n",
    "    \n",
    "    # return the training and testing scores on each parameter value\n",
    "    return train_scores, test_scores"
   ]
  },
  {
   "cell_type": "code",
   "execution_count": 57,
   "metadata": {},
   "outputs": [
    {
     "name": "stdout",
     "output_type": "stream",
     "text": [
      "alpha  =  0.01\n",
      "alpha  =  0.41795918367346935\n",
      "alpha  =  0.8259183673469387\n",
      "alpha  =  1.233877551020408\n",
      "alpha  =  1.6418367346938774\n",
      "alpha  =  2.0497959183673466\n",
      "alpha  =  2.457755102040816\n",
      "alpha  =  2.865714285714285\n",
      "alpha  =  3.2736734693877545\n",
      "alpha  =  3.681632653061224\n",
      "alpha  =  4.0895918367346935\n",
      "alpha  =  4.497551020408163\n",
      "alpha  =  4.905510204081632\n",
      "alpha  =  5.313469387755101\n",
      "alpha  =  5.721428571428571\n",
      "alpha  =  6.12938775510204\n",
      "alpha  =  6.537346938775509\n",
      "alpha  =  6.9453061224489785\n",
      "alpha  =  7.353265306122448\n",
      "alpha  =  7.761224489795917\n",
      "alpha  =  8.169183673469387\n",
      "alpha  =  8.577142857142857\n",
      "alpha  =  8.985102040816326\n",
      "alpha  =  9.393061224489795\n",
      "alpha  =  9.801020408163264\n",
      "alpha  =  10.208979591836734\n",
      "alpha  =  10.616938775510203\n",
      "alpha  =  11.024897959183672\n",
      "alpha  =  11.432857142857141\n",
      "alpha  =  11.84081632653061\n",
      "alpha  =  12.24877551020408\n",
      "alpha  =  12.65673469387755\n",
      "alpha  =  13.064693877551019\n",
      "alpha  =  13.472653061224488\n",
      "alpha  =  13.880612244897957\n",
      "alpha  =  14.288571428571426\n",
      "alpha  =  14.696530612244896\n",
      "alpha  =  15.104489795918365\n",
      "alpha  =  15.512448979591834\n",
      "alpha  =  15.920408163265304\n",
      "alpha  =  16.328367346938776\n",
      "alpha  =  16.736326530612246\n",
      "alpha  =  17.144285714285715\n",
      "alpha  =  17.552244897959184\n",
      "alpha  =  17.960204081632654\n",
      "alpha  =  18.368163265306123\n",
      "alpha  =  18.776122448979592\n",
      "alpha  =  19.18408163265306\n",
      "alpha  =  19.59204081632653\n",
      "alpha  =  20.0\n",
      "The minimum MAE using cross validation is: 0.9639688632348238 with alpha : 20.0\n"
     ]
    },
    {
     "data": {
      "image/png": "[encoded data removed]",
      "text/plain": [
       "<Figure size 432x288 with 1 Axes>"
      ]
     },
     "metadata": {
      "needs_background": "light"
     },
     "output_type": "display_data"
    }
   ],
   "source": [
    "#Find Best Alpha for Ridge Regression\n",
    "\n",
    "alpha = np.linspace(0.01, 20, 50)\n",
    "\n",
    "ridge = Ridge(fit_intercept=True)\n",
    "\n",
    "train_scores, test_scores = calc_params(x_train, y_train, ridge, alpha, 'alpha', 5)"
   ]
  },
  {
   "cell_type": "markdown",
   "metadata": {},
   "source": [
    "As you can see, the alpha value of 20 produced the least amount of error. "
   ]
  },
  {
   "cell_type": "code",
   "execution_count": 58,
   "metadata": {},
   "outputs": [
    {
     "name": "stdout",
     "output_type": "stream",
     "text": [
      "The MAE on the test data is : 0.005397091976247804\n"
     ]
    }
   ],
   "source": [
    "ridge = Ridge(fit_intercept = True, alpha = 20)\n",
    "ridge.fit(x_train, y_train)\n",
    "\n",
    "pred = ridge.predict(x_test)\n",
    "MAE = mean_absolute_error(y_test, pred)\n",
    "print('The MAE on the test data is :', MAE)"
   ]
  },
  {
   "cell_type": "markdown",
   "metadata": {},
   "source": [
    "<br>"
   ]
  },
  {
   "cell_type": "markdown",
   "metadata": {},
   "source": [
    "**Let's Do the Same, But for Lasso**"
   ]
  },
  {
   "cell_type": "code",
   "execution_count": 59,
   "metadata": {},
   "outputs": [
    {
     "name": "stdout",
     "output_type": "stream",
     "text": [
      "alpha  =  0.01\n",
      "alpha  =  0.41795918367346935\n",
      "alpha  =  0.8259183673469387\n",
      "alpha  =  1.233877551020408\n",
      "alpha  =  1.6418367346938774\n",
      "alpha  =  2.0497959183673466\n",
      "alpha  =  2.457755102040816\n",
      "alpha  =  2.865714285714285\n",
      "alpha  =  3.2736734693877545\n",
      "alpha  =  3.681632653061224\n",
      "alpha  =  4.0895918367346935\n",
      "alpha  =  4.497551020408163\n",
      "alpha  =  4.905510204081632\n",
      "alpha  =  5.313469387755101\n",
      "alpha  =  5.721428571428571\n",
      "alpha  =  6.12938775510204\n",
      "alpha  =  6.537346938775509\n",
      "alpha  =  6.9453061224489785\n",
      "alpha  =  7.353265306122448\n",
      "alpha  =  7.761224489795917\n",
      "alpha  =  8.169183673469387\n",
      "alpha  =  8.577142857142857\n",
      "alpha  =  8.985102040816326\n",
      "alpha  =  9.393061224489795\n",
      "alpha  =  9.801020408163264\n",
      "alpha  =  10.208979591836734\n",
      "alpha  =  10.616938775510203\n",
      "alpha  =  11.024897959183672\n",
      "alpha  =  11.432857142857141\n",
      "alpha  =  11.84081632653061\n",
      "alpha  =  12.24877551020408\n",
      "alpha  =  12.65673469387755\n",
      "alpha  =  13.064693877551019\n",
      "alpha  =  13.472653061224488\n",
      "alpha  =  13.880612244897957\n",
      "alpha  =  14.288571428571426\n",
      "alpha  =  14.696530612244896\n",
      "alpha  =  15.104489795918365\n",
      "alpha  =  15.512448979591834\n",
      "alpha  =  15.920408163265304\n",
      "alpha  =  16.328367346938776\n",
      "alpha  =  16.736326530612246\n",
      "alpha  =  17.144285714285715\n",
      "alpha  =  17.552244897959184\n",
      "alpha  =  17.960204081632654\n",
      "alpha  =  18.368163265306123\n",
      "alpha  =  18.776122448979592\n",
      "alpha  =  19.18408163265306\n",
      "alpha  =  19.59204081632653\n",
      "alpha  =  20.0\n",
      "The minimum MAE using cross validation is: -0.00030304453846925484 with alpha : 4.0895918367346935\n"
     ]
    },
    {
     "data": {
      "image/png": "[encoded data removed]",
      "text/plain": [
       "<Figure size 432x288 with 1 Axes>"
      ]
     },
     "metadata": {
      "needs_background": "light"
     },
     "output_type": "display_data"
    }
   ],
   "source": [
    "alpha = np.linspace(0.01, 20, 50)\n",
    "\n",
    "lasso = Lasso(fit_intercept=True)\n",
    "\n",
    "train_scores, test_scores = calc_params(x_train, y_train, lasso, alpha, 'alpha', 5)"
   ]
  },
  {
   "cell_type": "markdown",
   "metadata": {},
   "source": [
    "As you can see from the output and the graph, the best alpha for minimizing error is ~ 4.09. "
   ]
  },
  {
   "cell_type": "code",
   "execution_count": 60,
   "metadata": {},
   "outputs": [
    {
     "name": "stdout",
     "output_type": "stream",
     "text": [
      "The MAE on the test data is : 0.03488917098276073\n"
     ]
    }
   ],
   "source": [
    "lasso = Lasso(fit_intercept = True, alpha = 4.0895918367346935)\n",
    "lasso.fit(x_train, y_train)\n",
    "\n",
    "pred = lasso.predict(x_test)\n",
    "MAE = mean_absolute_error(y_test, pred)\n",
    "print('The MAE on the test data is :', MAE)"
   ]
  },
  {
   "cell_type": "markdown",
   "metadata": {},
   "source": [
    "<br>"
   ]
  },
  {
   "cell_type": "markdown",
   "metadata": {},
   "source": [
    "**Now, Let's Do SGD Regression with Grid Search**"
   ]
  },
  {
   "cell_type": "code",
   "execution_count": 61,
   "metadata": {},
   "outputs": [],
   "source": [
    "# Standardize the data\n",
    "scaler = StandardScaler()\n",
    "scaler.fit(x)\n",
    "x_scaled = scaler.transform(x)\n",
    "\n",
    "x_train, x_test, y_train, y_test = train_test_split(x_scaled, y, test_size = 0.2, random_state = 92)"
   ]
  },
  {
   "cell_type": "code",
   "execution_count": 63,
   "metadata": {},
   "outputs": [
    {
     "name": "stdout",
     "output_type": "stream",
     "text": [
      "Fitting 5 folds for each of 800 candidates, totalling 4000 fits\n"
     ]
    },
    {
     "name": "stderr",
     "output_type": "stream",
     "text": [
      "[Parallel(n_jobs=1)]: Using backend SequentialBackend with 1 concurrent workers.\n"
     ]
    },
    {
     "name": "stdout",
     "output_type": "stream",
     "text": [
      "Wall time: 2min 5s\n"
     ]
    },
    {
     "name": "stderr",
     "output_type": "stream",
     "text": [
      "[Parallel(n_jobs=1)]: Done 4000 out of 4000 | elapsed:  2.1min finished\n"
     ]
    },
    {
     "data": {
      "text/plain": [
       "({'alpha': 0.0001, 'penalty': 'l2'}, 0.9988861175649527)"
      ]
     },
     "execution_count": 63,
     "metadata": {},
     "output_type": "execute_result"
    }
   ],
   "source": [
    "sgdreg = SGDRegressor()\n",
    "parameters = {\n",
    "    'penalty': ['l1','l2'],\n",
    "    'alpha': np.linspace(0.0001, 200, 400)   \n",
    "}\n",
    "\n",
    "gs = GridSearchCV(sgdreg, parameters, verbose = 1, cv =5)\n",
    "\n",
    "\n",
    "%time _ = gs.fit(x_train, y_train)\n",
    "\n",
    "gs.best_params_, gs.best_score_"
   ]
  },
  {
   "cell_type": "code",
   "execution_count": 64,
   "metadata": {},
   "outputs": [
    {
     "name": "stdout",
     "output_type": "stream",
     "text": [
      "The MAE using Stochastic Gradient Descent on the test data is:  0.000919232765484217\n"
     ]
    }
   ],
   "source": [
    "#Using the results, let's run a model\n",
    "\n",
    "sgdreg = SGDRegressor(penalty = 'l2', alpha = 0.0001)\n",
    "sgdreg.fit(x_train, y_train)\n",
    "pred = sgdreg.predict(x_test)\n",
    "MAE = mean_absolute_error(y_test, pred)\n",
    "\n",
    "print('The MAE using Stochastic Gradient Descent on the test data is: ', MAE)"
   ]
  },
  {
   "cell_type": "code",
   "execution_count": 65,
   "metadata": {},
   "outputs": [
    {
     "data": {
      "image/png": "[encoded data removed]",
      "text/plain": [
       "<Figure size 432x288 with 1 Axes>"
      ]
     },
     "metadata": {
      "needs_background": "light"
     },
     "output_type": "display_data"
    }
   ],
   "source": [
    "plt.plot(pred, y_test, 'ro')\n",
    "plt.xlabel('Predicted')\n",
    "plt.ylabel('Actual')\n",
    "plt.show()"
   ]
  },
  {
   "cell_type": "markdown",
   "metadata": {},
   "source": [
    "<br>"
   ]
  },
  {
   "cell_type": "markdown",
   "metadata": {},
   "source": [
    "**Overall Analysis**\n",
    "\n",
    "Comparing the results of the different models' performance, SGD Regression performed very similarly to the Linear Regression model ran on the full feature set and with Feature Selection. The Ridge Regression model performed slightly worse when evaluating MAE and Lasso Regression was the worst performer of the group. \n",
    "\n",
    "It is important to try several approaches to this analysis and evaluate model performance. It's also important to keep interpretability in mind when choosing a model to move forward with. "
   ]
  },
  {
   "cell_type": "markdown",
   "metadata": {},
   "source": [
    "<br>\n",
    "<br>"
   ]
  },
  {
   "cell_type": "markdown",
   "metadata": {},
   "source": [
    "# KNN, Decision Tree, and Naive Bayes to Predict All-Stars"
   ]
  },
  {
   "cell_type": "markdown",
   "metadata": {},
   "source": [
    "**Prep and Normalize Dataset**"
   ]
  },
  {
   "cell_type": "code",
   "execution_count": 66,
   "metadata": {},
   "outputs": [],
   "source": [
    "x = df3.drop(['allStar'], axis=1)\n",
    "\n",
    "y = df3[['allStar']]\n",
    "\n",
    "#Get Dummies\n",
    "x = pd.get_dummies(x, columns=['mvp'])"
   ]
  },
  {
   "cell_type": "code",
   "execution_count": 67,
   "metadata": {},
   "outputs": [],
   "source": [
    "#Train/Test Split\n",
    "\n",
    "x_train, x_test, y_train, y_test = train_test_split(x, y, test_size=0.2, random_state=92)"
   ]
  },
  {
   "cell_type": "code",
   "execution_count": 68,
   "metadata": {},
   "outputs": [],
   "source": [
    "#Normalize Data\n",
    "min_max_scaler = preprocessing.MinMaxScaler().fit(x_train)\n",
    "\n",
    "x_train_N = min_max_scaler.transform(x_train)\n",
    "x_train_NormDF = pd.DataFrame(x_train_N, columns = x_train.columns, index=x_train.index)\n",
    "\n",
    "x_test_N = min_max_scaler.transform(x_test)\n",
    "x_test_NormDF = pd.DataFrame(x_test_N, columns = x_test.columns, index=x_test.index)"
   ]
  },
  {
   "cell_type": "markdown",
   "metadata": {},
   "source": [
    "**Note:**\n",
    "\n",
    "The target data (All-Star appearance) is imblanaced. You'll see that KNN has a difficult time with this. I used bootsrapping to improve results. "
   ]
  },
  {
   "cell_type": "markdown",
   "metadata": {},
   "source": [
    "<br>"
   ]
  },
  {
   "cell_type": "markdown",
   "metadata": {},
   "source": [
    "**KNN**"
   ]
  },
  {
   "cell_type": "code",
   "execution_count": 69,
   "metadata": {},
   "outputs": [
    {
     "name": "stdout",
     "output_type": "stream",
     "text": [
      "              precision    recall  f1-score   support\n",
      "\n",
      "          No       0.98      0.99      0.99      1809\n",
      "         Yes       0.00      0.00      0.00        30\n",
      "\n",
      "    accuracy                           0.97      1839\n",
      "   macro avg       0.49      0.49      0.49      1839\n",
      "weighted avg       0.97      0.97      0.97      1839\n",
      "\n"
     ]
    }
   ],
   "source": [
    "# K = 5\n",
    "n_neighbors = 5\n",
    "\n",
    "knnclf = neighbors.KNeighborsClassifier(n_neighbors, weights='distance')\n",
    "knnclf.fit(x_train_N, y_train)\n",
    "\n",
    "knnpreds_test = knnclf.predict(x_test_N)\n",
    "print(classification_report(y_test, knnpreds_test))"
   ]
  },
  {
   "cell_type": "code",
   "execution_count": 70,
   "metadata": {},
   "outputs": [
    {
     "name": "stdout",
     "output_type": "stream",
     "text": [
      "[[1787   22]\n",
      " [  30    0]]\n"
     ]
    }
   ],
   "source": [
    "confusionMatrix = confusion_matrix(y_test, knnpreds_test)\n",
    "print(confusionMatrix)"
   ]
  },
  {
   "cell_type": "code",
   "execution_count": 71,
   "metadata": {},
   "outputs": [
    {
     "name": "stdout",
     "output_type": "stream",
     "text": [
      "Sensitivity is:  0.0\n",
      "Specificity is:  0.9878385848535103\n"
     ]
    }
   ],
   "source": [
    "tn, fp, fn, tp = confusion_matrix(y_test, knnpreds_test).ravel()\n",
    "sensitivity = tp/(tp+fn)\n",
    "specificity = tn/(tn+fp)\n",
    "print('Sensitivity is: ', sensitivity)\n",
    "print('Specificity is: ', specificity)"
   ]
  },
  {
   "cell_type": "code",
   "execution_count": 72,
   "metadata": {},
   "outputs": [
    {
     "name": "stdout",
     "output_type": "stream",
     "text": [
      "Testing Data Accuracy 0.9717237629146275\n",
      "Training Data Accuracy 0.9862641098871209\n"
     ]
    }
   ],
   "source": [
    "print('Testing Data Accuracy', knnclf.score(x_test_N, y_test))\n",
    "print('Training Data Accuracy', knnclf.score(x_train_N, y_train))"
   ]
  },
  {
   "cell_type": "markdown",
   "metadata": {},
   "source": [
    "**This model is great at predicting if a player is NOT an All-Star and fails to correctly predict if a player IS an All-Star. But this isn't very helpful if the goal is to predict a player being an All-Star...Let's see if increasing the # of k helps.**"
   ]
  },
  {
   "cell_type": "markdown",
   "metadata": {},
   "source": [
    "<br>"
   ]
  },
  {
   "cell_type": "code",
   "execution_count": 73,
   "metadata": {},
   "outputs": [
    {
     "name": "stdout",
     "output_type": "stream",
     "text": [
      "              precision    recall  f1-score   support\n",
      "\n",
      "          No       0.98      0.99      0.99      1809\n",
      "         Yes       0.00      0.00      0.00        30\n",
      "\n",
      "    accuracy                           0.97      1839\n",
      "   macro avg       0.49      0.49      0.49      1839\n",
      "weighted avg       0.97      0.97      0.97      1839\n",
      "\n"
     ]
    }
   ],
   "source": [
    "# K = 10\n",
    "n_neighbors = 10\n",
    "\n",
    "knnclf = neighbors.KNeighborsClassifier(n_neighbors, weights='distance')\n",
    "knnclf.fit(x_train_N, y_train)\n",
    "knnpreds_test = knnclf.predict(x_test_N)\n",
    "print(classification_report(y_test, knnpreds_test))"
   ]
  },
  {
   "cell_type": "code",
   "execution_count": 74,
   "metadata": {},
   "outputs": [
    {
     "name": "stdout",
     "output_type": "stream",
     "text": [
      "[[1787   22]\n",
      " [  30    0]]\n"
     ]
    }
   ],
   "source": [
    "confusionMatrix = confusion_matrix(y_test, knnpreds_test)\n",
    "print(confusionMatrix)"
   ]
  },
  {
   "cell_type": "code",
   "execution_count": 75,
   "metadata": {},
   "outputs": [
    {
     "name": "stdout",
     "output_type": "stream",
     "text": [
      "Sensitivity is:  0.0\n",
      "Specificity is:  0.9878385848535103\n"
     ]
    }
   ],
   "source": [
    "tn, fp, fn, tp = confusion_matrix(y_test, knnpreds_test).ravel()\n",
    "sensitivity = tp/(tp+fn)\n",
    "specificity = tn/(tn+fp)\n",
    "print('Sensitivity is: ', sensitivity)\n",
    "print('Specificity is: ', specificity)"
   ]
  },
  {
   "cell_type": "code",
   "execution_count": 76,
   "metadata": {},
   "outputs": [
    {
     "name": "stdout",
     "output_type": "stream",
     "text": [
      "Testing Data Accuracy 0.9717237629146275\n",
      "Training Data Accuracy 0.9862641098871209\n"
     ]
    }
   ],
   "source": [
    "print('Testing Data Accuracy', knnclf.score(x_test_N, y_test))\n",
    "print('Training Data Accuracy', knnclf.score(x_train_N, y_train))"
   ]
  },
  {
   "cell_type": "markdown",
   "metadata": {},
   "source": [
    "**The results are identical. Since the target is so rare, we will need to bootstrap to help see if KNN can perform better.**"
   ]
  },
  {
   "cell_type": "markdown",
   "metadata": {},
   "source": [
    "<br>"
   ]
  },
  {
   "cell_type": "code",
   "execution_count": 78,
   "metadata": {},
   "outputs": [],
   "source": [
    "#Bootstrap, Get Dummies, Split Data, and Normalize\n",
    "\n",
    "boot = resample(df3, replace=True, n_samples=9192, random_state=92)\n",
    "\n",
    "\n",
    "#Train/Test Split - NOTE: No Need To Normalize for LinReg\n",
    "x = boot.drop(['allStar'], axis=1)\n",
    "\n",
    "y = boot[['allStar']]\n",
    "\n",
    "\n",
    "#Get Dummies\n",
    "x = pd.get_dummies(x, columns=['mvp'])\n",
    "\n",
    "x_train, x_test, y_train, y_test = train_test_split(x, y, test_size=0.2, random_state=92)\n",
    "\n",
    "\n",
    "\n",
    "#Normalize Data\n",
    "min_max_scaler = preprocessing.MinMaxScaler().fit(x_train)\n",
    "\n",
    "x_train_N = min_max_scaler.transform(x_train)\n",
    "x_train_NormDF = pd.DataFrame(x_train_N, columns = x_train.columns, index=x_train.index)\n",
    "\n",
    "x_test_N = min_max_scaler.transform(x_test)\n",
    "x_test_NormDF = pd.DataFrame(x_test_N, columns = x_test.columns, index=x_test.index)"
   ]
  },
  {
   "cell_type": "code",
   "execution_count": 79,
   "metadata": {},
   "outputs": [
    {
     "name": "stdout",
     "output_type": "stream",
     "text": [
      "              precision    recall  f1-score   support\n",
      "\n",
      "          No       0.98      0.99      0.99      1795\n",
      "         Yes       0.64      0.36      0.46        44\n",
      "\n",
      "    accuracy                           0.98      1839\n",
      "   macro avg       0.81      0.68      0.73      1839\n",
      "weighted avg       0.98      0.98      0.98      1839\n",
      "\n"
     ]
    }
   ],
   "source": [
    "# K = 5\n",
    "n_neighbors = 5\n",
    "\n",
    "knnclf = neighbors.KNeighborsClassifier(n_neighbors, weights='distance')\n",
    "knnclf.fit(x_train_N, y_train)\n",
    "knnpreds_test = knnclf.predict(x_test_N)\n",
    "print(classification_report(y_test, knnpreds_test))"
   ]
  },
  {
   "cell_type": "code",
   "execution_count": 80,
   "metadata": {},
   "outputs": [
    {
     "name": "stdout",
     "output_type": "stream",
     "text": [
      "[[1786    9]\n",
      " [  28   16]]\n"
     ]
    }
   ],
   "source": [
    "confusionMatrix = confusion_matrix(y_test, knnpreds_test)\n",
    "print(confusionMatrix)"
   ]
  },
  {
   "cell_type": "code",
   "execution_count": 81,
   "metadata": {},
   "outputs": [
    {
     "name": "stdout",
     "output_type": "stream",
     "text": [
      "Sensitivity is:  0.36363636363636365\n",
      "Specificity is:  0.9949860724233983\n"
     ]
    }
   ],
   "source": [
    "tn, fp, fn, tp = confusion_matrix(y_test, knnpreds_test).ravel()\n",
    "sensitivity = tp/(tp+fn)\n",
    "specificity = tn/(tn+fp)\n",
    "print('Sensitivity is: ', sensitivity)\n",
    "print('Specificity is: ', specificity)"
   ]
  },
  {
   "cell_type": "code",
   "execution_count": 82,
   "metadata": {},
   "outputs": [
    {
     "name": "stdout",
     "output_type": "stream",
     "text": [
      "Testing Data Accuracy 0.9798803697661773\n",
      "Training Data Accuracy 0.9908880728954168\n"
     ]
    }
   ],
   "source": [
    "print('Testing Data Accuracy', knnclf.score(x_test_N, y_test))\n",
    "print('Training Data Accuracy', knnclf.score(x_train_N, y_train))"
   ]
  },
  {
   "cell_type": "markdown",
   "metadata": {},
   "source": [
    "**Woah! And just like that, the KNN model is much better at predicting All-Stars when we bootstrap the data. Sensitivity and Specificity are of special interest here due to the class imbalance and we care a little less about Precision and Recall.**"
   ]
  },
  {
   "cell_type": "markdown",
   "metadata": {},
   "source": [
    "<br>"
   ]
  },
  {
   "cell_type": "code",
   "execution_count": 84,
   "metadata": {},
   "outputs": [
    {
     "name": "stdout",
     "output_type": "stream",
     "text": [
      "              precision    recall  f1-score   support\n",
      "\n",
      "          No       0.98      1.00      0.99      1795\n",
      "         Yes       0.70      0.36      0.48        44\n",
      "\n",
      "    accuracy                           0.98      1839\n",
      "   macro avg       0.84      0.68      0.73      1839\n",
      "weighted avg       0.98      0.98      0.98      1839\n",
      "\n"
     ]
    }
   ],
   "source": [
    "# K = 10\n",
    "n_neighbors = 10\n",
    "\n",
    "knnclf = neighbors.KNeighborsClassifier(n_neighbors, weights='distance')\n",
    "knnclf.fit(x_train_N, y_train)\n",
    "knnpreds_test = knnclf.predict(x_test_N)\n",
    "print(classification_report(y_test, knnpreds_test))"
   ]
  },
  {
   "cell_type": "code",
   "execution_count": 85,
   "metadata": {},
   "outputs": [
    {
     "name": "stdout",
     "output_type": "stream",
     "text": [
      "[[1788    7]\n",
      " [  28   16]]\n"
     ]
    }
   ],
   "source": [
    "confusionMatrix = confusion_matrix(y_test, knnpreds_test)\n",
    "print(confusionMatrix)"
   ]
  },
  {
   "cell_type": "code",
   "execution_count": 86,
   "metadata": {},
   "outputs": [
    {
     "name": "stdout",
     "output_type": "stream",
     "text": [
      "Sensitivity is:  0.36363636363636365\n",
      "Specificity is:  0.996100278551532\n"
     ]
    }
   ],
   "source": [
    "tn, fp, fn, tp = confusion_matrix(y_test, knnpreds_test).ravel()\n",
    "sensitivity = tp/(tp+fn)\n",
    "specificity = tn/(tn+fp)\n",
    "print('Sensitivity is: ', sensitivity)\n",
    "print('Specificity is: ', specificity)"
   ]
  },
  {
   "cell_type": "code",
   "execution_count": 87,
   "metadata": {},
   "outputs": [
    {
     "name": "stdout",
     "output_type": "stream",
     "text": [
      "Testing Data Accuracy 0.9809679173463839\n",
      "Training Data Accuracy 0.9908880728954168\n"
     ]
    }
   ],
   "source": [
    "print('Testing Data Accuracy', knnclf.score(x_test_N, y_test))\n",
    "print('Training Data Accuracy', knnclf.score(x_train_N, y_train))"
   ]
  },
  {
   "cell_type": "markdown",
   "metadata": {},
   "source": [
    "<br>"
   ]
  },
  {
   "cell_type": "markdown",
   "metadata": {},
   "source": [
    "**Overall Analysis**\n",
    "\n",
    "As you can see, using 10 neighbors performed just about the same as the model did when we used 5. However, the performance was leaps and bounds better when using bootstrapping. Bootstrapping is a useful technique for dealing with a class imbalance and improving the performance of a model. Boostrapping significantly increased the model's ability to predict a player's All-Star status."
   ]
  },
  {
   "cell_type": "markdown",
   "metadata": {},
   "source": [
    "<br>"
   ]
  },
  {
   "cell_type": "markdown",
   "metadata": {},
   "source": [
    "**Naive Bayes and Decision Tree Models**\n",
    "\n",
    "I will use the bootstrapped and normalized data for this exercise."
   ]
  },
  {
   "cell_type": "code",
   "execution_count": 88,
   "metadata": {},
   "outputs": [
    {
     "name": "stdout",
     "output_type": "stream",
     "text": [
      "              precision    recall  f1-score   support\n",
      "\n",
      "          No       1.00      0.83      0.91      1795\n",
      "         Yes       0.12      0.98      0.22        44\n",
      "\n",
      "    accuracy                           0.83      1839\n",
      "   macro avg       0.56      0.90      0.56      1839\n",
      "weighted avg       0.98      0.83      0.89      1839\n",
      "\n"
     ]
    }
   ],
   "source": [
    "#NB\n",
    "\n",
    "nbclf = naive_bayes.GaussianNB()\n",
    "nbclf = nbclf.fit(x_train, y_train)\n",
    "nb_prediction_test = nbclf.predict(x_test)\n",
    "\n",
    "print(classification_report(y_test, nb_prediction_test))"
   ]
  },
  {
   "cell_type": "code",
   "execution_count": 89,
   "metadata": {},
   "outputs": [
    {
     "name": "stdout",
     "output_type": "stream",
     "text": [
      "[[1487  308]\n",
      " [   1   43]]\n"
     ]
    }
   ],
   "source": [
    "nb_confusionM = confusion_matrix(y_test, nb_prediction_test)\n",
    "print(nb_confusionM)"
   ]
  },
  {
   "cell_type": "code",
   "execution_count": 90,
   "metadata": {},
   "outputs": [
    {
     "name": "stdout",
     "output_type": "stream",
     "text": [
      "Sensitivity is:  0.9772727272727273\n",
      "Specificity is:  0.8284122562674094\n"
     ]
    }
   ],
   "source": [
    "tn, fp, fn, tp = confusion_matrix(y_test, nb_prediction_test).ravel()\n",
    "sensitivity = tp/(tp+fn)\n",
    "specificity = tn/(tn+fp)\n",
    "print('Sensitivity is: ', sensitivity)\n",
    "print('Specificity is: ', specificity)"
   ]
  },
  {
   "cell_type": "code",
   "execution_count": 91,
   "metadata": {},
   "outputs": [
    {
     "name": "stdout",
     "output_type": "stream",
     "text": [
      "Score on Training:  0.8180334557323541\n",
      "Score on Testing:  0.831973898858075\n"
     ]
    }
   ],
   "source": [
    "print('Score on Training: ', nbclf.score(x_train, y_train))\n",
    "print('Score on Testing: ', nbclf.score(x_test, y_test))"
   ]
  },
  {
   "cell_type": "markdown",
   "metadata": {},
   "source": [
    "**The NB model does an exceptional job at correctly predicting All-Stars as All-Stars. It makes some False Positive predictions that ultimately drive down it's overall accuracy.**"
   ]
  },
  {
   "cell_type": "markdown",
   "metadata": {},
   "source": [
    "<br>"
   ]
  },
  {
   "cell_type": "code",
   "execution_count": 93,
   "metadata": {},
   "outputs": [
    {
     "name": "stdout",
     "output_type": "stream",
     "text": [
      "              precision    recall  f1-score   support\n",
      "\n",
      "          No       0.99      0.99      0.99      1795\n",
      "         Yes       0.59      0.39      0.47        44\n",
      "\n",
      "    accuracy                           0.98      1839\n",
      "   macro avg       0.79      0.69      0.73      1839\n",
      "weighted avg       0.98      0.98      0.98      1839\n",
      "\n"
     ]
    }
   ],
   "source": [
    "#DT\n",
    "#Entropy, Min Split = 4\n",
    "\n",
    "treeclf = tree.DecisionTreeClassifier(criterion = 'entropy', min_samples_split = 4)\n",
    "treeclf = treeclf.fit(x_train, y_train)\n",
    "tree_pred_test = treeclf.predict(x_test)\n",
    "print(classification_report(y_test, tree_pred_test))"
   ]
  },
  {
   "cell_type": "code",
   "execution_count": 94,
   "metadata": {},
   "outputs": [
    {
     "name": "stdout",
     "output_type": "stream",
     "text": [
      "[[1783   12]\n",
      " [  27   17]]\n"
     ]
    }
   ],
   "source": [
    "tree_confusionM = confusion_matrix(y_test, tree_pred_test)\n",
    "print(tree_confusionM)"
   ]
  },
  {
   "cell_type": "code",
   "execution_count": 95,
   "metadata": {},
   "outputs": [
    {
     "name": "stdout",
     "output_type": "stream",
     "text": [
      "Sensitivity is:  0.38636363636363635\n",
      "Specificity is:  0.9933147632311977\n"
     ]
    }
   ],
   "source": [
    "tn, fp, fn, tp = confusion_matrix(y_test,tree_pred_test).ravel()\n",
    "sensitivity = tp/(tp+fn)\n",
    "specificity = tn/(tn+fp)\n",
    "print('Sensitivity is: ', sensitivity)\n",
    "print('Specificity is: ', specificity)"
   ]
  },
  {
   "cell_type": "code",
   "execution_count": 96,
   "metadata": {},
   "outputs": [
    {
     "name": "stdout",
     "output_type": "stream",
     "text": [
      "Testing Data Accuracy 0.9787928221859706\n",
      "Training Data Accuracy 0.9904800761593907\n"
     ]
    }
   ],
   "source": [
    "print('Testing Data Accuracy', treeclf.score(x_test, y_test))\n",
    "print('Training Data Accuracy', treeclf.score(x_train, y_train))"
   ]
  },
  {
   "cell_type": "markdown",
   "metadata": {},
   "source": [
    "**Performance is not as strong as the NB model when evaluating the Sensitivty and Specificity metrics. However, this DT model does a better job of not incorrectly predicting All-Stars.**"
   ]
  },
  {
   "cell_type": "markdown",
   "metadata": {},
   "source": [
    "<br>"
   ]
  },
  {
   "cell_type": "code",
   "execution_count": 97,
   "metadata": {},
   "outputs": [
    {
     "name": "stdout",
     "output_type": "stream",
     "text": [
      "              precision    recall  f1-score   support\n",
      "\n",
      "          No       0.99      0.99      0.99      1795\n",
      "         Yes       0.52      0.39      0.44        44\n",
      "\n",
      "    accuracy                           0.98      1839\n",
      "   macro avg       0.75      0.69      0.71      1839\n",
      "weighted avg       0.97      0.98      0.97      1839\n",
      "\n"
     ]
    }
   ],
   "source": [
    "#DT\n",
    "#Gini, Min Split = 4\n",
    "\n",
    "treeclf = tree.DecisionTreeClassifier(criterion = 'gini', min_samples_split = 4)\n",
    "treeclf = treeclf.fit(x_train, y_train)\n",
    "tree_pred_test = treeclf.predict(x_test)\n",
    "print(classification_report(y_test, tree_pred_test))"
   ]
  },
  {
   "cell_type": "code",
   "execution_count": 98,
   "metadata": {},
   "outputs": [
    {
     "name": "stdout",
     "output_type": "stream",
     "text": [
      "[[1779   16]\n",
      " [  27   17]]\n"
     ]
    }
   ],
   "source": [
    "tree_confusionM = confusion_matrix(y_test, tree_pred_test)\n",
    "print(tree_confusionM)"
   ]
  },
  {
   "cell_type": "code",
   "execution_count": 99,
   "metadata": {},
   "outputs": [
    {
     "name": "stdout",
     "output_type": "stream",
     "text": [
      "Sensitivity is:  0.38636363636363635\n",
      "Specificity is:  0.9910863509749304\n"
     ]
    }
   ],
   "source": [
    "tn, fp, fn, tp = confusion_matrix(y_test,tree_pred_test).ravel()\n",
    "sensitivity = tp/(tp+fn)\n",
    "specificity = tn/(tn+fp)\n",
    "print('Sensitivity is: ', sensitivity)\n",
    "print('Specificity is: ', specificity)"
   ]
  },
  {
   "cell_type": "code",
   "execution_count": 100,
   "metadata": {},
   "outputs": [
    {
     "name": "stdout",
     "output_type": "stream",
     "text": [
      "Testing Data Accuracy 0.9766177270255574\n",
      "Training Data Accuracy 0.9906160750713995\n"
     ]
    }
   ],
   "source": [
    "print('Testing Data Accuracy', treeclf.score(x_test, y_test))\n",
    "print('Training Data Accuracy', treeclf.score(x_train, y_train))"
   ]
  },
  {
   "cell_type": "markdown",
   "metadata": {},
   "source": [
    "**DT with Gini as the criterion saw similar results to the DT model with Entropy as the criterion. Sensitivity and Specificity were the same, but the Gini model incorrectly predicted a few extra \"fake\" All-Stars.**"
   ]
  },
  {
   "cell_type": "markdown",
   "metadata": {},
   "source": [
    "<br>"
   ]
  },
  {
   "cell_type": "markdown",
   "metadata": {},
   "source": [
    "**Overall Analysis**\n",
    "\n",
    "It turns out that it's very difficult to predict whether a player will be an All-Star or not based off their batting statistics. From a high level, this makes sense. All-Stars are voted in by fans and chosen by players and managers. To add to the complexity, there are only so many spots available and every year there are worthy players left off the teams. \n",
    "\n",
    "If we wanted to move forward with one of these models, I could recommend the KNN or Decision Tree models (with bootstrapping). These models had lower Sensitivity (predicted All-Stars that are actually All-Stars) than the NB model, but they also did a superior job at not predicting All-Stars who were NOT All-Stars. For this purpose, the outcome of predicting as many All-Stars correctly as possible, while minimizing False Positives, is ideal. "
   ]
  }
 ],
 "metadata": {
  "kernelspec": {
   "display_name": "Python 3",
   "language": "python",
   "name": "python3"
  },
  "language_info": {
   "codemirror_mode": {
    "name": "ipython",
    "version": 3
   },
   "file_extension": ".py",
   "mimetype": "text/x-python",
   "name": "python",
   "nbconvert_exporter": "python",
   "pygments_lexer": "ipython3",
   "version": "3.7.1"
  }
 },
 "nbformat": 4,
 "nbformat_minor": 2
}
