{
 "cells": [
  {
   "cell_type": "markdown",
   "metadata": {},
   "source": [
    "# Introduction\n",
    "\n",
    "**kMeans Clustering**\n",
    "\n",
    "Everyone claims to be underpaid and underappreciated at some point in their lives...now imagine if you had performance data to back that claim up! Fortunuately, for MLB players, we have such data! \n",
    "\n",
    "In this analysis, I used kMeans Clustering to group players together and evaluate if, based on wOBA (Weighted On Base Average), players were underpaid for their performance. kMeans Clustering is an unsupervised macine learning algorithm (meaning that we don't have an independent variable we are predicting for...instead, the algorithm helps find relationships that may not have been obvious at first glance). kMeans clusters players together based on the similiarities between their wOBA metric and salary. The ultimate goal was to cluster players, evaulate the mean wOBA/salaries of each cluster, identify the highest paid cluster, and find players who were underpaid based on having an above average wOBA for their cluster.\n",
    "\n",
    "TLDR: Group players based on wOBA and salary. Then looked at highest performing cluster to find players whose salaries are below the group average and their wOBA is above the group average. \n",
    "\n",
    "<br>\n",
    "<br>\n",
    "\n",
    "Data Source: http://www.seanlahman.com/baseball-archive/statistics/\n",
    "\n",
    "CSV used was generated from data from Sean Lahman's database found ^^^\n",
    "\n",
    "This is salary and batting performance data from 2016. "
   ]
  },
  {
   "cell_type": "markdown",
   "metadata": {},
   "source": [
    "<br>"
   ]
  },
  {
   "cell_type": "markdown",
   "metadata": {},
   "source": [
    "**Load Data and Packages Needed for Analysis**"
   ]
  },
  {
   "cell_type": "code",
   "execution_count": 1,
   "metadata": {},
   "outputs": [],
   "source": [
    "import pandas as pd\n",
    "import matplotlib.pyplot as plt\n",
    "import os\n",
    "from sklearn.cluster import KMeans \n",
    "%matplotlib inline\n",
    "\n",
    "import warnings\n",
    "warnings.filterwarnings(\"ignore\")"
   ]
  },
  {
   "cell_type": "code",
   "execution_count": 3,
   "metadata": {
    "scrolled": false
   },
   "outputs": [
    {
     "data": {
      "text/html": [
       "<div>\n",
       "<style scoped>\n",
       "    .dataframe tbody tr th:only-of-type {\n",
       "        vertical-align: middle;\n",
       "    }\n",
       "\n",
       "    .dataframe tbody tr th {\n",
       "        vertical-align: top;\n",
       "    }\n",
       "\n",
       "    .dataframe thead th {\n",
       "        text-align: right;\n",
       "    }\n",
       "</style>\n",
       "<table border=\"1\" class=\"dataframe\">\n",
       "  <thead>\n",
       "    <tr style=\"text-align: right;\">\n",
       "      <th></th>\n",
       "      <th>playerID</th>\n",
       "      <th>yearID</th>\n",
       "      <th>G</th>\n",
       "      <th>AB</th>\n",
       "      <th>R</th>\n",
       "      <th>H</th>\n",
       "      <th>2B</th>\n",
       "      <th>3B</th>\n",
       "      <th>HR</th>\n",
       "      <th>RBI</th>\n",
       "      <th>...</th>\n",
       "      <th>OBP</th>\n",
       "      <th>1B</th>\n",
       "      <th>SLG</th>\n",
       "      <th>BA</th>\n",
       "      <th>OPS</th>\n",
       "      <th>ISO</th>\n",
       "      <th>wOBA</th>\n",
       "      <th>teamID</th>\n",
       "      <th>lgID</th>\n",
       "      <th>salary</th>\n",
       "    </tr>\n",
       "  </thead>\n",
       "  <tbody>\n",
       "    <tr>\n",
       "      <th>0</th>\n",
       "      <td>arciaos01</td>\n",
       "      <td>2016</td>\n",
       "      <td>32</td>\n",
       "      <td>103</td>\n",
       "      <td>8</td>\n",
       "      <td>22</td>\n",
       "      <td>4</td>\n",
       "      <td>0</td>\n",
       "      <td>4</td>\n",
       "      <td>12</td>\n",
       "      <td>...</td>\n",
       "      <td>0.289474</td>\n",
       "      <td>14</td>\n",
       "      <td>0.368932</td>\n",
       "      <td>0.213592</td>\n",
       "      <td>0.658406</td>\n",
       "      <td>0.155340</td>\n",
       "      <td>0.284447</td>\n",
       "      <td>MIN</td>\n",
       "      <td>AL</td>\n",
       "      <td>535000</td>\n",
       "    </tr>\n",
       "    <tr>\n",
       "      <th>1</th>\n",
       "      <td>buxtoby01</td>\n",
       "      <td>2016</td>\n",
       "      <td>92</td>\n",
       "      <td>298</td>\n",
       "      <td>44</td>\n",
       "      <td>67</td>\n",
       "      <td>19</td>\n",
       "      <td>6</td>\n",
       "      <td>10</td>\n",
       "      <td>38</td>\n",
       "      <td>...</td>\n",
       "      <td>0.284404</td>\n",
       "      <td>32</td>\n",
       "      <td>0.429530</td>\n",
       "      <td>0.224832</td>\n",
       "      <td>0.713934</td>\n",
       "      <td>0.204698</td>\n",
       "      <td>0.298361</td>\n",
       "      <td>MIN</td>\n",
       "      <td>AL</td>\n",
       "      <td>512500</td>\n",
       "    </tr>\n",
       "    <tr>\n",
       "      <th>2</th>\n",
       "      <td>doziebr01</td>\n",
       "      <td>2016</td>\n",
       "      <td>155</td>\n",
       "      <td>615</td>\n",
       "      <td>104</td>\n",
       "      <td>165</td>\n",
       "      <td>35</td>\n",
       "      <td>5</td>\n",
       "      <td>42</td>\n",
       "      <td>99</td>\n",
       "      <td>...</td>\n",
       "      <td>0.339623</td>\n",
       "      <td>83</td>\n",
       "      <td>0.546341</td>\n",
       "      <td>0.268293</td>\n",
       "      <td>0.885964</td>\n",
       "      <td>0.278049</td>\n",
       "      <td>0.368627</td>\n",
       "      <td>MIN</td>\n",
       "      <td>AL</td>\n",
       "      <td>3000000</td>\n",
       "    </tr>\n",
       "    <tr>\n",
       "      <th>3</th>\n",
       "      <td>escobed01</td>\n",
       "      <td>2016</td>\n",
       "      <td>105</td>\n",
       "      <td>352</td>\n",
       "      <td>32</td>\n",
       "      <td>83</td>\n",
       "      <td>14</td>\n",
       "      <td>2</td>\n",
       "      <td>6</td>\n",
       "      <td>37</td>\n",
       "      <td>...</td>\n",
       "      <td>0.280000</td>\n",
       "      <td>61</td>\n",
       "      <td>0.338068</td>\n",
       "      <td>0.235795</td>\n",
       "      <td>0.618068</td>\n",
       "      <td>0.102273</td>\n",
       "      <td>0.267420</td>\n",
       "      <td>MIN</td>\n",
       "      <td>AL</td>\n",
       "      <td>2150000</td>\n",
       "    </tr>\n",
       "    <tr>\n",
       "      <th>4</th>\n",
       "      <td>mauerjo01</td>\n",
       "      <td>2016</td>\n",
       "      <td>134</td>\n",
       "      <td>494</td>\n",
       "      <td>68</td>\n",
       "      <td>129</td>\n",
       "      <td>22</td>\n",
       "      <td>4</td>\n",
       "      <td>11</td>\n",
       "      <td>49</td>\n",
       "      <td>...</td>\n",
       "      <td>0.362847</td>\n",
       "      <td>92</td>\n",
       "      <td>0.388664</td>\n",
       "      <td>0.261134</td>\n",
       "      <td>0.751511</td>\n",
       "      <td>0.127530</td>\n",
       "      <td>0.334804</td>\n",
       "      <td>MIN</td>\n",
       "      <td>AL</td>\n",
       "      <td>23000000</td>\n",
       "    </tr>\n",
       "  </tbody>\n",
       "</table>\n",
       "<p>5 rows × 33 columns</p>\n",
       "</div>"
      ],
      "text/plain": [
       "    playerID  yearID    G   AB    R    H  2B  3B  HR  RBI  ...       OBP  1B  \\\n",
       "0  arciaos01    2016   32  103    8   22   4   0   4   12  ...  0.289474  14   \n",
       "1  buxtoby01    2016   92  298   44   67  19   6  10   38  ...  0.284404  32   \n",
       "2  doziebr01    2016  155  615  104  165  35   5  42   99  ...  0.339623  83   \n",
       "3  escobed01    2016  105  352   32   83  14   2   6   37  ...  0.280000  61   \n",
       "4  mauerjo01    2016  134  494   68  129  22   4  11   49  ...  0.362847  92   \n",
       "\n",
       "        SLG        BA       OPS       ISO      wOBA  teamID  lgID    salary  \n",
       "0  0.368932  0.213592  0.658406  0.155340  0.284447     MIN    AL    535000  \n",
       "1  0.429530  0.224832  0.713934  0.204698  0.298361     MIN    AL    512500  \n",
       "2  0.546341  0.268293  0.885964  0.278049  0.368627     MIN    AL   3000000  \n",
       "3  0.338068  0.235795  0.618068  0.102273  0.267420     MIN    AL   2150000  \n",
       "4  0.388664  0.261134  0.751511  0.127530  0.334804     MIN    AL  23000000  \n",
       "\n",
       "[5 rows x 33 columns]"
      ]
     },
     "execution_count": 3,
     "metadata": {},
     "output_type": "execute_result"
    }
   ],
   "source": [
    "df = pd.read_csv('salaries_2016.csv')\n",
    "df.head()"
   ]
  },
  {
   "cell_type": "code",
   "execution_count": 4,
   "metadata": {
    "scrolled": false
   },
   "outputs": [
    {
     "data": {
      "text/plain": [
       "(357, 33)"
      ]
     },
     "execution_count": 4,
     "metadata": {},
     "output_type": "execute_result"
    }
   ],
   "source": [
    "df.shape"
   ]
  },
  {
   "cell_type": "markdown",
   "metadata": {},
   "source": [
    "**Now, let's see who has the highest salary: Miguel Cabrera**"
   ]
  },
  {
   "cell_type": "code",
   "execution_count": 5,
   "metadata": {
    "scrolled": true
   },
   "outputs": [
    {
     "data": {
      "text/plain": [
       "playerID    martest01\n",
       "yearID           2016\n",
       "G                 158\n",
       "AB                595\n",
       "R                  92\n",
       "H                 188\n",
       "2B                 31\n",
       "3B                  1\n",
       "HR                 38\n",
       "RBI               108\n",
       "SB                  0\n",
       "CS                  0\n",
       "BB                 75\n",
       "SO                116\n",
       "IBB                15\n",
       "HBP                 4\n",
       "SH                  0\n",
       "SF                  5\n",
       "GIDP               26\n",
       "W                  86\n",
       "allStar            No\n",
       "mvp                No\n",
       "BABIP        0.336323\n",
       "OBP          0.393225\n",
       "1B                118\n",
       "SLG          0.563025\n",
       "BA           0.315966\n",
       "OPS          0.956251\n",
       "ISO          0.247059\n",
       "wOBA         0.407021\n",
       "teamID            DET\n",
       "lgID               AL\n",
       "salary       28000000\n",
       "Name: 340, dtype: object"
      ]
     },
     "execution_count": 5,
     "metadata": {},
     "output_type": "execute_result"
    }
   ],
   "source": [
    "df.loc[df['salary'].idxmax()]"
   ]
  },
  {
   "cell_type": "code",
   "execution_count": 6,
   "metadata": {},
   "outputs": [],
   "source": [
    "names = df['playerID']"
   ]
  },
  {
   "cell_type": "markdown",
   "metadata": {},
   "source": [
    "**A Nice Visual of the Distribution of Salaries**\n",
    "Note - Salary is on a Ten Million Dollar Scale. 1.0 = $10Million "
   ]
  },
  {
   "cell_type": "code",
   "execution_count": 7,
   "metadata": {
    "scrolled": true
   },
   "outputs": [
    {
     "data": {
      "text/plain": [
       "Text(0.5, 1.0, 'Salary Distribution')"
      ]
     },
     "execution_count": 7,
     "metadata": {},
     "output_type": "execute_result"
    },
    {
     "data": {
      "image/png": "[encoded data removed]",
      "text/plain": [
       "<Figure size 432x288 with 1 Axes>"
      ]
     },
     "metadata": {
      "needs_background": "light"
     },
     "output_type": "display_data"
    }
   ],
   "source": [
    "##wOBA\n",
    "plt.hist(df['salary'], bins=10, alpha=0.5)\n",
    "plt.xlabel('Salary ($10mm)')\n",
    "plt.ylabel('Frequency')\n",
    "plt.title('Salary Distribution')"
   ]
  },
  {
   "cell_type": "code",
   "execution_count": 8,
   "metadata": {
    "scrolled": true
   },
   "outputs": [
    {
     "data": {
      "text/plain": [
       "(357, 2)"
      ]
     },
     "execution_count": 8,
     "metadata": {},
     "output_type": "execute_result"
    }
   ],
   "source": [
    "#Test\n",
    "df = df[['wOBA', 'salary']]\n",
    "df.shape"
   ]
  },
  {
   "cell_type": "markdown",
   "metadata": {},
   "source": [
    "**Due to different scales of features, good to normalize/standardize the data**"
   ]
  },
  {
   "cell_type": "code",
   "execution_count": 9,
   "metadata": {},
   "outputs": [],
   "source": [
    "#Normalize Data\n",
    "min_max_scaler = preprocessing.MinMaxScaler().fit(df)\n",
    "\n",
    "dfNorm= min_max_scaler.transform(df)"
   ]
  },
  {
   "cell_type": "markdown",
   "metadata": {},
   "source": [
    "**How Does One Determine the Best Number of Clusters?**"
   ]
  },
  {
   "cell_type": "code",
   "execution_count": 10,
   "metadata": {},
   "outputs": [],
   "source": [
    "#Function\n",
    "def cluster_sizes(clusters):\n",
    "    #clusters is an array of cluster labels for each instance in the data\n",
    "    \n",
    "    size = {}\n",
    "    cluster_labels = np.unique(clusters)\n",
    "    n_clusters = cluster_labels.shape[0]\n",
    "\n",
    "    for c in cluster_labels:\n",
    "        size[c] = len(df[clusters == c])\n",
    "    return size"
   ]
  },
  {
   "cell_type": "code",
   "execution_count": 11,
   "metadata": {
    "scrolled": true
   },
   "outputs": [
    {
     "data": {
      "image/png": "[encoded data removed]",
      "text/plain": [
       "<Figure size 432x288 with 1 Axes>"
      ]
     },
     "metadata": {
      "needs_background": "light"
     },
     "output_type": "display_data"
    }
   ],
   "source": [
    "cost =[] \n",
    "for i in range(1, 11): \n",
    "    KM = KMeans(n_clusters = i, max_iter = 500) \n",
    "    KM.fit(df) \n",
    "      \n",
    "    # calculates squared error \n",
    "    # for the clustered points \n",
    "    cost.append(KM.inertia_)      \n",
    "  \n",
    "# plot the cost against K values \n",
    "plt.plot(range(1, 11), cost, color ='g', linewidth ='3') \n",
    "plt.xlabel(\"Value of K\") \n",
    "plt.ylabel(\"Sqaured Error (Cost)\") \n",
    "plt.show() # clear the plot \n",
    "  \n",
    "# the point of the elbow is the  \n",
    "# most optimal value for choosing k"
   ]
  },
  {
   "cell_type": "markdown",
   "metadata": {},
   "source": [
    "**3 clusters is the best...so we will roll with 3.**"
   ]
  },
  {
   "cell_type": "code",
   "execution_count": 12,
   "metadata": {},
   "outputs": [
    {
     "name": "stdout",
     "output_type": "stream",
     "text": [
      "Size of Cluster 0 =  170\n",
      "Size of Cluster 1 =  74\n",
      "Size of Cluster 2 =  113\n"
     ]
    }
   ],
   "source": [
    "kmeans = KMeans(n_clusters=3, max_iter=500)\n",
    "kmeans.fit(dfNorm)\n",
    "clusters = kmeans.predict(dfNorm)\n",
    "\n",
    "size = cluster_sizes(clusters)\n",
    "\n",
    "for c in size.keys():\n",
    "    print(\"Size of Cluster\", c, \"= \", size[c])\n",
    " "
   ]
  },
  {
   "cell_type": "markdown",
   "metadata": {},
   "source": [
    "**Visualization of Clusters**"
   ]
  },
  {
   "cell_type": "code",
   "execution_count": 13,
   "metadata": {},
   "outputs": [
    {
     "data": {
      "text/plain": [
       "Text(0, 0.5, 'Salary')"
      ]
     },
     "execution_count": 13,
     "metadata": {},
     "output_type": "execute_result"
    },
    {
     "data": {
      "image/png": "[encoded data removed]",
      "text/plain": [
       "<Figure size 432x288 with 1 Axes>"
      ]
     },
     "metadata": {
      "needs_background": "light"
     },
     "output_type": "display_data"
    }
   ],
   "source": [
    "plt.scatter(df['wOBA'], df['salary'], c=clusters)\n",
    "plt.xlabel(\"wOBA\") \n",
    "plt.ylabel(\"Salary\") "
   ]
  },
  {
   "cell_type": "code",
   "execution_count": 14,
   "metadata": {},
   "outputs": [],
   "source": [
    "df['cluster'] = clusters\n",
    "df['name'] = names"
   ]
  },
  {
   "cell_type": "code",
   "execution_count": 15,
   "metadata": {},
   "outputs": [
    {
     "data": {
      "text/plain": [
       "wOBA       0\n",
       "salary     0\n",
       "cluster    0\n",
       "name       0\n",
       "dtype: int64"
      ]
     },
     "execution_count": 15,
     "metadata": {},
     "output_type": "execute_result"
    }
   ],
   "source": [
    "df.isna().sum()"
   ]
  },
  {
   "cell_type": "code",
   "execution_count": 16,
   "metadata": {},
   "outputs": [
    {
     "data": {
      "text/plain": [
       "(357, 4)"
      ]
     },
     "execution_count": 16,
     "metadata": {},
     "output_type": "execute_result"
    }
   ],
   "source": [
    "df.shape"
   ]
  },
  {
   "cell_type": "code",
   "execution_count": 17,
   "metadata": {},
   "outputs": [
    {
     "name": "stdout",
     "output_type": "stream",
     "text": [
      "Cluster 0 mean salary:  2913665.994117647\n",
      "Cluster 1 mean salary:  16849278.37837838\n",
      "Cluster 2 mean salary:  2033134.6017699116\n"
     ]
    }
   ],
   "source": [
    "cluster0 = df[df['cluster'] == 0]\n",
    "cluster1 = df[df['cluster'] == 1]\n",
    "cluster2 = df[df['cluster'] == 2]\n",
    "\n",
    "c_mean0 = cluster0['salary'].mean()\n",
    "c_mean1 = cluster1['salary'].mean()\n",
    "c_mean2 = cluster2['salary'].mean()\n",
    "\n",
    "print('Cluster 0 mean salary: ', c_mean0)\n",
    "print('Cluster 1 mean salary: ', c_mean1)\n",
    "print('Cluster 2 mean salary: ', c_mean2)"
   ]
  },
  {
   "cell_type": "markdown",
   "metadata": {},
   "source": [
    "**Clusters 0 and 2 have similar mean salaries. Cluster 1 is quite a bit higher**"
   ]
  },
  {
   "cell_type": "code",
   "execution_count": 18,
   "metadata": {
    "scrolled": true
   },
   "outputs": [
    {
     "name": "stdout",
     "output_type": "stream",
     "text": [
      "Cluster 0 mean wOBA:  0.3399042186764707\n",
      "Cluster 1 mean wOBA:  0.3457513966621622\n",
      "Cluster 2 mean wOBA:  0.27294363568141583\n"
     ]
    }
   ],
   "source": [
    "w_mean0 = cluster0['wOBA'].mean()\n",
    "w_mean1 = cluster1['wOBA'].mean()\n",
    "w_mean2 = cluster2['wOBA'].mean()\n",
    "\n",
    "print('Cluster 0 mean wOBA: ', cluster0['wOBA'].mean())\n",
    "print('Cluster 1 mean wOBA: ', cluster1['wOBA'].mean())\n",
    "print('Cluster 2 mean wOBA: ', cluster2['wOBA'].mean())"
   ]
  },
  {
   "cell_type": "markdown",
   "metadata": {},
   "source": [
    "<br>\n",
    "<br>"
   ]
  },
  {
   "cell_type": "markdown",
   "metadata": {},
   "source": [
    "**Analysis**\n",
    "\n",
    "Okay, so we now know that we know Cluster 1 is where we want to evaluate, let's dig in. \n",
    "\n",
    "First thing, I want to pull the players from Cluster 1 whose salaries are below the cluster's average. Then, I want to sort by players whose wOBA is the highest above the group's average. \n",
    "\n",
    "This will tell us the top players whose performance is above their cluster's average and are paid less than the group's mean - which suggests they are underpaid baed on their wOBA performance. "
   ]
  },
  {
   "cell_type": "code",
   "execution_count": 19,
   "metadata": {},
   "outputs": [],
   "source": [
    "bargain = cluster1[cluster1.salary <= c_mean1]\n",
    "\n",
    "bargain['Salary Difference'] = (abs(bargain['salary'] - c_mean1))\n",
    "bargain['wOBA Difference'] = (abs(bargain['wOBA'] - c_mean1))\n",
    "\n",
    "s = bargain.sort_values('wOBA Difference')"
   ]
  },
  {
   "cell_type": "code",
   "execution_count": 20,
   "metadata": {
    "scrolled": true
   },
   "outputs": [
    {
     "data": {
      "text/html": [
       "<div>\n",
       "<style scoped>\n",
       "    .dataframe tbody tr th:only-of-type {\n",
       "        vertical-align: middle;\n",
       "    }\n",
       "\n",
       "    .dataframe tbody tr th {\n",
       "        vertical-align: top;\n",
       "    }\n",
       "\n",
       "    .dataframe thead th {\n",
       "        text-align: right;\n",
       "    }\n",
       "</style>\n",
       "<table border=\"1\" class=\"dataframe\">\n",
       "  <thead>\n",
       "    <tr style=\"text-align: right;\">\n",
       "      <th></th>\n",
       "      <th>wOBA</th>\n",
       "      <th>salary</th>\n",
       "      <th>cluster</th>\n",
       "      <th>name</th>\n",
       "      <th>Salary Difference</th>\n",
       "      <th>wOBA Difference</th>\n",
       "    </tr>\n",
       "  </thead>\n",
       "  <tbody>\n",
       "    <tr>\n",
       "      <th>20</th>\n",
       "      <td>0.428221</td>\n",
       "      <td>16000000</td>\n",
       "      <td>1</td>\n",
       "      <td>shawtr01</td>\n",
       "      <td>8.492784e+05</td>\n",
       "      <td>1.684928e+07</td>\n",
       "    </tr>\n",
       "    <tr>\n",
       "      <th>21</th>\n",
       "      <td>0.428221</td>\n",
       "      <td>16000000</td>\n",
       "      <td>1</td>\n",
       "      <td>vazquch01</td>\n",
       "      <td>8.492784e+05</td>\n",
       "      <td>1.684928e+07</td>\n",
       "    </tr>\n",
       "    <tr>\n",
       "      <th>22</th>\n",
       "      <td>0.428221</td>\n",
       "      <td>16000000</td>\n",
       "      <td>1</td>\n",
       "      <td>youngch04</td>\n",
       "      <td>8.492784e+05</td>\n",
       "      <td>1.684928e+07</td>\n",
       "    </tr>\n",
       "    <tr>\n",
       "      <th>23</th>\n",
       "      <td>0.428221</td>\n",
       "      <td>16000000</td>\n",
       "      <td>1</td>\n",
       "      <td>abreujo02</td>\n",
       "      <td>8.492784e+05</td>\n",
       "      <td>1.684928e+07</td>\n",
       "    </tr>\n",
       "    <tr>\n",
       "      <th>52</th>\n",
       "      <td>0.424347</td>\n",
       "      <td>16083333</td>\n",
       "      <td>1</td>\n",
       "      <td>hicksaa01</td>\n",
       "      <td>7.659454e+05</td>\n",
       "      <td>1.684928e+07</td>\n",
       "    </tr>\n",
       "    <tr>\n",
       "      <th>51</th>\n",
       "      <td>0.424347</td>\n",
       "      <td>16083333</td>\n",
       "      <td>1</td>\n",
       "      <td>headlch01</td>\n",
       "      <td>7.659454e+05</td>\n",
       "      <td>1.684928e+07</td>\n",
       "    </tr>\n",
       "    <tr>\n",
       "      <th>53</th>\n",
       "      <td>0.424347</td>\n",
       "      <td>16083333</td>\n",
       "      <td>1</td>\n",
       "      <td>mccanbr01</td>\n",
       "      <td>7.659454e+05</td>\n",
       "      <td>1.684928e+07</td>\n",
       "    </tr>\n",
       "    <tr>\n",
       "      <th>240</th>\n",
       "      <td>0.412911</td>\n",
       "      <td>12359375</td>\n",
       "      <td>1</td>\n",
       "      <td>myerswi01</td>\n",
       "      <td>4.489903e+06</td>\n",
       "      <td>1.684928e+07</td>\n",
       "    </tr>\n",
       "    <tr>\n",
       "      <th>328</th>\n",
       "      <td>0.402240</td>\n",
       "      <td>11650000</td>\n",
       "      <td>1</td>\n",
       "      <td>grandcu01</td>\n",
       "      <td>5.199278e+06</td>\n",
       "      <td>1.684928e+07</td>\n",
       "    </tr>\n",
       "    <tr>\n",
       "      <th>329</th>\n",
       "      <td>0.402240</td>\n",
       "      <td>11650000</td>\n",
       "      <td>1</td>\n",
       "      <td>lagarju01</td>\n",
       "      <td>5.199278e+06</td>\n",
       "      <td>1.684928e+07</td>\n",
       "    </tr>\n",
       "  </tbody>\n",
       "</table>\n",
       "</div>"
      ],
      "text/plain": [
       "         wOBA    salary  cluster       name  Salary Difference  \\\n",
       "20   0.428221  16000000        1   shawtr01       8.492784e+05   \n",
       "21   0.428221  16000000        1  vazquch01       8.492784e+05   \n",
       "22   0.428221  16000000        1  youngch04       8.492784e+05   \n",
       "23   0.428221  16000000        1  abreujo02       8.492784e+05   \n",
       "52   0.424347  16083333        1  hicksaa01       7.659454e+05   \n",
       "51   0.424347  16083333        1  headlch01       7.659454e+05   \n",
       "53   0.424347  16083333        1  mccanbr01       7.659454e+05   \n",
       "240  0.412911  12359375        1  myerswi01       4.489903e+06   \n",
       "328  0.402240  11650000        1  grandcu01       5.199278e+06   \n",
       "329  0.402240  11650000        1  lagarju01       5.199278e+06   \n",
       "\n",
       "     wOBA Difference  \n",
       "20      1.684928e+07  \n",
       "21      1.684928e+07  \n",
       "22      1.684928e+07  \n",
       "23      1.684928e+07  \n",
       "52      1.684928e+07  \n",
       "51      1.684928e+07  \n",
       "53      1.684928e+07  \n",
       "240     1.684928e+07  \n",
       "328     1.684928e+07  \n",
       "329     1.684928e+07  "
      ]
     },
     "execution_count": 20,
     "metadata": {},
     "output_type": "execute_result"
    }
   ],
   "source": [
    "s.head(10)"
   ]
  },
  {
   "cell_type": "markdown",
   "metadata": {},
   "source": [
    "**Top 10 Underpaid Players Based on wOBA**\n",
    "\n",
    "1. Travis Shaw\n",
    "2. Christian Vazquez\n",
    "3. Chris Young\n",
    "4. Jose Abreu\n",
    "5. Aaron Hicks\n",
    "6. Chase Headley\n",
    "7. Brian McCann\n",
    "8. Will Meyers\n",
    "9. Curtis Granderson\n",
    "10. Juan Lagares"
   ]
  },
  {
   "cell_type": "markdown",
   "metadata": {},
   "source": [
    "<br>\n",
    "<br>"
   ]
  },
  {
   "cell_type": "markdown",
   "metadata": {},
   "source": [
    "**Now, let's say I'm a team and want to identify where I can aquire a player with high wOBA and a lower salary. Looking at the scatter plot, we see that there are several players with high wOBA and low salaries...so let's find them.**"
   ]
  },
  {
   "cell_type": "code",
   "execution_count": 29,
   "metadata": {},
   "outputs": [
    {
     "data": {
      "text/html": [
       "<div>\n",
       "<style scoped>\n",
       "    .dataframe tbody tr th:only-of-type {\n",
       "        vertical-align: middle;\n",
       "    }\n",
       "\n",
       "    .dataframe tbody tr th {\n",
       "        vertical-align: top;\n",
       "    }\n",
       "\n",
       "    .dataframe thead th {\n",
       "        text-align: right;\n",
       "    }\n",
       "</style>\n",
       "<table border=\"1\" class=\"dataframe\">\n",
       "  <thead>\n",
       "    <tr style=\"text-align: right;\">\n",
       "      <th></th>\n",
       "      <th>wOBA</th>\n",
       "      <th>salary</th>\n",
       "      <th>cluster</th>\n",
       "      <th>name</th>\n",
       "    </tr>\n",
       "  </thead>\n",
       "  <tbody>\n",
       "    <tr>\n",
       "      <th>270</th>\n",
       "      <td>0.340009</td>\n",
       "      <td>512000</td>\n",
       "      <td>0</td>\n",
       "      <td>dietrde01</td>\n",
       "    </tr>\n",
       "    <tr>\n",
       "      <th>291</th>\n",
       "      <td>0.340512</td>\n",
       "      <td>2500000</td>\n",
       "      <td>0</td>\n",
       "      <td>millebr02</td>\n",
       "    </tr>\n",
       "    <tr>\n",
       "      <th>193</th>\n",
       "      <td>0.340595</td>\n",
       "      <td>528000</td>\n",
       "      <td>0</td>\n",
       "      <td>gutiefr01</td>\n",
       "    </tr>\n",
       "    <tr>\n",
       "      <th>32</th>\n",
       "      <td>0.340933</td>\n",
       "      <td>2750000</td>\n",
       "      <td>0</td>\n",
       "      <td>rolliji01</td>\n",
       "    </tr>\n",
       "    <tr>\n",
       "      <th>207</th>\n",
       "      <td>0.341241</td>\n",
       "      <td>2500000</td>\n",
       "      <td>0</td>\n",
       "      <td>rasmuco01</td>\n",
       "    </tr>\n",
       "    <tr>\n",
       "      <th>271</th>\n",
       "      <td>0.341507</td>\n",
       "      <td>525500</td>\n",
       "      <td>0</td>\n",
       "      <td>gordode01</td>\n",
       "    </tr>\n",
       "    <tr>\n",
       "      <th>86</th>\n",
       "      <td>0.341650</td>\n",
       "      <td>6166667</td>\n",
       "      <td>0</td>\n",
       "      <td>garcigr01</td>\n",
       "    </tr>\n",
       "    <tr>\n",
       "      <th>164</th>\n",
       "      <td>0.341816</td>\n",
       "      <td>524500</td>\n",
       "      <td>0</td>\n",
       "      <td>orlanpa01</td>\n",
       "    </tr>\n",
       "    <tr>\n",
       "      <th>14</th>\n",
       "      <td>0.342561</td>\n",
       "      <td>650000</td>\n",
       "      <td>0</td>\n",
       "      <td>hanigry01</td>\n",
       "    </tr>\n",
       "    <tr>\n",
       "      <th>142</th>\n",
       "      <td>0.342805</td>\n",
       "      <td>7500000</td>\n",
       "      <td>0</td>\n",
       "      <td>ruary01</td>\n",
       "    </tr>\n",
       "  </tbody>\n",
       "</table>\n",
       "</div>"
      ],
      "text/plain": [
       "         wOBA   salary  cluster       name\n",
       "270  0.340009   512000        0  dietrde01\n",
       "291  0.340512  2500000        0  millebr02\n",
       "193  0.340595   528000        0  gutiefr01\n",
       "32   0.340933  2750000        0  rolliji01\n",
       "207  0.341241  2500000        0  rasmuco01\n",
       "271  0.341507   525500        0  gordode01\n",
       "86   0.341650  6166667        0  garcigr01\n",
       "164  0.341816   524500        0  orlanpa01\n",
       "14   0.342561   650000        0  hanigry01\n",
       "142  0.342805  7500000        0    ruary01"
      ]
     },
     "execution_count": 29,
     "metadata": {},
     "output_type": "execute_result"
    }
   ],
   "source": [
    "bargain2 = cluster0[cluster0.wOBA >= w_mean0]\n",
    "bargain2 = bargain2[bargain2.salary <=10000000]\n",
    "\n",
    "s = bargain2.sort_values('wOBA')\n",
    "s.head(10)"
   ]
  },
  {
   "cell_type": "markdown",
   "metadata": {},
   "source": [
    "**Top Ten Players with wOBA and Lower Salary**\n",
    "1. Derek Dietrich\n",
    "2. Brad Miller\n",
    "3. Franklin Gutierrez\n",
    "4. Jimmy Rollins\n",
    "5. Colby Rasmus\n",
    "6. Dee Gordon\n",
    "7. Greg Garcia\n",
    "8. Paulo Orlando\n",
    "9. Ryan Hanigan\n",
    "10. Ryan Rua"
   ]
  }
 ],
 "metadata": {
  "kernelspec": {
   "display_name": "Python 3",
   "language": "python",
   "name": "python3"
  },
  "language_info": {
   "codemirror_mode": {
    "name": "ipython",
    "version": 3
   },
   "file_extension": ".py",
   "mimetype": "text/x-python",
   "name": "python",
   "nbconvert_exporter": "python",
   "pygments_lexer": "ipython3",
   "version": "3.7.3"
  }
 },
 "nbformat": 4,
 "nbformat_minor": 4
}
