{
 "cells": [
  {
   "cell_type": "markdown",
   "metadata": {},
   "source": [
    "# Introduction\n",
    "\n",
    "**kMeans Clustering**\n",
    "\n",
    "Everyone claims to be underpaid and underappreciated at some point in their lives...now imagine if you had performance data to back that claim up! Fortunuately, for MLB players, we have such data! \n",
    "\n",
    "In this analysis, I used kMeans Clustering to group players together and evaluate if, based on wOBA (Weighted On Base Average), players were underpaid for their performance. kMeans Clustering is an unsupervised macine learning algorithm (meaning that we don't have an independent variable we are predicting for...instead, the algorithm helps find relationships that may not have been obvious at first glance). kMeans clusters players together based on the similiarities between their wOBA metric and salary. The ultimate goal was to cluster players, evaulate the mean wOBA/salaries of each cluster, identify the highest paid cluster, and find players who were underpaid based on having an above average wOBA for their cluster.\n",
    "\n",
    "TLDR: Group players based on wOBA and salary. Then looked at highest performing cluster to find players whose salaries are below the group average and their wOBA is above the group average. \n",
    "\n",
    "<br>\n",
    "<br>\n",
    "\n",
    "Data Source: http://www.seanlahman.com/baseball-archive/statistics/\n",
    "\n",
    "CSV used was generated from data from Sean Lahman's database found ^^^\n",
    "\n",
    "This is salary and batting performance data from 2016. "
   ]
  },
  {
   "cell_type": "markdown",
   "metadata": {},
   "source": [
    "<br>"
   ]
  },
  {
   "cell_type": "markdown",
   "metadata": {},
   "source": [
    "**Load Data and Packages Needed for Analysis**"
   ]
  },
  {
   "cell_type": "code",
   "execution_count": 1,
   "metadata": {},
   "outputs": [],
   "source": [
    "import pandas as pd\n",
    "import matplotlib.pyplot as plt\n",
    "import os\n",
    "import numpy as np\n",
    "from sklearn.cluster import KMeans \n",
    "from sklearn.preprocessing import MinMaxScaler\n",
    "%matplotlib inline\n",
    "\n",
    "import warnings\n",
    "warnings.filterwarnings(\"ignore\")"
   ]
  },
  {
   "cell_type": "code",
   "execution_count": 2,
   "metadata": {},
   "outputs": [],
   "source": [
    "os.chdir(\"C:\\\\Users\\\\seasulli\\\\Downloads\")"
   ]
  },
  {
   "cell_type": "code",
   "execution_count": 3,
   "metadata": {
    "scrolled": false
   },
   "outputs": [
    {
     "data": {
      "text/html": [
       "<div>\n",
       "<style scoped>\n",
       "    .dataframe tbody tr th:only-of-type {\n",
       "        vertical-align: middle;\n",
       "    }\n",
       "\n",
       "    .dataframe tbody tr th {\n",
       "        vertical-align: top;\n",
       "    }\n",
       "\n",
       "    .dataframe thead th {\n",
       "        text-align: right;\n",
       "    }\n",
       "</style>\n",
       "<table border=\"1\" class=\"dataframe\">\n",
       "  <thead>\n",
       "    <tr style=\"text-align: right;\">\n",
       "      <th></th>\n",
       "      <th>playerID</th>\n",
       "      <th>yearID</th>\n",
       "      <th>G</th>\n",
       "      <th>AB</th>\n",
       "      <th>R</th>\n",
       "      <th>H</th>\n",
       "      <th>2B</th>\n",
       "      <th>3B</th>\n",
       "      <th>HR</th>\n",
       "      <th>RBI</th>\n",
       "      <th>...</th>\n",
       "      <th>mvp</th>\n",
       "      <th>BABIP</th>\n",
       "      <th>OBP</th>\n",
       "      <th>1B</th>\n",
       "      <th>SLG</th>\n",
       "      <th>BA</th>\n",
       "      <th>OPS</th>\n",
       "      <th>ISO</th>\n",
       "      <th>wOBA</th>\n",
       "      <th>salary</th>\n",
       "    </tr>\n",
       "  </thead>\n",
       "  <tbody>\n",
       "    <tr>\n",
       "      <th>0</th>\n",
       "      <td>arciaos01</td>\n",
       "      <td>2016</td>\n",
       "      <td>32</td>\n",
       "      <td>103</td>\n",
       "      <td>8</td>\n",
       "      <td>22</td>\n",
       "      <td>4</td>\n",
       "      <td>0</td>\n",
       "      <td>4</td>\n",
       "      <td>12</td>\n",
       "      <td>...</td>\n",
       "      <td>No</td>\n",
       "      <td>0.339623</td>\n",
       "      <td>0.289474</td>\n",
       "      <td>14</td>\n",
       "      <td>0.368932</td>\n",
       "      <td>0.213592</td>\n",
       "      <td>0.658406</td>\n",
       "      <td>0.155340</td>\n",
       "      <td>0.284447</td>\n",
       "      <td>535000</td>\n",
       "    </tr>\n",
       "    <tr>\n",
       "      <th>1</th>\n",
       "      <td>buxtoby01</td>\n",
       "      <td>2016</td>\n",
       "      <td>92</td>\n",
       "      <td>298</td>\n",
       "      <td>44</td>\n",
       "      <td>67</td>\n",
       "      <td>19</td>\n",
       "      <td>6</td>\n",
       "      <td>10</td>\n",
       "      <td>38</td>\n",
       "      <td>...</td>\n",
       "      <td>No</td>\n",
       "      <td>0.329480</td>\n",
       "      <td>0.284404</td>\n",
       "      <td>32</td>\n",
       "      <td>0.429530</td>\n",
       "      <td>0.224832</td>\n",
       "      <td>0.713934</td>\n",
       "      <td>0.204698</td>\n",
       "      <td>0.298361</td>\n",
       "      <td>512500</td>\n",
       "    </tr>\n",
       "    <tr>\n",
       "      <th>2</th>\n",
       "      <td>doziebr01</td>\n",
       "      <td>2016</td>\n",
       "      <td>155</td>\n",
       "      <td>615</td>\n",
       "      <td>104</td>\n",
       "      <td>165</td>\n",
       "      <td>35</td>\n",
       "      <td>5</td>\n",
       "      <td>42</td>\n",
       "      <td>99</td>\n",
       "      <td>...</td>\n",
       "      <td>No</td>\n",
       "      <td>0.279545</td>\n",
       "      <td>0.339623</td>\n",
       "      <td>83</td>\n",
       "      <td>0.546341</td>\n",
       "      <td>0.268293</td>\n",
       "      <td>0.885964</td>\n",
       "      <td>0.278049</td>\n",
       "      <td>0.368627</td>\n",
       "      <td>3000000</td>\n",
       "    </tr>\n",
       "    <tr>\n",
       "      <th>3</th>\n",
       "      <td>escobed01</td>\n",
       "      <td>2016</td>\n",
       "      <td>105</td>\n",
       "      <td>352</td>\n",
       "      <td>32</td>\n",
       "      <td>83</td>\n",
       "      <td>14</td>\n",
       "      <td>2</td>\n",
       "      <td>6</td>\n",
       "      <td>37</td>\n",
       "      <td>...</td>\n",
       "      <td>No</td>\n",
       "      <td>0.280000</td>\n",
       "      <td>0.280000</td>\n",
       "      <td>61</td>\n",
       "      <td>0.338068</td>\n",
       "      <td>0.235795</td>\n",
       "      <td>0.618068</td>\n",
       "      <td>0.102273</td>\n",
       "      <td>0.267420</td>\n",
       "      <td>2150000</td>\n",
       "    </tr>\n",
       "    <tr>\n",
       "      <th>4</th>\n",
       "      <td>mauerjo01</td>\n",
       "      <td>2016</td>\n",
       "      <td>134</td>\n",
       "      <td>494</td>\n",
       "      <td>68</td>\n",
       "      <td>129</td>\n",
       "      <td>22</td>\n",
       "      <td>4</td>\n",
       "      <td>11</td>\n",
       "      <td>49</td>\n",
       "      <td>...</td>\n",
       "      <td>No</td>\n",
       "      <td>0.301020</td>\n",
       "      <td>0.362847</td>\n",
       "      <td>92</td>\n",
       "      <td>0.388664</td>\n",
       "      <td>0.261134</td>\n",
       "      <td>0.751511</td>\n",
       "      <td>0.127530</td>\n",
       "      <td>0.334804</td>\n",
       "      <td>23000000</td>\n",
       "    </tr>\n",
       "  </tbody>\n",
       "</table>\n",
       "<p>5 rows × 31 columns</p>\n",
       "</div>"
      ],
      "text/plain": [
       "    playerID  yearID    G   AB    R    H  2B  3B  HR  RBI  ...  mvp     BABIP  \\\n",
       "0  arciaos01    2016   32  103    8   22   4   0   4   12  ...   No  0.339623   \n",
       "1  buxtoby01    2016   92  298   44   67  19   6  10   38  ...   No  0.329480   \n",
       "2  doziebr01    2016  155  615  104  165  35   5  42   99  ...   No  0.279545   \n",
       "3  escobed01    2016  105  352   32   83  14   2   6   37  ...   No  0.280000   \n",
       "4  mauerjo01    2016  134  494   68  129  22   4  11   49  ...   No  0.301020   \n",
       "\n",
       "        OBP  1B       SLG        BA       OPS       ISO      wOBA    salary  \n",
       "0  0.289474  14  0.368932  0.213592  0.658406  0.155340  0.284447    535000  \n",
       "1  0.284404  32  0.429530  0.224832  0.713934  0.204698  0.298361    512500  \n",
       "2  0.339623  83  0.546341  0.268293  0.885964  0.278049  0.368627   3000000  \n",
       "3  0.280000  61  0.338068  0.235795  0.618068  0.102273  0.267420   2150000  \n",
       "4  0.362847  92  0.388664  0.261134  0.751511  0.127530  0.334804  23000000  \n",
       "\n",
       "[5 rows x 31 columns]"
      ]
     },
     "execution_count": 3,
     "metadata": {},
     "output_type": "execute_result"
    }
   ],
   "source": [
    "df = pd.read_csv('salaries_2016_V2.csv')\n",
    "df.head()"
   ]
  },
  {
   "cell_type": "code",
   "execution_count": 4,
   "metadata": {
    "scrolled": false
   },
   "outputs": [
    {
     "data": {
      "text/plain": [
       "(357, 31)"
      ]
     },
     "execution_count": 4,
     "metadata": {},
     "output_type": "execute_result"
    }
   ],
   "source": [
    "df.shape"
   ]
  },
  {
   "cell_type": "markdown",
   "metadata": {},
   "source": [
    "**Now, let's see who has the highest salary: Miguel Cabrera**"
   ]
  },
  {
   "cell_type": "code",
   "execution_count": 5,
   "metadata": {
    "scrolled": true
   },
   "outputs": [
    {
     "data": {
      "text/plain": [
       "playerID    cabremi01\n",
       "yearID           2016\n",
       "G                 143\n",
       "AB                327\n",
       "R                  48\n",
       "H                  95\n",
       "2B                 15\n",
       "3B                  5\n",
       "HR                  1\n",
       "RBI                22\n",
       "SB                 10\n",
       "CS                  2\n",
       "BB                 30\n",
       "SO                 42\n",
       "IBB                 1\n",
       "HBP                 3\n",
       "SH                  3\n",
       "SF                  2\n",
       "GIDP                4\n",
       "W                  79\n",
       "allStar            No\n",
       "mvp                No\n",
       "BABIP        0.328671\n",
       "OBP          0.353591\n",
       "1B                 74\n",
       "SLG          0.376147\n",
       "BA            0.29052\n",
       "OPS          0.729738\n",
       "ISO         0.0856269\n",
       "wOBA         0.318773\n",
       "salary       28000000\n",
       "Name: 309, dtype: object"
      ]
     },
     "execution_count": 5,
     "metadata": {},
     "output_type": "execute_result"
    }
   ],
   "source": [
    "df.loc[df['salary'].idxmax()]"
   ]
  },
  {
   "cell_type": "code",
   "execution_count": 6,
   "metadata": {},
   "outputs": [],
   "source": [
    "names = df['playerID']"
   ]
  },
  {
   "cell_type": "markdown",
   "metadata": {},
   "source": [
    "**A Nice Visual of the Distribution of Salaries**\n",
    "Note - Salary is on a Ten Million Dollar Scale. 1.0 = $10Million "
   ]
  },
  {
   "cell_type": "code",
   "execution_count": 7,
   "metadata": {
    "scrolled": true
   },
   "outputs": [
    {
     "data": {
      "text/plain": [
       "Text(0.5, 1.0, 'Salary Distribution')"
      ]
     },
     "execution_count": 7,
     "metadata": {},
     "output_type": "execute_result"
    },
    {
     "data": {
      "image/png": "[encoded data removed]",
      "text/plain": [
       "<Figure size 432x288 with 1 Axes>"
      ]
     },
     "metadata": {
      "needs_background": "light"
     },
     "output_type": "display_data"
    }
   ],
   "source": [
    "##wOBA\n",
    "plt.hist(df['salary'], bins=10, alpha=0.5)\n",
    "plt.xlabel('Salary ($10mm)')\n",
    "plt.ylabel('Frequency')\n",
    "plt.title('Salary Distribution')"
   ]
  },
  {
   "cell_type": "code",
   "execution_count": 8,
   "metadata": {
    "scrolled": true
   },
   "outputs": [
    {
     "data": {
      "text/plain": [
       "(357, 2)"
      ]
     },
     "execution_count": 8,
     "metadata": {},
     "output_type": "execute_result"
    }
   ],
   "source": [
    "#Test\n",
    "df = df[['wOBA', 'salary']]\n",
    "df.shape"
   ]
  },
  {
   "cell_type": "markdown",
   "metadata": {},
   "source": [
    "**Due to different scales of features, good to normalize/standardize the data**"
   ]
  },
  {
   "cell_type": "code",
   "execution_count": 9,
   "metadata": {},
   "outputs": [],
   "source": [
    "#Normalize Data\n",
    "min_max_scaler = MinMaxScaler().fit(df)\n",
    "\n",
    "dfNorm= min_max_scaler.transform(df)"
   ]
  },
  {
   "cell_type": "markdown",
   "metadata": {},
   "source": [
    "**How Does One Determine the Best Number of Clusters?**"
   ]
  },
  {
   "cell_type": "code",
   "execution_count": 10,
   "metadata": {},
   "outputs": [],
   "source": [
    "#Function\n",
    "def cluster_sizes(clusters):\n",
    "    #clusters is an array of cluster labels for each instance in the data\n",
    "    \n",
    "    size = {}\n",
    "    cluster_labels = np.unique(clusters)\n",
    "    n_clusters = cluster_labels.shape[0]\n",
    "\n",
    "    for c in cluster_labels:\n",
    "        size[c] = len(df[clusters == c])\n",
    "    return size"
   ]
  },
  {
   "cell_type": "code",
   "execution_count": 11,
   "metadata": {
    "scrolled": true
   },
   "outputs": [
    {
     "data": {
      "image/png": "[encoded data removed]",
      "text/plain": [
       "<Figure size 432x288 with 1 Axes>"
      ]
     },
     "metadata": {
      "needs_background": "light"
     },
     "output_type": "display_data"
    }
   ],
   "source": [
    "cost =[] \n",
    "for i in range(1, 11): \n",
    "    KM = KMeans(n_clusters = i, max_iter = 500) \n",
    "    KM.fit(df) \n",
    "      \n",
    "    # calculates squared error \n",
    "    # for the clustered points \n",
    "    cost.append(KM.inertia_)      \n",
    "  \n",
    "# plot the cost against K values \n",
    "plt.plot(range(1, 11), cost, color ='g', linewidth ='3') \n",
    "plt.xlabel(\"Value of K\") \n",
    "plt.ylabel(\"Sqaured Error (Cost)\") \n",
    "plt.show() # clear the plot \n",
    "  \n",
    "# the point of the elbow is the  \n",
    "# most optimal value for choosing k"
   ]
  },
  {
   "cell_type": "markdown",
   "metadata": {},
   "source": [
    "**3 clusters is the best...so we will roll with 3.**"
   ]
  },
  {
   "cell_type": "code",
   "execution_count": 12,
   "metadata": {},
   "outputs": [
    {
     "name": "stdout",
     "output_type": "stream",
     "text": [
      "Size of Cluster 0 =  140\n",
      "Size of Cluster 1 =  150\n",
      "Size of Cluster 2 =  67\n"
     ]
    }
   ],
   "source": [
    "kmeans = KMeans(n_clusters=3, max_iter=500)\n",
    "kmeans.fit(dfNorm)\n",
    "clusters = kmeans.predict(dfNorm)\n",
    "\n",
    "size = cluster_sizes(clusters)\n",
    "\n",
    "for c in size.keys():\n",
    "    print(\"Size of Cluster\", c, \"= \", size[c])\n",
    " "
   ]
  },
  {
   "cell_type": "markdown",
   "metadata": {},
   "source": [
    "**Visualization of Clusters**"
   ]
  },
  {
   "cell_type": "code",
   "execution_count": 13,
   "metadata": {},
   "outputs": [
    {
     "data": {
      "text/plain": [
       "Text(0, 0.5, 'Salary')"
      ]
     },
     "execution_count": 13,
     "metadata": {},
     "output_type": "execute_result"
    },
    {
     "data": {
      "image/png": "[encoded data removed]",
      "text/plain": [
       "<Figure size 432x288 with 1 Axes>"
      ]
     },
     "metadata": {
      "needs_background": "light"
     },
     "output_type": "display_data"
    }
   ],
   "source": [
    "plt.scatter(df['wOBA'], df['salary'], c=clusters)\n",
    "plt.xlabel(\"wOBA\") \n",
    "plt.ylabel(\"Salary\") "
   ]
  },
  {
   "cell_type": "code",
   "execution_count": 14,
   "metadata": {},
   "outputs": [],
   "source": [
    "df['cluster'] = clusters\n",
    "df['name'] = names"
   ]
  },
  {
   "cell_type": "code",
   "execution_count": 15,
   "metadata": {},
   "outputs": [
    {
     "data": {
      "text/plain": [
       "wOBA       0\n",
       "salary     0\n",
       "cluster    0\n",
       "name       0\n",
       "dtype: int64"
      ]
     },
     "execution_count": 15,
     "metadata": {},
     "output_type": "execute_result"
    }
   ],
   "source": [
    "df.isna().sum()"
   ]
  },
  {
   "cell_type": "code",
   "execution_count": 16,
   "metadata": {},
   "outputs": [
    {
     "data": {
      "text/plain": [
       "(357, 4)"
      ]
     },
     "execution_count": 16,
     "metadata": {},
     "output_type": "execute_result"
    }
   ],
   "source": [
    "df.shape"
   ]
  },
  {
   "cell_type": "code",
   "execution_count": 17,
   "metadata": {},
   "outputs": [
    {
     "name": "stdout",
     "output_type": "stream",
     "text": [
      "Cluster 0 mean salary:  2960144.6642857143\n",
      "Cluster 1 mean salary:  2246760.2666666666\n",
      "Cluster 2 mean salary:  16710783.970149254\n"
     ]
    }
   ],
   "source": [
    "cluster0 = df[df['cluster'] == 0]\n",
    "cluster1 = df[df['cluster'] == 1]\n",
    "cluster2 = df[df['cluster'] == 2]\n",
    "\n",
    "c_mean0 = cluster0['salary'].mean()\n",
    "c_mean1 = cluster1['salary'].mean()\n",
    "c_mean2 = cluster2['salary'].mean()\n",
    "\n",
    "print('Cluster 0 mean salary: ', c_mean0)\n",
    "print('Cluster 1 mean salary: ', c_mean1)\n",
    "print('Cluster 2 mean salary: ', c_mean2)"
   ]
  },
  {
   "cell_type": "markdown",
   "metadata": {},
   "source": [
    "**Clusters 0 and 2 have similar mean salaries. Cluster 1 is quite a bit higher**"
   ]
  },
  {
   "cell_type": "code",
   "execution_count": 18,
   "metadata": {
    "scrolled": true
   },
   "outputs": [
    {
     "name": "stdout",
     "output_type": "stream",
     "text": [
      "Cluster 0 mean wOBA:  0.28514501167142836\n",
      "Cluster 1 mean wOBA:  0.35252317409333345\n",
      "Cluster 2 mean wOBA:  0.31959960614925376\n"
     ]
    }
   ],
   "source": [
    "w_mean0 = cluster0['wOBA'].mean()\n",
    "w_mean1 = cluster1['wOBA'].mean()\n",
    "w_mean2 = cluster2['wOBA'].mean()\n",
    "\n",
    "print('Cluster 0 mean wOBA: ', cluster0['wOBA'].mean())\n",
    "print('Cluster 1 mean wOBA: ', cluster1['wOBA'].mean())\n",
    "print('Cluster 2 mean wOBA: ', cluster2['wOBA'].mean())"
   ]
  },
  {
   "cell_type": "markdown",
   "metadata": {},
   "source": [
    "<br>\n",
    "<br>"
   ]
  },
  {
   "cell_type": "markdown",
   "metadata": {},
   "source": [
    "**Analysis**\n",
    "\n",
    "Okay, so we now know that we know Cluster 2 is where we want to evaluate, let's dig in. \n",
    "\n",
    "First thing, I want to pull the players from Cluster 2 whose salaries are below the cluster's average. Then, I want to sort by players whose wOBA is the highest above the group's average. \n",
    "\n",
    "This will tell us the top players whose performance is above their cluster's average and are paid less than the group's mean - which suggests they are underpaid baed on their wOBA performance. "
   ]
  },
  {
   "cell_type": "code",
   "execution_count": 21,
   "metadata": {},
   "outputs": [],
   "source": [
    "bargain = cluster2[cluster2.salary <= c_mean2]\n",
    "\n",
    "bargain['Salary Difference'] = (abs(bargain['salary'] - c_mean2))\n",
    "bargain['wOBA Difference'] = (abs(bargain['wOBA'] - c_mean2))\n",
    "\n",
    "s = bargain.sort_values('wOBA Difference')"
   ]
  },
  {
   "cell_type": "code",
   "execution_count": 22,
   "metadata": {
    "scrolled": false
   },
   "outputs": [
    {
     "data": {
      "text/html": [
       "<div>\n",
       "<style scoped>\n",
       "    .dataframe tbody tr th:only-of-type {\n",
       "        vertical-align: middle;\n",
       "    }\n",
       "\n",
       "    .dataframe tbody tr th {\n",
       "        vertical-align: top;\n",
       "    }\n",
       "\n",
       "    .dataframe thead th {\n",
       "        text-align: right;\n",
       "    }\n",
       "</style>\n",
       "<table border=\"1\" class=\"dataframe\">\n",
       "  <thead>\n",
       "    <tr style=\"text-align: right;\">\n",
       "      <th></th>\n",
       "      <th>wOBA</th>\n",
       "      <th>salary</th>\n",
       "      <th>cluster</th>\n",
       "      <th>name</th>\n",
       "      <th>Salary Difference</th>\n",
       "      <th>wOBA Difference</th>\n",
       "    </tr>\n",
       "  </thead>\n",
       "  <tbody>\n",
       "    <tr>\n",
       "      <th>51</th>\n",
       "      <td>0.424347</td>\n",
       "      <td>13000000</td>\n",
       "      <td>2</td>\n",
       "      <td>headlch01</td>\n",
       "      <td>3.710784e+06</td>\n",
       "      <td>1.671078e+07</td>\n",
       "    </tr>\n",
       "    <tr>\n",
       "      <th>341</th>\n",
       "      <td>0.407021</td>\n",
       "      <td>13208333</td>\n",
       "      <td>2</td>\n",
       "      <td>mccutan01</td>\n",
       "      <td>3.502451e+06</td>\n",
       "      <td>1.671078e+07</td>\n",
       "    </tr>\n",
       "    <tr>\n",
       "      <th>328</th>\n",
       "      <td>0.402240</td>\n",
       "      <td>16000000</td>\n",
       "      <td>2</td>\n",
       "      <td>grandcu01</td>\n",
       "      <td>7.107840e+05</td>\n",
       "      <td>1.671078e+07</td>\n",
       "    </tr>\n",
       "    <tr>\n",
       "      <th>145</th>\n",
       "      <td>0.371199</td>\n",
       "      <td>11666667</td>\n",
       "      <td>2</td>\n",
       "      <td>butlebi03</td>\n",
       "      <td>5.044117e+06</td>\n",
       "      <td>1.671078e+07</td>\n",
       "    </tr>\n",
       "    <tr>\n",
       "      <th>221</th>\n",
       "      <td>0.366893</td>\n",
       "      <td>11000000</td>\n",
       "      <td>2</td>\n",
       "      <td>markani01</td>\n",
       "      <td>5.710784e+06</td>\n",
       "      <td>1.671078e+07</td>\n",
       "    </tr>\n",
       "    <tr>\n",
       "      <th>25</th>\n",
       "      <td>0.366663</td>\n",
       "      <td>14000000</td>\n",
       "      <td>2</td>\n",
       "      <td>cabreme01</td>\n",
       "      <td>2.710784e+06</td>\n",
       "      <td>1.671078e+07</td>\n",
       "    </tr>\n",
       "    <tr>\n",
       "      <th>93</th>\n",
       "      <td>0.363709</td>\n",
       "      <td>12500000</td>\n",
       "      <td>2</td>\n",
       "      <td>peraljh01</td>\n",
       "      <td>4.210784e+06</td>\n",
       "      <td>1.671078e+07</td>\n",
       "    </tr>\n",
       "    <tr>\n",
       "      <th>298</th>\n",
       "      <td>0.357285</td>\n",
       "      <td>11650000</td>\n",
       "      <td>2</td>\n",
       "      <td>donaljo02</td>\n",
       "      <td>5.060784e+06</td>\n",
       "      <td>1.671078e+07</td>\n",
       "    </tr>\n",
       "    <tr>\n",
       "      <th>15</th>\n",
       "      <td>0.353618</td>\n",
       "      <td>12000000</td>\n",
       "      <td>2</td>\n",
       "      <td>hillaa01</td>\n",
       "      <td>4.710784e+06</td>\n",
       "      <td>1.671078e+07</td>\n",
       "    </tr>\n",
       "    <tr>\n",
       "      <th>227</th>\n",
       "      <td>0.349121</td>\n",
       "      <td>12209424</td>\n",
       "      <td>2</td>\n",
       "      <td>hardyjj01</td>\n",
       "      <td>4.501360e+06</td>\n",
       "      <td>1.671078e+07</td>\n",
       "    </tr>\n",
       "  </tbody>\n",
       "</table>\n",
       "</div>"
      ],
      "text/plain": [
       "         wOBA    salary  cluster       name  Salary Difference  \\\n",
       "51   0.424347  13000000        2  headlch01       3.710784e+06   \n",
       "341  0.407021  13208333        2  mccutan01       3.502451e+06   \n",
       "328  0.402240  16000000        2  grandcu01       7.107840e+05   \n",
       "145  0.371199  11666667        2  butlebi03       5.044117e+06   \n",
       "221  0.366893  11000000        2  markani01       5.710784e+06   \n",
       "25   0.366663  14000000        2  cabreme01       2.710784e+06   \n",
       "93   0.363709  12500000        2  peraljh01       4.210784e+06   \n",
       "298  0.357285  11650000        2  donaljo02       5.060784e+06   \n",
       "15   0.353618  12000000        2   hillaa01       4.710784e+06   \n",
       "227  0.349121  12209424        2  hardyjj01       4.501360e+06   \n",
       "\n",
       "     wOBA Difference  \n",
       "51      1.671078e+07  \n",
       "341     1.671078e+07  \n",
       "328     1.671078e+07  \n",
       "145     1.671078e+07  \n",
       "221     1.671078e+07  \n",
       "25      1.671078e+07  \n",
       "93      1.671078e+07  \n",
       "298     1.671078e+07  \n",
       "15      1.671078e+07  \n",
       "227     1.671078e+07  "
      ]
     },
     "execution_count": 22,
     "metadata": {},
     "output_type": "execute_result"
    }
   ],
   "source": [
    "s.head(10)"
   ]
  },
  {
   "cell_type": "markdown",
   "metadata": {},
   "source": [
    "**Top 10 Underpaid Players Based on wOBA**\n",
    "\n",
    "1. Chase Headley\n",
    "2. Andrew McCutchen\n",
    "3. Curtis Granderson\n",
    "4. Billy Butler\n",
    "5. Nick Markakis\n",
    "6. Melky Cabrera\n",
    "7. Jhonny Peralta\n",
    "8. Josh Donaldson\n",
    "9. Aaron Hill\n",
    "10. JJ Hardy"
   ]
  },
  {
   "cell_type": "markdown",
   "metadata": {},
   "source": [
    "<br>\n",
    "<br>"
   ]
  },
  {
   "cell_type": "markdown",
   "metadata": {},
   "source": [
    "**Now, let's say I'm a team and want to identify where I can aquire a player with high wOBA and a lower salary. Looking at the scatter plot, we see that there are several players with high wOBA and low salaries...so let's find them.**"
   ]
  },
  {
   "cell_type": "code",
   "execution_count": 23,
   "metadata": {
    "scrolled": true
   },
   "outputs": [
    {
     "data": {
      "text/html": [
       "<div>\n",
       "<style scoped>\n",
       "    .dataframe tbody tr th:only-of-type {\n",
       "        vertical-align: middle;\n",
       "    }\n",
       "\n",
       "    .dataframe tbody tr th {\n",
       "        vertical-align: top;\n",
       "    }\n",
       "\n",
       "    .dataframe thead th {\n",
       "        text-align: right;\n",
       "    }\n",
       "</style>\n",
       "<table border=\"1\" class=\"dataframe\">\n",
       "  <thead>\n",
       "    <tr style=\"text-align: right;\">\n",
       "      <th></th>\n",
       "      <th>wOBA</th>\n",
       "      <th>salary</th>\n",
       "      <th>cluster</th>\n",
       "      <th>name</th>\n",
       "    </tr>\n",
       "  </thead>\n",
       "  <tbody>\n",
       "    <tr>\n",
       "      <th>211</th>\n",
       "      <td>0.361755</td>\n",
       "      <td>507500</td>\n",
       "      <td>1</td>\n",
       "      <td>whitety01</td>\n",
       "    </tr>\n",
       "    <tr>\n",
       "      <th>109</th>\n",
       "      <td>0.360065</td>\n",
       "      <td>3900000</td>\n",
       "      <td>1</td>\n",
       "      <td>blancgr01</td>\n",
       "    </tr>\n",
       "    <tr>\n",
       "      <th>280</th>\n",
       "      <td>0.359062</td>\n",
       "      <td>2000000</td>\n",
       "      <td>1</td>\n",
       "      <td>suzukic01</td>\n",
       "    </tr>\n",
       "    <tr>\n",
       "      <th>28</th>\n",
       "      <td>0.357899</td>\n",
       "      <td>2100000</td>\n",
       "      <td>1</td>\n",
       "      <td>garciav01</td>\n",
       "    </tr>\n",
       "    <tr>\n",
       "      <th>154</th>\n",
       "      <td>0.356957</td>\n",
       "      <td>1162500</td>\n",
       "      <td>1</td>\n",
       "      <td>buterdr01</td>\n",
       "    </tr>\n",
       "    <tr>\n",
       "      <th>245</th>\n",
       "      <td>0.356151</td>\n",
       "      <td>525500</td>\n",
       "      <td>1</td>\n",
       "      <td>solarya01</td>\n",
       "    </tr>\n",
       "    <tr>\n",
       "      <th>166</th>\n",
       "      <td>0.355790</td>\n",
       "      <td>515500</td>\n",
       "      <td>1</td>\n",
       "      <td>altheaa01</td>\n",
       "    </tr>\n",
       "    <tr>\n",
       "      <th>297</th>\n",
       "      <td>0.354628</td>\n",
       "      <td>521800</td>\n",
       "      <td>1</td>\n",
       "      <td>carreez01</td>\n",
       "    </tr>\n",
       "    <tr>\n",
       "      <th>347</th>\n",
       "      <td>0.353987</td>\n",
       "      <td>5000000</td>\n",
       "      <td>1</td>\n",
       "      <td>harpebr03</td>\n",
       "    </tr>\n",
       "    <tr>\n",
       "      <th>24</th>\n",
       "      <td>0.353172</td>\n",
       "      <td>2500000</td>\n",
       "      <td>1</td>\n",
       "      <td>avilaal01</td>\n",
       "    </tr>\n",
       "  </tbody>\n",
       "</table>\n",
       "</div>"
      ],
      "text/plain": [
       "         wOBA   salary  cluster       name\n",
       "211  0.361755   507500        1  whitety01\n",
       "109  0.360065  3900000        1  blancgr01\n",
       "280  0.359062  2000000        1  suzukic01\n",
       "28   0.357899  2100000        1  garciav01\n",
       "154  0.356957  1162500        1  buterdr01\n",
       "245  0.356151   525500        1  solarya01\n",
       "166  0.355790   515500        1  altheaa01\n",
       "297  0.354628   521800        1  carreez01\n",
       "347  0.353987  5000000        1  harpebr03\n",
       "24   0.353172  2500000        1  avilaal01"
      ]
     },
     "execution_count": 23,
     "metadata": {},
     "output_type": "execute_result"
    }
   ],
   "source": [
    "bargain2 = cluster1[cluster1.wOBA >= w_mean1]\n",
    "bargain2 = bargain2[bargain2.salary <=10000000]\n",
    "\n",
    "s = bargain2.sort_values('wOBA', ascending=False)\n",
    "s[-10:]"
   ]
  },
  {
   "cell_type": "markdown",
   "metadata": {},
   "source": [
    "**Top Ten Players with wOBA and Lower Salary**\n",
    "1. Tyler White\n",
    "2. Gregor Blanco\n",
    "3. Ichiro Suzuki\n",
    "4. Avisail Garcia\n",
    "5. Drew Butera\n",
    "6. Yangervis Solarte\n",
    "7. Aaron Altherr\n",
    "8. Ezequiel Carrera\n",
    "9. Bryce Harper\n",
    "10. Alex Avila"
   ]
  }
 ],
 "metadata": {
  "kernelspec": {
   "display_name": "Python 3",
   "language": "python",
   "name": "python3"
  },
  "language_info": {
   "codemirror_mode": {
    "name": "ipython",
    "version": 3
   },
   "file_extension": ".py",
   "mimetype": "text/x-python",
   "name": "python",
   "nbconvert_exporter": "python",
   "pygments_lexer": "ipython3",
   "version": "3.7.3"
  }
 },
 "nbformat": 4,
 "nbformat_minor": 4
}
