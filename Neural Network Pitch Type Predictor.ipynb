{
  "nbformat": 4,
  "nbformat_minor": 0,
  "metadata": {
    "colab": {
      "name": "Final Project.ipynb",
      "provenance": [],
      "collapsed_sections": []
    },
    "kernelspec": {
      "name": "python3",
      "display_name": "Python 3"
    }
  },
  "cells": [
    {
      "cell_type": "code",
      "metadata": {
        "id": "O_76rYV5-sEg",
        "colab_type": "code",
        "colab": {}
      },
      "source": [
        "import pandas as pd\n",
        "import numpy as np\n",
        "import tensorflow as tf\n",
        "import keras\n",
        "import matplotlib.pyplot as plt\n",
        "from sklearn.model_selection import cross_val_score, cross_val_predict, train_test_split, KFold\n",
        "from sklearn.preprocessing import LabelEncoder\n",
        "from keras.utils import np_utils\n",
        "from keras.models import Sequential\n",
        "from keras.layers import Dense\n",
        "from sklearn.model_selection import GridSearchCV\n",
        "from keras.wrappers.scikit_learn import KerasClassifier\n",
        "from tensorflow.keras import layers\n",
        "from keras.layers import Dropout"
      ],
      "execution_count": 0,
      "outputs": []
    },
    {
      "cell_type": "code",
      "metadata": {
        "id": "RmVD7A0zATUR",
        "colab_type": "code",
        "colab": {}
      },
      "source": [
        "df = pd.read_csv('for_google_colab.csv')"
      ],
      "execution_count": 0,
      "outputs": []
    },
    {
      "cell_type": "code",
      "metadata": {
        "id": "LmLtGwrwDDHo",
        "colab_type": "code",
        "colab": {
          "base_uri": "https://localhost:8080/",
          "height": 557
        },
        "outputId": "ba2c7725-7b2a-4345-b228-76ae7658b9da"
      },
      "source": [
        "#EDA\n",
        "df.describe(include='all').T"
      ],
      "execution_count": 283,
      "outputs": [
        {
          "output_type": "execute_result",
          "data": {
            "text/html": [
              "<div>\n",
              "<style scoped>\n",
              "    .dataframe tbody tr th:only-of-type {\n",
              "        vertical-align: middle;\n",
              "    }\n",
              "\n",
              "    .dataframe tbody tr th {\n",
              "        vertical-align: top;\n",
              "    }\n",
              "\n",
              "    .dataframe thead th {\n",
              "        text-align: right;\n",
              "    }\n",
              "</style>\n",
              "<table border=\"1\" class=\"dataframe\">\n",
              "  <thead>\n",
              "    <tr style=\"text-align: right;\">\n",
              "      <th></th>\n",
              "      <th>count</th>\n",
              "      <th>unique</th>\n",
              "      <th>top</th>\n",
              "      <th>freq</th>\n",
              "      <th>mean</th>\n",
              "      <th>std</th>\n",
              "      <th>min</th>\n",
              "      <th>25%</th>\n",
              "      <th>50%</th>\n",
              "      <th>75%</th>\n",
              "      <th>max</th>\n",
              "    </tr>\n",
              "  </thead>\n",
              "  <tbody>\n",
              "    <tr>\n",
              "      <th>Unnamed: 0</th>\n",
              "      <td>728790</td>\n",
              "      <td>NaN</td>\n",
              "      <td>NaN</td>\n",
              "      <td>NaN</td>\n",
              "      <td>364394</td>\n",
              "      <td>210384</td>\n",
              "      <td>0</td>\n",
              "      <td>182197</td>\n",
              "      <td>364394</td>\n",
              "      <td>546592</td>\n",
              "      <td>728789</td>\n",
              "    </tr>\n",
              "    <tr>\n",
              "      <th>ab_id</th>\n",
              "      <td>728790</td>\n",
              "      <td>NaN</td>\n",
              "      <td>NaN</td>\n",
              "      <td>NaN</td>\n",
              "      <td>2.01909e+09</td>\n",
              "      <td>53567.6</td>\n",
              "      <td>2.019e+09</td>\n",
              "      <td>2.01905e+09</td>\n",
              "      <td>2.01909e+09</td>\n",
              "      <td>2.01914e+09</td>\n",
              "      <td>2.01919e+09</td>\n",
              "    </tr>\n",
              "    <tr>\n",
              "      <th>b_score</th>\n",
              "      <td>728790</td>\n",
              "      <td>NaN</td>\n",
              "      <td>NaN</td>\n",
              "      <td>NaN</td>\n",
              "      <td>2.44753</td>\n",
              "      <td>2.716</td>\n",
              "      <td>0</td>\n",
              "      <td>0</td>\n",
              "      <td>2</td>\n",
              "      <td>4</td>\n",
              "      <td>23</td>\n",
              "    </tr>\n",
              "    <tr>\n",
              "      <th>outs</th>\n",
              "      <td>728790</td>\n",
              "      <td>NaN</td>\n",
              "      <td>NaN</td>\n",
              "      <td>NaN</td>\n",
              "      <td>0.981217</td>\n",
              "      <td>0.817515</td>\n",
              "      <td>0</td>\n",
              "      <td>0</td>\n",
              "      <td>1</td>\n",
              "      <td>2</td>\n",
              "      <td>2</td>\n",
              "    </tr>\n",
              "    <tr>\n",
              "      <th>pitch_num</th>\n",
              "      <td>728790</td>\n",
              "      <td>NaN</td>\n",
              "      <td>NaN</td>\n",
              "      <td>NaN</td>\n",
              "      <td>2.92589</td>\n",
              "      <td>1.74247</td>\n",
              "      <td>1</td>\n",
              "      <td>1</td>\n",
              "      <td>3</td>\n",
              "      <td>4</td>\n",
              "      <td>16</td>\n",
              "    </tr>\n",
              "    <tr>\n",
              "      <th>pitch_type</th>\n",
              "      <td>728790</td>\n",
              "      <td>13</td>\n",
              "      <td>FF</td>\n",
              "      <td>261485</td>\n",
              "      <td>NaN</td>\n",
              "      <td>NaN</td>\n",
              "      <td>NaN</td>\n",
              "      <td>NaN</td>\n",
              "      <td>NaN</td>\n",
              "      <td>NaN</td>\n",
              "      <td>NaN</td>\n",
              "    </tr>\n",
              "    <tr>\n",
              "      <th>g_id</th>\n",
              "      <td>728790</td>\n",
              "      <td>NaN</td>\n",
              "      <td>NaN</td>\n",
              "      <td>NaN</td>\n",
              "      <td>2.01901e+08</td>\n",
              "      <td>695.59</td>\n",
              "      <td>2.019e+08</td>\n",
              "      <td>2.01901e+08</td>\n",
              "      <td>2.01901e+08</td>\n",
              "      <td>2.01902e+08</td>\n",
              "      <td>2.01902e+08</td>\n",
              "    </tr>\n",
              "    <tr>\n",
              "      <th>p_score</th>\n",
              "      <td>728790</td>\n",
              "      <td>NaN</td>\n",
              "      <td>NaN</td>\n",
              "      <td>NaN</td>\n",
              "      <td>2.48709</td>\n",
              "      <td>2.81248</td>\n",
              "      <td>0</td>\n",
              "      <td>0</td>\n",
              "      <td>2</td>\n",
              "      <td>4</td>\n",
              "      <td>23</td>\n",
              "    </tr>\n",
              "    <tr>\n",
              "      <th>stand</th>\n",
              "      <td>728790</td>\n",
              "      <td>2</td>\n",
              "      <td>R</td>\n",
              "      <td>427099</td>\n",
              "      <td>NaN</td>\n",
              "      <td>NaN</td>\n",
              "      <td>NaN</td>\n",
              "      <td>NaN</td>\n",
              "      <td>NaN</td>\n",
              "      <td>NaN</td>\n",
              "      <td>NaN</td>\n",
              "    </tr>\n",
              "    <tr>\n",
              "      <th>event</th>\n",
              "      <td>124860</td>\n",
              "      <td>43</td>\n",
              "      <td>Strikeout</td>\n",
              "      <td>42185</td>\n",
              "      <td>NaN</td>\n",
              "      <td>NaN</td>\n",
              "      <td>NaN</td>\n",
              "      <td>NaN</td>\n",
              "      <td>NaN</td>\n",
              "      <td>NaN</td>\n",
              "      <td>NaN</td>\n",
              "    </tr>\n",
              "    <tr>\n",
              "      <th>top</th>\n",
              "      <td>728790</td>\n",
              "      <td>NaN</td>\n",
              "      <td>NaN</td>\n",
              "      <td>NaN</td>\n",
              "      <td>0.509914</td>\n",
              "      <td>0.499902</td>\n",
              "      <td>0</td>\n",
              "      <td>0</td>\n",
              "      <td>1</td>\n",
              "      <td>1</td>\n",
              "      <td>1</td>\n",
              "    </tr>\n",
              "    <tr>\n",
              "      <th>inning</th>\n",
              "      <td>728790</td>\n",
              "      <td>NaN</td>\n",
              "      <td>NaN</td>\n",
              "      <td>NaN</td>\n",
              "      <td>5.03198</td>\n",
              "      <td>2.69334</td>\n",
              "      <td>1</td>\n",
              "      <td>3</td>\n",
              "      <td>5</td>\n",
              "      <td>7</td>\n",
              "      <td>19</td>\n",
              "    </tr>\n",
              "    <tr>\n",
              "      <th>pitcher_id</th>\n",
              "      <td>728790</td>\n",
              "      <td>NaN</td>\n",
              "      <td>NaN</td>\n",
              "      <td>NaN</td>\n",
              "      <td>572146</td>\n",
              "      <td>67593.8</td>\n",
              "      <td>282332</td>\n",
              "      <td>519393</td>\n",
              "      <td>592789</td>\n",
              "      <td>621381</td>\n",
              "      <td>677976</td>\n",
              "    </tr>\n",
              "    <tr>\n",
              "      <th>count</th>\n",
              "      <td>728790</td>\n",
              "      <td>13</td>\n",
              "      <td>0.0-0.0</td>\n",
              "      <td>306718</td>\n",
              "      <td>NaN</td>\n",
              "      <td>NaN</td>\n",
              "      <td>NaN</td>\n",
              "      <td>NaN</td>\n",
              "      <td>NaN</td>\n",
              "      <td>NaN</td>\n",
              "      <td>NaN</td>\n",
              "    </tr>\n",
              "    <tr>\n",
              "      <th>run diff</th>\n",
              "      <td>728790</td>\n",
              "      <td>NaN</td>\n",
              "      <td>NaN</td>\n",
              "      <td>NaN</td>\n",
              "      <td>2.27483</td>\n",
              "      <td>2.44778</td>\n",
              "      <td>0</td>\n",
              "      <td>0</td>\n",
              "      <td>2</td>\n",
              "      <td>3</td>\n",
              "      <td>21</td>\n",
              "    </tr>\n",
              "    <tr>\n",
              "      <th>HSS</th>\n",
              "      <td>728790</td>\n",
              "      <td>NaN</td>\n",
              "      <td>NaN</td>\n",
              "      <td>NaN</td>\n",
              "      <td>0.368717</td>\n",
              "      <td>0.482457</td>\n",
              "      <td>0</td>\n",
              "      <td>0</td>\n",
              "      <td>0</td>\n",
              "      <td>1</td>\n",
              "      <td>1</td>\n",
              "    </tr>\n",
              "    <tr>\n",
              "      <th>next_pitch</th>\n",
              "      <td>728790</td>\n",
              "      <td>13</td>\n",
              "      <td>FF</td>\n",
              "      <td>261484</td>\n",
              "      <td>NaN</td>\n",
              "      <td>NaN</td>\n",
              "      <td>NaN</td>\n",
              "      <td>NaN</td>\n",
              "      <td>NaN</td>\n",
              "      <td>NaN</td>\n",
              "      <td>NaN</td>\n",
              "    </tr>\n",
              "  </tbody>\n",
              "</table>\n",
              "</div>"
            ],
            "text/plain": [
              "             count unique        top  ...          50%          75%          max\n",
              "Unnamed: 0  728790    NaN        NaN  ...       364394       546592       728789\n",
              "ab_id       728790    NaN        NaN  ...  2.01909e+09  2.01914e+09  2.01919e+09\n",
              "b_score     728790    NaN        NaN  ...            2            4           23\n",
              "outs        728790    NaN        NaN  ...            1            2            2\n",
              "pitch_num   728790    NaN        NaN  ...            3            4           16\n",
              "pitch_type  728790     13         FF  ...          NaN          NaN          NaN\n",
              "g_id        728790    NaN        NaN  ...  2.01901e+08  2.01902e+08  2.01902e+08\n",
              "p_score     728790    NaN        NaN  ...            2            4           23\n",
              "stand       728790      2          R  ...          NaN          NaN          NaN\n",
              "event       124860     43  Strikeout  ...          NaN          NaN          NaN\n",
              "top         728790    NaN        NaN  ...            1            1            1\n",
              "inning      728790    NaN        NaN  ...            5            7           19\n",
              "pitcher_id  728790    NaN        NaN  ...       592789       621381       677976\n",
              "count       728790     13    0.0-0.0  ...          NaN          NaN          NaN\n",
              "run diff    728790    NaN        NaN  ...            2            3           21\n",
              "HSS         728790    NaN        NaN  ...            0            1            1\n",
              "next_pitch  728790     13         FF  ...          NaN          NaN          NaN\n",
              "\n",
              "[17 rows x 11 columns]"
            ]
          },
          "metadata": {
            "tags": []
          },
          "execution_count": 283
        }
      ]
    },
    {
      "cell_type": "code",
      "metadata": {
        "id": "uLnGXLKWIolw",
        "colab_type": "code",
        "colab": {
          "base_uri": "https://localhost:8080/",
          "height": 350
        },
        "outputId": "4369b9fd-a58f-4fc6-ed50-729f8f7e14bc"
      },
      "source": [
        "#Pitch type distribution\n",
        "plot = df['pitch_type'].value_counts().plot(kind='bar')\n",
        "plot.set_xlabel('Pitch Types')\n",
        "plot.set_ylabel('Frequency')\n",
        "plot.set_title('Pitch Type Distribution')"
      ],
      "execution_count": 284,
      "outputs": [
        {
          "output_type": "execute_result",
          "data": {
            "text/plain": [
              "Text(0.5, 1.0, 'Pitch Type Distribution')"
            ]
          },
          "metadata": {
            "tags": []
          },
          "execution_count": 284
        },
        {
          "output_type": "display_data",
          "data": {
            "image/png": "[encoded data removed]",
            "text/plain": [
              "<Figure size 432x288 with 1 Axes>"
            ]
          },
          "metadata": {
            "tags": [],
            "needs_background": "light"
          }
        }
      ]
    },
    {
      "cell_type": "code",
      "metadata": {
        "id": "9GlkhIC9Iwx1",
        "colab_type": "code",
        "colab": {
          "base_uri": "https://localhost:8080/",
          "height": 338
        },
        "outputId": "a8314044-cd10-4382-954f-254d8d53f8ab"
      },
      "source": [
        "#Count distribution\n",
        "plot = df['count'].value_counts().plot(kind='bar')\n",
        "plot.set_xlabel('At-Bat Counts')\n",
        "plot.set_ylabel('Frequency')\n",
        "plot.set_title('At-Bat Count Distribution')"
      ],
      "execution_count": 285,
      "outputs": [
        {
          "output_type": "execute_result",
          "data": {
            "text/plain": [
              "Text(0.5, 1.0, 'At-Bat Count Distribution')"
            ]
          },
          "metadata": {
            "tags": []
          },
          "execution_count": 285
        },
        {
          "output_type": "display_data",
          "data": {
            "image/png": "[encoded data removed]",
            "text/plain": [
              "<Figure size 432x288 with 1 Axes>"
            ]
          },
          "metadata": {
            "tags": [],
            "needs_background": "light"
          }
        }
      ]
    },
    {
      "cell_type": "code",
      "metadata": {
        "id": "UWBnLK0GIzqP",
        "colab_type": "code",
        "colab": {
          "base_uri": "https://localhost:8080/",
          "height": 312
        },
        "outputId": "1616cb0d-de4f-45db-fd99-c47aeec14540"
      },
      "source": [
        "##run diff\n",
        "plt.hist(df['run diff'], bins=10, alpha=0.5)\n",
        "plt.xlabel('Run Differential')\n",
        "plt.ylabel('Frequency')\n",
        "plt.title('Run Differential Distribution')"
      ],
      "execution_count": 286,
      "outputs": [
        {
          "output_type": "execute_result",
          "data": {
            "text/plain": [
              "Text(0.5, 1.0, 'Run Differential Distribution')"
            ]
          },
          "metadata": {
            "tags": []
          },
          "execution_count": 286
        },
        {
          "output_type": "display_data",
          "data": {
            "image/png": "[encoded data removed]",
            "text/plain": [
              "<Figure size 432x288 with 1 Axes>"
            ]
          },
          "metadata": {
            "tags": [],
            "needs_background": "light"
          }
        }
      ]
    },
    {
      "cell_type": "code",
      "metadata": {
        "id": "ada6zCN3I3sO",
        "colab_type": "code",
        "colab": {
          "base_uri": "https://localhost:8080/",
          "height": 310
        },
        "outputId": "147ae3e7-c674-451a-e25e-8290e4d74464"
      },
      "source": [
        "#HSS distribution\n",
        "plot = df['HSS'].value_counts().plot(kind='bar')\n",
        "plot.set_xlabel('High Stess Situation Counts')\n",
        "plot.set_ylabel('Frequency')\n",
        "plot.set_title('High Stress Situation Distribution')"
      ],
      "execution_count": 287,
      "outputs": [
        {
          "output_type": "execute_result",
          "data": {
            "text/plain": [
              "Text(0.5, 1.0, 'High Stress Situation Distribution')"
            ]
          },
          "metadata": {
            "tags": []
          },
          "execution_count": 287
        },
        {
          "output_type": "display_data",
          "data": {
            "image/png": "[encoded data removed]",
            "text/plain": [
              "<Figure size 432x288 with 1 Axes>"
            ]
          },
          "metadata": {
            "tags": [],
            "needs_background": "light"
          }
        }
      ]
    },
    {
      "cell_type": "code",
      "metadata": {
        "id": "1OOSOY-DDDMw",
        "colab_type": "code",
        "colab": {}
      },
      "source": [
        "##Let's focus on a few individuals "
      ],
      "execution_count": 0,
      "outputs": []
    },
    {
      "cell_type": "code",
      "metadata": {
        "id": "VvQOuJ7RDDPh",
        "colab_type": "code",
        "outputId": "1ed9a5e6-1058-4bd9-89cb-af4136115104",
        "colab": {
          "base_uri": "https://localhost:8080/",
          "height": 34
        }
      },
      "source": [
        "deGrom = df.loc[df['pitcher_id'] == 594798]\n",
        "deGrom.shape"
      ],
      "execution_count": 0,
      "outputs": [
        {
          "output_type": "execute_result",
          "data": {
            "text/plain": [
              "(3298, 17)"
            ]
          },
          "metadata": {
            "tags": []
          },
          "execution_count": 19
        }
      ]
    },
    {
      "cell_type": "code",
      "metadata": {
        "colab_type": "code",
        "id": "f9qqXiPnELFt",
        "colab": {}
      },
      "source": [
        "deGrom = deGrom.drop(['ab_id', 'b_score', 'p_score', 'g_id', 'pitcher_id', 'Unnamed: 0'], axis=1)\n"
      ],
      "execution_count": 0,
      "outputs": []
    },
    {
      "cell_type": "code",
      "metadata": {
        "colab_type": "code",
        "outputId": "bd5ac606-ca4b-4c60-983f-62743f44c75d",
        "id": "wjSdpwu6ELF4",
        "colab": {
          "base_uri": "https://localhost:8080/",
          "height": 70
        }
      },
      "source": [
        "deGrom.columns"
      ],
      "execution_count": 0,
      "outputs": [
        {
          "output_type": "execute_result",
          "data": {
            "text/plain": [
              "Index(['outs', 'pitch_num', 'pitch_type', 'stand', 'event', 'top', 'inning',\n",
              "       'count', 'run diff', 'HSS', 'next_pitch'],\n",
              "      dtype='object')"
            ]
          },
          "metadata": {
            "tags": []
          },
          "execution_count": 5
        }
      ]
    },
    {
      "cell_type": "code",
      "metadata": {
        "colab_type": "code",
        "outputId": "7356342d-64bd-44d6-f020-e7f1e9fe8fd0",
        "id": "MUtSid5tELGI",
        "colab": {
          "base_uri": "https://localhost:8080/",
          "height": 230
        }
      },
      "source": [
        "deGrom.isna().any()"
      ],
      "execution_count": 0,
      "outputs": [
        {
          "output_type": "execute_result",
          "data": {
            "text/plain": [
              "outs          False\n",
              "pitch_num     False\n",
              "pitch_type    False\n",
              "stand         False\n",
              "event          True\n",
              "top           False\n",
              "inning        False\n",
              "count         False\n",
              "run diff      False\n",
              "HSS           False\n",
              "next_pitch    False\n",
              "dtype: bool"
            ]
          },
          "metadata": {
            "tags": []
          },
          "execution_count": 6
        }
      ]
    },
    {
      "cell_type": "code",
      "metadata": {
        "colab_type": "code",
        "id": "1mrGCZ4nELGK",
        "colab": {}
      },
      "source": [
        "deGrom['event'].fillna('Pitch Thrown', inplace=True)\n"
      ],
      "execution_count": 0,
      "outputs": []
    },
    {
      "cell_type": "code",
      "metadata": {
        "colab_type": "code",
        "outputId": "c34fd229-1830-42c9-a35e-66a1bf6324c1",
        "id": "bELriT5jELGN",
        "colab": {
          "base_uri": "https://localhost:8080/",
          "height": 230
        }
      },
      "source": [
        "deGrom.isna().any()"
      ],
      "execution_count": 0,
      "outputs": [
        {
          "output_type": "execute_result",
          "data": {
            "text/plain": [
              "outs          False\n",
              "pitch_num     False\n",
              "pitch_type    False\n",
              "stand         False\n",
              "event         False\n",
              "top           False\n",
              "inning        False\n",
              "count         False\n",
              "run diff      False\n",
              "HSS           False\n",
              "next_pitch    False\n",
              "dtype: bool"
            ]
          },
          "metadata": {
            "tags": []
          },
          "execution_count": 8
        }
      ]
    },
    {
      "cell_type": "code",
      "metadata": {
        "id": "nNCYqoGoCffa",
        "colab_type": "code",
        "outputId": "561e8de9-9520-43d2-a9ba-6df16a11d05c",
        "colab": {
          "base_uri": "https://localhost:8080/",
          "height": 141
        }
      },
      "source": [
        "deGrom['pitch_type'].value_counts()"
      ],
      "execution_count": 0,
      "outputs": [
        {
          "output_type": "execute_result",
          "data": {
            "text/plain": [
              "FF         1536\n",
              "SL         1022\n",
              "CH          506\n",
              "Unknown     107\n",
              "CU           93\n",
              "FT           34\n",
              "Name: pitch_type, dtype: int64"
            ]
          },
          "metadata": {
            "tags": []
          },
          "execution_count": 22
        }
      ]
    },
    {
      "cell_type": "code",
      "metadata": {
        "colab_type": "code",
        "outputId": "b51240ab-cbd7-4404-d2e9-9a693d2249e0",
        "id": "reAoio1L3x08",
        "colab": {
          "base_uri": "https://localhost:8080/",
          "height": 194
        }
      },
      "source": [
        "deGrom['next_pitch'].value_counts()"
      ],
      "execution_count": 0,
      "outputs": [
        {
          "output_type": "execute_result",
          "data": {
            "text/plain": [
              "FF         1514\n",
              "SL          999\n",
              "CH          505\n",
              "Unknown     107\n",
              "CU           93\n",
              "FT           55\n",
              "FC           12\n",
              "SI           10\n",
              "KC            3\n",
              "Name: next_pitch, dtype: int64"
            ]
          },
          "metadata": {
            "tags": []
          },
          "execution_count": 23
        }
      ]
    },
    {
      "cell_type": "code",
      "metadata": {
        "colab_type": "code",
        "id": "Fn52pHnI9kOw",
        "colab": {}
      },
      "source": [
        "deGrom = deGrom[deGrom.pitch_type != 'Unknown']\n",
        "deGrom = deGrom[(deGrom.next_pitch != 'Unknown')]\n",
        "deGrom = deGrom[(deGrom.next_pitch != 'FC')]\n",
        "deGrom = deGrom[(deGrom.next_pitch != 'SI')]\n",
        "deGrom = deGrom[(deGrom.next_pitch != 'KC')]"
      ],
      "execution_count": 0,
      "outputs": []
    },
    {
      "cell_type": "code",
      "metadata": {
        "colab_type": "code",
        "outputId": "684c2a7e-3621-48b2-dee4-831b2c1981e9",
        "id": "Tn3BfXkGVL5_",
        "colab": {
          "base_uri": "https://localhost:8080/",
          "height": 123
        }
      },
      "source": [
        "deGrom['pitch_type'].value_counts()"
      ],
      "execution_count": 0,
      "outputs": [
        {
          "output_type": "execute_result",
          "data": {
            "text/plain": [
              "FF    1526\n",
              "SL    1011\n",
              "CH     500\n",
              "CU      93\n",
              "FT      34\n",
              "Name: pitch_type, dtype: int64"
            ]
          },
          "metadata": {
            "tags": []
          },
          "execution_count": 25
        }
      ]
    },
    {
      "cell_type": "code",
      "metadata": {
        "id": "Z48aDZbu9R4X",
        "colab_type": "code",
        "outputId": "6a2289ad-64c9-4762-af14-9a526aec9e1e",
        "colab": {
          "base_uri": "https://localhost:8080/",
          "height": 123
        }
      },
      "source": [
        "deGrom['next_pitch'].value_counts()"
      ],
      "execution_count": 0,
      "outputs": [
        {
          "output_type": "execute_result",
          "data": {
            "text/plain": [
              "FF    1513\n",
              "SL     999\n",
              "CH     504\n",
              "CU      93\n",
              "FT      55\n",
              "Name: next_pitch, dtype: int64"
            ]
          },
          "metadata": {
            "tags": []
          },
          "execution_count": 26
        }
      ]
    },
    {
      "cell_type": "code",
      "metadata": {
        "colab_type": "code",
        "id": "SmUUe9VCELF8",
        "colab": {}
      },
      "source": [
        "x = deGrom.drop(['next_pitch'], axis=1)"
      ],
      "execution_count": 0,
      "outputs": []
    },
    {
      "cell_type": "code",
      "metadata": {
        "colab_type": "code",
        "id": "QvOx9U1wELF-",
        "colab": {}
      },
      "source": [
        "y = deGrom['next_pitch']"
      ],
      "execution_count": 0,
      "outputs": []
    },
    {
      "cell_type": "code",
      "metadata": {
        "colab_type": "code",
        "outputId": "10012825-0151-439c-c8f9-35b6a5f8364b",
        "id": "eph6h79hELGB",
        "colab": {
          "base_uri": "https://localhost:8080/",
          "height": 52
        }
      },
      "source": [
        "print('X Shape', x.shape)\n",
        "print ('Y Shape', y.shape)"
      ],
      "execution_count": 0,
      "outputs": [
        {
          "output_type": "stream",
          "text": [
            "X Shape (3164, 10)\n",
            "Y Shape (3164,)\n"
          ],
          "name": "stdout"
        }
      ]
    },
    {
      "cell_type": "code",
      "metadata": {
        "colab_type": "code",
        "outputId": "71e8c80f-f30d-41db-cfb6-c594f0caa707",
        "id": "CCHuj9O8ELGE",
        "colab": {
          "base_uri": "https://localhost:8080/",
          "height": 197
        }
      },
      "source": [
        "x.head()"
      ],
      "execution_count": 0,
      "outputs": [
        {
          "output_type": "execute_result",
          "data": {
            "text/html": [
              "<div>\n",
              "<style scoped>\n",
              "    .dataframe tbody tr th:only-of-type {\n",
              "        vertical-align: middle;\n",
              "    }\n",
              "\n",
              "    .dataframe tbody tr th {\n",
              "        vertical-align: top;\n",
              "    }\n",
              "\n",
              "    .dataframe thead th {\n",
              "        text-align: right;\n",
              "    }\n",
              "</style>\n",
              "<table border=\"1\" class=\"dataframe\">\n",
              "  <thead>\n",
              "    <tr style=\"text-align: right;\">\n",
              "      <th></th>\n",
              "      <th>outs</th>\n",
              "      <th>pitch_num</th>\n",
              "      <th>pitch_type</th>\n",
              "      <th>stand</th>\n",
              "      <th>event</th>\n",
              "      <th>top</th>\n",
              "      <th>inning</th>\n",
              "      <th>count</th>\n",
              "      <th>run diff</th>\n",
              "      <th>HSS</th>\n",
              "    </tr>\n",
              "  </thead>\n",
              "  <tbody>\n",
              "    <tr>\n",
              "      <th>3034</th>\n",
              "      <td>0.0</td>\n",
              "      <td>1.0</td>\n",
              "      <td>FF</td>\n",
              "      <td>L</td>\n",
              "      <td>Pitch Thrown</td>\n",
              "      <td>0.0</td>\n",
              "      <td>1.0</td>\n",
              "      <td>0.0-0.0</td>\n",
              "      <td>1.0</td>\n",
              "      <td>0</td>\n",
              "    </tr>\n",
              "    <tr>\n",
              "      <th>3035</th>\n",
              "      <td>0.0</td>\n",
              "      <td>2.0</td>\n",
              "      <td>FF</td>\n",
              "      <td>L</td>\n",
              "      <td>Pop Out</td>\n",
              "      <td>0.0</td>\n",
              "      <td>1.0</td>\n",
              "      <td>0.0-0.0</td>\n",
              "      <td>1.0</td>\n",
              "      <td>0</td>\n",
              "    </tr>\n",
              "    <tr>\n",
              "      <th>3036</th>\n",
              "      <td>1.0</td>\n",
              "      <td>1.0</td>\n",
              "      <td>FF</td>\n",
              "      <td>R</td>\n",
              "      <td>Pitch Thrown</td>\n",
              "      <td>0.0</td>\n",
              "      <td>1.0</td>\n",
              "      <td>0.0-0.0</td>\n",
              "      <td>1.0</td>\n",
              "      <td>0</td>\n",
              "    </tr>\n",
              "    <tr>\n",
              "      <th>3037</th>\n",
              "      <td>1.0</td>\n",
              "      <td>2.0</td>\n",
              "      <td>SL</td>\n",
              "      <td>R</td>\n",
              "      <td>Pitch Thrown</td>\n",
              "      <td>0.0</td>\n",
              "      <td>1.0</td>\n",
              "      <td>0.0-0.0</td>\n",
              "      <td>1.0</td>\n",
              "      <td>0</td>\n",
              "    </tr>\n",
              "    <tr>\n",
              "      <th>3038</th>\n",
              "      <td>1.0</td>\n",
              "      <td>3.0</td>\n",
              "      <td>FF</td>\n",
              "      <td>R</td>\n",
              "      <td>Pitch Thrown</td>\n",
              "      <td>0.0</td>\n",
              "      <td>1.0</td>\n",
              "      <td>1.0-0.0</td>\n",
              "      <td>1.0</td>\n",
              "      <td>0</td>\n",
              "    </tr>\n",
              "  </tbody>\n",
              "</table>\n",
              "</div>"
            ],
            "text/plain": [
              "      outs  pitch_num pitch_type stand  ... inning    count  run diff HSS\n",
              "3034   0.0        1.0         FF     L  ...    1.0  0.0-0.0       1.0   0\n",
              "3035   0.0        2.0         FF     L  ...    1.0  0.0-0.0       1.0   0\n",
              "3036   1.0        1.0         FF     R  ...    1.0  0.0-0.0       1.0   0\n",
              "3037   1.0        2.0         SL     R  ...    1.0  0.0-0.0       1.0   0\n",
              "3038   1.0        3.0         FF     R  ...    1.0  1.0-0.0       1.0   0\n",
              "\n",
              "[5 rows x 10 columns]"
            ]
          },
          "metadata": {
            "tags": []
          },
          "execution_count": 30
        }
      ]
    },
    {
      "cell_type": "code",
      "metadata": {
        "colab_type": "code",
        "id": "ky2wlj9cELGQ",
        "colab": {}
      },
      "source": [
        "#Time to encode Y\n",
        "encoder = LabelEncoder()\n",
        "encoder.fit(y)\n",
        "encoded_y = encoder.transform(y)\n",
        "\n",
        "dummy_y = np_utils.to_categorical(encoded_y)\n"
      ],
      "execution_count": 0,
      "outputs": []
    },
    {
      "cell_type": "code",
      "metadata": {
        "colab_type": "code",
        "id": "SVXNejReELGS",
        "colab": {}
      },
      "source": [
        "x = pd.get_dummies(x, columns=['outs', 'pitch_type', 'stand', 'event', 'top', 'inning', 'count', 'HSS'])"
      ],
      "execution_count": 0,
      "outputs": []
    },
    {
      "cell_type": "code",
      "metadata": {
        "colab_type": "code",
        "outputId": "3df33a72-a39d-4915-e93f-ca74315d6740",
        "id": "bLHwpl_mELGU",
        "colab": {
          "base_uri": "https://localhost:8080/",
          "height": 301
        }
      },
      "source": [
        "x.columns"
      ],
      "execution_count": 0,
      "outputs": [
        {
          "output_type": "execute_result",
          "data": {
            "text/plain": [
              "Index(['pitch_num', 'run diff', 'outs_0.0', 'outs_1.0', 'outs_2.0',\n",
              "       'pitch_type_CH', 'pitch_type_CU', 'pitch_type_FF', 'pitch_type_FT',\n",
              "       'pitch_type_SL', 'stand_L', 'stand_R', 'event_Batter Interference',\n",
              "       'event_Bunt Groundout', 'event_Bunt Pop Out',\n",
              "       'event_Caught Stealing 2B', 'event_Double Play',\n",
              "       'event_Fielders Choice Out', 'event_Flyout', 'event_Forceout',\n",
              "       'event_Grounded Into DP', 'event_Groundout', 'event_Lineout',\n",
              "       'event_Pitch Thrown', 'event_Pop Out', 'event_Sac Bunt',\n",
              "       'event_Sac Fly', 'event_Single', 'event_Strikeout', 'top_0.0',\n",
              "       'top_1.0', 'inning_1.0', 'inning_2.0', 'inning_3.0', 'inning_4.0',\n",
              "       'inning_5.0', 'inning_6.0', 'inning_7.0', 'inning_8.0', 'inning_9.0',\n",
              "       'count_0.0-0.0', 'count_0.0-1.0', 'count_0.0-2.0', 'count_1.0-0.0',\n",
              "       'count_1.0-1.0', 'count_1.0-2.0', 'count_2.0-0.0', 'count_2.0-1.0',\n",
              "       'count_2.0-2.0', 'count_3.0-0.0', 'count_3.0-1.0', 'count_3.0-2.0',\n",
              "       'HSS_0', 'HSS_1'],\n",
              "      dtype='object')"
            ]
          },
          "metadata": {
            "tags": []
          },
          "execution_count": 33
        }
      ]
    },
    {
      "cell_type": "code",
      "metadata": {
        "colab_type": "code",
        "outputId": "864664ab-c8ed-4954-b53b-1369f4212017",
        "id": "lclV25NvELGY",
        "colab": {
          "base_uri": "https://localhost:8080/",
          "height": 34
        }
      },
      "source": [
        "x.shape"
      ],
      "execution_count": 0,
      "outputs": [
        {
          "output_type": "execute_result",
          "data": {
            "text/plain": [
              "(3164, 54)"
            ]
          },
          "metadata": {
            "tags": []
          },
          "execution_count": 34
        }
      ]
    },
    {
      "cell_type": "code",
      "metadata": {
        "colab_type": "code",
        "outputId": "b45f4b1c-2faf-436b-c3af-02d71e28c424",
        "id": "1G_fqUsdELGa",
        "colab": {
          "base_uri": "https://localhost:8080/",
          "height": 141
        }
      },
      "source": [
        "dummy_y"
      ],
      "execution_count": 0,
      "outputs": [
        {
          "output_type": "execute_result",
          "data": {
            "text/plain": [
              "array([[0., 0., 1., 0., 0.],\n",
              "       [0., 0., 1., 0., 0.],\n",
              "       [0., 0., 0., 0., 1.],\n",
              "       ...,\n",
              "       [0., 0., 0., 0., 1.],\n",
              "       [0., 0., 0., 0., 1.],\n",
              "       [0., 0., 0., 0., 1.]], dtype=float32)"
            ]
          },
          "metadata": {
            "tags": []
          },
          "execution_count": 35
        }
      ]
    },
    {
      "cell_type": "code",
      "metadata": {
        "colab_type": "code",
        "id": "vnSRoa3aELGd",
        "colab": {}
      },
      "source": [
        "#split data into train/test\n",
        "\n",
        "x_train, x_test, y_train, y_test = train_test_split(x, dummy_y, test_size=0.2, random_state=92)"
      ],
      "execution_count": 0,
      "outputs": []
    },
    {
      "cell_type": "code",
      "metadata": {
        "colab_type": "code",
        "outputId": "6e7423f4-64ef-4bf6-d543-c2704a582d66",
        "id": "XPtlDkapELGf",
        "colab": {
          "base_uri": "https://localhost:8080/",
          "height": 87
        }
      },
      "source": [
        "print('X Train Shape', x_train.shape)\n",
        "print('X Test Shape', x_test.shape)\n",
        "print('Y Train Shape', y_train.shape)\n",
        "print('Y Test Shape', y_test.shape)"
      ],
      "execution_count": 0,
      "outputs": [
        {
          "output_type": "stream",
          "text": [
            "X Train Shape (2531, 54)\n",
            "X Test Shape (633, 54)\n",
            "Y Train Shape (2531, 5)\n",
            "Y Test Shape (633, 5)\n"
          ],
          "name": "stdout"
        }
      ]
    },
    {
      "cell_type": "code",
      "metadata": {
        "colab_type": "code",
        "id": "kQOpwastNfxf",
        "colab": {}
      },
      "source": [
        "#use this for deGrom\n",
        "\n",
        "model = Sequential()\n",
        "model.add(Dense(108, input_dim=54, kernel_initializer = 'uniform', activation='hard_sigmoid'))\n",
        "model.add(Dropout(0.3))\n",
        "model.add(Dense(54, activation='hard_sigmoid'))\n",
        "model.add(Dense(27, activation='hard_sigmoid'))\n",
        "model.add(Dropout(0.3))\n",
        "model.add(Dense(5, activation='sigmoid'))"
      ],
      "execution_count": 0,
      "outputs": []
    },
    {
      "cell_type": "code",
      "metadata": {
        "colab_type": "code",
        "id": "ySNKAYheELGl",
        "colab": {}
      },
      "source": [
        "#optimizer = keras.optimizers.adam(lr=0.3)\n",
        "\n",
        "model.compile(loss='categorical_crossentropy', optimizer='adam', metrics=['accuracy'])"
      ],
      "execution_count": 0,
      "outputs": []
    },
    {
      "cell_type": "code",
      "metadata": {
        "colab_type": "code",
        "outputId": "ad17c493-8bf1-4b3b-de2f-866299c4fe86",
        "id": "t10QpGXMELGo",
        "colab": {
          "base_uri": "https://localhost:8080/",
          "height": 390
        }
      },
      "source": [
        "history = model.fit(x_train, y_train, validation_data=(x_test, y_test), epochs=10, batch_size=10)"
      ],
      "execution_count": 0,
      "outputs": [
        {
          "output_type": "stream",
          "text": [
            "Train on 2531 samples, validate on 633 samples\n",
            "Epoch 1/10\n",
            "2531/2531 [==============================] - 1s 309us/step - loss: 1.2675 - accuracy: 0.4512 - val_loss: 1.1788 - val_accuracy: 0.5055\n",
            "Epoch 2/10\n",
            "2531/2531 [==============================] - 1s 236us/step - loss: 1.2100 - accuracy: 0.4698 - val_loss: 1.1707 - val_accuracy: 0.5055\n",
            "Epoch 3/10\n",
            "2531/2531 [==============================] - 1s 300us/step - loss: 1.2093 - accuracy: 0.4714 - val_loss: 1.1725 - val_accuracy: 0.5055\n",
            "Epoch 4/10\n",
            "2531/2531 [==============================] - 1s 271us/step - loss: 1.2049 - accuracy: 0.4714 - val_loss: 1.1677 - val_accuracy: 0.5055\n",
            "Epoch 5/10\n",
            "2531/2531 [==============================] - 1s 214us/step - loss: 1.2053 - accuracy: 0.4714 - val_loss: 1.1687 - val_accuracy: 0.5055\n",
            "Epoch 6/10\n",
            "2531/2531 [==============================] - 1s 213us/step - loss: 1.1978 - accuracy: 0.4714 - val_loss: 1.1615 - val_accuracy: 0.5055\n",
            "Epoch 7/10\n",
            "2531/2531 [==============================] - 1s 205us/step - loss: 1.1892 - accuracy: 0.4714 - val_loss: 1.1614 - val_accuracy: 0.5055\n",
            "Epoch 8/10\n",
            "2531/2531 [==============================] - 1s 204us/step - loss: 1.1822 - accuracy: 0.4714 - val_loss: 1.1544 - val_accuracy: 0.5055\n",
            "Epoch 9/10\n",
            "2531/2531 [==============================] - 1s 260us/step - loss: 1.1870 - accuracy: 0.4714 - val_loss: 1.1572 - val_accuracy: 0.5055\n",
            "Epoch 10/10\n",
            "2531/2531 [==============================] - 1s 295us/step - loss: 1.1751 - accuracy: 0.4714 - val_loss: 1.1534 - val_accuracy: 0.5055\n"
          ],
          "name": "stdout"
        }
      ]
    },
    {
      "cell_type": "code",
      "metadata": {
        "id": "pKsaGHQEMnmh",
        "colab_type": "code",
        "outputId": "a535f591-c6dd-4353-caf1-e1a3657c3750",
        "colab": {
          "base_uri": "https://localhost:8080/",
          "height": 372
        }
      },
      "source": [
        "model.summary()"
      ],
      "execution_count": 0,
      "outputs": [
        {
          "output_type": "stream",
          "text": [
            "Model: \"sequential_1\"\n",
            "_________________________________________________________________\n",
            "Layer (type)                 Output Shape              Param #   \n",
            "=================================================================\n",
            "dense_1 (Dense)              (None, 108)               5940      \n",
            "_________________________________________________________________\n",
            "dropout_1 (Dropout)          (None, 108)               0         \n",
            "_________________________________________________________________\n",
            "dense_2 (Dense)              (None, 54)                5886      \n",
            "_________________________________________________________________\n",
            "dense_3 (Dense)              (None, 27)                1485      \n",
            "_________________________________________________________________\n",
            "dropout_2 (Dropout)          (None, 27)                0         \n",
            "_________________________________________________________________\n",
            "dense_4 (Dense)              (None, 5)                 140       \n",
            "=================================================================\n",
            "Total params: 13,451\n",
            "Trainable params: 13,451\n",
            "Non-trainable params: 0\n",
            "_________________________________________________________________\n"
          ],
          "name": "stdout"
        }
      ]
    },
    {
      "cell_type": "code",
      "metadata": {
        "colab_type": "code",
        "outputId": "cd0f6aa8-1b19-46e1-d3c1-694598a4396b",
        "id": "vkSnwAZLELGw",
        "colab": {
          "base_uri": "https://localhost:8080/",
          "height": 294
        }
      },
      "source": [
        "plt.plot(history.history['accuracy'])\n",
        "plt.plot(history.history['val_accuracy'])\n",
        "plt.title('model accuracy')\n",
        "plt.ylabel('accuracy')\n",
        "plt.xlabel('epoch')\n",
        "plt.legend(['train', 'test'], loc='upper left')\n",
        "plt.show()"
      ],
      "execution_count": 0,
      "outputs": [
        {
          "output_type": "display_data",
          "data": {
            "image/png": "[encoded data removed]",
            "text/plain": [
              "<Figure size 432x288 with 1 Axes>"
            ]
          },
          "metadata": {
            "tags": [],
            "needs_background": "light"
          }
        }
      ]
    },
    {
      "cell_type": "code",
      "metadata": {
        "colab_type": "code",
        "outputId": "58d228f3-9566-4c32-88b5-3bf747525baa",
        "id": "juwPSGIvELGy",
        "colab": {
          "base_uri": "https://localhost:8080/",
          "height": 294
        }
      },
      "source": [
        "# summarize history for loss\n",
        "plt.plot(history.history['loss'])\n",
        "plt.plot(history.history['val_loss'])\n",
        "plt.title('model loss')\n",
        "plt.ylabel('loss')\n",
        "plt.xlabel('epoch')\n",
        "plt.legend(['train', 'test'], loc='upper left')\n",
        "plt.show()"
      ],
      "execution_count": 0,
      "outputs": [
        {
          "output_type": "display_data",
          "data": {
            "image/png": "[encoded data removed]",
            "text/plain": [
              "<Figure size 432x288 with 1 Axes>"
            ]
          },
          "metadata": {
            "tags": [],
            "needs_background": "light"
          }
        }
      ]
    },
    {
      "cell_type": "code",
      "metadata": {
        "id": "HFZMZNFrzmJq",
        "colab_type": "code",
        "colab": {}
      },
      "source": [
        "# Trevor Bauer"
      ],
      "execution_count": 0,
      "outputs": []
    },
    {
      "cell_type": "code",
      "metadata": {
        "colab_type": "code",
        "outputId": "b8b50cb4-0460-4919-a3d5-81955d952c33",
        "id": "0WeH15ZfEwdx",
        "colab": {
          "base_uri": "https://localhost:8080/",
          "height": 34
        }
      },
      "source": [
        "bauer = df.loc[df['pitcher_id'] == 545333]\n",
        "bauer.shape"
      ],
      "execution_count": 0,
      "outputs": [
        {
          "output_type": "execute_result",
          "data": {
            "text/plain": [
              "(3687, 17)"
            ]
          },
          "metadata": {
            "tags": []
          },
          "execution_count": 45
        }
      ]
    },
    {
      "cell_type": "code",
      "metadata": {
        "colab_type": "code",
        "id": "WhTFHakBEwd-",
        "colab": {}
      },
      "source": [
        "bauer= bauer.drop(['ab_id', 'b_score', 'p_score', 'g_id', 'pitcher_id', 'Unnamed: 0'], axis=1)\n"
      ],
      "execution_count": 0,
      "outputs": []
    },
    {
      "cell_type": "code",
      "metadata": {
        "colab_type": "code",
        "id": "RuaD51OxEweR",
        "colab": {}
      },
      "source": [
        "bauer['event'].fillna('Pitch Thrown', inplace=True)\n"
      ],
      "execution_count": 0,
      "outputs": []
    },
    {
      "cell_type": "code",
      "metadata": {
        "colab_type": "code",
        "outputId": "18423531-5a04-4e93-821e-bb1b0828c31e",
        "id": "DvMqN1RnEweT",
        "colab": {
          "base_uri": "https://localhost:8080/",
          "height": 230
        }
      },
      "source": [
        "bauer.isna().any()"
      ],
      "execution_count": 0,
      "outputs": [
        {
          "output_type": "execute_result",
          "data": {
            "text/plain": [
              "outs          False\n",
              "pitch_num     False\n",
              "pitch_type    False\n",
              "stand         False\n",
              "event         False\n",
              "top           False\n",
              "inning        False\n",
              "count         False\n",
              "run diff      False\n",
              "HSS           False\n",
              "next_pitch    False\n",
              "dtype: bool"
            ]
          },
          "metadata": {
            "tags": []
          },
          "execution_count": 49
        }
      ]
    },
    {
      "cell_type": "code",
      "metadata": {
        "colab_type": "code",
        "outputId": "da94509b-7379-41c3-ce28-27b6e0853b01",
        "id": "BqLUBR11EweV",
        "colab": {
          "base_uri": "https://localhost:8080/",
          "height": 158
        }
      },
      "source": [
        "bauer['pitch_type'].value_counts()"
      ],
      "execution_count": 0,
      "outputs": [
        {
          "output_type": "execute_result",
          "data": {
            "text/plain": [
              "FF         1429\n",
              "KC          724\n",
              "FC          606\n",
              "SL          509\n",
              "CH          280\n",
              "FT          138\n",
              "Unknown       1\n",
              "Name: pitch_type, dtype: int64"
            ]
          },
          "metadata": {
            "tags": []
          },
          "execution_count": 50
        }
      ]
    },
    {
      "cell_type": "code",
      "metadata": {
        "id": "gk26oKZA-R2e",
        "colab_type": "code",
        "outputId": "b6fe6d79-f6fa-4369-c048-54cea581d884",
        "colab": {
          "base_uri": "https://localhost:8080/",
          "height": 194
        }
      },
      "source": [
        "bauer['next_pitch'].value_counts()"
      ],
      "execution_count": 0,
      "outputs": [
        {
          "output_type": "execute_result",
          "data": {
            "text/plain": [
              "FF         1410\n",
              "KC          716\n",
              "FC          569\n",
              "SL          521\n",
              "CH          269\n",
              "FT          161\n",
              "CU           28\n",
              "SI           12\n",
              "Unknown       1\n",
              "Name: next_pitch, dtype: int64"
            ]
          },
          "metadata": {
            "tags": []
          },
          "execution_count": 51
        }
      ]
    },
    {
      "cell_type": "code",
      "metadata": {
        "colab_type": "code",
        "id": "yJe46BzdS5bK",
        "colab": {}
      },
      "source": [
        "bauer = bauer[bauer.pitch_type != 'Unknown']\n",
        "bauer = bauer[bauer.next_pitch != 'Unknown']\n",
        "bauer = bauer[bauer.next_pitch != 'CU']\n",
        "bauer = bauer[bauer.next_pitch != 'SI']"
      ],
      "execution_count": 0,
      "outputs": []
    },
    {
      "cell_type": "code",
      "metadata": {
        "colab_type": "code",
        "outputId": "e5f7d3ea-90ee-46f5-8d53-24b1235ec891",
        "id": "54cUh1aGS5bP",
        "colab": {
          "base_uri": "https://localhost:8080/",
          "height": 141
        }
      },
      "source": [
        "bauer['pitch_type'].value_counts()"
      ],
      "execution_count": 0,
      "outputs": [
        {
          "output_type": "execute_result",
          "data": {
            "text/plain": [
              "FF    1416\n",
              "KC     715\n",
              "FC     602\n",
              "SL     501\n",
              "CH     276\n",
              "FT     135\n",
              "Name: pitch_type, dtype: int64"
            ]
          },
          "metadata": {
            "tags": []
          },
          "execution_count": 53
        }
      ]
    },
    {
      "cell_type": "code",
      "metadata": {
        "id": "dw_Wd8pE-gat",
        "colab_type": "code",
        "outputId": "d29f982c-9d47-4d75-a7cd-fe18e9ef550f",
        "colab": {
          "base_uri": "https://localhost:8080/",
          "height": 141
        }
      },
      "source": [
        "bauer['next_pitch'].value_counts()"
      ],
      "execution_count": 0,
      "outputs": [
        {
          "output_type": "execute_result",
          "data": {
            "text/plain": [
              "FF    1410\n",
              "KC     716\n",
              "FC     568\n",
              "SL     521\n",
              "CH     269\n",
              "FT     161\n",
              "Name: next_pitch, dtype: int64"
            ]
          },
          "metadata": {
            "tags": []
          },
          "execution_count": 54
        }
      ]
    },
    {
      "cell_type": "code",
      "metadata": {
        "colab_type": "code",
        "id": "D3S7Fan8EweE",
        "colab": {}
      },
      "source": [
        "x = bauer.drop(['next_pitch'], axis=1)"
      ],
      "execution_count": 0,
      "outputs": []
    },
    {
      "cell_type": "code",
      "metadata": {
        "colab_type": "code",
        "id": "wc4cnkWeEweG",
        "colab": {}
      },
      "source": [
        "y = bauer['next_pitch']"
      ],
      "execution_count": 0,
      "outputs": []
    },
    {
      "cell_type": "code",
      "metadata": {
        "colab_type": "code",
        "outputId": "1d218a34-0bcb-4192-c862-bc9e88ad7342",
        "id": "BmvMaX63EweI",
        "colab": {
          "base_uri": "https://localhost:8080/",
          "height": 52
        }
      },
      "source": [
        "print('X Shape', x.shape)\n",
        "print ('Y Shape', y.shape)"
      ],
      "execution_count": 0,
      "outputs": [
        {
          "output_type": "stream",
          "text": [
            "X Shape (3645, 10)\n",
            "Y Shape (3645,)\n"
          ],
          "name": "stdout"
        }
      ]
    },
    {
      "cell_type": "code",
      "metadata": {
        "colab_type": "code",
        "outputId": "2d4e1fe7-7a34-4923-c540-3f1facd0e979",
        "id": "U9lZI5PbEweL",
        "colab": {
          "base_uri": "https://localhost:8080/",
          "height": 197
        }
      },
      "source": [
        "x.head()"
      ],
      "execution_count": 0,
      "outputs": [
        {
          "output_type": "execute_result",
          "data": {
            "text/html": [
              "<div>\n",
              "<style scoped>\n",
              "    .dataframe tbody tr th:only-of-type {\n",
              "        vertical-align: middle;\n",
              "    }\n",
              "\n",
              "    .dataframe tbody tr th {\n",
              "        vertical-align: top;\n",
              "    }\n",
              "\n",
              "    .dataframe thead th {\n",
              "        text-align: right;\n",
              "    }\n",
              "</style>\n",
              "<table border=\"1\" class=\"dataframe\">\n",
              "  <thead>\n",
              "    <tr style=\"text-align: right;\">\n",
              "      <th></th>\n",
              "      <th>outs</th>\n",
              "      <th>pitch_num</th>\n",
              "      <th>pitch_type</th>\n",
              "      <th>stand</th>\n",
              "      <th>event</th>\n",
              "      <th>top</th>\n",
              "      <th>inning</th>\n",
              "      <th>count</th>\n",
              "      <th>run diff</th>\n",
              "      <th>HSS</th>\n",
              "    </tr>\n",
              "  </thead>\n",
              "  <tbody>\n",
              "    <tr>\n",
              "      <th>8785</th>\n",
              "      <td>0.0</td>\n",
              "      <td>1.0</td>\n",
              "      <td>FF</td>\n",
              "      <td>L</td>\n",
              "      <td>Pitch Thrown</td>\n",
              "      <td>0.0</td>\n",
              "      <td>1.0</td>\n",
              "      <td>0.0-0.0</td>\n",
              "      <td>0.0</td>\n",
              "      <td>0</td>\n",
              "    </tr>\n",
              "    <tr>\n",
              "      <th>8786</th>\n",
              "      <td>0.0</td>\n",
              "      <td>2.0</td>\n",
              "      <td>FF</td>\n",
              "      <td>L</td>\n",
              "      <td>Pitch Thrown</td>\n",
              "      <td>0.0</td>\n",
              "      <td>1.0</td>\n",
              "      <td>1.0-0.0</td>\n",
              "      <td>0.0</td>\n",
              "      <td>0</td>\n",
              "    </tr>\n",
              "    <tr>\n",
              "      <th>8787</th>\n",
              "      <td>0.0</td>\n",
              "      <td>3.0</td>\n",
              "      <td>FF</td>\n",
              "      <td>L</td>\n",
              "      <td>Pop Out</td>\n",
              "      <td>0.0</td>\n",
              "      <td>1.0</td>\n",
              "      <td>1.0-0.0</td>\n",
              "      <td>0.0</td>\n",
              "      <td>0</td>\n",
              "    </tr>\n",
              "    <tr>\n",
              "      <th>8788</th>\n",
              "      <td>1.0</td>\n",
              "      <td>1.0</td>\n",
              "      <td>FF</td>\n",
              "      <td>L</td>\n",
              "      <td>Pitch Thrown</td>\n",
              "      <td>0.0</td>\n",
              "      <td>1.0</td>\n",
              "      <td>0.0-0.0</td>\n",
              "      <td>0.0</td>\n",
              "      <td>0</td>\n",
              "    </tr>\n",
              "    <tr>\n",
              "      <th>8789</th>\n",
              "      <td>1.0</td>\n",
              "      <td>2.0</td>\n",
              "      <td>FT</td>\n",
              "      <td>L</td>\n",
              "      <td>Pitch Thrown</td>\n",
              "      <td>0.0</td>\n",
              "      <td>1.0</td>\n",
              "      <td>0.0-1.0</td>\n",
              "      <td>0.0</td>\n",
              "      <td>0</td>\n",
              "    </tr>\n",
              "  </tbody>\n",
              "</table>\n",
              "</div>"
            ],
            "text/plain": [
              "      outs  pitch_num pitch_type stand  ... inning    count  run diff HSS\n",
              "8785   0.0        1.0         FF     L  ...    1.0  0.0-0.0       0.0   0\n",
              "8786   0.0        2.0         FF     L  ...    1.0  1.0-0.0       0.0   0\n",
              "8787   0.0        3.0         FF     L  ...    1.0  1.0-0.0       0.0   0\n",
              "8788   1.0        1.0         FF     L  ...    1.0  0.0-0.0       0.0   0\n",
              "8789   1.0        2.0         FT     L  ...    1.0  0.0-1.0       0.0   0\n",
              "\n",
              "[5 rows x 10 columns]"
            ]
          },
          "metadata": {
            "tags": []
          },
          "execution_count": 58
        }
      ]
    },
    {
      "cell_type": "code",
      "metadata": {
        "colab_type": "code",
        "id": "chC6BsUCEweX",
        "colab": {}
      },
      "source": [
        "#Time to encode Y\n",
        "encoder = LabelEncoder()\n",
        "encoder.fit(y)\n",
        "encoded_y = encoder.transform(y)\n",
        "\n",
        "dummy_y = np_utils.to_categorical(encoded_y)\n"
      ],
      "execution_count": 0,
      "outputs": []
    },
    {
      "cell_type": "code",
      "metadata": {
        "colab_type": "code",
        "id": "LBMvyXaFEweZ",
        "colab": {}
      },
      "source": [
        "x = pd.get_dummies(x, columns=['outs', 'pitch_type', 'stand', 'event', 'top', 'inning', 'count', 'HSS'])"
      ],
      "execution_count": 0,
      "outputs": []
    },
    {
      "cell_type": "code",
      "metadata": {
        "colab_type": "code",
        "outputId": "68403dfb-00f4-46c3-e7a2-23a867569d41",
        "id": "YwXFVZjqEwef",
        "colab": {
          "base_uri": "https://localhost:8080/",
          "height": 34
        }
      },
      "source": [
        "x.shape"
      ],
      "execution_count": 0,
      "outputs": [
        {
          "output_type": "execute_result",
          "data": {
            "text/plain": [
              "(3645, 56)"
            ]
          },
          "metadata": {
            "tags": []
          },
          "execution_count": 61
        }
      ]
    },
    {
      "cell_type": "code",
      "metadata": {
        "colab_type": "code",
        "outputId": "503a7f5e-f549-4dc4-c874-f6283688281c",
        "id": "LT7dWEuGEweh",
        "colab": {
          "base_uri": "https://localhost:8080/",
          "height": 141
        }
      },
      "source": [
        "dummy_y"
      ],
      "execution_count": 0,
      "outputs": [
        {
          "output_type": "execute_result",
          "data": {
            "text/plain": [
              "array([[0., 0., 1., 0., 0., 0.],\n",
              "       [0., 0., 1., 0., 0., 0.],\n",
              "       [0., 0., 1., 0., 0., 0.],\n",
              "       ...,\n",
              "       [0., 1., 0., 0., 0., 0.],\n",
              "       [0., 0., 1., 0., 0., 0.],\n",
              "       [0., 0., 1., 0., 0., 0.]], dtype=float32)"
            ]
          },
          "metadata": {
            "tags": []
          },
          "execution_count": 62
        }
      ]
    },
    {
      "cell_type": "code",
      "metadata": {
        "colab_type": "code",
        "id": "D9f7jIZ5Ewej",
        "colab": {}
      },
      "source": [
        "#split data into train/test\n",
        "\n",
        "x_train, x_test, y_train, y_test = train_test_split(x, dummy_y, test_size=0.2, random_state=92)"
      ],
      "execution_count": 0,
      "outputs": []
    },
    {
      "cell_type": "code",
      "metadata": {
        "colab_type": "code",
        "outputId": "fb24daaa-fea5-45e4-893a-ea098ef615ab",
        "id": "kVQ8UxR3Ewel",
        "colab": {
          "base_uri": "https://localhost:8080/",
          "height": 87
        }
      },
      "source": [
        "print('X Train Shape', x_train.shape)\n",
        "print('X Test Shape', x_test.shape)\n",
        "print('Y Train Shape', y_train.shape)\n",
        "print('Y Test Shape', y_test.shape)"
      ],
      "execution_count": 0,
      "outputs": [
        {
          "output_type": "stream",
          "text": [
            "X Train Shape (2916, 56)\n",
            "X Test Shape (729, 56)\n",
            "Y Train Shape (2916, 6)\n",
            "Y Test Shape (729, 6)\n"
          ],
          "name": "stdout"
        }
      ]
    },
    {
      "cell_type": "code",
      "metadata": {
        "colab_type": "code",
        "id": "zP6OlKVUEwen",
        "colab": {}
      },
      "source": [
        "model = Sequential()\n",
        "model.add(Dense(112, input_dim=56, kernel_initializer = 'uniform', activation='hard_sigmoid'))\n",
        "model.add(Dropout(0.3))\n",
        "model.add(Dense(56, activation='hard_sigmoid'))\n",
        "model.add(Dense(28, activation='hard_sigmoid'))\n",
        "model.add(Dropout(0.3))\n",
        "model.add(Dense(6, activation='sigmoid'))"
      ],
      "execution_count": 0,
      "outputs": []
    },
    {
      "cell_type": "code",
      "metadata": {
        "colab_type": "code",
        "id": "uy0EX0IMEwep",
        "colab": {}
      },
      "source": [
        "#optimizer = keras.optimizers.adam(lr=0.3)\n",
        "\n",
        "model.compile(loss='categorical_crossentropy', optimizer='adam', metrics=['accuracy'])"
      ],
      "execution_count": 0,
      "outputs": []
    },
    {
      "cell_type": "code",
      "metadata": {
        "colab_type": "code",
        "outputId": "c499616b-973e-49ca-fefb-8855811fee77",
        "id": "Qp8tnlVNEwer",
        "colab": {
          "base_uri": "https://localhost:8080/",
          "height": 390
        }
      },
      "source": [
        "history = model.fit(x_train, y_train, validation_data=(x_test, y_test), epochs=10, batch_size=10)"
      ],
      "execution_count": 0,
      "outputs": [
        {
          "output_type": "stream",
          "text": [
            "Train on 2916 samples, validate on 729 samples\n",
            "Epoch 1/10\n",
            "2916/2916 [==============================] - 1s 293us/step - loss: 1.6217 - accuracy: 0.3807 - val_loss: 1.5884 - val_accuracy: 0.3827\n",
            "Epoch 2/10\n",
            "2916/2916 [==============================] - 1s 223us/step - loss: 1.6055 - accuracy: 0.3875 - val_loss: 1.5890 - val_accuracy: 0.3827\n",
            "Epoch 3/10\n",
            "2916/2916 [==============================] - 1s 300us/step - loss: 1.5972 - accuracy: 0.3879 - val_loss: 1.5836 - val_accuracy: 0.3827\n",
            "Epoch 4/10\n",
            "2916/2916 [==============================] - 1s 311us/step - loss: 1.5861 - accuracy: 0.3879 - val_loss: 1.5762 - val_accuracy: 0.3827\n",
            "Epoch 5/10\n",
            "2916/2916 [==============================] - 1s 277us/step - loss: 1.5639 - accuracy: 0.3879 - val_loss: 1.5656 - val_accuracy: 0.3827\n",
            "Epoch 6/10\n",
            "2916/2916 [==============================] - 1s 264us/step - loss: 1.5462 - accuracy: 0.3875 - val_loss: 1.5556 - val_accuracy: 0.3827\n",
            "Epoch 7/10\n",
            "2916/2916 [==============================] - 1s 363us/step - loss: 1.5339 - accuracy: 0.3872 - val_loss: 1.5476 - val_accuracy: 0.3827\n",
            "Epoch 8/10\n",
            "2916/2916 [==============================] - 1s 459us/step - loss: 1.5177 - accuracy: 0.3903 - val_loss: 1.5491 - val_accuracy: 0.3827\n",
            "Epoch 9/10\n",
            "2916/2916 [==============================] - 1s 381us/step - loss: 1.5129 - accuracy: 0.3909 - val_loss: 1.5385 - val_accuracy: 0.3827\n",
            "Epoch 10/10\n",
            "2916/2916 [==============================] - 1s 303us/step - loss: 1.5122 - accuracy: 0.3954 - val_loss: 1.5359 - val_accuracy: 0.3827\n"
          ],
          "name": "stdout"
        }
      ]
    },
    {
      "cell_type": "code",
      "metadata": {
        "colab_type": "code",
        "outputId": "222df23f-99d6-48fb-eff7-d2f63dc41b20",
        "id": "47hO3-QZEwev",
        "colab": {
          "base_uri": "https://localhost:8080/",
          "height": 372
        }
      },
      "source": [
        "model.summary()"
      ],
      "execution_count": 0,
      "outputs": [
        {
          "output_type": "stream",
          "text": [
            "Model: \"sequential_4\"\n",
            "_________________________________________________________________\n",
            "Layer (type)                 Output Shape              Param #   \n",
            "=================================================================\n",
            "dense_13 (Dense)             (None, 112)               6384      \n",
            "_________________________________________________________________\n",
            "dropout_7 (Dropout)          (None, 112)               0         \n",
            "_________________________________________________________________\n",
            "dense_14 (Dense)             (None, 56)                6328      \n",
            "_________________________________________________________________\n",
            "dense_15 (Dense)             (None, 28)                1596      \n",
            "_________________________________________________________________\n",
            "dropout_8 (Dropout)          (None, 28)                0         \n",
            "_________________________________________________________________\n",
            "dense_16 (Dense)             (None, 6)                 174       \n",
            "=================================================================\n",
            "Total params: 14,482\n",
            "Trainable params: 14,482\n",
            "Non-trainable params: 0\n",
            "_________________________________________________________________\n"
          ],
          "name": "stdout"
        }
      ]
    },
    {
      "cell_type": "code",
      "metadata": {
        "colab_type": "code",
        "outputId": "7c1ced45-b299-4773-96c9-680c4b570a97",
        "id": "9DEsAbCzEwex",
        "colab": {
          "base_uri": "https://localhost:8080/",
          "height": 294
        }
      },
      "source": [
        "plt.plot(history.history['accuracy'])\n",
        "plt.plot(history.history['val_accuracy'])\n",
        "plt.title('model accuracy')\n",
        "plt.ylabel('accuracy')\n",
        "plt.xlabel('epoch')\n",
        "plt.legend(['train', 'test'], loc='upper left')\n",
        "plt.show()"
      ],
      "execution_count": 0,
      "outputs": [
        {
          "output_type": "display_data",
          "data": {
            "image/png": "[encoded data removed]",
            "text/plain": [
              "<Figure size 432x288 with 1 Axes>"
            ]
          },
          "metadata": {
            "tags": [],
            "needs_background": "light"
          }
        }
      ]
    },
    {
      "cell_type": "code",
      "metadata": {
        "colab_type": "code",
        "outputId": "a5a4a473-cfee-4721-a0f8-4d5d33f65765",
        "id": "oq1jQQXDEwez",
        "colab": {
          "base_uri": "https://localhost:8080/",
          "height": 294
        }
      },
      "source": [
        "# summarize history for loss\n",
        "plt.plot(history.history['loss'])\n",
        "plt.plot(history.history['val_loss'])\n",
        "plt.title('model loss')\n",
        "plt.ylabel('loss')\n",
        "plt.xlabel('epoch')\n",
        "plt.legend(['train', 'test'], loc='upper left')\n",
        "plt.show()"
      ],
      "execution_count": 0,
      "outputs": [
        {
          "output_type": "display_data",
          "data": {
            "image/png": "[encoded data removed]",
            "text/plain": [
              "<Figure size 432x288 with 1 Axes>"
            ]
          },
          "metadata": {
            "tags": [],
            "needs_background": "light"
          }
        }
      ]
    },
    {
      "cell_type": "code",
      "metadata": {
        "colab_type": "code",
        "id": "UrBK940iI8s1",
        "colab": {}
      },
      "source": [
        "# Gerrit Cole"
      ],
      "execution_count": 0,
      "outputs": []
    },
    {
      "cell_type": "code",
      "metadata": {
        "colab_type": "code",
        "outputId": "ee02a11a-356d-4359-e85e-f1b61c7fa424",
        "id": "Uasi6pu_I8s7",
        "colab": {
          "base_uri": "https://localhost:8080/",
          "height": 34
        }
      },
      "source": [
        "cole = df.loc[df['pitcher_id'] == 543037]\n",
        "cole.shape"
      ],
      "execution_count": 0,
      "outputs": [
        {
          "output_type": "execute_result",
          "data": {
            "text/plain": [
              "(3270, 17)"
            ]
          },
          "metadata": {
            "tags": []
          },
          "execution_count": 74
        }
      ]
    },
    {
      "cell_type": "code",
      "metadata": {
        "colab_type": "code",
        "id": "jaHh0BJ2I8s_",
        "colab": {}
      },
      "source": [
        "cole = cole.drop(['ab_id', 'b_score', 'p_score', 'g_id', 'pitcher_id', 'Unnamed: 0'], axis=1)\n"
      ],
      "execution_count": 0,
      "outputs": []
    },
    {
      "cell_type": "code",
      "metadata": {
        "colab_type": "code",
        "id": "pOsZP0FYI8tI",
        "colab": {}
      },
      "source": [
        "cole['event'].fillna('Pitch Thrown', inplace=True)\n"
      ],
      "execution_count": 0,
      "outputs": []
    },
    {
      "cell_type": "code",
      "metadata": {
        "colab_type": "code",
        "outputId": "7cc480f1-01eb-4c46-8c94-77103424a6e6",
        "id": "EIeJiBxXI8tK",
        "colab": {
          "base_uri": "https://localhost:8080/",
          "height": 230
        }
      },
      "source": [
        "cole.isna().any()"
      ],
      "execution_count": 0,
      "outputs": [
        {
          "output_type": "execute_result",
          "data": {
            "text/plain": [
              "outs          False\n",
              "pitch_num     False\n",
              "pitch_type    False\n",
              "stand         False\n",
              "event         False\n",
              "top           False\n",
              "inning        False\n",
              "count         False\n",
              "run diff      False\n",
              "HSS           False\n",
              "next_pitch    False\n",
              "dtype: bool"
            ]
          },
          "metadata": {
            "tags": []
          },
          "execution_count": 77
        }
      ]
    },
    {
      "cell_type": "code",
      "metadata": {
        "colab_type": "code",
        "outputId": "c7882c79-330b-447a-b83f-38900db10350",
        "id": "q3K3zrxLI8tN",
        "colab": {
          "base_uri": "https://localhost:8080/",
          "height": 141
        }
      },
      "source": [
        "cole['pitch_type'].value_counts()"
      ],
      "execution_count": 0,
      "outputs": [
        {
          "output_type": "execute_result",
          "data": {
            "text/plain": [
              "FF         1680\n",
              "SL          755\n",
              "KC          510\n",
              "CH          243\n",
              "FT           80\n",
              "Unknown       2\n",
              "Name: pitch_type, dtype: int64"
            ]
          },
          "metadata": {
            "tags": []
          },
          "execution_count": 78
        }
      ]
    },
    {
      "cell_type": "code",
      "metadata": {
        "id": "jemiptHG_FSk",
        "colab_type": "code",
        "outputId": "0b5543f8-a652-49d7-e168-cbdc6a0dbb8e",
        "colab": {
          "base_uri": "https://localhost:8080/",
          "height": 194
        }
      },
      "source": [
        "cole['next_pitch'].value_counts()"
      ],
      "execution_count": 0,
      "outputs": [
        {
          "output_type": "execute_result",
          "data": {
            "text/plain": [
              "FF         1607\n",
              "SL          755\n",
              "KC          485\n",
              "CH          256\n",
              "FT           92\n",
              "CU           29\n",
              "SI           28\n",
              "FC           15\n",
              "Unknown       3\n",
              "Name: next_pitch, dtype: int64"
            ]
          },
          "metadata": {
            "tags": []
          },
          "execution_count": 79
        }
      ]
    },
    {
      "cell_type": "code",
      "metadata": {
        "colab_type": "code",
        "id": "MJnB0RGfQ_sR",
        "colab": {}
      },
      "source": [
        "cole = cole[cole.pitch_type != 'Unknown']\n",
        "cole = cole[cole.next_pitch != 'Unknown']\n",
        "cole = cole[cole.next_pitch != 'CU']\n",
        "cole = cole[cole.next_pitch != 'SI']\n",
        "cole = cole[cole.next_pitch != 'FC']"
      ],
      "execution_count": 0,
      "outputs": []
    },
    {
      "cell_type": "code",
      "metadata": {
        "colab_type": "code",
        "outputId": "ba2d358b-6c76-481e-a1da-2919ee3cbec0",
        "id": "JTmR8drPQ_sW",
        "colab": {
          "base_uri": "https://localhost:8080/",
          "height": 123
        }
      },
      "source": [
        "cole['pitch_type'].value_counts()"
      ],
      "execution_count": 0,
      "outputs": [
        {
          "output_type": "execute_result",
          "data": {
            "text/plain": [
              "FF    1645\n",
              "SL     727\n",
              "KC     502\n",
              "CH     239\n",
              "FT      80\n",
              "Name: pitch_type, dtype: int64"
            ]
          },
          "metadata": {
            "tags": []
          },
          "execution_count": 81
        }
      ]
    },
    {
      "cell_type": "code",
      "metadata": {
        "id": "c9ORD-NN_VJd",
        "colab_type": "code",
        "outputId": "168f3140-e398-4923-d684-e20ead453b06",
        "colab": {
          "base_uri": "https://localhost:8080/",
          "height": 123
        }
      },
      "source": [
        "cole['next_pitch'].value_counts()"
      ],
      "execution_count": 0,
      "outputs": [
        {
          "output_type": "execute_result",
          "data": {
            "text/plain": [
              "FF    1606\n",
              "SL     755\n",
              "KC     485\n",
              "CH     256\n",
              "FT      91\n",
              "Name: next_pitch, dtype: int64"
            ]
          },
          "metadata": {
            "tags": []
          },
          "execution_count": 82
        }
      ]
    },
    {
      "cell_type": "code",
      "metadata": {
        "colab_type": "code",
        "id": "Uwd_PdEAI8tP",
        "colab": {}
      },
      "source": [
        "x = cole.drop(['next_pitch'], axis=1)"
      ],
      "execution_count": 0,
      "outputs": []
    },
    {
      "cell_type": "code",
      "metadata": {
        "colab_type": "code",
        "id": "kG91dGneI8tR",
        "colab": {}
      },
      "source": [
        "y = cole['next_pitch']"
      ],
      "execution_count": 0,
      "outputs": []
    },
    {
      "cell_type": "code",
      "metadata": {
        "colab_type": "code",
        "outputId": "b9f04882-4643-4eaf-9ef4-619f2203ec10",
        "id": "RuGeDEaYI8tT",
        "colab": {
          "base_uri": "https://localhost:8080/",
          "height": 52
        }
      },
      "source": [
        "print('X Shape', x.shape)\n",
        "print ('Y Shape', y.shape)"
      ],
      "execution_count": 0,
      "outputs": [
        {
          "output_type": "stream",
          "text": [
            "X Shape (3193, 10)\n",
            "Y Shape (3193,)\n"
          ],
          "name": "stdout"
        }
      ]
    },
    {
      "cell_type": "code",
      "metadata": {
        "colab_type": "code",
        "outputId": "53ea19ad-e7ce-4e17-bfe8-90dfc080a7c9",
        "id": "coc62yRZI8tW",
        "colab": {
          "base_uri": "https://localhost:8080/",
          "height": 197
        }
      },
      "source": [
        "x.head()"
      ],
      "execution_count": 0,
      "outputs": [
        {
          "output_type": "execute_result",
          "data": {
            "text/html": [
              "<div>\n",
              "<style scoped>\n",
              "    .dataframe tbody tr th:only-of-type {\n",
              "        vertical-align: middle;\n",
              "    }\n",
              "\n",
              "    .dataframe tbody tr th {\n",
              "        vertical-align: top;\n",
              "    }\n",
              "\n",
              "    .dataframe thead th {\n",
              "        text-align: right;\n",
              "    }\n",
              "</style>\n",
              "<table border=\"1\" class=\"dataframe\">\n",
              "  <thead>\n",
              "    <tr style=\"text-align: right;\">\n",
              "      <th></th>\n",
              "      <th>outs</th>\n",
              "      <th>pitch_num</th>\n",
              "      <th>pitch_type</th>\n",
              "      <th>stand</th>\n",
              "      <th>event</th>\n",
              "      <th>top</th>\n",
              "      <th>inning</th>\n",
              "      <th>count</th>\n",
              "      <th>run diff</th>\n",
              "      <th>HSS</th>\n",
              "    </tr>\n",
              "  </thead>\n",
              "  <tbody>\n",
              "    <tr>\n",
              "      <th>5676</th>\n",
              "      <td>0.0</td>\n",
              "      <td>1.0</td>\n",
              "      <td>FF</td>\n",
              "      <td>L</td>\n",
              "      <td>Pitch Thrown</td>\n",
              "      <td>0.0</td>\n",
              "      <td>1.0</td>\n",
              "      <td>0.0-0.0</td>\n",
              "      <td>0.0</td>\n",
              "      <td>0</td>\n",
              "    </tr>\n",
              "    <tr>\n",
              "      <th>5677</th>\n",
              "      <td>0.0</td>\n",
              "      <td>2.0</td>\n",
              "      <td>FT</td>\n",
              "      <td>L</td>\n",
              "      <td>Pitch Thrown</td>\n",
              "      <td>0.0</td>\n",
              "      <td>1.0</td>\n",
              "      <td>0.0-1.0</td>\n",
              "      <td>0.0</td>\n",
              "      <td>0</td>\n",
              "    </tr>\n",
              "    <tr>\n",
              "      <th>5678</th>\n",
              "      <td>0.0</td>\n",
              "      <td>3.0</td>\n",
              "      <td>SL</td>\n",
              "      <td>L</td>\n",
              "      <td>Pitch Thrown</td>\n",
              "      <td>0.0</td>\n",
              "      <td>1.0</td>\n",
              "      <td>1.0-1.0</td>\n",
              "      <td>0.0</td>\n",
              "      <td>0</td>\n",
              "    </tr>\n",
              "    <tr>\n",
              "      <th>5679</th>\n",
              "      <td>0.0</td>\n",
              "      <td>4.0</td>\n",
              "      <td>FF</td>\n",
              "      <td>L</td>\n",
              "      <td>Pitch Thrown</td>\n",
              "      <td>0.0</td>\n",
              "      <td>1.0</td>\n",
              "      <td>2.0-1.0</td>\n",
              "      <td>0.0</td>\n",
              "      <td>0</td>\n",
              "    </tr>\n",
              "    <tr>\n",
              "      <th>5680</th>\n",
              "      <td>0.0</td>\n",
              "      <td>5.0</td>\n",
              "      <td>SL</td>\n",
              "      <td>L</td>\n",
              "      <td>Pitch Thrown</td>\n",
              "      <td>0.0</td>\n",
              "      <td>1.0</td>\n",
              "      <td>2.0-1.0</td>\n",
              "      <td>0.0</td>\n",
              "      <td>0</td>\n",
              "    </tr>\n",
              "  </tbody>\n",
              "</table>\n",
              "</div>"
            ],
            "text/plain": [
              "      outs  pitch_num pitch_type stand  ... inning    count  run diff HSS\n",
              "5676   0.0        1.0         FF     L  ...    1.0  0.0-0.0       0.0   0\n",
              "5677   0.0        2.0         FT     L  ...    1.0  0.0-1.0       0.0   0\n",
              "5678   0.0        3.0         SL     L  ...    1.0  1.0-1.0       0.0   0\n",
              "5679   0.0        4.0         FF     L  ...    1.0  2.0-1.0       0.0   0\n",
              "5680   0.0        5.0         SL     L  ...    1.0  2.0-1.0       0.0   0\n",
              "\n",
              "[5 rows x 10 columns]"
            ]
          },
          "metadata": {
            "tags": []
          },
          "execution_count": 86
        }
      ]
    },
    {
      "cell_type": "code",
      "metadata": {
        "colab_type": "code",
        "id": "8icH03VgI8tY",
        "colab": {}
      },
      "source": [
        "#Time to encode Y\n",
        "encoder = LabelEncoder()\n",
        "encoder.fit(y)\n",
        "encoded_y = encoder.transform(y)\n",
        "\n",
        "dummy_y = np_utils.to_categorical(encoded_y)\n"
      ],
      "execution_count": 0,
      "outputs": []
    },
    {
      "cell_type": "code",
      "metadata": {
        "colab_type": "code",
        "id": "Hy2FjLxXI8ta",
        "colab": {}
      },
      "source": [
        "x = pd.get_dummies(x, columns=['outs', 'pitch_type', 'stand', 'event', 'top', 'inning', 'count', 'HSS'])"
      ],
      "execution_count": 0,
      "outputs": []
    },
    {
      "cell_type": "code",
      "metadata": {
        "colab_type": "code",
        "outputId": "e3273a4f-c323-43a1-ac4d-08a4048b05f7",
        "id": "-TBFbzgxI8te",
        "colab": {
          "base_uri": "https://localhost:8080/",
          "height": 34
        }
      },
      "source": [
        "x.shape"
      ],
      "execution_count": 0,
      "outputs": [
        {
          "output_type": "execute_result",
          "data": {
            "text/plain": [
              "(3193, 51)"
            ]
          },
          "metadata": {
            "tags": []
          },
          "execution_count": 89
        }
      ]
    },
    {
      "cell_type": "code",
      "metadata": {
        "colab_type": "code",
        "outputId": "7fee3c7d-0b18-46cb-9277-042bb8a110bb",
        "id": "P6qrBSPKI8tg",
        "colab": {
          "base_uri": "https://localhost:8080/",
          "height": 141
        }
      },
      "source": [
        "dummy_y"
      ],
      "execution_count": 0,
      "outputs": [
        {
          "output_type": "execute_result",
          "data": {
            "text/plain": [
              "array([[0., 0., 1., 0., 0.],\n",
              "       [0., 0., 0., 0., 1.],\n",
              "       [0., 1., 0., 0., 0.],\n",
              "       ...,\n",
              "       [0., 1., 0., 0., 0.],\n",
              "       [0., 0., 0., 0., 1.],\n",
              "       [0., 1., 0., 0., 0.]], dtype=float32)"
            ]
          },
          "metadata": {
            "tags": []
          },
          "execution_count": 90
        }
      ]
    },
    {
      "cell_type": "code",
      "metadata": {
        "colab_type": "code",
        "id": "GNd2O9pvI8ti",
        "colab": {}
      },
      "source": [
        "#split data into train/test\n",
        "\n",
        "x_train, x_test, y_train, y_test = train_test_split(x, dummy_y, test_size=0.2, random_state=92)"
      ],
      "execution_count": 0,
      "outputs": []
    },
    {
      "cell_type": "code",
      "metadata": {
        "colab_type": "code",
        "outputId": "bca363fb-f6ec-4db3-f4d5-5dc3770eb52d",
        "id": "SiFw-xDeI8tl",
        "colab": {
          "base_uri": "https://localhost:8080/",
          "height": 87
        }
      },
      "source": [
        "print('X Train Shape', x_train.shape)\n",
        "print('X Test Shape', x_test.shape)\n",
        "print('Y Train Shape', y_train.shape)\n",
        "print('Y Test Shape', y_test.shape)"
      ],
      "execution_count": 0,
      "outputs": [
        {
          "output_type": "stream",
          "text": [
            "X Train Shape (2554, 51)\n",
            "X Test Shape (639, 51)\n",
            "Y Train Shape (2554, 5)\n",
            "Y Test Shape (639, 5)\n"
          ],
          "name": "stdout"
        }
      ]
    },
    {
      "cell_type": "code",
      "metadata": {
        "colab_type": "code",
        "id": "A7YtA7ukI8tn",
        "colab": {}
      },
      "source": [
        "model = Sequential()\n",
        "model.add(Dense(102, input_dim=51, kernel_initializer = 'uniform', activation='hard_sigmoid'))\n",
        "#model.add(Dropout(0.3))\n",
        "model.add(Dense(51, activation='hard_sigmoid'))\n",
        "#model.add(Dropout(0.3))\n",
        "model.add(Dense(25, activation='hard_sigmoid'))\n",
        "model.add(Dropout(0.3))\n",
        "model.add(Dense(5, activation='sigmoid'))"
      ],
      "execution_count": 0,
      "outputs": []
    },
    {
      "cell_type": "code",
      "metadata": {
        "colab_type": "code",
        "id": "lhGqGWFnI8tp",
        "colab": {}
      },
      "source": [
        "#optimizer = keras.optimizers.adam(lr=0.3)\n",
        "\n",
        "model.compile(loss='categorical_crossentropy', optimizer='adam', metrics=['accuracy'])"
      ],
      "execution_count": 0,
      "outputs": []
    },
    {
      "cell_type": "code",
      "metadata": {
        "colab_type": "code",
        "outputId": "2757b0ba-f0af-4c36-e9da-2e9c3ad48a01",
        "id": "C-HtB02uI8tr",
        "colab": {
          "base_uri": "https://localhost:8080/",
          "height": 390
        }
      },
      "source": [
        "history = model.fit(x_train, y_train, validation_data=(x_test, y_test), epochs=10, batch_size=10)"
      ],
      "execution_count": 0,
      "outputs": [
        {
          "output_type": "stream",
          "text": [
            "Train on 2554 samples, validate on 639 samples\n",
            "Epoch 1/10\n",
            "2554/2554 [==============================] - 1s 299us/step - loss: 1.3559 - accuracy: 0.4706 - val_loss: 1.3088 - val_accuracy: 0.5211\n",
            "Epoch 2/10\n",
            "2554/2554 [==============================] - 1s 205us/step - loss: 1.2944 - accuracy: 0.4984 - val_loss: 1.3077 - val_accuracy: 0.5211\n",
            "Epoch 3/10\n",
            "2554/2554 [==============================] - 1s 196us/step - loss: 1.2869 - accuracy: 0.4984 - val_loss: 1.3059 - val_accuracy: 0.5211\n",
            "Epoch 4/10\n",
            "2554/2554 [==============================] - 0s 194us/step - loss: 1.2921 - accuracy: 0.4984 - val_loss: 1.3060 - val_accuracy: 0.5211\n",
            "Epoch 5/10\n",
            "2554/2554 [==============================] - 1s 211us/step - loss: 1.2854 - accuracy: 0.4984 - val_loss: 1.3070 - val_accuracy: 0.5211\n",
            "Epoch 6/10\n",
            "2554/2554 [==============================] - 1s 217us/step - loss: 1.2844 - accuracy: 0.4984 - val_loss: 1.3099 - val_accuracy: 0.5211\n",
            "Epoch 7/10\n",
            "2554/2554 [==============================] - 1s 246us/step - loss: 1.2820 - accuracy: 0.4984 - val_loss: 1.3038 - val_accuracy: 0.5211\n",
            "Epoch 8/10\n",
            "2554/2554 [==============================] - 1s 218us/step - loss: 1.2760 - accuracy: 0.4984 - val_loss: 1.3018 - val_accuracy: 0.5211\n",
            "Epoch 9/10\n",
            "2554/2554 [==============================] - 1s 217us/step - loss: 1.2731 - accuracy: 0.4984 - val_loss: 1.3041 - val_accuracy: 0.5211\n",
            "Epoch 10/10\n",
            "2554/2554 [==============================] - 1s 222us/step - loss: 1.2677 - accuracy: 0.4984 - val_loss: 1.3013 - val_accuracy: 0.5211\n"
          ],
          "name": "stdout"
        }
      ]
    },
    {
      "cell_type": "code",
      "metadata": {
        "colab_type": "code",
        "outputId": "2abad8fd-2d79-4ba3-b522-32c2dd69d2eb",
        "id": "2N7HekMdI8tt",
        "colab": {
          "base_uri": "https://localhost:8080/",
          "height": 336
        }
      },
      "source": [
        "model.summary()"
      ],
      "execution_count": 0,
      "outputs": [
        {
          "output_type": "stream",
          "text": [
            "Model: \"sequential_5\"\n",
            "_________________________________________________________________\n",
            "Layer (type)                 Output Shape              Param #   \n",
            "=================================================================\n",
            "dense_17 (Dense)             (None, 102)               5304      \n",
            "_________________________________________________________________\n",
            "dense_18 (Dense)             (None, 51)                5253      \n",
            "_________________________________________________________________\n",
            "dense_19 (Dense)             (None, 25)                1300      \n",
            "_________________________________________________________________\n",
            "dropout_9 (Dropout)          (None, 25)                0         \n",
            "_________________________________________________________________\n",
            "dense_20 (Dense)             (None, 5)                 130       \n",
            "=================================================================\n",
            "Total params: 11,987\n",
            "Trainable params: 11,987\n",
            "Non-trainable params: 0\n",
            "_________________________________________________________________\n"
          ],
          "name": "stdout"
        }
      ]
    },
    {
      "cell_type": "code",
      "metadata": {
        "colab_type": "code",
        "outputId": "f9244724-5338-4910-9e80-ae10be99743d",
        "id": "VuS-YwOTI8tv",
        "colab": {
          "base_uri": "https://localhost:8080/",
          "height": 294
        }
      },
      "source": [
        "plt.plot(history.history['accuracy'])\n",
        "plt.plot(history.history['val_accuracy'])\n",
        "plt.title('model accuracy')\n",
        "plt.ylabel('accuracy')\n",
        "plt.xlabel('epoch')\n",
        "plt.legend(['train', 'test'], loc='upper left')\n",
        "plt.show()"
      ],
      "execution_count": 0,
      "outputs": [
        {
          "output_type": "display_data",
          "data": {
            "image/png": "[encoded data removed]",
            "text/plain": [
              "<Figure size 432x288 with 1 Axes>"
            ]
          },
          "metadata": {
            "tags": [],
            "needs_background": "light"
          }
        }
      ]
    },
    {
      "cell_type": "code",
      "metadata": {
        "colab_type": "code",
        "outputId": "c5a7809c-bd8d-4054-c8dc-2e141f9720a9",
        "id": "V1Rte3hMI8ty",
        "colab": {
          "base_uri": "https://localhost:8080/",
          "height": 294
        }
      },
      "source": [
        "# summarize history for loss\n",
        "plt.plot(history.history['loss'])\n",
        "plt.plot(history.history['val_loss'])\n",
        "plt.title('model loss')\n",
        "plt.ylabel('loss')\n",
        "plt.xlabel('epoch')\n",
        "plt.legend(['train', 'test'], loc='upper left')\n",
        "plt.show()"
      ],
      "execution_count": 0,
      "outputs": [
        {
          "output_type": "display_data",
          "data": {
            "image/png": "[encoded data removed]",
            "text/plain": [
              "<Figure size 432x288 with 1 Axes>"
            ]
          },
          "metadata": {
            "tags": [],
            "needs_background": "light"
          }
        }
      ]
    },
    {
      "cell_type": "code",
      "metadata": {
        "colab_type": "code",
        "id": "JCf7FbONNaUu",
        "colab": {}
      },
      "source": [
        "# Lucas Giolitto"
      ],
      "execution_count": 0,
      "outputs": []
    },
    {
      "cell_type": "code",
      "metadata": {
        "colab_type": "code",
        "outputId": "3308d821-e861-490f-a6d8-8ee564653581",
        "id": "ccq00FEUNaU0",
        "colab": {
          "base_uri": "https://localhost:8080/",
          "height": 34
        }
      },
      "source": [
        "giolitto = df.loc[df['pitcher_id'] == 608337]\n",
        "giolitto.shape"
      ],
      "execution_count": 0,
      "outputs": [
        {
          "output_type": "execute_result",
          "data": {
            "text/plain": [
              "(2814, 17)"
            ]
          },
          "metadata": {
            "tags": []
          },
          "execution_count": 100
        }
      ]
    },
    {
      "cell_type": "code",
      "metadata": {
        "colab_type": "code",
        "id": "zlWM2bBlNaU3",
        "colab": {}
      },
      "source": [
        "giolitto = giolitto.drop(['ab_id', 'b_score', 'p_score', 'g_id', 'pitcher_id', 'Unnamed: 0'], axis=1)\n"
      ],
      "execution_count": 0,
      "outputs": []
    },
    {
      "cell_type": "code",
      "metadata": {
        "colab_type": "code",
        "id": "N6b-ZXsXNaU_",
        "colab": {}
      },
      "source": [
        "giolitto['event'].fillna('Pitch Thrown', inplace=True)\n"
      ],
      "execution_count": 0,
      "outputs": []
    },
    {
      "cell_type": "code",
      "metadata": {
        "colab_type": "code",
        "outputId": "e9603ae0-9531-46a3-bc79-e72fff5c9d26",
        "id": "BkMpIhSSNaVC",
        "colab": {
          "base_uri": "https://localhost:8080/",
          "height": 230
        }
      },
      "source": [
        "giolitto.isna().any()"
      ],
      "execution_count": 0,
      "outputs": [
        {
          "output_type": "execute_result",
          "data": {
            "text/plain": [
              "outs          False\n",
              "pitch_num     False\n",
              "pitch_type    False\n",
              "stand         False\n",
              "event         False\n",
              "top           False\n",
              "inning        False\n",
              "count         False\n",
              "run diff      False\n",
              "HSS           False\n",
              "next_pitch    False\n",
              "dtype: bool"
            ]
          },
          "metadata": {
            "tags": []
          },
          "execution_count": 103
        }
      ]
    },
    {
      "cell_type": "code",
      "metadata": {
        "colab_type": "code",
        "outputId": "894ad7cb-877e-4d9f-c000-496aa8ec04f3",
        "id": "G4HN0RX9NaVE",
        "colab": {
          "base_uri": "https://localhost:8080/",
          "height": 123
        }
      },
      "source": [
        "giolitto['pitch_type'].value_counts()"
      ],
      "execution_count": 0,
      "outputs": [
        {
          "output_type": "execute_result",
          "data": {
            "text/plain": [
              "FF         1546\n",
              "CH          734\n",
              "SL          414\n",
              "CU          116\n",
              "Unknown       4\n",
              "Name: pitch_type, dtype: int64"
            ]
          },
          "metadata": {
            "tags": []
          },
          "execution_count": 104
        }
      ]
    },
    {
      "cell_type": "code",
      "metadata": {
        "id": "YNcPOfNv_w3e",
        "colab_type": "code",
        "outputId": "6d8c1ba4-79c5-4934-8b0d-f5014e31e2df",
        "colab": {
          "base_uri": "https://localhost:8080/",
          "height": 230
        }
      },
      "source": [
        "giolitto['next_pitch'].value_counts()"
      ],
      "execution_count": 0,
      "outputs": [
        {
          "output_type": "execute_result",
          "data": {
            "text/plain": [
              "FF         1509\n",
              "CH          717\n",
              "SL          410\n",
              "CU          111\n",
              "SI           24\n",
              "FT           15\n",
              "FC           11\n",
              "KC            8\n",
              "Unknown       4\n",
              "KN            3\n",
              "FS            2\n",
              "Name: next_pitch, dtype: int64"
            ]
          },
          "metadata": {
            "tags": []
          },
          "execution_count": 105
        }
      ]
    },
    {
      "cell_type": "code",
      "metadata": {
        "id": "swUlIh35OZ2N",
        "colab_type": "code",
        "colab": {}
      },
      "source": [
        "giolitto = giolitto[giolitto.pitch_type != 'Unknown']\n",
        "giolitto = giolitto[giolitto.next_pitch != 'Unknown']\n",
        "giolitto = giolitto[giolitto.next_pitch != 'SI']\n",
        "giolitto = giolitto[giolitto.next_pitch != 'FT']\n",
        "giolitto = giolitto[giolitto.next_pitch != 'FC']\n",
        "giolitto = giolitto[giolitto.next_pitch != 'KC']\n",
        "giolitto = giolitto[giolitto.next_pitch != 'KN']\n",
        "giolitto = giolitto[giolitto.next_pitch != 'FS']"
      ],
      "execution_count": 0,
      "outputs": []
    },
    {
      "cell_type": "code",
      "metadata": {
        "id": "sA-J0WVnOZ8c",
        "colab_type": "code",
        "outputId": "a41733e3-9077-4e3c-8f6d-59d39d69ed7e",
        "colab": {
          "base_uri": "https://localhost:8080/",
          "height": 105
        }
      },
      "source": [
        "giolitto['pitch_type'].value_counts()"
      ],
      "execution_count": 0,
      "outputs": [
        {
          "output_type": "execute_result",
          "data": {
            "text/plain": [
              "FF    1510\n",
              "CH     715\n",
              "SL     406\n",
              "CU     115\n",
              "Name: pitch_type, dtype: int64"
            ]
          },
          "metadata": {
            "tags": []
          },
          "execution_count": 107
        }
      ]
    },
    {
      "cell_type": "code",
      "metadata": {
        "colab_type": "code",
        "outputId": "9de76686-8c77-4c0a-ea16-29f9a6c16f14",
        "id": "cU3WSGFRADHJ",
        "colab": {
          "base_uri": "https://localhost:8080/",
          "height": 105
        }
      },
      "source": [
        "giolitto['next_pitch'].value_counts()"
      ],
      "execution_count": 0,
      "outputs": [
        {
          "output_type": "execute_result",
          "data": {
            "text/plain": [
              "FF    1509\n",
              "CH     717\n",
              "SL     409\n",
              "CU     111\n",
              "Name: next_pitch, dtype: int64"
            ]
          },
          "metadata": {
            "tags": []
          },
          "execution_count": 108
        }
      ]
    },
    {
      "cell_type": "code",
      "metadata": {
        "colab_type": "code",
        "id": "iP-HEFrLNaVG",
        "colab": {}
      },
      "source": [
        "x = giolitto.drop(['next_pitch'], axis=1)"
      ],
      "execution_count": 0,
      "outputs": []
    },
    {
      "cell_type": "code",
      "metadata": {
        "colab_type": "code",
        "id": "-XhCKsplNaVJ",
        "colab": {}
      },
      "source": [
        "y = giolitto['next_pitch']"
      ],
      "execution_count": 0,
      "outputs": []
    },
    {
      "cell_type": "code",
      "metadata": {
        "colab_type": "code",
        "outputId": "46e255cf-b3d7-4ff5-f915-94ebb1dfddf0",
        "id": "MEVev0LcNaVL",
        "colab": {
          "base_uri": "https://localhost:8080/",
          "height": 52
        }
      },
      "source": [
        "print('X Shape', x.shape)\n",
        "print ('Y Shape', y.shape)"
      ],
      "execution_count": 0,
      "outputs": [
        {
          "output_type": "stream",
          "text": [
            "X Shape (2746, 10)\n",
            "Y Shape (2746,)\n"
          ],
          "name": "stdout"
        }
      ]
    },
    {
      "cell_type": "code",
      "metadata": {
        "colab_type": "code",
        "outputId": "29919688-7e72-4550-b5cc-b97eb780ff66",
        "id": "4EJt2i3vNaVN",
        "colab": {
          "base_uri": "https://localhost:8080/",
          "height": 197
        }
      },
      "source": [
        "x.head()"
      ],
      "execution_count": 0,
      "outputs": [
        {
          "output_type": "execute_result",
          "data": {
            "text/html": [
              "<div>\n",
              "<style scoped>\n",
              "    .dataframe tbody tr th:only-of-type {\n",
              "        vertical-align: middle;\n",
              "    }\n",
              "\n",
              "    .dataframe tbody tr th {\n",
              "        vertical-align: top;\n",
              "    }\n",
              "\n",
              "    .dataframe thead th {\n",
              "        text-align: right;\n",
              "    }\n",
              "</style>\n",
              "<table border=\"1\" class=\"dataframe\">\n",
              "  <thead>\n",
              "    <tr style=\"text-align: right;\">\n",
              "      <th></th>\n",
              "      <th>outs</th>\n",
              "      <th>pitch_num</th>\n",
              "      <th>pitch_type</th>\n",
              "      <th>stand</th>\n",
              "      <th>event</th>\n",
              "      <th>top</th>\n",
              "      <th>inning</th>\n",
              "      <th>count</th>\n",
              "      <th>run diff</th>\n",
              "      <th>HSS</th>\n",
              "    </tr>\n",
              "  </thead>\n",
              "  <tbody>\n",
              "    <tr>\n",
              "      <th>12493</th>\n",
              "      <td>0.0</td>\n",
              "      <td>1.0</td>\n",
              "      <td>FF</td>\n",
              "      <td>R</td>\n",
              "      <td>Pitch Thrown</td>\n",
              "      <td>0.0</td>\n",
              "      <td>1.0</td>\n",
              "      <td>0.0-0.0</td>\n",
              "      <td>0.0</td>\n",
              "      <td>0</td>\n",
              "    </tr>\n",
              "    <tr>\n",
              "      <th>12494</th>\n",
              "      <td>0.0</td>\n",
              "      <td>2.0</td>\n",
              "      <td>FF</td>\n",
              "      <td>R</td>\n",
              "      <td>Pitch Thrown</td>\n",
              "      <td>0.0</td>\n",
              "      <td>1.0</td>\n",
              "      <td>1.0-0.0</td>\n",
              "      <td>0.0</td>\n",
              "      <td>0</td>\n",
              "    </tr>\n",
              "    <tr>\n",
              "      <th>12495</th>\n",
              "      <td>0.0</td>\n",
              "      <td>3.0</td>\n",
              "      <td>FF</td>\n",
              "      <td>R</td>\n",
              "      <td>Pitch Thrown</td>\n",
              "      <td>0.0</td>\n",
              "      <td>1.0</td>\n",
              "      <td>2.0-0.0</td>\n",
              "      <td>0.0</td>\n",
              "      <td>0</td>\n",
              "    </tr>\n",
              "    <tr>\n",
              "      <th>12496</th>\n",
              "      <td>0.0</td>\n",
              "      <td>4.0</td>\n",
              "      <td>FF</td>\n",
              "      <td>R</td>\n",
              "      <td>Pitch Thrown</td>\n",
              "      <td>0.0</td>\n",
              "      <td>1.0</td>\n",
              "      <td>3.0-0.0</td>\n",
              "      <td>0.0</td>\n",
              "      <td>0</td>\n",
              "    </tr>\n",
              "    <tr>\n",
              "      <th>12497</th>\n",
              "      <td>0.0</td>\n",
              "      <td>1.0</td>\n",
              "      <td>FF</td>\n",
              "      <td>L</td>\n",
              "      <td>Pitch Thrown</td>\n",
              "      <td>0.0</td>\n",
              "      <td>1.0</td>\n",
              "      <td>0.0-0.0</td>\n",
              "      <td>0.0</td>\n",
              "      <td>0</td>\n",
              "    </tr>\n",
              "  </tbody>\n",
              "</table>\n",
              "</div>"
            ],
            "text/plain": [
              "       outs  pitch_num pitch_type stand  ... inning    count  run diff HSS\n",
              "12493   0.0        1.0         FF     R  ...    1.0  0.0-0.0       0.0   0\n",
              "12494   0.0        2.0         FF     R  ...    1.0  1.0-0.0       0.0   0\n",
              "12495   0.0        3.0         FF     R  ...    1.0  2.0-0.0       0.0   0\n",
              "12496   0.0        4.0         FF     R  ...    1.0  3.0-0.0       0.0   0\n",
              "12497   0.0        1.0         FF     L  ...    1.0  0.0-0.0       0.0   0\n",
              "\n",
              "[5 rows x 10 columns]"
            ]
          },
          "metadata": {
            "tags": []
          },
          "execution_count": 112
        }
      ]
    },
    {
      "cell_type": "code",
      "metadata": {
        "colab_type": "code",
        "id": "WrkPG5TDNaVP",
        "colab": {}
      },
      "source": [
        "#Time to encode Y\n",
        "encoder = LabelEncoder()\n",
        "encoder.fit(y)\n",
        "encoded_y = encoder.transform(y)\n",
        "\n",
        "dummy_y = np_utils.to_categorical(encoded_y)\n"
      ],
      "execution_count": 0,
      "outputs": []
    },
    {
      "cell_type": "code",
      "metadata": {
        "colab_type": "code",
        "id": "fQ5alJkCNaVR",
        "colab": {}
      },
      "source": [
        "x = pd.get_dummies(x, columns=['outs', 'pitch_type', 'stand', 'event', 'top', 'inning', 'count', 'HSS'])"
      ],
      "execution_count": 0,
      "outputs": []
    },
    {
      "cell_type": "code",
      "metadata": {
        "colab_type": "code",
        "outputId": "ada7d626-707c-4447-e42e-eefc42ec7803",
        "id": "HrMKHZw7NaVV",
        "colab": {
          "base_uri": "https://localhost:8080/",
          "height": 34
        }
      },
      "source": [
        "x.shape"
      ],
      "execution_count": 0,
      "outputs": [
        {
          "output_type": "execute_result",
          "data": {
            "text/plain": [
              "(2746, 49)"
            ]
          },
          "metadata": {
            "tags": []
          },
          "execution_count": 115
        }
      ]
    },
    {
      "cell_type": "code",
      "metadata": {
        "colab_type": "code",
        "outputId": "c72f2449-eec3-485a-a209-32d2cbd5d609",
        "id": "0hW3CZ7sNaVY",
        "colab": {
          "base_uri": "https://localhost:8080/",
          "height": 141
        }
      },
      "source": [
        "dummy_y"
      ],
      "execution_count": 0,
      "outputs": [
        {
          "output_type": "execute_result",
          "data": {
            "text/plain": [
              "array([[0., 0., 1., 0.],\n",
              "       [0., 0., 1., 0.],\n",
              "       [0., 0., 1., 0.],\n",
              "       ...,\n",
              "       [0., 0., 1., 0.],\n",
              "       [1., 0., 0., 0.],\n",
              "       [0., 0., 1., 0.]], dtype=float32)"
            ]
          },
          "metadata": {
            "tags": []
          },
          "execution_count": 116
        }
      ]
    },
    {
      "cell_type": "code",
      "metadata": {
        "colab_type": "code",
        "id": "VF9OygDGNaVa",
        "colab": {}
      },
      "source": [
        "#split data into train/test\n",
        "\n",
        "x_train, x_test, y_train, y_test = train_test_split(x, dummy_y, test_size=0.2, random_state=92)"
      ],
      "execution_count": 0,
      "outputs": []
    },
    {
      "cell_type": "code",
      "metadata": {
        "colab_type": "code",
        "outputId": "ab18d252-79d2-4aa2-c7d1-44cff6ef3108",
        "id": "9a1LdRDeNaVd",
        "colab": {
          "base_uri": "https://localhost:8080/",
          "height": 87
        }
      },
      "source": [
        "print('X Train Shape', x_train.shape)\n",
        "print('X Test Shape', x_test.shape)\n",
        "print('Y Train Shape', y_train.shape)\n",
        "print('Y Test Shape', y_test.shape)"
      ],
      "execution_count": 0,
      "outputs": [
        {
          "output_type": "stream",
          "text": [
            "X Train Shape (2196, 49)\n",
            "X Test Shape (550, 49)\n",
            "Y Train Shape (2196, 4)\n",
            "Y Test Shape (550, 4)\n"
          ],
          "name": "stdout"
        }
      ]
    },
    {
      "cell_type": "code",
      "metadata": {
        "colab_type": "code",
        "id": "-LXlvLFdNaVf",
        "colab": {}
      },
      "source": [
        "model = Sequential()\n",
        "model.add(Dense(98, input_dim=49, kernel_initializer = 'uniform', activation='hard_sigmoid'))\n",
        "model.add(Dropout(0.3))\n",
        "model.add(Dense(49, activation='hard_sigmoid'))\n",
        "#model.add(Dropout(0.3))\n",
        "model.add(Dense(25, activation='hard_sigmoid'))\n",
        "model.add(Dropout(0.3))\n",
        "model.add(Dense(4, activation='sigmoid'))"
      ],
      "execution_count": 0,
      "outputs": []
    },
    {
      "cell_type": "code",
      "metadata": {
        "colab_type": "code",
        "id": "Vnv3mvsFNaVi",
        "colab": {}
      },
      "source": [
        "#optimizer = keras.optimizers.adam(lr=0.3)\n",
        "\n",
        "model.compile(loss='categorical_crossentropy', optimizer='adam', metrics=['accuracy'])"
      ],
      "execution_count": 0,
      "outputs": []
    },
    {
      "cell_type": "code",
      "metadata": {
        "colab_type": "code",
        "outputId": "bf8b3848-cc59-4029-9cc3-c3ff80dc3b69",
        "id": "-nKy0iCHNaVl",
        "colab": {
          "base_uri": "https://localhost:8080/",
          "height": 390
        }
      },
      "source": [
        "history = model.fit(x_train, y_train, validation_data=(x_test, y_test), epochs=10, batch_size=10)"
      ],
      "execution_count": 0,
      "outputs": [
        {
          "output_type": "stream",
          "text": [
            "Train on 2196 samples, validate on 550 samples\n",
            "Epoch 1/10\n",
            "2196/2196 [==============================] - 1s 337us/step - loss: 1.1426 - accuracy: 0.5405 - val_loss: 1.0666 - val_accuracy: 0.5800\n",
            "Epoch 2/10\n",
            "2196/2196 [==============================] - 0s 198us/step - loss: 1.1163 - accuracy: 0.5419 - val_loss: 1.0694 - val_accuracy: 0.5800\n",
            "Epoch 3/10\n",
            "2196/2196 [==============================] - 1s 230us/step - loss: 1.1118 - accuracy: 0.5414 - val_loss: 1.0623 - val_accuracy: 0.5800\n",
            "Epoch 4/10\n",
            "2196/2196 [==============================] - 0s 227us/step - loss: 1.1119 - accuracy: 0.5419 - val_loss: 1.0652 - val_accuracy: 0.5800\n",
            "Epoch 5/10\n",
            "2196/2196 [==============================] - 1s 228us/step - loss: 1.1086 - accuracy: 0.5419 - val_loss: 1.0564 - val_accuracy: 0.5800\n",
            "Epoch 6/10\n",
            "2196/2196 [==============================] - 0s 215us/step - loss: 1.1023 - accuracy: 0.5419 - val_loss: 1.0568 - val_accuracy: 0.5800\n",
            "Epoch 7/10\n",
            "2196/2196 [==============================] - 0s 223us/step - loss: 1.0868 - accuracy: 0.5419 - val_loss: 1.0522 - val_accuracy: 0.5800\n",
            "Epoch 8/10\n",
            "2196/2196 [==============================] - 0s 223us/step - loss: 1.0852 - accuracy: 0.5419 - val_loss: 1.0492 - val_accuracy: 0.5800\n",
            "Epoch 9/10\n",
            "2196/2196 [==============================] - 0s 193us/step - loss: 1.0867 - accuracy: 0.5419 - val_loss: 1.0493 - val_accuracy: 0.5800\n",
            "Epoch 10/10\n",
            "2196/2196 [==============================] - 0s 211us/step - loss: 1.0826 - accuracy: 0.5419 - val_loss: 1.0507 - val_accuracy: 0.5800\n"
          ],
          "name": "stdout"
        }
      ]
    },
    {
      "cell_type": "code",
      "metadata": {
        "colab_type": "code",
        "outputId": "c415b003-71f7-4241-89ef-49b0bddff4dc",
        "id": "bkdFdr4uNaVn",
        "colab": {
          "base_uri": "https://localhost:8080/",
          "height": 372
        }
      },
      "source": [
        "model.summary()"
      ],
      "execution_count": 0,
      "outputs": [
        {
          "output_type": "stream",
          "text": [
            "Model: \"sequential_7\"\n",
            "_________________________________________________________________\n",
            "Layer (type)                 Output Shape              Param #   \n",
            "=================================================================\n",
            "dense_25 (Dense)             (None, 98)                4900      \n",
            "_________________________________________________________________\n",
            "dropout_12 (Dropout)         (None, 98)                0         \n",
            "_________________________________________________________________\n",
            "dense_26 (Dense)             (None, 49)                4851      \n",
            "_________________________________________________________________\n",
            "dense_27 (Dense)             (None, 25)                1250      \n",
            "_________________________________________________________________\n",
            "dropout_13 (Dropout)         (None, 25)                0         \n",
            "_________________________________________________________________\n",
            "dense_28 (Dense)             (None, 4)                 104       \n",
            "=================================================================\n",
            "Total params: 11,105\n",
            "Trainable params: 11,105\n",
            "Non-trainable params: 0\n",
            "_________________________________________________________________\n"
          ],
          "name": "stdout"
        }
      ]
    },
    {
      "cell_type": "code",
      "metadata": {
        "colab_type": "code",
        "outputId": "bc73ac1c-caa6-4cd3-eae3-ab16a5334a1f",
        "id": "RR9_1QC3NaVp",
        "colab": {
          "base_uri": "https://localhost:8080/",
          "height": 294
        }
      },
      "source": [
        "plt.plot(history.history['accuracy'])\n",
        "plt.plot(history.history['val_accuracy'])\n",
        "plt.title('model accuracy')\n",
        "plt.ylabel('accuracy')\n",
        "plt.xlabel('epoch')\n",
        "plt.legend(['train', 'test'], loc='upper left')\n",
        "plt.show()"
      ],
      "execution_count": 0,
      "outputs": [
        {
          "output_type": "display_data",
          "data": {
            "image/png": "[encoded data removed]",
            "text/plain": [
              "<Figure size 432x288 with 1 Axes>"
            ]
          },
          "metadata": {
            "tags": [],
            "needs_background": "light"
          }
        }
      ]
    },
    {
      "cell_type": "code",
      "metadata": {
        "colab_type": "code",
        "outputId": "5f67290d-894b-4ca2-cc62-3773f34c1fe4",
        "id": "raN3g5T5NaVr",
        "colab": {
          "base_uri": "https://localhost:8080/",
          "height": 294
        }
      },
      "source": [
        "# summarize history for loss\n",
        "plt.plot(history.history['loss'])\n",
        "plt.plot(history.history['val_loss'])\n",
        "plt.title('model loss')\n",
        "plt.ylabel('loss')\n",
        "plt.xlabel('epoch')\n",
        "plt.legend(['train', 'test'], loc='upper left')\n",
        "plt.show()"
      ],
      "execution_count": 0,
      "outputs": [
        {
          "output_type": "display_data",
          "data": {
            "image/png": "[encoded data removed]",
            "text/plain": [
              "<Figure size 432x288 with 1 Axes>"
            ]
          },
          "metadata": {
            "tags": [],
            "needs_background": "light"
          }
        }
      ]
    },
    {
      "cell_type": "code",
      "metadata": {
        "colab_type": "code",
        "id": "_wX85QO9PKmY",
        "colab": {}
      },
      "source": [
        "# Kyle Hendricks"
      ],
      "execution_count": 0,
      "outputs": []
    },
    {
      "cell_type": "code",
      "metadata": {
        "colab_type": "code",
        "outputId": "2d0885f9-e144-4eb2-91b9-d193c1cdc6a6",
        "id": "nCQRF0yUPKme",
        "colab": {
          "base_uri": "https://localhost:8080/",
          "height": 34
        }
      },
      "source": [
        "hendricks = df.loc[df['pitcher_id'] == 543294]\n",
        "hendricks.shape"
      ],
      "execution_count": 0,
      "outputs": [
        {
          "output_type": "execute_result",
          "data": {
            "text/plain": [
              "(2702, 17)"
            ]
          },
          "metadata": {
            "tags": []
          },
          "execution_count": 128
        }
      ]
    },
    {
      "cell_type": "code",
      "metadata": {
        "colab_type": "code",
        "id": "jV-YZYV_PKmh",
        "colab": {}
      },
      "source": [
        "hendricks = hendricks.drop(['ab_id', 'b_score', 'p_score', 'g_id', 'pitcher_id', 'Unnamed: 0'], axis=1)\n"
      ],
      "execution_count": 0,
      "outputs": []
    },
    {
      "cell_type": "code",
      "metadata": {
        "colab_type": "code",
        "id": "ZFYWagD8PKmo",
        "colab": {}
      },
      "source": [
        "hendricks['event'].fillna('Pitch Thrown', inplace=True)\n"
      ],
      "execution_count": 0,
      "outputs": []
    },
    {
      "cell_type": "code",
      "metadata": {
        "colab_type": "code",
        "outputId": "22bf4b64-fe9c-415c-f770-ef8ee26f3176",
        "id": "avgu7hY4PKmr",
        "colab": {
          "base_uri": "https://localhost:8080/",
          "height": 230
        }
      },
      "source": [
        "hendricks.isna().any()"
      ],
      "execution_count": 0,
      "outputs": [
        {
          "output_type": "execute_result",
          "data": {
            "text/plain": [
              "outs          False\n",
              "pitch_num     False\n",
              "pitch_type    False\n",
              "stand         False\n",
              "event         False\n",
              "top           False\n",
              "inning        False\n",
              "count         False\n",
              "run diff      False\n",
              "HSS           False\n",
              "next_pitch    False\n",
              "dtype: bool"
            ]
          },
          "metadata": {
            "tags": []
          },
          "execution_count": 131
        }
      ]
    },
    {
      "cell_type": "code",
      "metadata": {
        "colab_type": "code",
        "outputId": "5c5c28eb-2a48-4879-c97e-ce3d6ef1af2f",
        "id": "ZJ0pkjCJPKmu",
        "colab": {
          "base_uri": "https://localhost:8080/",
          "height": 123
        }
      },
      "source": [
        "hendricks['pitch_type'].value_counts()"
      ],
      "execution_count": 0,
      "outputs": [
        {
          "output_type": "execute_result",
          "data": {
            "text/plain": [
              "SI         1120\n",
              "CH          755\n",
              "FF          552\n",
              "CU          263\n",
              "Unknown      12\n",
              "Name: pitch_type, dtype: int64"
            ]
          },
          "metadata": {
            "tags": []
          },
          "execution_count": 132
        }
      ]
    },
    {
      "cell_type": "code",
      "metadata": {
        "id": "fGX1GZK-AekM",
        "colab_type": "code",
        "outputId": "57a76495-8f56-412b-a3e8-4e09596f095a",
        "colab": {
          "base_uri": "https://localhost:8080/",
          "height": 212
        }
      },
      "source": [
        "hendricks['next_pitch'].value_counts()"
      ],
      "execution_count": 0,
      "outputs": [
        {
          "output_type": "execute_result",
          "data": {
            "text/plain": [
              "SI         1043\n",
              "CH          761\n",
              "FF          554\n",
              "CU          256\n",
              "SL           27\n",
              "FT           26\n",
              "FC           12\n",
              "Unknown      12\n",
              "KC           10\n",
              "FS            1\n",
              "Name: next_pitch, dtype: int64"
            ]
          },
          "metadata": {
            "tags": []
          },
          "execution_count": 133
        }
      ]
    },
    {
      "cell_type": "code",
      "metadata": {
        "colab_type": "code",
        "id": "5EPWtVQwPKmw",
        "colab": {}
      },
      "source": [
        "hendricks = hendricks[hendricks.pitch_type != 'Unknown']\n",
        "hendricks = hendricks[hendricks.next_pitch != 'Unknown']\n",
        "hendricks = hendricks[hendricks.next_pitch != 'SL']\n",
        "hendricks = hendricks[hendricks.next_pitch != 'FT']\n",
        "hendricks = hendricks[hendricks.next_pitch != 'FC']\n",
        "hendricks = hendricks[hendricks.next_pitch != 'KC']\n",
        "hendricks = hendricks[hendricks.next_pitch != 'FS']"
      ],
      "execution_count": 0,
      "outputs": []
    },
    {
      "cell_type": "code",
      "metadata": {
        "colab_type": "code",
        "outputId": "ce104a42-4899-4c4e-b729-7193ec5eac7a",
        "id": "VjtlTyNpPKmy",
        "colab": {
          "base_uri": "https://localhost:8080/",
          "height": 105
        }
      },
      "source": [
        "hendricks['pitch_type'].value_counts()"
      ],
      "execution_count": 0,
      "outputs": [
        {
          "output_type": "execute_result",
          "data": {
            "text/plain": [
              "SI    1093\n",
              "CH     723\n",
              "FF     539\n",
              "CU     255\n",
              "Name: pitch_type, dtype: int64"
            ]
          },
          "metadata": {
            "tags": []
          },
          "execution_count": 135
        }
      ]
    },
    {
      "cell_type": "code",
      "metadata": {
        "colab_type": "code",
        "outputId": "e7fecceb-319a-43bb-c8ef-4dda9a88e7ae",
        "id": "F-ATd7QgA0mh",
        "colab": {
          "base_uri": "https://localhost:8080/",
          "height": 105
        }
      },
      "source": [
        "hendricks['next_pitch'].value_counts()"
      ],
      "execution_count": 0,
      "outputs": [
        {
          "output_type": "execute_result",
          "data": {
            "text/plain": [
              "SI    1042\n",
              "CH     760\n",
              "FF     553\n",
              "CU     255\n",
              "Name: next_pitch, dtype: int64"
            ]
          },
          "metadata": {
            "tags": []
          },
          "execution_count": 136
        }
      ]
    },
    {
      "cell_type": "code",
      "metadata": {
        "colab_type": "code",
        "id": "iPcC_8VGPKm0",
        "colab": {}
      },
      "source": [
        "x = hendricks.drop(['next_pitch'], axis=1)"
      ],
      "execution_count": 0,
      "outputs": []
    },
    {
      "cell_type": "code",
      "metadata": {
        "colab_type": "code",
        "id": "aOFUt1ZrPKm3",
        "colab": {}
      },
      "source": [
        "y = hendricks['next_pitch']"
      ],
      "execution_count": 0,
      "outputs": []
    },
    {
      "cell_type": "code",
      "metadata": {
        "colab_type": "code",
        "outputId": "085162ee-6c5f-4b9e-fee9-c07cbe8c7dfa",
        "id": "mDFwDMS2PKm5",
        "colab": {
          "base_uri": "https://localhost:8080/",
          "height": 52
        }
      },
      "source": [
        "print('X Shape', x.shape)\n",
        "print ('Y Shape', y.shape)"
      ],
      "execution_count": 0,
      "outputs": [
        {
          "output_type": "stream",
          "text": [
            "X Shape (2610, 10)\n",
            "Y Shape (2610,)\n"
          ],
          "name": "stdout"
        }
      ]
    },
    {
      "cell_type": "code",
      "metadata": {
        "colab_type": "code",
        "outputId": "ec063784-df73-4a72-b842-cc311fd1b0f8",
        "id": "DHEiIC6vPKm7",
        "colab": {
          "base_uri": "https://localhost:8080/",
          "height": 197
        }
      },
      "source": [
        "x.head()"
      ],
      "execution_count": 0,
      "outputs": [
        {
          "output_type": "execute_result",
          "data": {
            "text/html": [
              "<div>\n",
              "<style scoped>\n",
              "    .dataframe tbody tr th:only-of-type {\n",
              "        vertical-align: middle;\n",
              "    }\n",
              "\n",
              "    .dataframe tbody tr th {\n",
              "        vertical-align: top;\n",
              "    }\n",
              "\n",
              "    .dataframe thead th {\n",
              "        text-align: right;\n",
              "    }\n",
              "</style>\n",
              "<table border=\"1\" class=\"dataframe\">\n",
              "  <thead>\n",
              "    <tr style=\"text-align: right;\">\n",
              "      <th></th>\n",
              "      <th>outs</th>\n",
              "      <th>pitch_num</th>\n",
              "      <th>pitch_type</th>\n",
              "      <th>stand</th>\n",
              "      <th>event</th>\n",
              "      <th>top</th>\n",
              "      <th>inning</th>\n",
              "      <th>count</th>\n",
              "      <th>run diff</th>\n",
              "      <th>HSS</th>\n",
              "    </tr>\n",
              "  </thead>\n",
              "  <tbody>\n",
              "    <tr>\n",
              "      <th>16756</th>\n",
              "      <td>0.0</td>\n",
              "      <td>1.0</td>\n",
              "      <td>FF</td>\n",
              "      <td>L</td>\n",
              "      <td>Pitch Thrown</td>\n",
              "      <td>0.0</td>\n",
              "      <td>1.0</td>\n",
              "      <td>0.0-0.0</td>\n",
              "      <td>0.0</td>\n",
              "      <td>0</td>\n",
              "    </tr>\n",
              "    <tr>\n",
              "      <th>16757</th>\n",
              "      <td>0.0</td>\n",
              "      <td>2.0</td>\n",
              "      <td>CH</td>\n",
              "      <td>L</td>\n",
              "      <td>Pitch Thrown</td>\n",
              "      <td>0.0</td>\n",
              "      <td>1.0</td>\n",
              "      <td>0.0-0.0</td>\n",
              "      <td>0.0</td>\n",
              "      <td>0</td>\n",
              "    </tr>\n",
              "    <tr>\n",
              "      <th>16758</th>\n",
              "      <td>0.0</td>\n",
              "      <td>3.0</td>\n",
              "      <td>CH</td>\n",
              "      <td>L</td>\n",
              "      <td>Pitch Thrown</td>\n",
              "      <td>0.0</td>\n",
              "      <td>1.0</td>\n",
              "      <td>0.0-0.0</td>\n",
              "      <td>0.0</td>\n",
              "      <td>0</td>\n",
              "    </tr>\n",
              "    <tr>\n",
              "      <th>16759</th>\n",
              "      <td>0.0</td>\n",
              "      <td>1.0</td>\n",
              "      <td>SI</td>\n",
              "      <td>R</td>\n",
              "      <td>Pitch Thrown</td>\n",
              "      <td>0.0</td>\n",
              "      <td>1.0</td>\n",
              "      <td>0.0-0.0</td>\n",
              "      <td>1.0</td>\n",
              "      <td>0</td>\n",
              "    </tr>\n",
              "    <tr>\n",
              "      <th>16760</th>\n",
              "      <td>0.0</td>\n",
              "      <td>2.0</td>\n",
              "      <td>SI</td>\n",
              "      <td>R</td>\n",
              "      <td>Pitch Thrown</td>\n",
              "      <td>0.0</td>\n",
              "      <td>1.0</td>\n",
              "      <td>0.0-0.0</td>\n",
              "      <td>1.0</td>\n",
              "      <td>0</td>\n",
              "    </tr>\n",
              "  </tbody>\n",
              "</table>\n",
              "</div>"
            ],
            "text/plain": [
              "       outs  pitch_num pitch_type stand  ... inning    count  run diff HSS\n",
              "16756   0.0        1.0         FF     L  ...    1.0  0.0-0.0       0.0   0\n",
              "16757   0.0        2.0         CH     L  ...    1.0  0.0-0.0       0.0   0\n",
              "16758   0.0        3.0         CH     L  ...    1.0  0.0-0.0       0.0   0\n",
              "16759   0.0        1.0         SI     R  ...    1.0  0.0-0.0       1.0   0\n",
              "16760   0.0        2.0         SI     R  ...    1.0  0.0-0.0       1.0   0\n",
              "\n",
              "[5 rows x 10 columns]"
            ]
          },
          "metadata": {
            "tags": []
          },
          "execution_count": 140
        }
      ]
    },
    {
      "cell_type": "code",
      "metadata": {
        "colab_type": "code",
        "id": "Y2Xt5IGoPKm-",
        "colab": {}
      },
      "source": [
        "#Time to encode Y\n",
        "encoder = LabelEncoder()\n",
        "encoder.fit(y)\n",
        "encoded_y = encoder.transform(y)\n",
        "\n",
        "dummy_y = np_utils.to_categorical(encoded_y)\n"
      ],
      "execution_count": 0,
      "outputs": []
    },
    {
      "cell_type": "code",
      "metadata": {
        "colab_type": "code",
        "id": "jorwjFtaPKnA",
        "colab": {}
      },
      "source": [
        "x = pd.get_dummies(x, columns=['outs', 'pitch_type', 'stand', 'event', 'top', 'inning', 'count', 'HSS'])"
      ],
      "execution_count": 0,
      "outputs": []
    },
    {
      "cell_type": "code",
      "metadata": {
        "colab_type": "code",
        "outputId": "2793da1a-0b67-41e9-95fb-c63479c24c76",
        "id": "eRMlQA0KPKnG",
        "colab": {
          "base_uri": "https://localhost:8080/",
          "height": 34
        }
      },
      "source": [
        "x.shape"
      ],
      "execution_count": 0,
      "outputs": [
        {
          "output_type": "execute_result",
          "data": {
            "text/plain": [
              "(2610, 55)"
            ]
          },
          "metadata": {
            "tags": []
          },
          "execution_count": 143
        }
      ]
    },
    {
      "cell_type": "code",
      "metadata": {
        "colab_type": "code",
        "outputId": "01e23abf-4024-45cb-bc1f-c358027c810d",
        "id": "B9DI5wjcPKnI",
        "colab": {
          "base_uri": "https://localhost:8080/",
          "height": 141
        }
      },
      "source": [
        "dummy_y"
      ],
      "execution_count": 0,
      "outputs": [
        {
          "output_type": "execute_result",
          "data": {
            "text/plain": [
              "array([[1., 0., 0., 0.],\n",
              "       [1., 0., 0., 0.],\n",
              "       [0., 0., 0., 1.],\n",
              "       ...,\n",
              "       [1., 0., 0., 0.],\n",
              "       [1., 0., 0., 0.],\n",
              "       [0., 0., 0., 1.]], dtype=float32)"
            ]
          },
          "metadata": {
            "tags": []
          },
          "execution_count": 144
        }
      ]
    },
    {
      "cell_type": "code",
      "metadata": {
        "colab_type": "code",
        "id": "oA9pep2IPKnL",
        "colab": {}
      },
      "source": [
        "#split data into train/test\n",
        "\n",
        "x_train, x_test, y_train, y_test = train_test_split(x, dummy_y, test_size=0.2, random_state=92)"
      ],
      "execution_count": 0,
      "outputs": []
    },
    {
      "cell_type": "code",
      "metadata": {
        "colab_type": "code",
        "outputId": "9a6c9140-9da7-4c8d-9b76-6ff91bd576b1",
        "id": "v4EnFAv3PKnN",
        "colab": {
          "base_uri": "https://localhost:8080/",
          "height": 87
        }
      },
      "source": [
        "print('X Train Shape', x_train.shape)\n",
        "print('X Test Shape', x_test.shape)\n",
        "print('Y Train Shape', y_train.shape)\n",
        "print('Y Test Shape', y_test.shape)"
      ],
      "execution_count": 0,
      "outputs": [
        {
          "output_type": "stream",
          "text": [
            "X Train Shape (2088, 55)\n",
            "X Test Shape (522, 55)\n",
            "Y Train Shape (2088, 4)\n",
            "Y Test Shape (522, 4)\n"
          ],
          "name": "stdout"
        }
      ]
    },
    {
      "cell_type": "code",
      "metadata": {
        "colab_type": "code",
        "id": "gn6bmjTsPKnQ",
        "colab": {}
      },
      "source": [
        "model = Sequential()\n",
        "model.add(Dense(110, input_dim=55, kernel_initializer = 'uniform', activation='hard_sigmoid'))\n",
        "model.add(Dropout(0.3))\n",
        "model.add(Dense(55, activation='hard_sigmoid'))\n",
        "#model.add(Dropout(0.3))\n",
        "model.add(Dense(25, activation='hard_sigmoid'))\n",
        "model.add(Dropout(0.3))\n",
        "model.add(Dense(4, activation='sigmoid'))"
      ],
      "execution_count": 0,
      "outputs": []
    },
    {
      "cell_type": "code",
      "metadata": {
        "colab_type": "code",
        "id": "uf5CRJq9PKnS",
        "colab": {}
      },
      "source": [
        "#optimizer = keras.optimizers.adam(lr=0.3)\n",
        "\n",
        "model.compile(loss='categorical_crossentropy', optimizer='adam', metrics=['accuracy'])"
      ],
      "execution_count": 0,
      "outputs": []
    },
    {
      "cell_type": "code",
      "metadata": {
        "colab_type": "code",
        "outputId": "0754d95a-4da6-4e3d-8aea-34df4e3804f4",
        "id": "276K7xNtPKnU",
        "colab": {
          "base_uri": "https://localhost:8080/",
          "height": 390
        }
      },
      "source": [
        "history = model.fit(x_train, y_train, validation_data=(x_test, y_test), epochs=10, batch_size=10)"
      ],
      "execution_count": 0,
      "outputs": [
        {
          "output_type": "stream",
          "text": [
            "Train on 2088 samples, validate on 522 samples\n",
            "Epoch 1/10\n",
            "2088/2088 [==============================] - 1s 371us/step - loss: 1.3267 - accuracy: 0.3448 - val_loss: 1.2770 - val_accuracy: 0.4215\n",
            "Epoch 2/10\n",
            "2088/2088 [==============================] - 0s 230us/step - loss: 1.2898 - accuracy: 0.3898 - val_loss: 1.2753 - val_accuracy: 0.4215\n",
            "Epoch 3/10\n",
            "2088/2088 [==============================] - 0s 214us/step - loss: 1.2932 - accuracy: 0.3884 - val_loss: 1.2768 - val_accuracy: 0.4215\n",
            "Epoch 4/10\n",
            "2088/2088 [==============================] - 0s 217us/step - loss: 1.2850 - accuracy: 0.3951 - val_loss: 1.2690 - val_accuracy: 0.4215\n",
            "Epoch 5/10\n",
            "2088/2088 [==============================] - 1s 250us/step - loss: 1.2662 - accuracy: 0.4119 - val_loss: 1.2404 - val_accuracy: 0.4387\n",
            "Epoch 6/10\n",
            "2088/2088 [==============================] - 0s 224us/step - loss: 1.2463 - accuracy: 0.4353 - val_loss: 1.2110 - val_accuracy: 0.5038\n",
            "Epoch 7/10\n",
            "2088/2088 [==============================] - 0s 209us/step - loss: 1.2200 - accuracy: 0.4708 - val_loss: 1.2013 - val_accuracy: 0.5019\n",
            "Epoch 8/10\n",
            "2088/2088 [==============================] - 0s 205us/step - loss: 1.2190 - accuracy: 0.4727 - val_loss: 1.1994 - val_accuracy: 0.5038\n",
            "Epoch 9/10\n",
            "2088/2088 [==============================] - 0s 209us/step - loss: 1.2103 - accuracy: 0.4703 - val_loss: 1.1962 - val_accuracy: 0.5000\n",
            "Epoch 10/10\n",
            "2088/2088 [==============================] - 0s 212us/step - loss: 1.2096 - accuracy: 0.4693 - val_loss: 1.1937 - val_accuracy: 0.5115\n"
          ],
          "name": "stdout"
        }
      ]
    },
    {
      "cell_type": "code",
      "metadata": {
        "colab_type": "code",
        "outputId": "72ec2a48-31a6-457f-854e-1127f80d7b12",
        "id": "CtHpnk6EPKnW",
        "colab": {
          "base_uri": "https://localhost:8080/",
          "height": 372
        }
      },
      "source": [
        "model.summary()"
      ],
      "execution_count": 0,
      "outputs": [
        {
          "output_type": "stream",
          "text": [
            "Model: \"sequential_8\"\n",
            "_________________________________________________________________\n",
            "Layer (type)                 Output Shape              Param #   \n",
            "=================================================================\n",
            "dense_29 (Dense)             (None, 110)               6160      \n",
            "_________________________________________________________________\n",
            "dropout_14 (Dropout)         (None, 110)               0         \n",
            "_________________________________________________________________\n",
            "dense_30 (Dense)             (None, 55)                6105      \n",
            "_________________________________________________________________\n",
            "dense_31 (Dense)             (None, 25)                1400      \n",
            "_________________________________________________________________\n",
            "dropout_15 (Dropout)         (None, 25)                0         \n",
            "_________________________________________________________________\n",
            "dense_32 (Dense)             (None, 4)                 104       \n",
            "=================================================================\n",
            "Total params: 13,769\n",
            "Trainable params: 13,769\n",
            "Non-trainable params: 0\n",
            "_________________________________________________________________\n"
          ],
          "name": "stdout"
        }
      ]
    },
    {
      "cell_type": "code",
      "metadata": {
        "colab_type": "code",
        "outputId": "bbd27883-e071-4135-cc9d-28f2ecf0d31b",
        "id": "8wzgNbmtPKnY",
        "colab": {
          "base_uri": "https://localhost:8080/",
          "height": 294
        }
      },
      "source": [
        "plt.plot(history.history['accuracy'])\n",
        "plt.plot(history.history['val_accuracy'])\n",
        "plt.title('model accuracy')\n",
        "plt.ylabel('accuracy')\n",
        "plt.xlabel('epoch')\n",
        "plt.legend(['train', 'test'], loc='upper left')\n",
        "plt.show()"
      ],
      "execution_count": 0,
      "outputs": [
        {
          "output_type": "display_data",
          "data": {
            "image/png": "[encoded data removed]",
            "text/plain": [
              "<Figure size 432x288 with 1 Axes>"
            ]
          },
          "metadata": {
            "tags": [],
            "needs_background": "light"
          }
        }
      ]
    },
    {
      "cell_type": "code",
      "metadata": {
        "colab_type": "code",
        "outputId": "02e584f0-cb68-4631-8469-6b3c5df5223a",
        "id": "jQU1YHz2PKna",
        "colab": {
          "base_uri": "https://localhost:8080/",
          "height": 294
        }
      },
      "source": [
        "# summarize history for loss\n",
        "plt.plot(history.history['loss'])\n",
        "plt.plot(history.history['val_loss'])\n",
        "plt.title('model loss')\n",
        "plt.ylabel('loss')\n",
        "plt.xlabel('epoch')\n",
        "plt.legend(['train', 'test'], loc='upper left')\n",
        "plt.show()"
      ],
      "execution_count": 0,
      "outputs": [
        {
          "output_type": "display_data",
          "data": {
            "image/png": "[encoded data removed]",
            "text/plain": [
              "<Figure size 432x288 with 1 Axes>"
            ]
          },
          "metadata": {
            "tags": [],
            "needs_background": "light"
          }
        }
      ]
    },
    {
      "cell_type": "code",
      "metadata": {
        "id": "if_1EJcAxEhJ",
        "colab_type": "code",
        "colab": {}
      },
      "source": [
        "#Hyun-Jin Ryu"
      ],
      "execution_count": 0,
      "outputs": []
    },
    {
      "cell_type": "code",
      "metadata": {
        "colab_type": "code",
        "outputId": "3563ddad-755b-4498-f623-361ac90ec3b8",
        "id": "EO0ldYjlxSoY",
        "colab": {
          "base_uri": "https://localhost:8080/",
          "height": 34
        }
      },
      "source": [
        "ryu = df.loc[df['pitcher_id'] == 547943]\n",
        "ryu.shape"
      ],
      "execution_count": 0,
      "outputs": [
        {
          "output_type": "execute_result",
          "data": {
            "text/plain": [
              "(2713, 17)"
            ]
          },
          "metadata": {
            "tags": []
          },
          "execution_count": 153
        }
      ]
    },
    {
      "cell_type": "code",
      "metadata": {
        "colab_type": "code",
        "id": "rd_a2cW4xSoe",
        "colab": {}
      },
      "source": [
        "ryu = ryu.drop(['ab_id', 'b_score', 'p_score', 'g_id', 'pitcher_id', 'Unnamed: 0'], axis=1)\n"
      ],
      "execution_count": 0,
      "outputs": []
    },
    {
      "cell_type": "code",
      "metadata": {
        "colab_type": "code",
        "id": "4WTlGMmyxSol",
        "colab": {}
      },
      "source": [
        "ryu['event'].fillna('Pitch Thrown', inplace=True)\n"
      ],
      "execution_count": 0,
      "outputs": []
    },
    {
      "cell_type": "code",
      "metadata": {
        "colab_type": "code",
        "outputId": "c7e6af76-747e-4913-bf5b-59fd88305d99",
        "id": "hpNiR8YtxSon",
        "colab": {
          "base_uri": "https://localhost:8080/",
          "height": 230
        }
      },
      "source": [
        "ryu.isna().any()"
      ],
      "execution_count": 0,
      "outputs": [
        {
          "output_type": "execute_result",
          "data": {
            "text/plain": [
              "outs          False\n",
              "pitch_num     False\n",
              "pitch_type    False\n",
              "stand         False\n",
              "event         False\n",
              "top           False\n",
              "inning        False\n",
              "count         False\n",
              "run diff      False\n",
              "HSS           False\n",
              "next_pitch    False\n",
              "dtype: bool"
            ]
          },
          "metadata": {
            "tags": []
          },
          "execution_count": 156
        }
      ]
    },
    {
      "cell_type": "code",
      "metadata": {
        "colab_type": "code",
        "outputId": "01aebc2c-d7f6-4593-d18f-52d39b687c91",
        "id": "eTOysZWSxSoq",
        "colab": {
          "base_uri": "https://localhost:8080/",
          "height": 158
        }
      },
      "source": [
        "ryu['pitch_type'].value_counts()"
      ],
      "execution_count": 0,
      "outputs": [
        {
          "output_type": "execute_result",
          "data": {
            "text/plain": [
              "CH         742\n",
              "FF         738\n",
              "FC         525\n",
              "FT         361\n",
              "CU         330\n",
              "Unknown      9\n",
              "SL           8\n",
              "Name: pitch_type, dtype: int64"
            ]
          },
          "metadata": {
            "tags": []
          },
          "execution_count": 158
        }
      ]
    },
    {
      "cell_type": "code",
      "metadata": {
        "id": "U9P7hHiXBO_j",
        "colab_type": "code",
        "outputId": "31811115-f131-45aa-9103-ff6f93496e62",
        "colab": {
          "base_uri": "https://localhost:8080/",
          "height": 212
        }
      },
      "source": [
        "ryu['next_pitch'].value_counts()"
      ],
      "execution_count": 0,
      "outputs": [
        {
          "output_type": "execute_result",
          "data": {
            "text/plain": [
              "FF         783\n",
              "CH         743\n",
              "FC         511\n",
              "CU         312\n",
              "FT         305\n",
              "SL          29\n",
              "Unknown     10\n",
              "KC           9\n",
              "SI           9\n",
              "FS           2\n",
              "Name: next_pitch, dtype: int64"
            ]
          },
          "metadata": {
            "tags": []
          },
          "execution_count": 159
        }
      ]
    },
    {
      "cell_type": "code",
      "metadata": {
        "colab_type": "code",
        "id": "NIMYothSxSot",
        "colab": {}
      },
      "source": [
        "ryu = ryu[ryu.pitch_type != 'Unknown']\n",
        "ryu = ryu[ryu.next_pitch != 'Unknown']\n",
        "ryu = ryu[ryu.next_pitch != 'KC']\n",
        "ryu = ryu[ryu.next_pitch != 'SI']\n",
        "ryu = ryu[ryu.next_pitch != 'FS']"
      ],
      "execution_count": 0,
      "outputs": []
    },
    {
      "cell_type": "code",
      "metadata": {
        "colab_type": "code",
        "outputId": "949fa75e-965a-4744-9539-d3f53b7e5892",
        "id": "609MN7OrxSov",
        "colab": {
          "base_uri": "https://localhost:8080/",
          "height": 141
        }
      },
      "source": [
        "ryu['pitch_type'].value_counts()"
      ],
      "execution_count": 0,
      "outputs": [
        {
          "output_type": "execute_result",
          "data": {
            "text/plain": [
              "CH    736\n",
              "FF    730\n",
              "FC    523\n",
              "FT    357\n",
              "CU    326\n",
              "SL      8\n",
              "Name: pitch_type, dtype: int64"
            ]
          },
          "metadata": {
            "tags": []
          },
          "execution_count": 161
        }
      ]
    },
    {
      "cell_type": "code",
      "metadata": {
        "colab_type": "code",
        "outputId": "6ab39484-5c61-436f-e030-b9a5cd6d38b7",
        "id": "K3fV-zQXBfDf",
        "colab": {
          "base_uri": "https://localhost:8080/",
          "height": 141
        }
      },
      "source": [
        "ryu['next_pitch'].value_counts()"
      ],
      "execution_count": 0,
      "outputs": [
        {
          "output_type": "execute_result",
          "data": {
            "text/plain": [
              "FF    781\n",
              "CH    743\n",
              "FC    510\n",
              "CU    312\n",
              "FT    305\n",
              "SL     29\n",
              "Name: next_pitch, dtype: int64"
            ]
          },
          "metadata": {
            "tags": []
          },
          "execution_count": 162
        }
      ]
    },
    {
      "cell_type": "code",
      "metadata": {
        "colab_type": "code",
        "id": "YDCectR3xSox",
        "colab": {}
      },
      "source": [
        "x = ryu.drop(['next_pitch'], axis=1)"
      ],
      "execution_count": 0,
      "outputs": []
    },
    {
      "cell_type": "code",
      "metadata": {
        "colab_type": "code",
        "id": "V9rxPIdKxSoz",
        "colab": {}
      },
      "source": [
        "y = ryu['next_pitch']"
      ],
      "execution_count": 0,
      "outputs": []
    },
    {
      "cell_type": "code",
      "metadata": {
        "colab_type": "code",
        "outputId": "b9bdcf95-d377-4256-ea70-8e0d5ad85287",
        "id": "FcVK1z0NxSo1",
        "colab": {
          "base_uri": "https://localhost:8080/",
          "height": 52
        }
      },
      "source": [
        "print('X Shape', x.shape)\n",
        "print ('Y Shape', y.shape)"
      ],
      "execution_count": 0,
      "outputs": [
        {
          "output_type": "stream",
          "text": [
            "X Shape (2680, 10)\n",
            "Y Shape (2680,)\n"
          ],
          "name": "stdout"
        }
      ]
    },
    {
      "cell_type": "code",
      "metadata": {
        "colab_type": "code",
        "outputId": "e62b3eb6-0d16-44df-c56a-b84fc4aed8f9",
        "id": "Xo4tuhRsxSo3",
        "colab": {
          "base_uri": "https://localhost:8080/",
          "height": 197
        }
      },
      "source": [
        "x.head()"
      ],
      "execution_count": 0,
      "outputs": [
        {
          "output_type": "execute_result",
          "data": {
            "text/html": [
              "<div>\n",
              "<style scoped>\n",
              "    .dataframe tbody tr th:only-of-type {\n",
              "        vertical-align: middle;\n",
              "    }\n",
              "\n",
              "    .dataframe tbody tr th {\n",
              "        vertical-align: top;\n",
              "    }\n",
              "\n",
              "    .dataframe thead th {\n",
              "        text-align: right;\n",
              "    }\n",
              "</style>\n",
              "<table border=\"1\" class=\"dataframe\">\n",
              "  <thead>\n",
              "    <tr style=\"text-align: right;\">\n",
              "      <th></th>\n",
              "      <th>outs</th>\n",
              "      <th>pitch_num</th>\n",
              "      <th>pitch_type</th>\n",
              "      <th>stand</th>\n",
              "      <th>event</th>\n",
              "      <th>top</th>\n",
              "      <th>inning</th>\n",
              "      <th>count</th>\n",
              "      <th>run diff</th>\n",
              "      <th>HSS</th>\n",
              "    </tr>\n",
              "  </thead>\n",
              "  <tbody>\n",
              "    <tr>\n",
              "      <th>221</th>\n",
              "      <td>0.0</td>\n",
              "      <td>1.0</td>\n",
              "      <td>FF</td>\n",
              "      <td>R</td>\n",
              "      <td>Pitch Thrown</td>\n",
              "      <td>1.0</td>\n",
              "      <td>1.0</td>\n",
              "      <td>0.0-0.0</td>\n",
              "      <td>0.0</td>\n",
              "      <td>0</td>\n",
              "    </tr>\n",
              "    <tr>\n",
              "      <th>222</th>\n",
              "      <td>0.0</td>\n",
              "      <td>2.0</td>\n",
              "      <td>FC</td>\n",
              "      <td>R</td>\n",
              "      <td>Pitch Thrown</td>\n",
              "      <td>1.0</td>\n",
              "      <td>1.0</td>\n",
              "      <td>0.0-0.0</td>\n",
              "      <td>0.0</td>\n",
              "      <td>0</td>\n",
              "    </tr>\n",
              "    <tr>\n",
              "      <th>223</th>\n",
              "      <td>0.0</td>\n",
              "      <td>3.0</td>\n",
              "      <td>FF</td>\n",
              "      <td>R</td>\n",
              "      <td>Pitch Thrown</td>\n",
              "      <td>1.0</td>\n",
              "      <td>1.0</td>\n",
              "      <td>1.0-0.0</td>\n",
              "      <td>0.0</td>\n",
              "      <td>0</td>\n",
              "    </tr>\n",
              "    <tr>\n",
              "      <th>224</th>\n",
              "      <td>0.0</td>\n",
              "      <td>4.0</td>\n",
              "      <td>FF</td>\n",
              "      <td>R</td>\n",
              "      <td>Pitch Thrown</td>\n",
              "      <td>1.0</td>\n",
              "      <td>1.0</td>\n",
              "      <td>2.0-0.0</td>\n",
              "      <td>0.0</td>\n",
              "      <td>0</td>\n",
              "    </tr>\n",
              "    <tr>\n",
              "      <th>225</th>\n",
              "      <td>0.0</td>\n",
              "      <td>5.0</td>\n",
              "      <td>FF</td>\n",
              "      <td>R</td>\n",
              "      <td>Pitch Thrown</td>\n",
              "      <td>1.0</td>\n",
              "      <td>1.0</td>\n",
              "      <td>3.0-0.0</td>\n",
              "      <td>0.0</td>\n",
              "      <td>0</td>\n",
              "    </tr>\n",
              "  </tbody>\n",
              "</table>\n",
              "</div>"
            ],
            "text/plain": [
              "     outs  pitch_num pitch_type stand  ... inning    count  run diff HSS\n",
              "221   0.0        1.0         FF     R  ...    1.0  0.0-0.0       0.0   0\n",
              "222   0.0        2.0         FC     R  ...    1.0  0.0-0.0       0.0   0\n",
              "223   0.0        3.0         FF     R  ...    1.0  1.0-0.0       0.0   0\n",
              "224   0.0        4.0         FF     R  ...    1.0  2.0-0.0       0.0   0\n",
              "225   0.0        5.0         FF     R  ...    1.0  3.0-0.0       0.0   0\n",
              "\n",
              "[5 rows x 10 columns]"
            ]
          },
          "metadata": {
            "tags": []
          },
          "execution_count": 166
        }
      ]
    },
    {
      "cell_type": "code",
      "metadata": {
        "colab_type": "code",
        "id": "CwhLcTZJxSo5",
        "colab": {}
      },
      "source": [
        "#Time to encode Y\n",
        "encoder = LabelEncoder()\n",
        "encoder.fit(y)\n",
        "encoded_y = encoder.transform(y)\n",
        "\n",
        "dummy_y = np_utils.to_categorical(encoded_y)\n"
      ],
      "execution_count": 0,
      "outputs": []
    },
    {
      "cell_type": "code",
      "metadata": {
        "colab_type": "code",
        "id": "aATyw2qfxSo8",
        "colab": {}
      },
      "source": [
        "x = pd.get_dummies(x, columns=['outs', 'pitch_type', 'stand', 'event', 'top', 'inning', 'count', 'HSS'])"
      ],
      "execution_count": 0,
      "outputs": []
    },
    {
      "cell_type": "code",
      "metadata": {
        "colab_type": "code",
        "outputId": "a113b264-5f35-4275-9b0f-de3a32b11968",
        "id": "FJSrw_JHxSpA",
        "colab": {
          "base_uri": "https://localhost:8080/",
          "height": 34
        }
      },
      "source": [
        "x.shape"
      ],
      "execution_count": 0,
      "outputs": [
        {
          "output_type": "execute_result",
          "data": {
            "text/plain": [
              "(2680, 53)"
            ]
          },
          "metadata": {
            "tags": []
          },
          "execution_count": 169
        }
      ]
    },
    {
      "cell_type": "code",
      "metadata": {
        "colab_type": "code",
        "outputId": "95c94f49-10a8-440b-fc3b-67ff175e5f58",
        "id": "utmD1N-XxSpC",
        "colab": {
          "base_uri": "https://localhost:8080/",
          "height": 141
        }
      },
      "source": [
        "dummy_y"
      ],
      "execution_count": 0,
      "outputs": [
        {
          "output_type": "execute_result",
          "data": {
            "text/plain": [
              "array([[0., 0., 1., 0., 0., 0.],\n",
              "       [0., 0., 0., 1., 0., 0.],\n",
              "       [0., 0., 0., 1., 0., 0.],\n",
              "       ...,\n",
              "       [1., 0., 0., 0., 0., 0.],\n",
              "       [1., 0., 0., 0., 0., 0.],\n",
              "       [0., 0., 0., 0., 1., 0.]], dtype=float32)"
            ]
          },
          "metadata": {
            "tags": []
          },
          "execution_count": 170
        }
      ]
    },
    {
      "cell_type": "code",
      "metadata": {
        "colab_type": "code",
        "id": "0vs251F-xSpE",
        "colab": {}
      },
      "source": [
        "#split data into train/test\n",
        "\n",
        "x_train, x_test, y_train, y_test = train_test_split(x, dummy_y, test_size=0.2, random_state=92)"
      ],
      "execution_count": 0,
      "outputs": []
    },
    {
      "cell_type": "code",
      "metadata": {
        "colab_type": "code",
        "outputId": "620737e9-e226-495b-e043-f36e89a1e851",
        "id": "-BlF6dHvxSpG",
        "colab": {
          "base_uri": "https://localhost:8080/",
          "height": 87
        }
      },
      "source": [
        "print('X Train Shape', x_train.shape)\n",
        "print('X Test Shape', x_test.shape)\n",
        "print('Y Train Shape', y_train.shape)\n",
        "print('Y Test Shape', y_test.shape)"
      ],
      "execution_count": 0,
      "outputs": [
        {
          "output_type": "stream",
          "text": [
            "X Train Shape (2144, 53)\n",
            "X Test Shape (536, 53)\n",
            "Y Train Shape (2144, 6)\n",
            "Y Test Shape (536, 6)\n"
          ],
          "name": "stdout"
        }
      ]
    },
    {
      "cell_type": "code",
      "metadata": {
        "colab_type": "code",
        "id": "UCs6O2paxSpI",
        "colab": {}
      },
      "source": [
        "model = Sequential()\n",
        "model.add(Dense(106, input_dim=53, kernel_initializer = 'uniform', activation='hard_sigmoid'))\n",
        "model.add(Dropout(0.3))\n",
        "model.add(Dense(53, activation='hard_sigmoid'))\n",
        "model.add(Dense(25, activation='hard_sigmoid'))\n",
        "model.add(Dropout(0.3))\n",
        "model.add(Dense(6, activation='sigmoid'))"
      ],
      "execution_count": 0,
      "outputs": []
    },
    {
      "cell_type": "code",
      "metadata": {
        "colab_type": "code",
        "id": "v_eauAi5xSpL",
        "colab": {}
      },
      "source": [
        "#optimizer = keras.optimizers.adam(lr=0.3)\n",
        "\n",
        "model.compile(loss='categorical_crossentropy', optimizer='adam', metrics=['accuracy'])"
      ],
      "execution_count": 0,
      "outputs": []
    },
    {
      "cell_type": "code",
      "metadata": {
        "colab_type": "code",
        "outputId": "4a2701b1-2b0e-459f-db05-020d5e093f84",
        "id": "7LDV6QdOxSpN",
        "colab": {
          "base_uri": "https://localhost:8080/",
          "height": 390
        }
      },
      "source": [
        "history = model.fit(x_train, y_train, validation_data=(x_test, y_test), epochs=10, batch_size=10)"
      ],
      "execution_count": 0,
      "outputs": [
        {
          "output_type": "stream",
          "text": [
            "Train on 2144 samples, validate on 536 samples\n",
            "Epoch 1/10\n",
            "2144/2144 [==============================] - 1s 416us/step - loss: 1.6327 - accuracy: 0.2691 - val_loss: 1.5681 - val_accuracy: 0.2854\n",
            "Epoch 2/10\n",
            "2144/2144 [==============================] - 1s 266us/step - loss: 1.6008 - accuracy: 0.2752 - val_loss: 1.5629 - val_accuracy: 0.2743\n",
            "Epoch 3/10\n",
            "2144/2144 [==============================] - 1s 282us/step - loss: 1.5935 - accuracy: 0.2789 - val_loss: 1.5674 - val_accuracy: 0.2743\n",
            "Epoch 4/10\n",
            "2144/2144 [==============================] - 1s 259us/step - loss: 1.5945 - accuracy: 0.2836 - val_loss: 1.5618 - val_accuracy: 0.2854\n",
            "Epoch 5/10\n",
            "2144/2144 [==============================] - 1s 239us/step - loss: 1.6010 - accuracy: 0.2799 - val_loss: 1.5638 - val_accuracy: 0.2743\n",
            "Epoch 6/10\n",
            "2144/2144 [==============================] - 1s 244us/step - loss: 1.5966 - accuracy: 0.2882 - val_loss: 1.5647 - val_accuracy: 0.2854\n",
            "Epoch 7/10\n",
            "2144/2144 [==============================] - 1s 285us/step - loss: 1.5932 - accuracy: 0.2887 - val_loss: 1.5635 - val_accuracy: 0.2854\n",
            "Epoch 8/10\n",
            "2144/2144 [==============================] - 1s 310us/step - loss: 1.5874 - accuracy: 0.2882 - val_loss: 1.5633 - val_accuracy: 0.2854\n",
            "Epoch 9/10\n",
            "2144/2144 [==============================] - 1s 257us/step - loss: 1.5910 - accuracy: 0.2696 - val_loss: 1.5654 - val_accuracy: 0.2854\n",
            "Epoch 10/10\n",
            "2144/2144 [==============================] - 1s 239us/step - loss: 1.5862 - accuracy: 0.2980 - val_loss: 1.5620 - val_accuracy: 0.2854\n"
          ],
          "name": "stdout"
        }
      ]
    },
    {
      "cell_type": "code",
      "metadata": {
        "colab_type": "code",
        "outputId": "d67bac5d-7a85-45de-dae5-bd6669904531",
        "id": "ahiY-VHZxSpP",
        "colab": {
          "base_uri": "https://localhost:8080/",
          "height": 372
        }
      },
      "source": [
        "model.summary()"
      ],
      "execution_count": 0,
      "outputs": [
        {
          "output_type": "stream",
          "text": [
            "Model: \"sequential_9\"\n",
            "_________________________________________________________________\n",
            "Layer (type)                 Output Shape              Param #   \n",
            "=================================================================\n",
            "dense_33 (Dense)             (None, 106)               5724      \n",
            "_________________________________________________________________\n",
            "dropout_16 (Dropout)         (None, 106)               0         \n",
            "_________________________________________________________________\n",
            "dense_34 (Dense)             (None, 53)                5671      \n",
            "_________________________________________________________________\n",
            "dense_35 (Dense)             (None, 25)                1350      \n",
            "_________________________________________________________________\n",
            "dropout_17 (Dropout)         (None, 25)                0         \n",
            "_________________________________________________________________\n",
            "dense_36 (Dense)             (None, 6)                 156       \n",
            "=================================================================\n",
            "Total params: 12,901\n",
            "Trainable params: 12,901\n",
            "Non-trainable params: 0\n",
            "_________________________________________________________________\n"
          ],
          "name": "stdout"
        }
      ]
    },
    {
      "cell_type": "code",
      "metadata": {
        "colab_type": "code",
        "outputId": "fc3b74b0-1db2-45e6-ba21-b0e20f657bdb",
        "id": "L0ICHWDZxSpR",
        "colab": {
          "base_uri": "https://localhost:8080/",
          "height": 294
        }
      },
      "source": [
        "plt.plot(history.history['accuracy'])\n",
        "plt.plot(history.history['val_accuracy'])\n",
        "plt.title('model accuracy')\n",
        "plt.ylabel('accuracy')\n",
        "plt.xlabel('epoch')\n",
        "plt.legend(['train', 'test'], loc='upper left')\n",
        "plt.show()"
      ],
      "execution_count": 0,
      "outputs": [
        {
          "output_type": "display_data",
          "data": {
            "image/png": "[encoded data removed]",
            "text/plain": [
              "<Figure size 432x288 with 1 Axes>"
            ]
          },
          "metadata": {
            "tags": [],
            "needs_background": "light"
          }
        }
      ]
    },
    {
      "cell_type": "code",
      "metadata": {
        "colab_type": "code",
        "outputId": "88959160-78c6-4966-b09f-5c3c422903f6",
        "id": "KU0d_RAtxSpT",
        "colab": {
          "base_uri": "https://localhost:8080/",
          "height": 294
        }
      },
      "source": [
        "# summarize history for loss\n",
        "plt.plot(history.history['loss'])\n",
        "plt.plot(history.history['val_loss'])\n",
        "plt.title('model loss')\n",
        "plt.ylabel('loss')\n",
        "plt.xlabel('epoch')\n",
        "plt.legend(['train', 'test'], loc='upper left')\n",
        "plt.show()"
      ],
      "execution_count": 0,
      "outputs": [
        {
          "output_type": "display_data",
          "data": {
            "image/png": "[encoded data removed]",
            "text/plain": [
              "<Figure size 432x288 with 1 Axes>"
            ]
          },
          "metadata": {
            "tags": [],
            "needs_background": "light"
          }
        }
      ]
    },
    {
      "cell_type": "code",
      "metadata": {
        "colab_type": "code",
        "id": "8UW2uKdPywdx",
        "colab": {}
      },
      "source": [
        "#Luis Castillo"
      ],
      "execution_count": 0,
      "outputs": []
    },
    {
      "cell_type": "code",
      "metadata": {
        "colab_type": "code",
        "outputId": "b4f51f4b-041a-42d8-d77b-a7aed04de7ac",
        "id": "Aw0VNXrEywd0",
        "colab": {
          "base_uri": "https://localhost:8080/",
          "height": 34
        }
      },
      "source": [
        "castillo = df.loc[df['pitcher_id'] == 622491]\n",
        "castillo.shape"
      ],
      "execution_count": 0,
      "outputs": [
        {
          "output_type": "execute_result",
          "data": {
            "text/plain": [
              "(3156, 17)"
            ]
          },
          "metadata": {
            "tags": []
          },
          "execution_count": 179
        }
      ]
    },
    {
      "cell_type": "code",
      "metadata": {
        "colab_type": "code",
        "id": "gXNPJCgLywd3",
        "colab": {}
      },
      "source": [
        "castillo = castillo.drop(['ab_id', 'b_score', 'p_score', 'g_id', 'pitcher_id', 'Unnamed: 0'], axis=1)\n"
      ],
      "execution_count": 0,
      "outputs": []
    },
    {
      "cell_type": "code",
      "metadata": {
        "colab_type": "code",
        "id": "INk7LkrVywd-",
        "colab": {}
      },
      "source": [
        "castillo['event'].fillna('Pitch Thrown', inplace=True)\n"
      ],
      "execution_count": 0,
      "outputs": []
    },
    {
      "cell_type": "code",
      "metadata": {
        "colab_type": "code",
        "outputId": "c514d267-65dd-453f-cc77-f028e6fba41c",
        "id": "u5vxKjaryweA",
        "colab": {
          "base_uri": "https://localhost:8080/",
          "height": 230
        }
      },
      "source": [
        "castillo.isna().any()"
      ],
      "execution_count": 0,
      "outputs": [
        {
          "output_type": "execute_result",
          "data": {
            "text/plain": [
              "outs          False\n",
              "pitch_num     False\n",
              "pitch_type    False\n",
              "stand         False\n",
              "event         False\n",
              "top           False\n",
              "inning        False\n",
              "count         False\n",
              "run diff      False\n",
              "HSS           False\n",
              "next_pitch    False\n",
              "dtype: bool"
            ]
          },
          "metadata": {
            "tags": []
          },
          "execution_count": 182
        }
      ]
    },
    {
      "cell_type": "code",
      "metadata": {
        "colab_type": "code",
        "outputId": "d9027cf8-9123-4895-ce2e-b90c1066e592",
        "id": "mOqCtmazyweE",
        "colab": {
          "base_uri": "https://localhost:8080/",
          "height": 123
        }
      },
      "source": [
        "castillo['pitch_type'].value_counts()"
      ],
      "execution_count": 0,
      "outputs": [
        {
          "output_type": "execute_result",
          "data": {
            "text/plain": [
              "CH         998\n",
              "FF         911\n",
              "FT         639\n",
              "SL         519\n",
              "Unknown     89\n",
              "Name: pitch_type, dtype: int64"
            ]
          },
          "metadata": {
            "tags": []
          },
          "execution_count": 183
        }
      ]
    },
    {
      "cell_type": "code",
      "metadata": {
        "id": "-SKlhD1PB5J0",
        "colab_type": "code",
        "outputId": "e3d224e3-df82-4a55-ce20-3535a7eff3a7",
        "colab": {
          "base_uri": "https://localhost:8080/",
          "height": 212
        }
      },
      "source": [
        "castillo['next_pitch'].value_counts()"
      ],
      "execution_count": 0,
      "outputs": [
        {
          "output_type": "execute_result",
          "data": {
            "text/plain": [
              "CH         1001\n",
              "FF          904\n",
              "FT          605\n",
              "SL          489\n",
              "Unknown      89\n",
              "CU           26\n",
              "SI           21\n",
              "FC           18\n",
              "FS            2\n",
              "KC            1\n",
              "Name: next_pitch, dtype: int64"
            ]
          },
          "metadata": {
            "tags": []
          },
          "execution_count": 184
        }
      ]
    },
    {
      "cell_type": "code",
      "metadata": {
        "colab_type": "code",
        "id": "KbqBwesryweG",
        "colab": {}
      },
      "source": [
        "castillo = castillo[castillo.pitch_type != 'Unknown']\n",
        "castillo = castillo[castillo.next_pitch != 'Unknown']\n",
        "castillo = castillo[castillo.next_pitch != 'CU']\n",
        "castillo = castillo[castillo.next_pitch != 'SI']\n",
        "castillo = castillo[castillo.next_pitch != 'FC']\n",
        "castillo = castillo[castillo.next_pitch != 'FS']\n",
        "castillo = castillo[castillo.next_pitch != 'KC']"
      ],
      "execution_count": 0,
      "outputs": []
    },
    {
      "cell_type": "code",
      "metadata": {
        "colab_type": "code",
        "outputId": "887fdc62-a2ef-4c04-e2dc-5edfbbede834",
        "id": "mPai8ljgyweJ",
        "colab": {
          "base_uri": "https://localhost:8080/",
          "height": 105
        }
      },
      "source": [
        "castillo['pitch_type'].value_counts()"
      ],
      "execution_count": 0,
      "outputs": [
        {
          "output_type": "execute_result",
          "data": {
            "text/plain": [
              "CH    968\n",
              "FF    900\n",
              "FT    621\n",
              "SL    508\n",
              "Name: pitch_type, dtype: int64"
            ]
          },
          "metadata": {
            "tags": []
          },
          "execution_count": 186
        }
      ]
    },
    {
      "cell_type": "code",
      "metadata": {
        "colab_type": "code",
        "outputId": "979cd911-3793-4d62-b070-af6a9fdea745",
        "id": "mPxWBcY-COTt",
        "colab": {
          "base_uri": "https://localhost:8080/",
          "height": 105
        }
      },
      "source": [
        "castillo['next_pitch'].value_counts()"
      ],
      "execution_count": 0,
      "outputs": [
        {
          "output_type": "execute_result",
          "data": {
            "text/plain": [
              "CH    1001\n",
              "FF     902\n",
              "FT     605\n",
              "SL     489\n",
              "Name: next_pitch, dtype: int64"
            ]
          },
          "metadata": {
            "tags": []
          },
          "execution_count": 187
        }
      ]
    },
    {
      "cell_type": "code",
      "metadata": {
        "colab_type": "code",
        "id": "yAmmrompyweL",
        "colab": {}
      },
      "source": [
        "x = castillo.drop(['next_pitch'], axis=1)"
      ],
      "execution_count": 0,
      "outputs": []
    },
    {
      "cell_type": "code",
      "metadata": {
        "colab_type": "code",
        "id": "2PeNJFKnyweM",
        "colab": {}
      },
      "source": [
        "y = castillo['next_pitch']"
      ],
      "execution_count": 0,
      "outputs": []
    },
    {
      "cell_type": "code",
      "metadata": {
        "colab_type": "code",
        "outputId": "3a6048cc-ba6a-4958-faa8-774339aae7e9",
        "id": "JA1KdWEEyweO",
        "colab": {
          "base_uri": "https://localhost:8080/",
          "height": 52
        }
      },
      "source": [
        "print('X Shape', x.shape)\n",
        "print ('Y Shape', y.shape)"
      ],
      "execution_count": 0,
      "outputs": [
        {
          "output_type": "stream",
          "text": [
            "X Shape (2997, 10)\n",
            "Y Shape (2997,)\n"
          ],
          "name": "stdout"
        }
      ]
    },
    {
      "cell_type": "code",
      "metadata": {
        "colab_type": "code",
        "outputId": "15d5fbce-fdd8-4a46-eb8d-4599cd908d9e",
        "id": "rpf84vMGyweR",
        "colab": {
          "base_uri": "https://localhost:8080/",
          "height": 197
        }
      },
      "source": [
        "x.head()"
      ],
      "execution_count": 0,
      "outputs": [
        {
          "output_type": "execute_result",
          "data": {
            "text/html": [
              "<div>\n",
              "<style scoped>\n",
              "    .dataframe tbody tr th:only-of-type {\n",
              "        vertical-align: middle;\n",
              "    }\n",
              "\n",
              "    .dataframe tbody tr th {\n",
              "        vertical-align: top;\n",
              "    }\n",
              "\n",
              "    .dataframe thead th {\n",
              "        text-align: right;\n",
              "    }\n",
              "</style>\n",
              "<table border=\"1\" class=\"dataframe\">\n",
              "  <thead>\n",
              "    <tr style=\"text-align: right;\">\n",
              "      <th></th>\n",
              "      <th>outs</th>\n",
              "      <th>pitch_num</th>\n",
              "      <th>pitch_type</th>\n",
              "      <th>stand</th>\n",
              "      <th>event</th>\n",
              "      <th>top</th>\n",
              "      <th>inning</th>\n",
              "      <th>count</th>\n",
              "      <th>run diff</th>\n",
              "      <th>HSS</th>\n",
              "    </tr>\n",
              "  </thead>\n",
              "  <tbody>\n",
              "    <tr>\n",
              "      <th>3291</th>\n",
              "      <td>0.0</td>\n",
              "      <td>1.0</td>\n",
              "      <td>FF</td>\n",
              "      <td>L</td>\n",
              "      <td>Groundout</td>\n",
              "      <td>1.0</td>\n",
              "      <td>1.0</td>\n",
              "      <td>0.0-0.0</td>\n",
              "      <td>0.0</td>\n",
              "      <td>0</td>\n",
              "    </tr>\n",
              "    <tr>\n",
              "      <th>3292</th>\n",
              "      <td>1.0</td>\n",
              "      <td>1.0</td>\n",
              "      <td>FF</td>\n",
              "      <td>L</td>\n",
              "      <td>Pitch Thrown</td>\n",
              "      <td>1.0</td>\n",
              "      <td>1.0</td>\n",
              "      <td>0.0-0.0</td>\n",
              "      <td>0.0</td>\n",
              "      <td>0</td>\n",
              "    </tr>\n",
              "    <tr>\n",
              "      <th>3293</th>\n",
              "      <td>1.0</td>\n",
              "      <td>2.0</td>\n",
              "      <td>CH</td>\n",
              "      <td>L</td>\n",
              "      <td>Pitch Thrown</td>\n",
              "      <td>1.0</td>\n",
              "      <td>1.0</td>\n",
              "      <td>0.0-0.0</td>\n",
              "      <td>0.0</td>\n",
              "      <td>0</td>\n",
              "    </tr>\n",
              "    <tr>\n",
              "      <th>3294</th>\n",
              "      <td>1.0</td>\n",
              "      <td>3.0</td>\n",
              "      <td>FF</td>\n",
              "      <td>L</td>\n",
              "      <td>Pitch Thrown</td>\n",
              "      <td>1.0</td>\n",
              "      <td>1.0</td>\n",
              "      <td>0.0-1.0</td>\n",
              "      <td>0.0</td>\n",
              "      <td>0</td>\n",
              "    </tr>\n",
              "    <tr>\n",
              "      <th>3295</th>\n",
              "      <td>1.0</td>\n",
              "      <td>4.0</td>\n",
              "      <td>CH</td>\n",
              "      <td>L</td>\n",
              "      <td>Strikeout</td>\n",
              "      <td>1.0</td>\n",
              "      <td>1.0</td>\n",
              "      <td>0.0-1.0</td>\n",
              "      <td>0.0</td>\n",
              "      <td>0</td>\n",
              "    </tr>\n",
              "  </tbody>\n",
              "</table>\n",
              "</div>"
            ],
            "text/plain": [
              "      outs  pitch_num pitch_type stand  ... inning    count  run diff HSS\n",
              "3291   0.0        1.0         FF     L  ...    1.0  0.0-0.0       0.0   0\n",
              "3292   1.0        1.0         FF     L  ...    1.0  0.0-0.0       0.0   0\n",
              "3293   1.0        2.0         CH     L  ...    1.0  0.0-0.0       0.0   0\n",
              "3294   1.0        3.0         FF     L  ...    1.0  0.0-1.0       0.0   0\n",
              "3295   1.0        4.0         CH     L  ...    1.0  0.0-1.0       0.0   0\n",
              "\n",
              "[5 rows x 10 columns]"
            ]
          },
          "metadata": {
            "tags": []
          },
          "execution_count": 191
        }
      ]
    },
    {
      "cell_type": "code",
      "metadata": {
        "colab_type": "code",
        "id": "epMAjsz-yweU",
        "colab": {}
      },
      "source": [
        "#Time to encode Y\n",
        "encoder = LabelEncoder()\n",
        "encoder.fit(y)\n",
        "encoded_y = encoder.transform(y)\n",
        "\n",
        "dummy_y = np_utils.to_categorical(encoded_y)\n"
      ],
      "execution_count": 0,
      "outputs": []
    },
    {
      "cell_type": "code",
      "metadata": {
        "colab_type": "code",
        "id": "i01uT1deyweW",
        "colab": {}
      },
      "source": [
        "x = pd.get_dummies(x, columns=['outs', 'pitch_type', 'stand', 'event', 'top', 'inning', 'count', 'HSS'])"
      ],
      "execution_count": 0,
      "outputs": []
    },
    {
      "cell_type": "code",
      "metadata": {
        "colab_type": "code",
        "outputId": "f74091e3-8cd0-4799-e480-72d897c40571",
        "id": "V03fjjWwyweY",
        "colab": {
          "base_uri": "https://localhost:8080/",
          "height": 34
        }
      },
      "source": [
        "x.shape"
      ],
      "execution_count": 0,
      "outputs": [
        {
          "output_type": "execute_result",
          "data": {
            "text/plain": [
              "(2997, 49)"
            ]
          },
          "metadata": {
            "tags": []
          },
          "execution_count": 194
        }
      ]
    },
    {
      "cell_type": "code",
      "metadata": {
        "colab_type": "code",
        "outputId": "7a6e59f3-d5be-4012-8097-ae1364de0293",
        "id": "zFtyAotvywea",
        "colab": {
          "base_uri": "https://localhost:8080/",
          "height": 141
        }
      },
      "source": [
        "dummy_y"
      ],
      "execution_count": 0,
      "outputs": [
        {
          "output_type": "execute_result",
          "data": {
            "text/plain": [
              "array([[0., 1., 0., 0.],\n",
              "       [1., 0., 0., 0.],\n",
              "       [0., 1., 0., 0.],\n",
              "       ...,\n",
              "       [1., 0., 0., 0.],\n",
              "       [0., 1., 0., 0.],\n",
              "       [0., 1., 0., 0.]], dtype=float32)"
            ]
          },
          "metadata": {
            "tags": []
          },
          "execution_count": 195
        }
      ]
    },
    {
      "cell_type": "code",
      "metadata": {
        "colab_type": "code",
        "id": "2a1P0_Fvywec",
        "colab": {}
      },
      "source": [
        "#split data into train/test\n",
        "\n",
        "x_train, x_test, y_train, y_test = train_test_split(x, dummy_y, test_size=0.2, random_state=92)"
      ],
      "execution_count": 0,
      "outputs": []
    },
    {
      "cell_type": "code",
      "metadata": {
        "colab_type": "code",
        "outputId": "fa36df03-264a-4b01-d91e-5f50929a9b71",
        "id": "NyS6j8jwywee",
        "colab": {
          "base_uri": "https://localhost:8080/",
          "height": 87
        }
      },
      "source": [
        "print('X Train Shape', x_train.shape)\n",
        "print('X Test Shape', x_test.shape)\n",
        "print('Y Train Shape', y_train.shape)\n",
        "print('Y Test Shape', y_test.shape)"
      ],
      "execution_count": 0,
      "outputs": [
        {
          "output_type": "stream",
          "text": [
            "X Train Shape (2397, 49)\n",
            "X Test Shape (600, 49)\n",
            "Y Train Shape (2397, 4)\n",
            "Y Test Shape (600, 4)\n"
          ],
          "name": "stdout"
        }
      ]
    },
    {
      "cell_type": "code",
      "metadata": {
        "colab_type": "code",
        "id": "dZm9nA2wyweg",
        "colab": {}
      },
      "source": [
        "model = Sequential()\n",
        "model.add(Dense(98, input_dim=49, kernel_initializer = 'uniform', activation='hard_sigmoid'))\n",
        "model.add(Dropout(0.3))\n",
        "model.add(Dense(49, activation='hard_sigmoid'))\n",
        "model.add(Dense(25, activation='hard_sigmoid'))\n",
        "model.add(Dropout(0.3))\n",
        "model.add(Dense(4, activation='sigmoid'))"
      ],
      "execution_count": 0,
      "outputs": []
    },
    {
      "cell_type": "code",
      "metadata": {
        "colab_type": "code",
        "id": "yUB1muw6ywej",
        "colab": {}
      },
      "source": [
        "#optimizer = keras.optimizers.adam(lr=0.3)\n",
        "\n",
        "model.compile(loss='categorical_crossentropy', optimizer='adam', metrics=['accuracy'])"
      ],
      "execution_count": 0,
      "outputs": []
    },
    {
      "cell_type": "code",
      "metadata": {
        "colab_type": "code",
        "outputId": "7aa8dc9d-fdfe-46d9-8ecc-78c458d30469",
        "id": "n5y-0XO-ywem",
        "colab": {
          "base_uri": "https://localhost:8080/",
          "height": 390
        }
      },
      "source": [
        "history = model.fit(x_train, y_train, validation_data=(x_test, y_test), epochs=10, batch_size=10)"
      ],
      "execution_count": 0,
      "outputs": [
        {
          "output_type": "stream",
          "text": [
            "Train on 2397 samples, validate on 600 samples\n",
            "Epoch 1/10\n",
            "2397/2397 [==============================] - 1s 354us/step - loss: 1.3656 - accuracy: 0.3029 - val_loss: 1.3548 - val_accuracy: 0.3300\n",
            "Epoch 2/10\n",
            "2397/2397 [==============================] - 1s 252us/step - loss: 1.3483 - accuracy: 0.3404 - val_loss: 1.3546 - val_accuracy: 0.3300\n",
            "Epoch 3/10\n",
            "2397/2397 [==============================] - 1s 261us/step - loss: 1.3482 - accuracy: 0.3346 - val_loss: 1.3582 - val_accuracy: 0.3300\n",
            "Epoch 4/10\n",
            "2397/2397 [==============================] - 1s 273us/step - loss: 1.3493 - accuracy: 0.3179 - val_loss: 1.3526 - val_accuracy: 0.3300\n",
            "Epoch 5/10\n",
            "2397/2397 [==============================] - 1s 238us/step - loss: 1.3438 - accuracy: 0.3333 - val_loss: 1.3487 - val_accuracy: 0.3300\n",
            "Epoch 6/10\n",
            "2397/2397 [==============================] - 1s 252us/step - loss: 1.3380 - accuracy: 0.3454 - val_loss: 1.3468 - val_accuracy: 0.3317\n",
            "Epoch 7/10\n",
            "2397/2397 [==============================] - 1s 236us/step - loss: 1.3281 - accuracy: 0.3484 - val_loss: 1.3291 - val_accuracy: 0.3750\n",
            "Epoch 8/10\n",
            "2397/2397 [==============================] - 1s 244us/step - loss: 1.3173 - accuracy: 0.3630 - val_loss: 1.3181 - val_accuracy: 0.3583\n",
            "Epoch 9/10\n",
            "2397/2397 [==============================] - 1s 260us/step - loss: 1.3129 - accuracy: 0.3767 - val_loss: 1.3133 - val_accuracy: 0.3683\n",
            "Epoch 10/10\n",
            "2397/2397 [==============================] - 1s 224us/step - loss: 1.3068 - accuracy: 0.3813 - val_loss: 1.3100 - val_accuracy: 0.3783\n"
          ],
          "name": "stdout"
        }
      ]
    },
    {
      "cell_type": "code",
      "metadata": {
        "colab_type": "code",
        "outputId": "bcb99d20-0aa3-483e-cba0-4e48ff935663",
        "id": "WHz3L5ctyweo",
        "colab": {
          "base_uri": "https://localhost:8080/",
          "height": 372
        }
      },
      "source": [
        "model.summary()"
      ],
      "execution_count": 0,
      "outputs": [
        {
          "output_type": "stream",
          "text": [
            "Model: \"sequential_11\"\n",
            "_________________________________________________________________\n",
            "Layer (type)                 Output Shape              Param #   \n",
            "=================================================================\n",
            "dense_41 (Dense)             (None, 98)                4900      \n",
            "_________________________________________________________________\n",
            "dropout_20 (Dropout)         (None, 98)                0         \n",
            "_________________________________________________________________\n",
            "dense_42 (Dense)             (None, 49)                4851      \n",
            "_________________________________________________________________\n",
            "dense_43 (Dense)             (None, 25)                1250      \n",
            "_________________________________________________________________\n",
            "dropout_21 (Dropout)         (None, 25)                0         \n",
            "_________________________________________________________________\n",
            "dense_44 (Dense)             (None, 4)                 104       \n",
            "=================================================================\n",
            "Total params: 11,105\n",
            "Trainable params: 11,105\n",
            "Non-trainable params: 0\n",
            "_________________________________________________________________\n"
          ],
          "name": "stdout"
        }
      ]
    },
    {
      "cell_type": "code",
      "metadata": {
        "colab_type": "code",
        "outputId": "c1c16419-271f-4690-f044-4b424e6072b8",
        "id": "S_mFGjiqyweq",
        "colab": {
          "base_uri": "https://localhost:8080/",
          "height": 294
        }
      },
      "source": [
        "plt.plot(history.history['accuracy'])\n",
        "plt.plot(history.history['val_accuracy'])\n",
        "plt.title('model accuracy')\n",
        "plt.ylabel('accuracy')\n",
        "plt.xlabel('epoch')\n",
        "plt.legend(['train', 'test'], loc='upper left')\n",
        "plt.show()"
      ],
      "execution_count": 0,
      "outputs": [
        {
          "output_type": "display_data",
          "data": {
            "image/png": "[encoded data removed]",
            "text/plain": [
              "<Figure size 432x288 with 1 Axes>"
            ]
          },
          "metadata": {
            "tags": [],
            "needs_background": "light"
          }
        }
      ]
    },
    {
      "cell_type": "code",
      "metadata": {
        "colab_type": "code",
        "outputId": "1937bf12-018b-4d16-b431-3efe146aa75c",
        "id": "cS6jIpijywes",
        "colab": {
          "base_uri": "https://localhost:8080/",
          "height": 294
        }
      },
      "source": [
        "# summarize history for loss\n",
        "plt.plot(history.history['loss'])\n",
        "plt.plot(history.history['val_loss'])\n",
        "plt.title('model loss')\n",
        "plt.ylabel('loss')\n",
        "plt.xlabel('epoch')\n",
        "plt.legend(['train', 'test'], loc='upper left')\n",
        "plt.show()"
      ],
      "execution_count": 0,
      "outputs": [
        {
          "output_type": "display_data",
          "data": {
            "image/png": "[encoded data removed]",
            "text/plain": [
              "<Figure size 432x288 with 1 Axes>"
            ]
          },
          "metadata": {
            "tags": [],
            "needs_background": "light"
          }
        }
      ]
    },
    {
      "cell_type": "code",
      "metadata": {
        "colab_type": "code",
        "id": "I1OWT6Jhzwm6",
        "colab": {}
      },
      "source": [
        "#Marcus Stroman"
      ],
      "execution_count": 0,
      "outputs": []
    },
    {
      "cell_type": "code",
      "metadata": {
        "colab_type": "code",
        "outputId": "4490303e-dcfc-400c-8948-42605e2e5929",
        "id": "7vvWqyw0zwm9",
        "colab": {
          "base_uri": "https://localhost:8080/",
          "height": 34
        }
      },
      "source": [
        "stroman = df.loc[df['pitcher_id'] == 573186]\n",
        "stroman.shape"
      ],
      "execution_count": 0,
      "outputs": [
        {
          "output_type": "execute_result",
          "data": {
            "text/plain": [
              "(3049, 17)"
            ]
          },
          "metadata": {
            "tags": []
          },
          "execution_count": 205
        }
      ]
    },
    {
      "cell_type": "code",
      "metadata": {
        "colab_type": "code",
        "id": "oUTuhrJnzwnA",
        "colab": {}
      },
      "source": [
        "stroman = stroman.drop(['ab_id', 'b_score', 'p_score', 'g_id', 'pitcher_id', 'Unnamed: 0'], axis=1)\n"
      ],
      "execution_count": 0,
      "outputs": []
    },
    {
      "cell_type": "code",
      "metadata": {
        "colab_type": "code",
        "id": "l0XadyP7zwnC",
        "colab": {}
      },
      "source": [
        "stroman['event'].fillna('Pitch Thrown', inplace=True)\n"
      ],
      "execution_count": 0,
      "outputs": []
    },
    {
      "cell_type": "code",
      "metadata": {
        "colab_type": "code",
        "outputId": "7d169744-ccb9-41ca-8580-d983adfddb64",
        "id": "bSYMFjJ4zwnE",
        "colab": {
          "base_uri": "https://localhost:8080/",
          "height": 230
        }
      },
      "source": [
        "stroman.isna().any()"
      ],
      "execution_count": 0,
      "outputs": [
        {
          "output_type": "execute_result",
          "data": {
            "text/plain": [
              "outs          False\n",
              "pitch_num     False\n",
              "pitch_type    False\n",
              "stand         False\n",
              "event         False\n",
              "top           False\n",
              "inning        False\n",
              "count         False\n",
              "run diff      False\n",
              "HSS           False\n",
              "next_pitch    False\n",
              "dtype: bool"
            ]
          },
          "metadata": {
            "tags": []
          },
          "execution_count": 208
        }
      ]
    },
    {
      "cell_type": "code",
      "metadata": {
        "colab_type": "code",
        "outputId": "4193bfcf-d74c-44d8-f4fa-ff61b68e782e",
        "id": "X44Ti6kXzwnG",
        "colab": {
          "base_uri": "https://localhost:8080/",
          "height": 158
        }
      },
      "source": [
        "stroman['pitch_type'].value_counts()"
      ],
      "execution_count": 0,
      "outputs": [
        {
          "output_type": "execute_result",
          "data": {
            "text/plain": [
              "FT         1106\n",
              "SL          939\n",
              "FC          735\n",
              "CH          161\n",
              "FF           73\n",
              "CU           30\n",
              "Unknown       5\n",
              "Name: pitch_type, dtype: int64"
            ]
          },
          "metadata": {
            "tags": []
          },
          "execution_count": 209
        }
      ]
    },
    {
      "cell_type": "code",
      "metadata": {
        "id": "J0M2EqOkDL7c",
        "colab_type": "code",
        "outputId": "4a35803d-6f13-458b-cd53-b4db8aadbf4b",
        "colab": {
          "base_uri": "https://localhost:8080/",
          "height": 194
        }
      },
      "source": [
        "stroman['next_pitch'].value_counts()"
      ],
      "execution_count": 0,
      "outputs": [
        {
          "output_type": "execute_result",
          "data": {
            "text/plain": [
              "FT         1043\n",
              "SL          906\n",
              "FC          720\n",
              "CH          164\n",
              "FF          150\n",
              "CU           52\n",
              "SI            6\n",
              "Unknown       5\n",
              "KC            3\n",
              "Name: next_pitch, dtype: int64"
            ]
          },
          "metadata": {
            "tags": []
          },
          "execution_count": 210
        }
      ]
    },
    {
      "cell_type": "code",
      "metadata": {
        "colab_type": "code",
        "id": "F82mdibizwnI",
        "colab": {}
      },
      "source": [
        "stroman = stroman[stroman.pitch_type != 'Unknown']\n",
        "stroman = stroman[stroman.next_pitch != 'Unknown']\n",
        "stroman = stroman[stroman.next_pitch != 'SI']\n",
        "stroman = stroman[stroman.next_pitch != 'KC']"
      ],
      "execution_count": 0,
      "outputs": []
    },
    {
      "cell_type": "code",
      "metadata": {
        "colab_type": "code",
        "outputId": "0ee78f91-3776-4418-b361-b4f60e73d7ef",
        "id": "jXPSudsKzwnK",
        "colab": {
          "base_uri": "https://localhost:8080/",
          "height": 141
        }
      },
      "source": [
        "stroman['pitch_type'].value_counts()"
      ],
      "execution_count": 0,
      "outputs": [
        {
          "output_type": "execute_result",
          "data": {
            "text/plain": [
              "FT    1104\n",
              "SL     935\n",
              "FC     731\n",
              "CH     160\n",
              "FF      73\n",
              "CU      30\n",
              "Name: pitch_type, dtype: int64"
            ]
          },
          "metadata": {
            "tags": []
          },
          "execution_count": 212
        }
      ]
    },
    {
      "cell_type": "code",
      "metadata": {
        "colab_type": "code",
        "outputId": "7e568c76-3c0e-46ba-d7b8-37e32ea4e033",
        "id": "dbZovdLfDYfk",
        "colab": {
          "base_uri": "https://localhost:8080/",
          "height": 141
        }
      },
      "source": [
        "stroman['next_pitch'].value_counts()"
      ],
      "execution_count": 0,
      "outputs": [
        {
          "output_type": "execute_result",
          "data": {
            "text/plain": [
              "FT    1043\n",
              "SL     905\n",
              "FC     720\n",
              "CH     164\n",
              "FF     150\n",
              "CU      51\n",
              "Name: next_pitch, dtype: int64"
            ]
          },
          "metadata": {
            "tags": []
          },
          "execution_count": 213
        }
      ]
    },
    {
      "cell_type": "code",
      "metadata": {
        "colab_type": "code",
        "id": "qEjLzN2OzwnN",
        "colab": {}
      },
      "source": [
        "x = stroman.drop(['next_pitch'], axis=1)"
      ],
      "execution_count": 0,
      "outputs": []
    },
    {
      "cell_type": "code",
      "metadata": {
        "colab_type": "code",
        "id": "6wTrcHXrzwnP",
        "colab": {}
      },
      "source": [
        "y = stroman['next_pitch']"
      ],
      "execution_count": 0,
      "outputs": []
    },
    {
      "cell_type": "code",
      "metadata": {
        "colab_type": "code",
        "outputId": "0eed7028-3557-4300-c09d-c55dcffdee6f",
        "id": "-yLyQ6_-zwnR",
        "colab": {
          "base_uri": "https://localhost:8080/",
          "height": 52
        }
      },
      "source": [
        "print('X Shape', x.shape)\n",
        "print ('Y Shape', y.shape)"
      ],
      "execution_count": 0,
      "outputs": [
        {
          "output_type": "stream",
          "text": [
            "X Shape (3033, 10)\n",
            "Y Shape (3033,)\n"
          ],
          "name": "stdout"
        }
      ]
    },
    {
      "cell_type": "code",
      "metadata": {
        "colab_type": "code",
        "outputId": "6dab753e-0ccd-4a92-bba2-d7faf5d04a29",
        "id": "ouhdvS7lzwnT",
        "colab": {
          "base_uri": "https://localhost:8080/",
          "height": 197
        }
      },
      "source": [
        "x.head()"
      ],
      "execution_count": 0,
      "outputs": [
        {
          "output_type": "execute_result",
          "data": {
            "text/html": [
              "<div>\n",
              "<style scoped>\n",
              "    .dataframe tbody tr th:only-of-type {\n",
              "        vertical-align: middle;\n",
              "    }\n",
              "\n",
              "    .dataframe tbody tr th {\n",
              "        vertical-align: top;\n",
              "    }\n",
              "\n",
              "    .dataframe thead th {\n",
              "        text-align: right;\n",
              "    }\n",
              "</style>\n",
              "<table border=\"1\" class=\"dataframe\">\n",
              "  <thead>\n",
              "    <tr style=\"text-align: right;\">\n",
              "      <th></th>\n",
              "      <th>outs</th>\n",
              "      <th>pitch_num</th>\n",
              "      <th>pitch_type</th>\n",
              "      <th>stand</th>\n",
              "      <th>event</th>\n",
              "      <th>top</th>\n",
              "      <th>inning</th>\n",
              "      <th>count</th>\n",
              "      <th>run diff</th>\n",
              "      <th>HSS</th>\n",
              "    </tr>\n",
              "  </thead>\n",
              "  <tbody>\n",
              "    <tr>\n",
              "      <th>2503</th>\n",
              "      <td>0.0</td>\n",
              "      <td>1.0</td>\n",
              "      <td>FT</td>\n",
              "      <td>R</td>\n",
              "      <td>Pitch Thrown</td>\n",
              "      <td>1.0</td>\n",
              "      <td>1.0</td>\n",
              "      <td>0.0-0.0</td>\n",
              "      <td>0.0</td>\n",
              "      <td>0</td>\n",
              "    </tr>\n",
              "    <tr>\n",
              "      <th>2504</th>\n",
              "      <td>0.0</td>\n",
              "      <td>2.0</td>\n",
              "      <td>FT</td>\n",
              "      <td>R</td>\n",
              "      <td>Pitch Thrown</td>\n",
              "      <td>1.0</td>\n",
              "      <td>1.0</td>\n",
              "      <td>1.0-0.0</td>\n",
              "      <td>0.0</td>\n",
              "      <td>0</td>\n",
              "    </tr>\n",
              "    <tr>\n",
              "      <th>2505</th>\n",
              "      <td>0.0</td>\n",
              "      <td>3.0</td>\n",
              "      <td>FT</td>\n",
              "      <td>R</td>\n",
              "      <td>Pitch Thrown</td>\n",
              "      <td>1.0</td>\n",
              "      <td>1.0</td>\n",
              "      <td>2.0-0.0</td>\n",
              "      <td>0.0</td>\n",
              "      <td>0</td>\n",
              "    </tr>\n",
              "    <tr>\n",
              "      <th>2506</th>\n",
              "      <td>0.0</td>\n",
              "      <td>4.0</td>\n",
              "      <td>FF</td>\n",
              "      <td>R</td>\n",
              "      <td>Pitch Thrown</td>\n",
              "      <td>1.0</td>\n",
              "      <td>1.0</td>\n",
              "      <td>3.0-0.0</td>\n",
              "      <td>0.0</td>\n",
              "      <td>0</td>\n",
              "    </tr>\n",
              "    <tr>\n",
              "      <th>2507</th>\n",
              "      <td>0.0</td>\n",
              "      <td>1.0</td>\n",
              "      <td>FT</td>\n",
              "      <td>R</td>\n",
              "      <td>Forceout</td>\n",
              "      <td>1.0</td>\n",
              "      <td>1.0</td>\n",
              "      <td>0.0-0.0</td>\n",
              "      <td>0.0</td>\n",
              "      <td>0</td>\n",
              "    </tr>\n",
              "  </tbody>\n",
              "</table>\n",
              "</div>"
            ],
            "text/plain": [
              "      outs  pitch_num pitch_type stand  ... inning    count  run diff HSS\n",
              "2503   0.0        1.0         FT     R  ...    1.0  0.0-0.0       0.0   0\n",
              "2504   0.0        2.0         FT     R  ...    1.0  1.0-0.0       0.0   0\n",
              "2505   0.0        3.0         FT     R  ...    1.0  2.0-0.0       0.0   0\n",
              "2506   0.0        4.0         FF     R  ...    1.0  3.0-0.0       0.0   0\n",
              "2507   0.0        1.0         FT     R  ...    1.0  0.0-0.0       0.0   0\n",
              "\n",
              "[5 rows x 10 columns]"
            ]
          },
          "metadata": {
            "tags": []
          },
          "execution_count": 217
        }
      ]
    },
    {
      "cell_type": "code",
      "metadata": {
        "colab_type": "code",
        "id": "fnEf1GL1zwnV",
        "colab": {}
      },
      "source": [
        "#Time to encode Y\n",
        "encoder = LabelEncoder()\n",
        "encoder.fit(y)\n",
        "encoded_y = encoder.transform(y)\n",
        "\n",
        "dummy_y = np_utils.to_categorical(encoded_y)\n"
      ],
      "execution_count": 0,
      "outputs": []
    },
    {
      "cell_type": "code",
      "metadata": {
        "colab_type": "code",
        "id": "98DrexICzwnY",
        "colab": {}
      },
      "source": [
        "x = pd.get_dummies(x, columns=['outs', 'pitch_type', 'stand', 'event', 'top', 'inning', 'count', 'HSS'])"
      ],
      "execution_count": 0,
      "outputs": []
    },
    {
      "cell_type": "code",
      "metadata": {
        "colab_type": "code",
        "outputId": "48c18d85-b5c9-4e99-fbbe-dedde93bbc4c",
        "id": "VEXYzDe_zwna",
        "colab": {
          "base_uri": "https://localhost:8080/",
          "height": 34
        }
      },
      "source": [
        "x.shape"
      ],
      "execution_count": 0,
      "outputs": [
        {
          "output_type": "execute_result",
          "data": {
            "text/plain": [
              "(3033, 57)"
            ]
          },
          "metadata": {
            "tags": []
          },
          "execution_count": 220
        }
      ]
    },
    {
      "cell_type": "code",
      "metadata": {
        "colab_type": "code",
        "outputId": "4ef1b52a-e3f8-4377-eec2-63a6c48c0457",
        "id": "KaldKwohzwnc",
        "colab": {
          "base_uri": "https://localhost:8080/",
          "height": 141
        }
      },
      "source": [
        "dummy_y"
      ],
      "execution_count": 0,
      "outputs": [
        {
          "output_type": "execute_result",
          "data": {
            "text/plain": [
              "array([[0., 0., 0., 0., 1., 0.],\n",
              "       [0., 0., 0., 0., 1., 0.],\n",
              "       [0., 0., 0., 1., 0., 0.],\n",
              "       ...,\n",
              "       [0., 0., 1., 0., 0., 0.],\n",
              "       [0., 0., 1., 0., 0., 0.],\n",
              "       [0., 0., 0., 0., 0., 1.]], dtype=float32)"
            ]
          },
          "metadata": {
            "tags": []
          },
          "execution_count": 221
        }
      ]
    },
    {
      "cell_type": "code",
      "metadata": {
        "colab_type": "code",
        "id": "bUxR718yzwng",
        "colab": {}
      },
      "source": [
        "#split data into train/test\n",
        "\n",
        "x_train, x_test, y_train, y_test = train_test_split(x, dummy_y, test_size=0.2, random_state=92)"
      ],
      "execution_count": 0,
      "outputs": []
    },
    {
      "cell_type": "code",
      "metadata": {
        "colab_type": "code",
        "outputId": "a0f40128-7585-4631-84a3-601d91e08f76",
        "id": "4xI_mKqpzwni",
        "colab": {
          "base_uri": "https://localhost:8080/",
          "height": 87
        }
      },
      "source": [
        "print('X Train Shape', x_train.shape)\n",
        "print('X Test Shape', x_test.shape)\n",
        "print('Y Train Shape', y_train.shape)\n",
        "print('Y Test Shape', y_test.shape)"
      ],
      "execution_count": 0,
      "outputs": [
        {
          "output_type": "stream",
          "text": [
            "X Train Shape (2426, 57)\n",
            "X Test Shape (607, 57)\n",
            "Y Train Shape (2426, 6)\n",
            "Y Test Shape (607, 6)\n"
          ],
          "name": "stdout"
        }
      ]
    },
    {
      "cell_type": "code",
      "metadata": {
        "colab_type": "code",
        "id": "n6PMi0mrzwnk",
        "colab": {}
      },
      "source": [
        "model = Sequential()\n",
        "model.add(Dense(104, input_dim=57, kernel_initializer = 'uniform', activation='hard_sigmoid'))\n",
        "model.add(Dropout(0.3))\n",
        "model.add(Dense(57, activation='hard_sigmoid'))\n",
        "model.add(Dense(25, activation='hard_sigmoid'))\n",
        "model.add(Dropout(0.3))\n",
        "model.add(Dense(6, activation='sigmoid'))"
      ],
      "execution_count": 0,
      "outputs": []
    },
    {
      "cell_type": "code",
      "metadata": {
        "colab_type": "code",
        "id": "61k2WHyxzwnm",
        "colab": {}
      },
      "source": [
        "#optimizer = keras.optimizers.adam(lr=0.3)\n",
        "\n",
        "model.compile(loss='categorical_crossentropy', optimizer='adam', metrics=['accuracy'])"
      ],
      "execution_count": 0,
      "outputs": []
    },
    {
      "cell_type": "code",
      "metadata": {
        "colab_type": "code",
        "outputId": "95b1cacd-5dea-4b0c-ffce-59b652219676",
        "id": "eLi5fVlkzwno",
        "colab": {
          "base_uri": "https://localhost:8080/",
          "height": 390
        }
      },
      "source": [
        "history = model.fit(x_train, y_train, validation_data=(x_test, y_test), epochs=10, batch_size=10)"
      ],
      "execution_count": 0,
      "outputs": [
        {
          "output_type": "stream",
          "text": [
            "Train on 2426 samples, validate on 607 samples\n",
            "Epoch 1/10\n",
            "2426/2426 [==============================] - 1s 299us/step - loss: 1.5440 - accuracy: 0.3252 - val_loss: 1.4414 - val_accuracy: 0.3657\n",
            "Epoch 2/10\n",
            "2426/2426 [==============================] - 1s 242us/step - loss: 1.4617 - accuracy: 0.3392 - val_loss: 1.4445 - val_accuracy: 0.3657\n",
            "Epoch 3/10\n",
            "2426/2426 [==============================] - 1s 206us/step - loss: 1.4606 - accuracy: 0.3368 - val_loss: 1.4431 - val_accuracy: 0.3657\n",
            "Epoch 4/10\n",
            "2426/2426 [==============================] - 1s 219us/step - loss: 1.4554 - accuracy: 0.3203 - val_loss: 1.4409 - val_accuracy: 0.3657\n",
            "Epoch 5/10\n",
            "2426/2426 [==============================] - 0s 205us/step - loss: 1.4536 - accuracy: 0.3397 - val_loss: 1.4384 - val_accuracy: 0.3657\n",
            "Epoch 6/10\n",
            "2426/2426 [==============================] - 1s 233us/step - loss: 1.4455 - accuracy: 0.3322 - val_loss: 1.4306 - val_accuracy: 0.3657\n",
            "Epoch 7/10\n",
            "2426/2426 [==============================] - 1s 222us/step - loss: 1.4276 - accuracy: 0.3368 - val_loss: 1.4096 - val_accuracy: 0.3657\n",
            "Epoch 8/10\n",
            "2426/2426 [==============================] - 0s 203us/step - loss: 1.4129 - accuracy: 0.3384 - val_loss: 1.3964 - val_accuracy: 0.3657\n",
            "Epoch 9/10\n",
            "2426/2426 [==============================] - 0s 195us/step - loss: 1.4062 - accuracy: 0.3409 - val_loss: 1.3869 - val_accuracy: 0.3608\n",
            "Epoch 10/10\n",
            "2426/2426 [==============================] - 1s 208us/step - loss: 1.3930 - accuracy: 0.3512 - val_loss: 1.3828 - val_accuracy: 0.3608\n"
          ],
          "name": "stdout"
        }
      ]
    },
    {
      "cell_type": "code",
      "metadata": {
        "colab_type": "code",
        "outputId": "545e76d4-ee47-4bd6-c9af-16433b02b6b7",
        "id": "rjNHxuN5zwns",
        "colab": {
          "base_uri": "https://localhost:8080/",
          "height": 372
        }
      },
      "source": [
        "model.summary()"
      ],
      "execution_count": 0,
      "outputs": [
        {
          "output_type": "stream",
          "text": [
            "Model: \"sequential_12\"\n",
            "_________________________________________________________________\n",
            "Layer (type)                 Output Shape              Param #   \n",
            "=================================================================\n",
            "dense_45 (Dense)             (None, 104)               6032      \n",
            "_________________________________________________________________\n",
            "dropout_22 (Dropout)         (None, 104)               0         \n",
            "_________________________________________________________________\n",
            "dense_46 (Dense)             (None, 57)                5985      \n",
            "_________________________________________________________________\n",
            "dense_47 (Dense)             (None, 25)                1450      \n",
            "_________________________________________________________________\n",
            "dropout_23 (Dropout)         (None, 25)                0         \n",
            "_________________________________________________________________\n",
            "dense_48 (Dense)             (None, 6)                 156       \n",
            "=================================================================\n",
            "Total params: 13,623\n",
            "Trainable params: 13,623\n",
            "Non-trainable params: 0\n",
            "_________________________________________________________________\n"
          ],
          "name": "stdout"
        }
      ]
    },
    {
      "cell_type": "code",
      "metadata": {
        "colab_type": "code",
        "outputId": "080f3f9a-2bc2-4d14-f1a7-2d89c98d3049",
        "id": "FlQXWj-szwnv",
        "colab": {
          "base_uri": "https://localhost:8080/",
          "height": 294
        }
      },
      "source": [
        "plt.plot(history.history['accuracy'])\n",
        "plt.plot(history.history['val_accuracy'])\n",
        "plt.title('model accuracy')\n",
        "plt.ylabel('accuracy')\n",
        "plt.xlabel('epoch')\n",
        "plt.legend(['train', 'test'], loc='upper left')\n",
        "plt.show()"
      ],
      "execution_count": 0,
      "outputs": [
        {
          "output_type": "display_data",
          "data": {
            "image/png": "[encoded data removed]",
            "text/plain": [
              "<Figure size 432x288 with 1 Axes>"
            ]
          },
          "metadata": {
            "tags": [],
            "needs_background": "light"
          }
        }
      ]
    },
    {
      "cell_type": "code",
      "metadata": {
        "colab_type": "code",
        "outputId": "05934b74-b61e-4cfc-c2c9-054657076139",
        "id": "jbJHEAY4zwnx",
        "colab": {
          "base_uri": "https://localhost:8080/",
          "height": 294
        }
      },
      "source": [
        "# summarize history for loss\n",
        "plt.plot(history.history['loss'])\n",
        "plt.plot(history.history['val_loss'])\n",
        "plt.title('model loss')\n",
        "plt.ylabel('loss')\n",
        "plt.xlabel('epoch')\n",
        "plt.legend(['train', 'test'], loc='upper left')\n",
        "plt.show()"
      ],
      "execution_count": 0,
      "outputs": [
        {
          "output_type": "display_data",
          "data": {
            "image/png": "[encoded data removed]",
            "text/plain": [
              "<Figure size 432x288 with 1 Axes>"
            ]
          },
          "metadata": {
            "tags": [],
            "needs_background": "light"
          }
        }
      ]
    },
    {
      "cell_type": "code",
      "metadata": {
        "colab_type": "code",
        "id": "TzaSjls91a_C",
        "colab": {}
      },
      "source": [
        "#Yu Darvish"
      ],
      "execution_count": 0,
      "outputs": []
    },
    {
      "cell_type": "code",
      "metadata": {
        "colab_type": "code",
        "outputId": "e8175fcd-44b6-40c5-e18b-c59e20ff5fea",
        "id": "3SNoKy5k1a_U",
        "colab": {
          "base_uri": "https://localhost:8080/",
          "height": 34
        }
      },
      "source": [
        "darvish = df.loc[df['pitcher_id'] == 506433]\n",
        "darvish.shape"
      ],
      "execution_count": 0,
      "outputs": [
        {
          "output_type": "execute_result",
          "data": {
            "text/plain": [
              "(2851, 17)"
            ]
          },
          "metadata": {
            "tags": []
          },
          "execution_count": 230
        }
      ]
    },
    {
      "cell_type": "code",
      "metadata": {
        "colab_type": "code",
        "id": "ma3idSKs1a_p",
        "colab": {}
      },
      "source": [
        "darvish = darvish.drop(['ab_id', 'b_score', 'p_score', 'g_id', 'pitcher_id', 'Unnamed: 0'], axis=1)\n"
      ],
      "execution_count": 0,
      "outputs": []
    },
    {
      "cell_type": "code",
      "metadata": {
        "colab_type": "code",
        "id": "IAR26SD61a_3",
        "colab": {}
      },
      "source": [
        "darvish['event'].fillna('Pitch Thrown', inplace=True)\n"
      ],
      "execution_count": 0,
      "outputs": []
    },
    {
      "cell_type": "code",
      "metadata": {
        "colab_type": "code",
        "outputId": "36b0593b-0858-42bb-95ff-ede2f6d149f7",
        "id": "xV_7NwUO1bAF",
        "colab": {
          "base_uri": "https://localhost:8080/",
          "height": 230
        }
      },
      "source": [
        "darvish.isna().any()"
      ],
      "execution_count": 0,
      "outputs": [
        {
          "output_type": "execute_result",
          "data": {
            "text/plain": [
              "outs          False\n",
              "pitch_num     False\n",
              "pitch_type    False\n",
              "stand         False\n",
              "event         False\n",
              "top           False\n",
              "inning        False\n",
              "count         False\n",
              "run diff      False\n",
              "HSS           False\n",
              "next_pitch    False\n",
              "dtype: bool"
            ]
          },
          "metadata": {
            "tags": []
          },
          "execution_count": 233
        }
      ]
    },
    {
      "cell_type": "code",
      "metadata": {
        "colab_type": "code",
        "outputId": "65bdf25d-5bee-4415-a46e-ffb5f5af7092",
        "id": "76fhdZx61bAT",
        "colab": {
          "base_uri": "https://localhost:8080/",
          "height": 212
        }
      },
      "source": [
        "darvish['pitch_type'].value_counts()"
      ],
      "execution_count": 0,
      "outputs": [
        {
          "output_type": "execute_result",
          "data": {
            "text/plain": [
              "FC         1040\n",
              "FF          763\n",
              "SL          392\n",
              "FT          334\n",
              "CU          138\n",
              "FS          108\n",
              "KC           59\n",
              "CH           12\n",
              "Unknown       3\n",
              "EP            2\n",
              "Name: pitch_type, dtype: int64"
            ]
          },
          "metadata": {
            "tags": []
          },
          "execution_count": 234
        }
      ]
    },
    {
      "cell_type": "code",
      "metadata": {
        "id": "5ppm28jIDvZY",
        "colab_type": "code",
        "outputId": "71110d08-34a8-49e1-c057-def6bff9b726",
        "colab": {
          "base_uri": "https://localhost:8080/",
          "height": 230
        }
      },
      "source": [
        "darvish['next_pitch'].value_counts()"
      ],
      "execution_count": 0,
      "outputs": [
        {
          "output_type": "execute_result",
          "data": {
            "text/plain": [
              "FC         992\n",
              "FF         764\n",
              "SL         383\n",
              "FT         344\n",
              "CU         161\n",
              "FS         105\n",
              "KC          65\n",
              "CH          21\n",
              "SI          11\n",
              "Unknown      3\n",
              "EP           2\n",
              "Name: next_pitch, dtype: int64"
            ]
          },
          "metadata": {
            "tags": []
          },
          "execution_count": 235
        }
      ]
    },
    {
      "cell_type": "code",
      "metadata": {
        "colab_type": "code",
        "id": "QgVK1BGL1bAh",
        "colab": {}
      },
      "source": [
        "darvish = darvish[darvish.pitch_type != 'Unknown']\n",
        "darvish = darvish[darvish.next_pitch != 'Unknown']\n",
        "darvish = darvish[darvish.next_pitch != 'SI']"
      ],
      "execution_count": 0,
      "outputs": []
    },
    {
      "cell_type": "code",
      "metadata": {
        "colab_type": "code",
        "outputId": "e3d6c6ee-a2ae-4f78-c0c7-7b0e98ffd97c",
        "id": "8DF1BXID1bAw",
        "colab": {
          "base_uri": "https://localhost:8080/",
          "height": 194
        }
      },
      "source": [
        "darvish['pitch_type'].value_counts()"
      ],
      "execution_count": 0,
      "outputs": [
        {
          "output_type": "execute_result",
          "data": {
            "text/plain": [
              "FC    1034\n",
              "FF     762\n",
              "SL     391\n",
              "FT     332\n",
              "CU     138\n",
              "FS     107\n",
              "KC      58\n",
              "CH      12\n",
              "EP       2\n",
              "Name: pitch_type, dtype: int64"
            ]
          },
          "metadata": {
            "tags": []
          },
          "execution_count": 237
        }
      ]
    },
    {
      "cell_type": "code",
      "metadata": {
        "colab_type": "code",
        "outputId": "d55e9f5d-7db4-4dfb-f596-706af233240e",
        "id": "rpxJ8UyPD6iQ",
        "colab": {
          "base_uri": "https://localhost:8080/",
          "height": 194
        }
      },
      "source": [
        "darvish['next_pitch'].value_counts()"
      ],
      "execution_count": 0,
      "outputs": [
        {
          "output_type": "execute_result",
          "data": {
            "text/plain": [
              "FC    992\n",
              "FF    764\n",
              "SL    382\n",
              "FT    344\n",
              "CU    161\n",
              "FS    105\n",
              "KC     65\n",
              "CH     21\n",
              "EP      2\n",
              "Name: next_pitch, dtype: int64"
            ]
          },
          "metadata": {
            "tags": []
          },
          "execution_count": 238
        }
      ]
    },
    {
      "cell_type": "code",
      "metadata": {
        "colab_type": "code",
        "id": "Sk77TsOu1bA-",
        "colab": {}
      },
      "source": [
        "x = darvish.drop(['next_pitch'], axis=1)"
      ],
      "execution_count": 0,
      "outputs": []
    },
    {
      "cell_type": "code",
      "metadata": {
        "colab_type": "code",
        "id": "lLYmAkHR1bBM",
        "colab": {}
      },
      "source": [
        "y = darvish['next_pitch']"
      ],
      "execution_count": 0,
      "outputs": []
    },
    {
      "cell_type": "code",
      "metadata": {
        "colab_type": "code",
        "outputId": "6e22b7e0-bdae-4eed-c531-a54124d14f8a",
        "id": "DJ5CsZnQ1bBx",
        "colab": {
          "base_uri": "https://localhost:8080/",
          "height": 52
        }
      },
      "source": [
        "print('X Shape', x.shape)\n",
        "print ('Y Shape', y.shape)"
      ],
      "execution_count": 0,
      "outputs": [
        {
          "output_type": "stream",
          "text": [
            "X Shape (2836, 10)\n",
            "Y Shape (2836,)\n"
          ],
          "name": "stdout"
        }
      ]
    },
    {
      "cell_type": "code",
      "metadata": {
        "colab_type": "code",
        "outputId": "4571789e-5564-462b-c6b7-18d8b0e5b58e",
        "id": "rnRUugCL1bBz",
        "colab": {
          "base_uri": "https://localhost:8080/",
          "height": 197
        }
      },
      "source": [
        "x.head()"
      ],
      "execution_count": 0,
      "outputs": [
        {
          "output_type": "execute_result",
          "data": {
            "text/html": [
              "<div>\n",
              "<style scoped>\n",
              "    .dataframe tbody tr th:only-of-type {\n",
              "        vertical-align: middle;\n",
              "    }\n",
              "\n",
              "    .dataframe tbody tr th {\n",
              "        vertical-align: top;\n",
              "    }\n",
              "\n",
              "    .dataframe thead th {\n",
              "        text-align: right;\n",
              "    }\n",
              "</style>\n",
              "<table border=\"1\" class=\"dataframe\">\n",
              "  <thead>\n",
              "    <tr style=\"text-align: right;\">\n",
              "      <th></th>\n",
              "      <th>outs</th>\n",
              "      <th>pitch_num</th>\n",
              "      <th>pitch_type</th>\n",
              "      <th>stand</th>\n",
              "      <th>event</th>\n",
              "      <th>top</th>\n",
              "      <th>inning</th>\n",
              "      <th>count</th>\n",
              "      <th>run diff</th>\n",
              "      <th>HSS</th>\n",
              "    </tr>\n",
              "  </thead>\n",
              "  <tbody>\n",
              "    <tr>\n",
              "      <th>8446</th>\n",
              "      <td>0.0</td>\n",
              "      <td>1.0</td>\n",
              "      <td>FF</td>\n",
              "      <td>L</td>\n",
              "      <td>Pitch Thrown</td>\n",
              "      <td>0.0</td>\n",
              "      <td>1.0</td>\n",
              "      <td>0.0-0.0</td>\n",
              "      <td>3.0</td>\n",
              "      <td>0</td>\n",
              "    </tr>\n",
              "    <tr>\n",
              "      <th>8447</th>\n",
              "      <td>0.0</td>\n",
              "      <td>2.0</td>\n",
              "      <td>SL</td>\n",
              "      <td>L</td>\n",
              "      <td>Pitch Thrown</td>\n",
              "      <td>0.0</td>\n",
              "      <td>1.0</td>\n",
              "      <td>1.0-0.0</td>\n",
              "      <td>3.0</td>\n",
              "      <td>0</td>\n",
              "    </tr>\n",
              "    <tr>\n",
              "      <th>8448</th>\n",
              "      <td>0.0</td>\n",
              "      <td>3.0</td>\n",
              "      <td>FF</td>\n",
              "      <td>L</td>\n",
              "      <td>Pitch Thrown</td>\n",
              "      <td>0.0</td>\n",
              "      <td>1.0</td>\n",
              "      <td>1.0-0.0</td>\n",
              "      <td>3.0</td>\n",
              "      <td>0</td>\n",
              "    </tr>\n",
              "    <tr>\n",
              "      <th>8449</th>\n",
              "      <td>0.0</td>\n",
              "      <td>4.0</td>\n",
              "      <td>SL</td>\n",
              "      <td>L</td>\n",
              "      <td>Pitch Thrown</td>\n",
              "      <td>0.0</td>\n",
              "      <td>1.0</td>\n",
              "      <td>2.0-0.0</td>\n",
              "      <td>3.0</td>\n",
              "      <td>0</td>\n",
              "    </tr>\n",
              "    <tr>\n",
              "      <th>8450</th>\n",
              "      <td>0.0</td>\n",
              "      <td>5.0</td>\n",
              "      <td>FC</td>\n",
              "      <td>L</td>\n",
              "      <td>Strikeout</td>\n",
              "      <td>0.0</td>\n",
              "      <td>1.0</td>\n",
              "      <td>2.0-0.0</td>\n",
              "      <td>3.0</td>\n",
              "      <td>0</td>\n",
              "    </tr>\n",
              "  </tbody>\n",
              "</table>\n",
              "</div>"
            ],
            "text/plain": [
              "      outs  pitch_num pitch_type stand  ... inning    count  run diff HSS\n",
              "8446   0.0        1.0         FF     L  ...    1.0  0.0-0.0       3.0   0\n",
              "8447   0.0        2.0         SL     L  ...    1.0  1.0-0.0       3.0   0\n",
              "8448   0.0        3.0         FF     L  ...    1.0  1.0-0.0       3.0   0\n",
              "8449   0.0        4.0         SL     L  ...    1.0  2.0-0.0       3.0   0\n",
              "8450   0.0        5.0         FC     L  ...    1.0  2.0-0.0       3.0   0\n",
              "\n",
              "[5 rows x 10 columns]"
            ]
          },
          "metadata": {
            "tags": []
          },
          "execution_count": 242
        }
      ]
    },
    {
      "cell_type": "code",
      "metadata": {
        "colab_type": "code",
        "id": "EJSfrVFO1bB1",
        "colab": {}
      },
      "source": [
        "#Time to encode Y\n",
        "encoder = LabelEncoder()\n",
        "encoder.fit(y)\n",
        "encoded_y = encoder.transform(y)\n",
        "\n",
        "dummy_y = np_utils.to_categorical(encoded_y)\n"
      ],
      "execution_count": 0,
      "outputs": []
    },
    {
      "cell_type": "code",
      "metadata": {
        "colab_type": "code",
        "id": "_ys3E3NP1bB4",
        "colab": {}
      },
      "source": [
        "x = pd.get_dummies(x, columns=['outs', 'pitch_type', 'stand', 'event', 'top', 'inning', 'count', 'HSS'])"
      ],
      "execution_count": 0,
      "outputs": []
    },
    {
      "cell_type": "code",
      "metadata": {
        "colab_type": "code",
        "outputId": "7815374f-f592-45be-c2de-41f2c5ff2321",
        "id": "Z5ldeviW1bB6",
        "colab": {
          "base_uri": "https://localhost:8080/",
          "height": 34
        }
      },
      "source": [
        "x.shape"
      ],
      "execution_count": 0,
      "outputs": [
        {
          "output_type": "execute_result",
          "data": {
            "text/plain": [
              "(2836, 54)"
            ]
          },
          "metadata": {
            "tags": []
          },
          "execution_count": 245
        }
      ]
    },
    {
      "cell_type": "code",
      "metadata": {
        "colab_type": "code",
        "outputId": "8113fb4d-b63c-480b-d60f-a7a3564b1304",
        "id": "KmPjHPyP1bB8",
        "colab": {
          "base_uri": "https://localhost:8080/",
          "height": 141
        }
      },
      "source": [
        "dummy_y"
      ],
      "execution_count": 0,
      "outputs": [
        {
          "output_type": "execute_result",
          "data": {
            "text/plain": [
              "array([[0., 0., 0., ..., 0., 0., 1.],\n",
              "       [0., 0., 0., ..., 0., 0., 0.],\n",
              "       [0., 0., 0., ..., 0., 0., 1.],\n",
              "       ...,\n",
              "       [0., 0., 0., ..., 0., 0., 0.],\n",
              "       [0., 0., 0., ..., 1., 0., 0.],\n",
              "       [0., 0., 0., ..., 0., 0., 1.]], dtype=float32)"
            ]
          },
          "metadata": {
            "tags": []
          },
          "execution_count": 246
        }
      ]
    },
    {
      "cell_type": "code",
      "metadata": {
        "colab_type": "code",
        "id": "TAkedbfz1bB-",
        "colab": {}
      },
      "source": [
        "#split data into train/test\n",
        "\n",
        "x_train, x_test, y_train, y_test = train_test_split(x, dummy_y, test_size=0.2, random_state=92)"
      ],
      "execution_count": 0,
      "outputs": []
    },
    {
      "cell_type": "code",
      "metadata": {
        "colab_type": "code",
        "outputId": "81185d3c-b476-4f1a-8f44-4e18b4097a84",
        "id": "Kx_NTyQz1bCA",
        "colab": {
          "base_uri": "https://localhost:8080/",
          "height": 87
        }
      },
      "source": [
        "print('X Train Shape', x_train.shape)\n",
        "print('X Test Shape', x_test.shape)\n",
        "print('Y Train Shape', y_train.shape)\n",
        "print('Y Test Shape', y_test.shape)"
      ],
      "execution_count": 0,
      "outputs": [
        {
          "output_type": "stream",
          "text": [
            "X Train Shape (2268, 54)\n",
            "X Test Shape (568, 54)\n",
            "Y Train Shape (2268, 9)\n",
            "Y Test Shape (568, 9)\n"
          ],
          "name": "stdout"
        }
      ]
    },
    {
      "cell_type": "code",
      "metadata": {
        "colab_type": "code",
        "id": "kiXCYqTx1bCF",
        "colab": {}
      },
      "source": [
        "model = Sequential()\n",
        "model.add(Dense(108, input_dim=54, kernel_initializer = 'uniform', activation='hard_sigmoid'))\n",
        "model.add(Dropout(0.3))\n",
        "model.add(Dense(54, activation='hard_sigmoid'))\n",
        "model.add(Dense(27, activation='hard_sigmoid'))\n",
        "model.add(Dropout(0.3))\n",
        "model.add(Dense(9, activation='sigmoid'))"
      ],
      "execution_count": 0,
      "outputs": []
    },
    {
      "cell_type": "code",
      "metadata": {
        "colab_type": "code",
        "id": "1IO_2s7F1bCM",
        "colab": {}
      },
      "source": [
        "#optimizer = keras.optimizers.adam(lr=0.3)\n",
        "\n",
        "model.compile(loss='categorical_crossentropy', optimizer='adam', metrics=['accuracy'])"
      ],
      "execution_count": 0,
      "outputs": []
    },
    {
      "cell_type": "code",
      "metadata": {
        "colab_type": "code",
        "outputId": "58c42df0-8715-4703-b379-743932eca0dd",
        "id": "ILPKVSRK1bCP",
        "colab": {
          "base_uri": "https://localhost:8080/",
          "height": 390
        }
      },
      "source": [
        "history = model.fit(x_train, y_train, validation_data=(x_test, y_test), epochs=10, batch_size=10)"
      ],
      "execution_count": 0,
      "outputs": [
        {
          "output_type": "stream",
          "text": [
            "Train on 2268 samples, validate on 568 samples\n",
            "Epoch 1/10\n",
            "2268/2268 [==============================] - 1s 306us/step - loss: 1.8330 - accuracy: 0.3003 - val_loss: 1.6965 - val_accuracy: 0.3046\n",
            "Epoch 2/10\n",
            "2268/2268 [==============================] - 0s 217us/step - loss: 1.7015 - accuracy: 0.3448 - val_loss: 1.6851 - val_accuracy: 0.3046\n",
            "Epoch 3/10\n",
            "2268/2268 [==============================] - 0s 192us/step - loss: 1.6902 - accuracy: 0.3611 - val_loss: 1.6914 - val_accuracy: 0.3046\n",
            "Epoch 4/10\n",
            "2268/2268 [==============================] - 0s 203us/step - loss: 1.6807 - accuracy: 0.3598 - val_loss: 1.6865 - val_accuracy: 0.3046\n",
            "Epoch 5/10\n",
            "2268/2268 [==============================] - 1s 231us/step - loss: 1.6835 - accuracy: 0.3624 - val_loss: 1.6870 - val_accuracy: 0.3046\n",
            "Epoch 6/10\n",
            "2268/2268 [==============================] - 1s 243us/step - loss: 1.6715 - accuracy: 0.3593 - val_loss: 1.6930 - val_accuracy: 0.3046\n",
            "Epoch 7/10\n",
            "2268/2268 [==============================] - 1s 283us/step - loss: 1.6738 - accuracy: 0.3611 - val_loss: 1.6870 - val_accuracy: 0.3046\n",
            "Epoch 8/10\n",
            "2268/2268 [==============================] - 1s 234us/step - loss: 1.6643 - accuracy: 0.3607 - val_loss: 1.6833 - val_accuracy: 0.3046\n",
            "Epoch 9/10\n",
            "2268/2268 [==============================] - 0s 208us/step - loss: 1.6624 - accuracy: 0.3611 - val_loss: 1.6801 - val_accuracy: 0.3046\n",
            "Epoch 10/10\n",
            "2268/2268 [==============================] - 0s 204us/step - loss: 1.6562 - accuracy: 0.3607 - val_loss: 1.6741 - val_accuracy: 0.3046\n"
          ],
          "name": "stdout"
        }
      ]
    },
    {
      "cell_type": "code",
      "metadata": {
        "colab_type": "code",
        "outputId": "74dc868e-0d4b-41c0-f8a3-3210da98e5e1",
        "id": "dMb9WF_j1bCT",
        "colab": {
          "base_uri": "https://localhost:8080/",
          "height": 372
        }
      },
      "source": [
        "model.summary()"
      ],
      "execution_count": 0,
      "outputs": [
        {
          "output_type": "stream",
          "text": [
            "Model: \"sequential_13\"\n",
            "_________________________________________________________________\n",
            "Layer (type)                 Output Shape              Param #   \n",
            "=================================================================\n",
            "dense_49 (Dense)             (None, 108)               5940      \n",
            "_________________________________________________________________\n",
            "dropout_24 (Dropout)         (None, 108)               0         \n",
            "_________________________________________________________________\n",
            "dense_50 (Dense)             (None, 54)                5886      \n",
            "_________________________________________________________________\n",
            "dense_51 (Dense)             (None, 27)                1485      \n",
            "_________________________________________________________________\n",
            "dropout_25 (Dropout)         (None, 27)                0         \n",
            "_________________________________________________________________\n",
            "dense_52 (Dense)             (None, 9)                 252       \n",
            "=================================================================\n",
            "Total params: 13,563\n",
            "Trainable params: 13,563\n",
            "Non-trainable params: 0\n",
            "_________________________________________________________________\n"
          ],
          "name": "stdout"
        }
      ]
    },
    {
      "cell_type": "code",
      "metadata": {
        "colab_type": "code",
        "outputId": "356e3d6c-dc94-41b6-f572-1404821e0566",
        "id": "L6CLmL321bCW",
        "colab": {
          "base_uri": "https://localhost:8080/",
          "height": 294
        }
      },
      "source": [
        "plt.plot(history.history['accuracy'])\n",
        "plt.plot(history.history['val_accuracy'])\n",
        "plt.title('model accuracy')\n",
        "plt.ylabel('accuracy')\n",
        "plt.xlabel('epoch')\n",
        "plt.legend(['train', 'test'], loc='upper left')\n",
        "plt.show()"
      ],
      "execution_count": 0,
      "outputs": [
        {
          "output_type": "display_data",
          "data": {
            "image/png": "[encoded data removed]",
            "text/plain": [
              "<Figure size 432x288 with 1 Axes>"
            ]
          },
          "metadata": {
            "tags": [],
            "needs_background": "light"
          }
        }
      ]
    },
    {
      "cell_type": "code",
      "metadata": {
        "colab_type": "code",
        "outputId": "1a1602f4-fbdd-4b23-8d80-bc3c272f3754",
        "id": "zbHCXWQT1bCY",
        "colab": {
          "base_uri": "https://localhost:8080/",
          "height": 294
        }
      },
      "source": [
        "# summarize history for loss\n",
        "plt.plot(history.history['loss'])\n",
        "plt.plot(history.history['val_loss'])\n",
        "plt.title('model loss')\n",
        "plt.ylabel('loss')\n",
        "plt.xlabel('epoch')\n",
        "plt.legend(['train', 'test'], loc='upper left')\n",
        "plt.show()"
      ],
      "execution_count": 0,
      "outputs": [
        {
          "output_type": "display_data",
          "data": {
            "image/png": "[encoded data removed]",
            "text/plain": [
              "<Figure size 432x288 with 1 Axes>"
            ]
          },
          "metadata": {
            "tags": [],
            "needs_background": "light"
          }
        }
      ]
    },
    {
      "cell_type": "code",
      "metadata": {
        "id": "LlI4T2tskZ7X",
        "colab_type": "code",
        "colab": {}
      },
      "source": [
        "#Let's generalize for all pitchers"
      ],
      "execution_count": 0,
      "outputs": []
    },
    {
      "cell_type": "code",
      "metadata": {
        "colab_type": "code",
        "id": "V-PjYtUqmMkf",
        "colab": {}
      },
      "source": [
        "df= df.drop(['ab_id', 'b_score', 'p_score', 'g_id', 'pitcher_id', 'Unnamed: 0'], axis=1)\n"
      ],
      "execution_count": 0,
      "outputs": []
    },
    {
      "cell_type": "code",
      "metadata": {
        "colab_type": "code",
        "outputId": "0bc567a6-785a-46c1-e364-4affcba0e0f4",
        "id": "Fld5rhozmMkh",
        "colab": {
          "base_uri": "https://localhost:8080/",
          "height": 70
        }
      },
      "source": [
        "df.columns"
      ],
      "execution_count": 0,
      "outputs": [
        {
          "output_type": "execute_result",
          "data": {
            "text/plain": [
              "Index(['outs', 'pitch_num', 'pitch_type', 'stand', 'event', 'top', 'inning',\n",
              "       'count', 'run diff', 'HSS', 'next_pitch'],\n",
              "      dtype='object')"
            ]
          },
          "metadata": {
            "tags": []
          },
          "execution_count": 256
        }
      ]
    },
    {
      "cell_type": "code",
      "metadata": {
        "colab_type": "code",
        "id": "e-1WzpRSmMko",
        "colab": {}
      },
      "source": [
        "df['event'].fillna('Pitch Thrown', inplace=True)\n"
      ],
      "execution_count": 0,
      "outputs": []
    },
    {
      "cell_type": "code",
      "metadata": {
        "colab_type": "code",
        "outputId": "d6b3befe-e51b-462c-ddc8-a74308a7655e",
        "id": "KTSiqeIrmMks",
        "colab": {
          "base_uri": "https://localhost:8080/",
          "height": 230
        }
      },
      "source": [
        "df.isna().any()"
      ],
      "execution_count": 0,
      "outputs": [
        {
          "output_type": "execute_result",
          "data": {
            "text/plain": [
              "outs          False\n",
              "pitch_num     False\n",
              "pitch_type    False\n",
              "stand         False\n",
              "event         False\n",
              "top           False\n",
              "inning        False\n",
              "count         False\n",
              "run diff      False\n",
              "HSS           False\n",
              "next_pitch    False\n",
              "dtype: bool"
            ]
          },
          "metadata": {
            "tags": []
          },
          "execution_count": 258
        }
      ]
    },
    {
      "cell_type": "code",
      "metadata": {
        "colab_type": "code",
        "outputId": "1f4e1a81-29a0-4a03-de39-7b2a7969c959",
        "id": "QkTLyJ7cmMku",
        "colab": {
          "base_uri": "https://localhost:8080/",
          "height": 265
        }
      },
      "source": [
        "df['pitch_type'].value_counts()"
      ],
      "execution_count": 0,
      "outputs": [
        {
          "output_type": "execute_result",
          "data": {
            "text/plain": [
              "FF         261485\n",
              "SL         127680\n",
              "CH          79939\n",
              "CU          64166\n",
              "FT          61044\n",
              "SI          55361\n",
              "FC          46339\n",
              "KC          15324\n",
              "FS          10538\n",
              "Unknown      6629\n",
              "KN            200\n",
              "EP             49\n",
              "FO             36\n",
              "Name: pitch_type, dtype: int64"
            ]
          },
          "metadata": {
            "tags": []
          },
          "execution_count": 259
        }
      ]
    },
    {
      "cell_type": "code",
      "metadata": {
        "colab_type": "code",
        "id": "2817TDGamMkw",
        "colab": {}
      },
      "source": [
        "df = df[df.pitch_type != 'Unknown']\n",
        "df = df[df.next_pitch != 'Unknown']"
      ],
      "execution_count": 0,
      "outputs": []
    },
    {
      "cell_type": "code",
      "metadata": {
        "colab_type": "code",
        "outputId": "ec78df10-6dc2-4571-fe80-6097a81bf5d2",
        "id": "8IdNI4NLmMky",
        "colab": {
          "base_uri": "https://localhost:8080/",
          "height": 247
        }
      },
      "source": [
        "df['pitch_type'].value_counts()"
      ],
      "execution_count": 0,
      "outputs": [
        {
          "output_type": "execute_result",
          "data": {
            "text/plain": [
              "FF    261157\n",
              "SL    127458\n",
              "CH     79823\n",
              "CU     64064\n",
              "FT     60962\n",
              "SI     55260\n",
              "FC     46263\n",
              "KC     15306\n",
              "FS     10521\n",
              "KN       199\n",
              "EP        49\n",
              "FO        36\n",
              "Name: pitch_type, dtype: int64"
            ]
          },
          "metadata": {
            "tags": []
          },
          "execution_count": 261
        }
      ]
    },
    {
      "cell_type": "code",
      "metadata": {
        "id": "R2g3YMxgEdwQ",
        "colab_type": "code",
        "outputId": "675a25b0-adf8-4eca-d69b-2fec521d21fa",
        "colab": {
          "base_uri": "https://localhost:8080/",
          "height": 247
        }
      },
      "source": [
        "df['next_pitch'].value_counts()"
      ],
      "execution_count": 0,
      "outputs": [
        {
          "output_type": "execute_result",
          "data": {
            "text/plain": [
              "FF    261116\n",
              "SL    127451\n",
              "CH     79871\n",
              "CU     64076\n",
              "FT     60966\n",
              "SI     55246\n",
              "FC     46258\n",
              "KC     15304\n",
              "FS     10526\n",
              "KN       199\n",
              "EP        49\n",
              "FO        36\n",
              "Name: next_pitch, dtype: int64"
            ]
          },
          "metadata": {
            "tags": []
          },
          "execution_count": 262
        }
      ]
    },
    {
      "cell_type": "code",
      "metadata": {
        "colab_type": "code",
        "id": "LzxaT99PmMk1",
        "colab": {}
      },
      "source": [
        "x = df.drop(['next_pitch'], axis=1)"
      ],
      "execution_count": 0,
      "outputs": []
    },
    {
      "cell_type": "code",
      "metadata": {
        "colab_type": "code",
        "id": "NU0wzSz_mMk3",
        "colab": {}
      },
      "source": [
        "y = df['next_pitch']"
      ],
      "execution_count": 0,
      "outputs": []
    },
    {
      "cell_type": "code",
      "metadata": {
        "colab_type": "code",
        "outputId": "f3babd18-b447-4465-a8ff-ecdeb57549bc",
        "id": "bltXQ4-qmMk6",
        "colab": {
          "base_uri": "https://localhost:8080/",
          "height": 52
        }
      },
      "source": [
        "print('X Shape', x.shape)\n",
        "print ('Y Shape', y.shape)"
      ],
      "execution_count": 0,
      "outputs": [
        {
          "output_type": "stream",
          "text": [
            "X Shape (721098, 10)\n",
            "Y Shape (721098,)\n"
          ],
          "name": "stdout"
        }
      ]
    },
    {
      "cell_type": "code",
      "metadata": {
        "colab_type": "code",
        "outputId": "b59cd60d-e151-47b3-9848-34ca27b27258",
        "id": "wEgb8Jb8mMk8",
        "colab": {
          "base_uri": "https://localhost:8080/",
          "height": 197
        }
      },
      "source": [
        "x.head()"
      ],
      "execution_count": 0,
      "outputs": [
        {
          "output_type": "execute_result",
          "data": {
            "text/html": [
              "<div>\n",
              "<style scoped>\n",
              "    .dataframe tbody tr th:only-of-type {\n",
              "        vertical-align: middle;\n",
              "    }\n",
              "\n",
              "    .dataframe tbody tr th {\n",
              "        vertical-align: top;\n",
              "    }\n",
              "\n",
              "    .dataframe thead th {\n",
              "        text-align: right;\n",
              "    }\n",
              "</style>\n",
              "<table border=\"1\" class=\"dataframe\">\n",
              "  <thead>\n",
              "    <tr style=\"text-align: right;\">\n",
              "      <th></th>\n",
              "      <th>outs</th>\n",
              "      <th>pitch_num</th>\n",
              "      <th>pitch_type</th>\n",
              "      <th>stand</th>\n",
              "      <th>event</th>\n",
              "      <th>top</th>\n",
              "      <th>inning</th>\n",
              "      <th>count</th>\n",
              "      <th>run diff</th>\n",
              "      <th>HSS</th>\n",
              "    </tr>\n",
              "  </thead>\n",
              "  <tbody>\n",
              "    <tr>\n",
              "      <th>0</th>\n",
              "      <td>0.0</td>\n",
              "      <td>1.0</td>\n",
              "      <td>FF</td>\n",
              "      <td>L</td>\n",
              "      <td>Flyout</td>\n",
              "      <td>1.0</td>\n",
              "      <td>1.0</td>\n",
              "      <td>0.0-0.0</td>\n",
              "      <td>0.0</td>\n",
              "      <td>0</td>\n",
              "    </tr>\n",
              "    <tr>\n",
              "      <th>1</th>\n",
              "      <td>1.0</td>\n",
              "      <td>1.0</td>\n",
              "      <td>FF</td>\n",
              "      <td>R</td>\n",
              "      <td>Pitch Thrown</td>\n",
              "      <td>1.0</td>\n",
              "      <td>1.0</td>\n",
              "      <td>0.0-0.0</td>\n",
              "      <td>0.0</td>\n",
              "      <td>0</td>\n",
              "    </tr>\n",
              "    <tr>\n",
              "      <th>2</th>\n",
              "      <td>1.0</td>\n",
              "      <td>2.0</td>\n",
              "      <td>SL</td>\n",
              "      <td>R</td>\n",
              "      <td>Pitch Thrown</td>\n",
              "      <td>1.0</td>\n",
              "      <td>1.0</td>\n",
              "      <td>0.0-0.0</td>\n",
              "      <td>0.0</td>\n",
              "      <td>0</td>\n",
              "    </tr>\n",
              "    <tr>\n",
              "      <th>3</th>\n",
              "      <td>1.0</td>\n",
              "      <td>3.0</td>\n",
              "      <td>CH</td>\n",
              "      <td>R</td>\n",
              "      <td>Pitch Thrown</td>\n",
              "      <td>1.0</td>\n",
              "      <td>1.0</td>\n",
              "      <td>0.0-1.0</td>\n",
              "      <td>0.0</td>\n",
              "      <td>0</td>\n",
              "    </tr>\n",
              "    <tr>\n",
              "      <th>4</th>\n",
              "      <td>1.0</td>\n",
              "      <td>4.0</td>\n",
              "      <td>CH</td>\n",
              "      <td>R</td>\n",
              "      <td>Pitch Thrown</td>\n",
              "      <td>1.0</td>\n",
              "      <td>1.0</td>\n",
              "      <td>1.0-1.0</td>\n",
              "      <td>0.0</td>\n",
              "      <td>0</td>\n",
              "    </tr>\n",
              "  </tbody>\n",
              "</table>\n",
              "</div>"
            ],
            "text/plain": [
              "   outs  pitch_num pitch_type stand  ... inning    count  run diff HSS\n",
              "0   0.0        1.0         FF     L  ...    1.0  0.0-0.0       0.0   0\n",
              "1   1.0        1.0         FF     R  ...    1.0  0.0-0.0       0.0   0\n",
              "2   1.0        2.0         SL     R  ...    1.0  0.0-0.0       0.0   0\n",
              "3   1.0        3.0         CH     R  ...    1.0  0.0-1.0       0.0   0\n",
              "4   1.0        4.0         CH     R  ...    1.0  1.0-1.0       0.0   0\n",
              "\n",
              "[5 rows x 10 columns]"
            ]
          },
          "metadata": {
            "tags": []
          },
          "execution_count": 266
        }
      ]
    },
    {
      "cell_type": "code",
      "metadata": {
        "colab_type": "code",
        "id": "3osGxPcHmMk-",
        "colab": {}
      },
      "source": [
        "#Time to encode Y\n",
        "encoder = LabelEncoder()\n",
        "encoder.fit(y)\n",
        "encoded_y = encoder.transform(y)\n",
        "\n",
        "dummy_y = np_utils.to_categorical(encoded_y)\n"
      ],
      "execution_count": 0,
      "outputs": []
    },
    {
      "cell_type": "code",
      "metadata": {
        "colab_type": "code",
        "id": "GVVocyDVmMk_",
        "colab": {}
      },
      "source": [
        "x = pd.get_dummies(x, columns=['outs', 'pitch_type', 'stand', 'event', 'top', 'inning', 'count', 'HSS'])"
      ],
      "execution_count": 0,
      "outputs": []
    },
    {
      "cell_type": "code",
      "metadata": {
        "colab_type": "code",
        "outputId": "34f5e663-e286-4d35-c63b-03666bff28da",
        "id": "DQfiv2yomMlB",
        "colab": {
          "base_uri": "https://localhost:8080/",
          "height": 550
        }
      },
      "source": [
        "x.columns"
      ],
      "execution_count": 0,
      "outputs": [
        {
          "output_type": "execute_result",
          "data": {
            "text/plain": [
              "Index(['pitch_num', 'run diff', 'outs_0.0', 'outs_1.0', 'outs_2.0',\n",
              "       'pitch_type_CH', 'pitch_type_CU', 'pitch_type_EP', 'pitch_type_FC',\n",
              "       'pitch_type_FF', 'pitch_type_FO', 'pitch_type_FS', 'pitch_type_FT',\n",
              "       'pitch_type_KC', 'pitch_type_KN', 'pitch_type_SI', 'pitch_type_SL',\n",
              "       'stand_L', 'stand_R', 'event_Batter Interference',\n",
              "       'event_Bunt Groundout', 'event_Bunt Lineout', 'event_Bunt Pop Out',\n",
              "       'event_Caught Stealing 2B', 'event_Caught Stealing 3B',\n",
              "       'event_Caught Stealing Home', 'event_Double', 'event_Double Play',\n",
              "       'event_Fan Interference', 'event_Field Error', 'event_Fielders Choice',\n",
              "       'event_Fielders Choice Out', 'event_Flyout', 'event_Forceout',\n",
              "       'event_Grounded Into DP', 'event_Groundout', 'event_Hit By Pitch',\n",
              "       'event_Home Run', 'event_Lineout', 'event_Passed Ball',\n",
              "       'event_Pickoff 1B', 'event_Pickoff 2B', 'event_Pickoff 3B',\n",
              "       'event_Pickoff Caught Stealing 2B', 'event_Pickoff Caught Stealing 3B',\n",
              "       'event_Pickoff Caught Stealing Home', 'event_Pickoff Error 1B',\n",
              "       'event_Pitch Thrown', 'event_Pop Out', 'event_Runner Double Play',\n",
              "       'event_Runner Out', 'event_Sac Bunt', 'event_Sac Bunt Double Play',\n",
              "       'event_Sac Fly', 'event_Sac Fly Double Play', 'event_Single',\n",
              "       'event_Stolen Base 2B', 'event_Strikeout',\n",
              "       'event_Strikeout Double Play', 'event_Triple', 'event_Walk',\n",
              "       'event_Wild Pitch', 'top_0.0', 'top_1.0', 'inning_1.0', 'inning_2.0',\n",
              "       'inning_3.0', 'inning_4.0', 'inning_5.0', 'inning_6.0', 'inning_7.0',\n",
              "       'inning_8.0', 'inning_9.0', 'inning_10.0', 'inning_11.0', 'inning_12.0',\n",
              "       'inning_13.0', 'inning_14.0', 'inning_15.0', 'inning_16.0',\n",
              "       'inning_17.0', 'inning_18.0', 'inning_19.0', 'count_0.0-0.0',\n",
              "       'count_0.0-1.0', 'count_0.0-2.0', 'count_1.0-0.0', 'count_1.0-1.0',\n",
              "       'count_1.0-2.0', 'count_2.0-0.0', 'count_2.0-1.0', 'count_2.0-2.0',\n",
              "       'count_3.0-0.0', 'count_3.0-1.0', 'count_3.0-2.0', 'count_4.0-1.0',\n",
              "       'HSS_0', 'HSS_1'],\n",
              "      dtype='object')"
            ]
          },
          "metadata": {
            "tags": []
          },
          "execution_count": 269
        }
      ]
    },
    {
      "cell_type": "code",
      "metadata": {
        "colab_type": "code",
        "outputId": "70d98775-4abe-4043-e206-3f6bd872a559",
        "id": "7UnV9WR7mMlD",
        "colab": {
          "base_uri": "https://localhost:8080/",
          "height": 34
        }
      },
      "source": [
        "x.shape"
      ],
      "execution_count": 0,
      "outputs": [
        {
          "output_type": "execute_result",
          "data": {
            "text/plain": [
              "(721098, 98)"
            ]
          },
          "metadata": {
            "tags": []
          },
          "execution_count": 270
        }
      ]
    },
    {
      "cell_type": "code",
      "metadata": {
        "colab_type": "code",
        "outputId": "34b16860-0dd2-4ead-f1ef-0e3189558e67",
        "id": "f0imw6gymMlG",
        "colab": {
          "base_uri": "https://localhost:8080/",
          "height": 141
        }
      },
      "source": [
        "dummy_y"
      ],
      "execution_count": 0,
      "outputs": [
        {
          "output_type": "execute_result",
          "data": {
            "text/plain": [
              "array([[0., 0., 0., ..., 0., 0., 0.],\n",
              "       [0., 0., 0., ..., 0., 0., 1.],\n",
              "       [1., 0., 0., ..., 0., 0., 0.],\n",
              "       ...,\n",
              "       [0., 0., 0., ..., 0., 0., 0.],\n",
              "       [0., 0., 0., ..., 0., 0., 1.],\n",
              "       [0., 0., 0., ..., 0., 0., 1.]], dtype=float32)"
            ]
          },
          "metadata": {
            "tags": []
          },
          "execution_count": 271
        }
      ]
    },
    {
      "cell_type": "code",
      "metadata": {
        "colab_type": "code",
        "id": "avlolvcQmMlJ",
        "colab": {}
      },
      "source": [
        "#split data into train/test\n",
        "\n",
        "x_train, x_test, y_train, y_test = train_test_split(x, dummy_y, test_size=0.2, random_state=92)"
      ],
      "execution_count": 0,
      "outputs": []
    },
    {
      "cell_type": "code",
      "metadata": {
        "colab_type": "code",
        "outputId": "3e9d0dc2-195a-40d5-d849-b380ddce9ec8",
        "id": "OO2zaWajmMlL",
        "colab": {
          "base_uri": "https://localhost:8080/",
          "height": 87
        }
      },
      "source": [
        "print('X Train Shape', x_train.shape)\n",
        "print('X Test Shape', x_test.shape)\n",
        "print('Y Train Shape', y_train.shape)\n",
        "print('Y Test Shape', y_test.shape)"
      ],
      "execution_count": 0,
      "outputs": [
        {
          "output_type": "stream",
          "text": [
            "X Train Shape (576878, 98)\n",
            "X Test Shape (144220, 98)\n",
            "Y Train Shape (576878, 12)\n",
            "Y Test Shape (144220, 12)\n"
          ],
          "name": "stdout"
        }
      ]
    },
    {
      "cell_type": "code",
      "metadata": {
        "colab_type": "code",
        "id": "3HhIKpCpmMlN",
        "colab": {}
      },
      "source": [
        "model = Sequential()\n",
        "model.add(Dense(196, input_dim=98, kernel_initializer = 'uniform', activation='hard_sigmoid'))\n",
        "model.add(Dropout(0.3))\n",
        "model.add(Dense(98, activation='hard_sigmoid'))\n",
        "model.add(Dense(49, activation='hard_sigmoid'))\n",
        "model.add(Dropout(0.3))\n",
        "model.add(Dense(12, activation='sigmoid'))"
      ],
      "execution_count": 0,
      "outputs": []
    },
    {
      "cell_type": "code",
      "metadata": {
        "colab_type": "code",
        "id": "COUV9eG-mMlP",
        "colab": {}
      },
      "source": [
        "model.compile(loss='categorical_crossentropy', optimizer='adam', metrics=['accuracy'])"
      ],
      "execution_count": 0,
      "outputs": []
    },
    {
      "cell_type": "code",
      "metadata": {
        "colab_type": "code",
        "outputId": "316b9c66-e323-4694-c4b7-f1bc3eb9dbc7",
        "id": "DaWrXllMmMlR",
        "colab": {
          "base_uri": "https://localhost:8080/",
          "height": 390
        }
      },
      "source": [
        "history = model.fit(x_train, y_train, validation_data=(x_test, y_test), epochs=10, batch_size=10)"
      ],
      "execution_count": 0,
      "outputs": [
        {
          "output_type": "stream",
          "text": [
            "Train on 576878 samples, validate on 144220 samples\n",
            "Epoch 1/10\n",
            "576878/576878 [==============================] - 162s 280us/step - loss: 1.7098 - accuracy: 0.4025 - val_loss: 1.6669 - val_accuracy: 0.4119\n",
            "Epoch 2/10\n",
            "576878/576878 [==============================] - 154s 266us/step - loss: 1.6751 - accuracy: 0.4098 - val_loss: 1.6593 - val_accuracy: 0.4118\n",
            "Epoch 3/10\n",
            "576878/576878 [==============================] - 153s 265us/step - loss: 1.6683 - accuracy: 0.4111 - val_loss: 1.6565 - val_accuracy: 0.4115\n",
            "Epoch 4/10\n",
            "576878/576878 [==============================] - 151s 261us/step - loss: 1.6664 - accuracy: 0.4111 - val_loss: 1.6551 - val_accuracy: 0.4119\n",
            "Epoch 5/10\n",
            "576878/576878 [==============================] - 161s 279us/step - loss: 1.6645 - accuracy: 0.4121 - val_loss: 1.6547 - val_accuracy: 0.4121\n",
            "Epoch 6/10\n",
            "576878/576878 [==============================] - 151s 262us/step - loss: 1.6632 - accuracy: 0.4121 - val_loss: 1.6552 - val_accuracy: 0.4121\n",
            "Epoch 7/10\n",
            "576878/576878 [==============================] - 149s 259us/step - loss: 1.6626 - accuracy: 0.4117 - val_loss: 1.6522 - val_accuracy: 0.4119\n",
            "Epoch 8/10\n",
            "576878/576878 [==============================] - 156s 270us/step - loss: 1.6619 - accuracy: 0.4120 - val_loss: 1.6534 - val_accuracy: 0.4118\n",
            "Epoch 9/10\n",
            "576878/576878 [==============================] - 159s 275us/step - loss: 1.6612 - accuracy: 0.4120 - val_loss: 1.6534 - val_accuracy: 0.4114\n",
            "Epoch 10/10\n",
            "576878/576878 [==============================] - 158s 274us/step - loss: 1.6612 - accuracy: 0.4121 - val_loss: 1.6527 - val_accuracy: 0.4121\n"
          ],
          "name": "stdout"
        }
      ]
    },
    {
      "cell_type": "code",
      "metadata": {
        "colab_type": "code",
        "outputId": "82916657-77b5-4428-c7a5-6de82d96f0b5",
        "id": "nBerJ4i-mMlT",
        "colab": {
          "base_uri": "https://localhost:8080/",
          "height": 372
        }
      },
      "source": [
        "model.summary()"
      ],
      "execution_count": 0,
      "outputs": [
        {
          "output_type": "stream",
          "text": [
            "Model: \"sequential_14\"\n",
            "_________________________________________________________________\n",
            "Layer (type)                 Output Shape              Param #   \n",
            "=================================================================\n",
            "dense_53 (Dense)             (None, 196)               19404     \n",
            "_________________________________________________________________\n",
            "dropout_26 (Dropout)         (None, 196)               0         \n",
            "_________________________________________________________________\n",
            "dense_54 (Dense)             (None, 98)                19306     \n",
            "_________________________________________________________________\n",
            "dense_55 (Dense)             (None, 49)                4851      \n",
            "_________________________________________________________________\n",
            "dropout_27 (Dropout)         (None, 49)                0         \n",
            "_________________________________________________________________\n",
            "dense_56 (Dense)             (None, 12)                600       \n",
            "=================================================================\n",
            "Total params: 44,161\n",
            "Trainable params: 44,161\n",
            "Non-trainable params: 0\n",
            "_________________________________________________________________\n"
          ],
          "name": "stdout"
        }
      ]
    },
    {
      "cell_type": "code",
      "metadata": {
        "colab_type": "code",
        "outputId": "cb2131ec-07ed-47ac-fc66-b1ff65baf19f",
        "id": "URewCYBNmMlV",
        "colab": {
          "base_uri": "https://localhost:8080/",
          "height": 294
        }
      },
      "source": [
        "plt.plot(history.history['accuracy'])\n",
        "plt.plot(history.history['val_accuracy'])\n",
        "plt.title('model accuracy')\n",
        "plt.ylabel('accuracy')\n",
        "plt.xlabel('epoch')\n",
        "plt.legend(['train', 'test'], loc='upper left')\n",
        "plt.show()"
      ],
      "execution_count": 0,
      "outputs": [
        {
          "output_type": "display_data",
          "data": {
            "image/png": "[encoded data removed]",
            "text/plain": [
              "<Figure size 432x288 with 1 Axes>"
            ]
          },
          "metadata": {
            "tags": [],
            "needs_background": "light"
          }
        }
      ]
    },
    {
      "cell_type": "code",
      "metadata": {
        "colab_type": "code",
        "outputId": "265ec2d6-b313-43c1-de0d-de6aaa79fe7b",
        "id": "tN1FlJs9mMlY",
        "colab": {
          "base_uri": "https://localhost:8080/",
          "height": 294
        }
      },
      "source": [
        "# summarize history for loss\n",
        "plt.plot(history.history['loss'])\n",
        "plt.plot(history.history['val_loss'])\n",
        "plt.title('model loss')\n",
        "plt.ylabel('loss')\n",
        "plt.xlabel('epoch')\n",
        "plt.legend(['train', 'test'], loc='upper left')\n",
        "plt.show()"
      ],
      "execution_count": 0,
      "outputs": [
        {
          "output_type": "display_data",
          "data": {
            "image/png": "[encoded data removed]",
            "text/plain": [
              "<Figure size 432x288 with 1 Axes>"
            ]
          },
          "metadata": {
            "tags": [],
            "needs_background": "light"
          }
        }
      ]
    }
  ]
}
